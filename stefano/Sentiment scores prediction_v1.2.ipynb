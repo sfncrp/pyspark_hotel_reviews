{
 "cells": [
  {
   "cell_type": "code",
   "execution_count": 1,
   "metadata": {},
   "outputs": [],
   "source": [
    "import csv\n",
    "import os\n",
    "from langdetect import detect"
   ]
  },
  {
   "cell_type": "code",
   "execution_count": 8,
   "metadata": {},
   "outputs": [
    {
     "data": {
      "text/plain": [
       "['counts.csv',\n",
       " 'explore.py~',\n",
       " 'explore.py',\n",
       " 'images',\n",
       " '515k-hotel-reviews-data-in-europe.zip',\n",
       " 'Hotel_Reviews.csv',\n",
       " 'Sentiment scores prediction_v1.2.ipynb',\n",
       " '.tramp_history',\n",
       " '.ipynb_checkpoints',\n",
       " 'hotel_word_counts.csv']"
      ]
     },
     "execution_count": 8,
     "metadata": {},
     "output_type": "execute_result"
    }
   ],
   "source": [
    "os.listdir('./')"
   ]
  },
  {
   "cell_type": "code",
   "execution_count": 10,
   "metadata": {},
   "outputs": [],
   "source": [
    "#Load the reviews from dataset\n",
    "my_dataset = list()\n",
    "all_reviews = []\n",
    "users_ratings = list()\n",
    "\n",
    "#inserisce tutte le review in una lista \n",
    "with open('Hotel_Reviews.csv', 'r') as infile:\n",
    "    reader = csv.reader(infile, delimiter=',')\n",
    "    for row in reader:\n",
    "        if row[6] == \"No Negative\" and row[9] == \"No Positive\":\n",
    "            pass\n",
    "        else:\n",
    "            if row[6] == \"No Negative\":\n",
    "                all_reviews.append(row[9].replace(\" i \", \" I \"))\n",
    "            elif row[9] == \"No Positive\":\n",
    "                all_reviews.append(row[6].replace(\" i \", \" I \"))\n",
    "            else:\n",
    "                all_reviews.append(row[6].replace(\" i \", \" I \") + \" \" + row[9].replace(\" i \", \" I \"))\n",
    "            users_ratings.append(row[12])"
   ]
  },
  {
   "cell_type": "code",
   "execution_count": 11,
   "metadata": {
    "collapsed": true
   },
   "outputs": [],
   "source": [
    "#delete not english reviews\n",
    "IndexNotEn = list()\n",
    "try:\n",
    "    for i in range(1, len(all_reviews)):\n",
    "        try:\n",
    "            if (detect(all_reviews[i][:40]) != 'en'):\n",
    "                IndexNotEn.append(i)\n",
    "        except:\n",
    "            IndexNotEn.append(i)\n",
    "except IndexError:\n",
    "    pass\n",
    "\n",
    "for i in range(len(IndexNotEn)-1, -1, -1):\n",
    "    index = IndexNotEn[i]\n",
    "    del all_reviews[index]\n",
    "    del users_ratings[index]"
   ]
  },
  {
   "cell_type": "code",
   "execution_count": null,
   "metadata": {
    "collapsed": true
   },
   "outputs": [],
   "source": [
    "# write cleaned reviews and scores on a new csv\n",
    "writer = open(\"reviews.csv\", 'w')\n",
    "for i in range (0, len(all_reviews)):\n",
    "    writer.write(all_reviews[i] + \",\" + users_ratings[i] + '\\n')\n",
    "writer.close()"
   ]
  },
  {
   "cell_type": "code",
   "execution_count": 6,
   "metadata": {},
   "outputs": [],
   "source": [
    "from nltk.sentiment.vader import SentimentIntensityAnalyzer\n",
    "vader = SentimentIntensityAnalyzer()"
   ]
  },
  {
   "cell_type": "code",
   "execution_count": 3,
   "metadata": {},
   "outputs": [
    {
     "name": "stderr",
     "output_type": "stream",
     "text": [
      "[nltk_data] Downloading package vader_lexicon to\n",
      "[nltk_data]     /home/student18/nltk_data...\n",
      "[nltk_data]   Package vader_lexicon is already up-to-date!\n"
     ]
    },
    {
     "data": {
      "text/plain": [
       "True"
      ]
     },
     "execution_count": 3,
     "metadata": {},
     "output_type": "execute_result"
    }
   ],
   "source": [
    "import nltk\n",
    "nltk.download('vader_lexicon')"
   ]
  },
  {
   "cell_type": "code",
   "execution_count": null,
   "metadata": {
    "collapsed": true
   },
   "outputs": [],
   "source": [
    "count = 0\n",
    "algorithm_scores = []\n",
    "\n",
    "for review in all_reviews:\n",
    "    count += 1 \n",
    "    algorithm_scores.append((vader.polarity_scores(review)['compound']+1)*5)\n",
    "     \n",
    "    #if count == 70000:\n",
    "    #    break   \n",
    "    algo = algorithm_scores[count-1]\n",
    "    user = users_ratings[count-1]\n",
    "     \n",
    "    #print(\"convertito\", algo) \n",
    "    #print(\"user\", user) \n",
    "    #print(\"-----------------\")       \n",
    "    try:\n",
    "        #stampa quelli con una differenza rilevante\n",
    "        if abs(float(algo) - float(user)) > 5:\n",
    "            pass\n",
    "            #print(review)\n",
    "            \n",
    "    except ValueError:\n",
    "        pass"
   ]
  },
  {
   "cell_type": "code",
   "execution_count": null,
   "metadata": {},
   "outputs": [],
   "source": [
    "#Evaluate precision\n",
    "\n",
    "#bisogna eliminare il primo elemento da users_ratings e algorithm_scores\n",
    "#users_ratings_adjusted = [float(i) for i in users_ratings[1:70000]]\n",
    "\n",
    "import numpy as np\n",
    "\n",
    "x = np.array(algorithm_scores[1:])\n",
    "y = np.array(users_ratings[1:])\n",
    "#discretizza i valori in 5 bin \n",
    "bins = np.array([1,2,3,4,5])\n",
    "\n",
    "x = [float(i)/2 for i in x]\n",
    "y = [float(i)/2 for i in y]\n",
    "X = np.digitize(x,bins,right=True)\n",
    "Y = np.digitize(y,bins,right=True)\n",
    "\n",
    "print(len(X))\n",
    "print(len(Y))\n",
    "\n",
    "from sklearn.metrics import accuracy_score\n",
    "pr_score = accuracy_score(X, Y)\n",
    "print(\"accuracy:\", pr_score)"
   ]
  },
  {
   "cell_type": "code",
   "execution_count": null,
   "metadata": {
    "collapsed": true
   },
   "outputs": [],
   "source": []
  }
 ],
 "metadata": {
  "kernelspec": {
   "display_name": "Python 3",
   "language": "python",
   "name": "python3"
  },
  "language_info": {
   "codemirror_mode": {
    "name": "ipython",
    "version": 3
   },
   "file_extension": ".py",
   "mimetype": "text/x-python",
   "name": "python",
   "nbconvert_exporter": "python",
   "pygments_lexer": "ipython3",
   "version": "3.4.3"
  }
 },
 "nbformat": 4,
 "nbformat_minor": 2
}
