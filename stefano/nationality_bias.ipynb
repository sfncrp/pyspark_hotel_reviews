{
 "cells": [
  {
   "cell_type": "code",
   "execution_count": 1,
   "metadata": {},
   "outputs": [],
   "source": [
    "from pprint import pprint"
   ]
  },
  {
   "cell_type": "code",
   "execution_count": 2,
   "metadata": {},
   "outputs": [],
   "source": [
    "from pyspark.sql import SparkSession\n",
    "spark = (SparkSession.builder\n",
    "         .appName('ddam_project')\n",
    "         .config('spark.some.config.option','some-value')\n",
    "         .getOrCreate()\n",
    "         )"
   ]
  },
  {
   "cell_type": "code",
   "execution_count": 3,
   "metadata": {},
   "outputs": [
    {
     "name": "stdout",
     "output_type": "stream",
     "text": [
      "root\n",
      " |-- id: long (nullable = true)\n",
      " |-- Hotel_Address: string (nullable = true)\n",
      " |-- Additional_Number_of_Scoring: integer (nullable = true)\n",
      " |-- Review_Date: string (nullable = true)\n",
      " |-- Average_Score: double (nullable = true)\n",
      " |-- Hotel_Name: string (nullable = true)\n",
      " |-- Reviewer_Nationality: string (nullable = true)\n",
      " |-- Review_Total_Negative_Word_Counts: integer (nullable = true)\n",
      " |-- Total_Number_of_Reviews: integer (nullable = true)\n",
      " |-- Review_Total_Positive_Word_Counts: integer (nullable = true)\n",
      " |-- Total_Number_of_Reviews_Reviewer_Has_Given: integer (nullable = true)\n",
      " |-- Reviewer_Score: double (nullable = true)\n",
      " |-- Tags: string (nullable = true)\n",
      " |-- days_since_review: string (nullable = true)\n",
      " |-- lat: string (nullable = true)\n",
      " |-- lng: string (nullable = true)\n",
      " |-- Review: string (nullable = true)\n",
      "\n"
     ]
    }
   ],
   "source": [
    "df_cleaned = spark.read.csv(\"hdfs://masterbig-1.itc.unipi.it:54310/user/student18/df_cleaned.csv\", header = True, inferSchema = True)\n",
    "df_cleaned.printSchema()"
   ]
  },
  {
   "cell_type": "code",
   "execution_count": 30,
   "metadata": {},
   "outputs": [
    {
     "data": {
      "text/plain": [
       "[Row(id=14, Hotel_Address='s Gravesandestraat 55 Oost 1092 AA Amsterdam Netherlands', Additional_Number_of_Scoring=194, Review_Date='7/4/2017', Average_Score=7.7, Hotel_Name='Hotel Arena', Reviewer_Nationality='Canada', Review_Total_Negative_Word_Counts=35, Total_Number_of_Reviews=1403, Review_Total_Positive_Word_Counts=15, Total_Number_of_Reviews_Reviewer_Has_Given=1, Reviewer_Score=8.8, Tags=\"[' Leisure trip ', ' Family with young children ', ' Large King Room ', ' Stayed 5 nights ', ' Submitted from a mobile device ']\", days_since_review='30 days', lat='52.3605759', lng='4.9159683', Review='the staff in the restaurant could of been more pleasant we only visited once but that wouldn t stop us from booking again it might of just been an off night for him .  it was very good very historic building that s why I chose it'),\n",
       " Row(id=374, Hotel_Address='s Gravesandestraat 55 Oost 1092 AA Amsterdam Netherlands', Additional_Number_of_Scoring=194, Review_Date='11/3/2015', Average_Score=7.7, Hotel_Name='Hotel Arena', Reviewer_Nationality='United Kingdom', Review_Total_Negative_Word_Counts=0, Total_Number_of_Reviews=1403, Review_Total_Positive_Word_Counts=16, Total_Number_of_Reviews_Reviewer_Has_Given=2, Reviewer_Score=9.2, Tags=\"[' Leisure trip ', ' Couple ', ' Duplex Double Room ', ' Stayed 2 nights ', ' Submitted from a mobile device ']\", days_since_review='639 day', lat='52.3605759', lng='4.9159683', Review='the overall hotel was fine would love to return when the building work is complete'),\n",
       " Row(id=681, Hotel_Address='1 15 Templeton Place Earl s Court Kensington and Chelsea London SW5 9NB United Kingdom', Additional_Number_of_Scoring=244, Review_Date='10/1/2015', Average_Score=8.5, Hotel_Name='K K Hotel George', Reviewer_Nationality='United Kingdom', Review_Total_Negative_Word_Counts=6, Total_Number_of_Reviews=1831, Review_Total_Positive_Word_Counts=68, Total_Number_of_Reviews_Reviewer_Has_Given=2, Reviewer_Score=8.8, Tags=\"[' Leisure trip ', ' Couple ', ' Classic Double Room ', ' Stayed 2 nights ']\", days_since_review='672 day', lat='51.4918878', lng='-0.1949706', Review='no bad experiences at all.  there was little or nothing wrong with this excellent hotel our room was very comfortable and a good size for a london hotel it was clean tidy and well equipped the staff were first class they were polite helpful and did it all with a smile which meant a lot the breakfast menu was comprehensive and of good quality we will certainly pay a return visit')]"
      ]
     },
     "execution_count": 30,
     "metadata": {},
     "output_type": "execute_result"
    }
   ],
   "source": [
    "df_cleaned.take(3)"
   ]
  },
  {
   "cell_type": "markdown",
   "metadata": {},
   "source": [
    "## Hotel City-Nationality Extraction"
   ]
  },
  {
   "cell_type": "code",
   "execution_count": 5,
   "metadata": {},
   "outputs": [],
   "source": [
    "import reverse_geocode"
   ]
  },
  {
   "cell_type": "code",
   "execution_count": 6,
   "metadata": {},
   "outputs": [
    {
     "data": {
      "text/plain": [
       "3267"
      ]
     },
     "execution_count": 6,
     "metadata": {},
     "output_type": "execute_result"
    }
   ],
   "source": [
    "# check na value for lat/lng\n",
    "df_cleaned.select('lat','lng').rdd.filter(lambda x: x['lng']== 'NA').count()"
   ]
  },
  {
   "cell_type": "code",
   "execution_count": 8,
   "metadata": {},
   "outputs": [
    {
     "data": {
      "text/plain": [
       "[{'city': 'Cascina', 'country': 'Italy', 'country_code': 'IT'}]"
      ]
     },
     "execution_count": 8,
     "metadata": {},
     "output_type": "execute_result"
    }
   ],
   "source": [
    "coord =[ (43.6753176,10.5408628) ]\n",
    "reverse_geocode.search(coord)"
   ]
  },
  {
   "cell_type": "code",
   "execution_count": 6,
   "metadata": {},
   "outputs": [],
   "source": [
    "   \n",
    "df_coord = ( df_cleaned.select('id', 'lat', 'lng').rdd\n",
    "            .filter(lambda x: x['lat']!='NA' and x['lng']!='NA')\n",
    "             .map(lambda x: (x['id'], [ [float(x['lat']), float(x['lng'])] ] )) \n",
    "             .map(lambda x: (x[0], reverse_geocode.search(x[1])))\n",
    "             .map(lambda x: (x[0] , x[1][0]['city'], x[1][0]['country'], x[1][0]['country_code']))\n",
    "            ).toDF(['id','city','country','country_code'])"
   ]
  },
  {
   "cell_type": "code",
   "execution_count": 7,
   "metadata": {},
   "outputs": [
    {
     "name": "stdout",
     "output_type": "stream",
     "text": [
      "[Row(id=14, city='Amsterdam', country='Netherlands', country_code='NL'),\n",
      " Row(id=374, city='Amsterdam', country='Netherlands', country_code='NL'),\n",
      " Row(id=681, city='Kensington', country='United Kingdom', country_code='GB'),\n",
      " Row(id=860, city='Kensington', country='United Kingdom', country_code='GB'),\n",
      " Row(id=1014, city='Clerkenwell', country='United Kingdom', country_code='GB')]\n"
     ]
    }
   ],
   "source": [
    "pprint(df_coord.take(5))"
   ]
  },
  {
   "cell_type": "code",
   "execution_count": 8,
   "metadata": {
    "scrolled": true
   },
   "outputs": [
    {
     "name": "stdout",
     "output_type": "stream",
     "text": [
      "+--------------+------+\n",
      "|       country| count|\n",
      "+--------------+------+\n",
      "|United Kingdom|262194|\n",
      "|         Spain| 59907|\n",
      "|        France| 59514|\n",
      "|   Netherlands| 57190|\n",
      "|         Italy| 37188|\n",
      "|       Austria| 36239|\n",
      "+--------------+------+\n",
      "\n"
     ]
    }
   ],
   "source": [
    "df_coord.groupby('country').count().orderBy('count', ascending = False).show()"
   ]
  },
  {
   "cell_type": "code",
   "execution_count": 59,
   "metadata": {},
   "outputs": [
    {
     "name": "stdout",
     "output_type": "stream",
     "text": [
      "+------------+--------------+--------------------+-----+\n",
      "|country_code|       country|                city|count|\n",
      "+------------+--------------+--------------------+-----+\n",
      "|          GB|United Kingdom|              London|42532|\n",
      "|          GB|United Kingdom|          Kensington|36917|\n",
      "|          GB|United Kingdom|           Bayswater|33520|\n",
      "|          GB|United Kingdom|  West End of London|31523|\n",
      "|          GB|United Kingdom|      City of London|20081|\n",
      "|          GB|United Kingdom| City of Westminster|10565|\n",
      "|          GB|United Kingdom|        Canary Wharf|10238|\n",
      "|          GB|United Kingdom|            Barbican| 9897|\n",
      "|          GB|United Kingdom|             Chelsea| 9731|\n",
      "|          GB|United Kingdom|              Poplar| 9629|\n",
      "|          GB|United Kingdom|             Wembley| 6535|\n",
      "|          GB|United Kingdom|         Camden Town| 6227|\n",
      "|          GB|United Kingdom|        Belsize Park| 5173|\n",
      "|          GB|United Kingdom|         Clerkenwell| 4452|\n",
      "|          GB|United Kingdom|       Bethnal Green| 3998|\n",
      "|          GB|United Kingdom|               Acton| 3313|\n",
      "|          GB|United Kingdom|          Blackheath| 3269|\n",
      "|          GB|United Kingdom|             Lambeth| 3139|\n",
      "|          GB|United Kingdom|           Barnsbury| 3104|\n",
      "|          GB|United Kingdom|           Battersea| 2367|\n",
      "|          GB|United Kingdom|           Islington| 1567|\n",
      "|          GB|United Kingdom|             Barking| 1463|\n",
      "|          GB|United Kingdom|          Wandsworth|  586|\n",
      "|          GB|United Kingdom|           Brentford|  519|\n",
      "|          GB|United Kingdom|            Chigwell|  463|\n",
      "|          GB|United Kingdom|            Northolt|  413|\n",
      "|          GB|United Kingdom|      Buckhurst Hill|  328|\n",
      "|          GB|United Kingdom|              Morden|  260|\n",
      "|          GB|United Kingdom|           Harringay|  223|\n",
      "|          GB|United Kingdom|            Richmond|  162|\n",
      "|          ES|         Spain|         Barri Gòtic| 6322|\n",
      "|          ES|         Spain| Dreta de l'Eixample| 6321|\n",
      "|          ES|         Spain|            el Raval| 5283|\n",
      "|          ES|         Spain|            Eixample| 4533|\n",
      "|          ES|         Spain|        Ciutat Vella| 3602|\n",
      "|          ES|         Spain|Sant Pere, Santa ...| 2441|\n",
      "|          ES|         Spain|l'Antiga Esquerra...| 2430|\n",
      "|          ES|         Spain|           Barcelona| 2409|\n",
      "|          ES|         Spain|         Hostafrancs| 2284|\n",
      "|          ES|         Spain|el Parc i la Llac...| 2105|\n",
      "|          ES|         Spain|          Fort Pienc| 2041|\n",
      "|          ES|         Spain|        Diagonal Mar| 1968|\n",
      "|          ES|         Spain|la Vila Olímpica ...| 1865|\n",
      "|          ES|         Spain|el Besòs i el Mar...| 1741|\n",
      "|          ES|         Spain|          La Bordeta| 1728|\n",
      "|          ES|         Spain|      la Barceloneta| 1652|\n",
      "|          ES|         Spain|Sant Gervasi - Ga...| 1097|\n",
      "|          ES|         Spain|             el Clot| 1061|\n",
      "|          ES|         Spain|         Sant Antoni| 1037|\n",
      "|          ES|         Spain|         el Poblenou|  877|\n",
      "|          ES|         Spain|  Barri de les Corts|  795|\n",
      "|          ES|         Spain|           Les Corts|  713|\n",
      "|          ES|         Spain|la Maternitat i S...|  614|\n",
      "|          ES|         Spain|El Prat de Llobregat|  572|\n",
      "|          ES|         Spain|el Putxet i el Farró|  525|\n",
      "|          ES|         Spain|     Sagrada Família|  519|\n",
      "|          ES|         Spain|           Poble Sec|  467|\n",
      "|          ES|         Spain|        la Teixonera|  398|\n",
      "|          ES|         Spain|              Gràcia|  364|\n",
      "|          ES|         Spain|           Pedralbes|  352|\n",
      "|          ES|         Spain|la Nova Esquerra ...|  327|\n",
      "|          ES|         Spain|      Sants-Montjuïc|  293|\n",
      "|          ES|         Spain|    la Vall d'Hebron|  195|\n",
      "|          ES|         Spain|Sant Genís dels A...|  188|\n",
      "|          ES|         Spain|       Sants - Badal|  176|\n",
      "|          ES|         Spain|     Las Tres Torres|  148|\n",
      "|          ES|         Spain| Sarrià-Sant Gervasi|  130|\n",
      "|          ES|         Spain|Provenals del Pob...|  100|\n",
      "|          ES|         Spain|         La Bonanova|   93|\n",
      "|          ES|         Spain|               Sants|   91|\n",
      "|          ES|         Spain|    el Baix Guinardó|   50|\n",
      "|          NL|   Netherlands|           Amsterdam|45755|\n",
      "|          NL|   Netherlands|        Duivendrecht| 3446|\n",
      "|          NL|   Netherlands|          Amstelveen| 2599|\n",
      "|          NL|   Netherlands|             Zaandam| 2519|\n",
      "|          NL|   Netherlands|  Amsterdam-Zuidoost| 1067|\n",
      "|          NL|   Netherlands|              Diemen|  843|\n",
      "|          NL|   Netherlands|            Driemond|  506|\n",
      "|          NL|   Netherlands|            Kadoelen|  455|\n",
      "|          IT|         Italy|               Milan|30101|\n",
      "|          IT|         Italy|  Sesto San Giovanni| 2499|\n",
      "|          IT|         Italy|              Bresso| 2144|\n",
      "|          IT|         Italy|     Novate Milanese|  595|\n",
      "|          IT|         Italy|         Chiaravalle|  503|\n",
      "|          IT|         Italy|              Figino|  467|\n",
      "|          IT|         Italy|           Baranzate|  420|\n",
      "|          IT|         Italy|             Corsico|  244|\n",
      "|          IT|         Italy|              Linate|  189|\n",
      "|          IT|         Italy|    Settimo Milanese|   26|\n",
      "|          FR|        France|               Paris|30169|\n",
      "|          FR|        France|    Levallois-Perret|10100|\n",
      "|          FR|        France|              Clichy| 4879|\n",
      "|          FR|        France|              Vanves| 4336|\n",
      "|          FR|        France|          Saint-Ouen| 2858|\n",
      "|          FR|        France|           Montrouge| 2497|\n",
      "|          FR|        France|   Neuilly-sur-Seine| 1185|\n",
      "|          FR|        France|            Malakoff| 1083|\n",
      "|          FR|        France|      Ivry-sur-Seine|  688|\n",
      "|          FR|        France|  Le Kremlin-Bicêtre|  426|\n",
      "|          FR|        France| Issy-les-Moulineaux|  403|\n",
      "+------------+--------------+--------------------+-----+\n",
      "only showing top 100 rows\n",
      "\n"
     ]
    }
   ],
   "source": [
    "df_coord.groupby('country_code', 'country', 'city').count().orderBy('country','count',ascending = False).show(100)"
   ]
  },
  {
   "cell_type": "code",
   "execution_count": 15,
   "metadata": {},
   "outputs": [],
   "source": [
    "hotel_countries = df_coord.select('country').distinct().rdd.map(lambda x: x['country']).collect()"
   ]
  },
  {
   "cell_type": "code",
   "execution_count": 20,
   "metadata": {},
   "outputs": [],
   "source": [
    "import re "
   ]
  },
  {
   "cell_type": "code",
   "execution_count": 16,
   "metadata": {},
   "outputs": [
    {
     "data": {
      "text/plain": [
       "['France', 'Italy', 'Spain', 'Austria', 'United Kingdom', 'Netherlands']"
      ]
     },
     "execution_count": 16,
     "metadata": {},
     "output_type": "execute_result"
    }
   ],
   "source": [
    "hotel_countries"
   ]
  },
  {
   "cell_type": "code",
   "execution_count": 34,
   "metadata": {},
   "outputs": [],
   "source": [
    "# estrarre la nazionalità dall'indirizzo\n",
    "def extractCountry(row):\n",
    "    for country in hotel_countries:\n",
    "        if country.lower() in row['Hotel_Address'].lower():\n",
    "            return (row['id'], country )\n",
    "    return 'EMPTY'\n",
    "        \n",
    "            \n",
    "rdd_hotel_countries = df_cleaned.select('id', 'Hotel_Address').rdd.map(extractCountry)"
   ]
  },
  {
   "cell_type": "code",
   "execution_count": 39,
   "metadata": {},
   "outputs": [
    {
     "data": {
      "text/plain": [
       "0"
      ]
     },
     "execution_count": 39,
     "metadata": {},
     "output_type": "execute_result"
    }
   ],
   "source": [
    "# check if all reviews have an associated hotel_country \n",
    "rdd_hotel_countries.filter(lambda x: x[1] == 'EMPTY').count()\n"
   ]
  },
  {
   "cell_type": "code",
   "execution_count": 41,
   "metadata": {},
   "outputs": [
    {
     "data": {
      "text/plain": [
       "[(14, 'Netherlands')]"
      ]
     },
     "execution_count": 41,
     "metadata": {},
     "output_type": "execute_result"
    }
   ],
   "source": [
    "rdd_hotel_countries.take(1)"
   ]
  },
  {
   "cell_type": "code",
   "execution_count": 53,
   "metadata": {},
   "outputs": [],
   "source": [
    "df_hotel_countries = rdd_hotel_countries.toDF(['id', 'Hotel_Country'])"
   ]
  },
  {
   "cell_type": "code",
   "execution_count": 54,
   "metadata": {},
   "outputs": [
    {
     "data": {
      "text/plain": [
       "[Row(id=14, Hotel_Country='Netherlands'),\n",
       " Row(id=374, Hotel_Country='Netherlands'),\n",
       " Row(id=681, Hotel_Country='United Kingdom'),\n",
       " Row(id=860, Hotel_Country='United Kingdom'),\n",
       " Row(id=1014, Hotel_Country='United Kingdom'),\n",
       " Row(id=1123, Hotel_Country='United Kingdom'),\n",
       " Row(id=1162, Hotel_Country='United Kingdom'),\n",
       " Row(id=1318, Hotel_Country='United Kingdom'),\n",
       " Row(id=1375, Hotel_Country='United Kingdom'),\n",
       " Row(id=1705, Hotel_Country='United Kingdom')]"
      ]
     },
     "execution_count": 54,
     "metadata": {},
     "output_type": "execute_result"
    }
   ],
   "source": [
    "df_hotel_countries.head(10)"
   ]
  },
  {
   "cell_type": "code",
   "execution_count": 55,
   "metadata": {},
   "outputs": [
    {
     "data": {
      "text/plain": [
       "227"
      ]
     },
     "execution_count": 55,
     "metadata": {},
     "output_type": "execute_result"
    }
   ],
   "source": [
    "df_cleaned.select('Reviewer_Nationality').distinct().count()"
   ]
  },
  {
   "cell_type": "code",
   "execution_count": 56,
   "metadata": {},
   "outputs": [
    {
     "data": {
      "text/plain": [
       "[Row(Reviewer_Nationality='Turks Caicos Islands'),\n",
       " Row(Reviewer_Nationality='Russia'),\n",
       " Row(Reviewer_Nationality='Paraguay'),\n",
       " Row(Reviewer_Nationality='Anguilla'),\n",
       " Row(Reviewer_Nationality='Yemen'),\n",
       " Row(Reviewer_Nationality='St Maarten'),\n",
       " Row(Reviewer_Nationality='Senegal'),\n",
       " Row(Reviewer_Nationality='Sweden'),\n",
       " Row(Reviewer_Nationality='Kiribati'),\n",
       " Row(Reviewer_Nationality='Guyana'),\n",
       " Row(Reviewer_Nationality='Philippines'),\n",
       " Row(Reviewer_Nationality='Jersey'),\n",
       " Row(Reviewer_Nationality='Eritrea'),\n",
       " Row(Reviewer_Nationality='Djibouti'),\n",
       " Row(Reviewer_Nationality='Singapore'),\n",
       " Row(Reviewer_Nationality='Malaysia'),\n",
       " Row(Reviewer_Nationality='Fiji'),\n",
       " Row(Reviewer_Nationality='Turkey'),\n",
       " Row(Reviewer_Nationality='Malawi'),\n",
       " Row(Reviewer_Nationality='Iraq'),\n",
       " Row(Reviewer_Nationality='Germany'),\n",
       " Row(Reviewer_Nationality='Northern Mariana Islands'),\n",
       " Row(Reviewer_Nationality='Comoros'),\n",
       " Row(Reviewer_Nationality='Cambodia'),\n",
       " Row(Reviewer_Nationality='Afghanistan'),\n",
       " Row(Reviewer_Nationality='Crimea'),\n",
       " Row(Reviewer_Nationality='Jordan'),\n",
       " Row(Reviewer_Nationality='Maldives'),\n",
       " Row(Reviewer_Nationality='Rwanda'),\n",
       " Row(Reviewer_Nationality='Ivory Coast'),\n",
       " Row(Reviewer_Nationality='Sudan'),\n",
       " Row(Reviewer_Nationality='Palau'),\n",
       " Row(Reviewer_Nationality='France'),\n",
       " Row(Reviewer_Nationality='Greece'),\n",
       " Row(Reviewer_Nationality='Kosovo'),\n",
       " Row(Reviewer_Nationality='Svalbard Jan Mayen'),\n",
       " Row(Reviewer_Nationality='Sri Lanka'),\n",
       " Row(Reviewer_Nationality='Montserrat'),\n",
       " Row(Reviewer_Nationality='Taiwan'),\n",
       " Row(Reviewer_Nationality='British Virgin Islands'),\n",
       " Row(Reviewer_Nationality='Dominica'),\n",
       " Row(Reviewer_Nationality='Algeria'),\n",
       " Row(Reviewer_Nationality='Togo'),\n",
       " Row(Reviewer_Nationality='Equatorial Guinea'),\n",
       " Row(Reviewer_Nationality='Slovakia'),\n",
       " Row(Reviewer_Nationality=None),\n",
       " Row(Reviewer_Nationality='Macau'),\n",
       " Row(Reviewer_Nationality='Reunion'),\n",
       " Row(Reviewer_Nationality='Argentina'),\n",
       " Row(Reviewer_Nationality='Belgium'),\n",
       " Row(Reviewer_Nationality='Angola'),\n",
       " Row(Reviewer_Nationality='San Marino'),\n",
       " Row(Reviewer_Nationality='East Timor'),\n",
       " Row(Reviewer_Nationality='Qatar'),\n",
       " Row(Reviewer_Nationality='Ecuador'),\n",
       " Row(Reviewer_Nationality='Lesotho'),\n",
       " Row(Reviewer_Nationality='Albania'),\n",
       " Row(Reviewer_Nationality='Madagascar'),\n",
       " Row(Reviewer_Nationality='Finland'),\n",
       " Row(Reviewer_Nationality='New Caledonia'),\n",
       " Row(Reviewer_Nationality='Ghana'),\n",
       " Row(Reviewer_Nationality='Nicaragua'),\n",
       " Row(Reviewer_Nationality='Myanmar'),\n",
       " Row(Reviewer_Nationality='Guernsey'),\n",
       " Row(Reviewer_Nationality='Peru'),\n",
       " Row(Reviewer_Nationality='Sierra Leone'),\n",
       " Row(Reviewer_Nationality='Benin'),\n",
       " Row(Reviewer_Nationality='India'),\n",
       " Row(Reviewer_Nationality='China'),\n",
       " Row(Reviewer_Nationality='Bahamas'),\n",
       " Row(Reviewer_Nationality='Belarus'),\n",
       " Row(Reviewer_Nationality='Kuwait'),\n",
       " Row(Reviewer_Nationality='Malta'),\n",
       " Row(Reviewer_Nationality='American Samoa'),\n",
       " Row(Reviewer_Nationality='Somalia'),\n",
       " Row(Reviewer_Nationality='Tuvalu'),\n",
       " Row(Reviewer_Nationality='Central Africa Republic'),\n",
       " Row(Reviewer_Nationality='Palestinian Territory'),\n",
       " Row(Reviewer_Nationality='Puerto Rico'),\n",
       " Row(Reviewer_Nationality='Tajikistan'),\n",
       " Row(Reviewer_Nationality='Chile'),\n",
       " Row(Reviewer_Nationality='Martinique'),\n",
       " Row(Reviewer_Nationality='Cocos K I'),\n",
       " Row(Reviewer_Nationality='Cayman Islands'),\n",
       " Row(Reviewer_Nationality='Isle of Man'),\n",
       " Row(Reviewer_Nationality='Croatia'),\n",
       " Row(Reviewer_Nationality='Bonaire St Eustatius and Saba'),\n",
       " Row(Reviewer_Nationality='Burundi'),\n",
       " Row(Reviewer_Nationality='Nigeria'),\n",
       " Row(Reviewer_Nationality='Andorra'),\n",
       " Row(Reviewer_Nationality='Bolivia'),\n",
       " Row(Reviewer_Nationality='Gabon'),\n",
       " Row(Reviewer_Nationality='Falkland Islands Malvinas'),\n",
       " Row(Reviewer_Nationality='Italy'),\n",
       " Row(Reviewer_Nationality='Cura ao'),\n",
       " Row(Reviewer_Nationality='Suriname'),\n",
       " Row(Reviewer_Nationality='Lithuania'),\n",
       " Row(Reviewer_Nationality='Norway'),\n",
       " Row(Reviewer_Nationality='Turkmenistan'),\n",
       " Row(Reviewer_Nationality='Spain'),\n",
       " Row(Reviewer_Nationality='Mauritania'),\n",
       " Row(Reviewer_Nationality='Guadeloupe'),\n",
       " Row(Reviewer_Nationality='Denmark'),\n",
       " Row(Reviewer_Nationality='Abkhazia Georgia'),\n",
       " Row(Reviewer_Nationality='Niger'),\n",
       " Row(Reviewer_Nationality='Bangladesh'),\n",
       " Row(Reviewer_Nationality='Barbados'),\n",
       " Row(Reviewer_Nationality='Iran'),\n",
       " Row(Reviewer_Nationality='Ireland'),\n",
       " Row(Reviewer_Nationality='Liechtenstein'),\n",
       " Row(Reviewer_Nationality='Congo'),\n",
       " Row(Reviewer_Nationality='Thailand'),\n",
       " Row(Reviewer_Nationality='Laos'),\n",
       " Row(Reviewer_Nationality='Swaziland'),\n",
       " Row(Reviewer_Nationality='Bhutan'),\n",
       " Row(Reviewer_Nationality='Democratic Republic of the Congo'),\n",
       " Row(Reviewer_Nationality='Morocco'),\n",
       " Row(Reviewer_Nationality='Monaco'),\n",
       " Row(Reviewer_Nationality='Panama'),\n",
       " Row(Reviewer_Nationality='Cape Verde'),\n",
       " Row(Reviewer_Nationality='Hong Kong'),\n",
       " Row(Reviewer_Nationality='Ukraine'),\n",
       " Row(Reviewer_Nationality='Venezuela'),\n",
       " Row(Reviewer_Nationality='Israel'),\n",
       " Row(Reviewer_Nationality='Iceland'),\n",
       " Row(Reviewer_Nationality='Antarctica'),\n",
       " Row(Reviewer_Nationality='Saint Kitts and Nevis'),\n",
       " Row(Reviewer_Nationality='Oman'),\n",
       " Row(Reviewer_Nationality='French Polynesia'),\n",
       " Row(Reviewer_Nationality='Saint Barts'),\n",
       " Row(Reviewer_Nationality='United States of America'),\n",
       " Row(Reviewer_Nationality='South Korea'),\n",
       " Row(Reviewer_Nationality='Cyprus'),\n",
       " Row(Reviewer_Nationality='Gibraltar'),\n",
       " Row(Reviewer_Nationality='Uruguay'),\n",
       " Row(Reviewer_Nationality='Mexico'),\n",
       " Row(Reviewer_Nationality='Aruba'),\n",
       " Row(Reviewer_Nationality='Estonia'),\n",
       " Row(Reviewer_Nationality='Montenegro'),\n",
       " Row(Reviewer_Nationality='Georgia'),\n",
       " Row(Reviewer_Nationality='Zimbabwe'),\n",
       " Row(Reviewer_Nationality='Indonesia'),\n",
       " Row(Reviewer_Nationality='Guam'),\n",
       " Row(Reviewer_Nationality='Guatemala'),\n",
       " Row(Reviewer_Nationality='Mongolia'),\n",
       " Row(Reviewer_Nationality='Azerbaijan'),\n",
       " Row(Reviewer_Nationality='Libya'),\n",
       " Row(Reviewer_Nationality='Grenada'),\n",
       " Row(Reviewer_Nationality='Armenia'),\n",
       " Row(Reviewer_Nationality='Tunisia'),\n",
       " Row(Reviewer_Nationality='Liberia'),\n",
       " Row(Reviewer_Nationality='Syria'),\n",
       " Row(Reviewer_Nationality='Honduras'),\n",
       " Row(Reviewer_Nationality='Trinidad and Tobago'),\n",
       " Row(Reviewer_Nationality='Saudi Arabia'),\n",
       " Row(Reviewer_Nationality='Uganda'),\n",
       " Row(Reviewer_Nationality='Wallis and Futuna'),\n",
       " Row(Reviewer_Nationality='Saint Vincent Grenadines'),\n",
       " Row(Reviewer_Nationality='French Guiana'),\n",
       " Row(Reviewer_Nationality='Namibia'),\n",
       " Row(Reviewer_Nationality='Switzerland'),\n",
       " Row(Reviewer_Nationality='Zambia'),\n",
       " Row(Reviewer_Nationality='Ethiopia'),\n",
       " Row(Reviewer_Nationality='Antigua Barbuda'),\n",
       " Row(Reviewer_Nationality='Latvia'),\n",
       " Row(Reviewer_Nationality='Jamaica'),\n",
       " Row(Reviewer_Nationality='United Arab Emirates'),\n",
       " Row(Reviewer_Nationality='Brunei'),\n",
       " Row(Reviewer_Nationality='South Sudan'),\n",
       " Row(Reviewer_Nationality='U S Virgin Islands'),\n",
       " Row(Reviewer_Nationality='Saint Lucia'),\n",
       " Row(Reviewer_Nationality='Saint Martin'),\n",
       " Row(Reviewer_Nationality='Guinea'),\n",
       " Row(Reviewer_Nationality='Canada'),\n",
       " Row(Reviewer_Nationality='Seychelles'),\n",
       " Row(Reviewer_Nationality='Macedonia'),\n",
       " Row(Reviewer_Nationality='Kyrgyzstan'),\n",
       " Row(Reviewer_Nationality='Uzbekistan'),\n",
       " Row(Reviewer_Nationality='Faroe Islands'),\n",
       " Row(Reviewer_Nationality='Samoa'),\n",
       " Row(Reviewer_Nationality='Czech Republic'),\n",
       " Row(Reviewer_Nationality='Mozambique'),\n",
       " Row(Reviewer_Nationality='Cook Islands'),\n",
       " Row(Reviewer_Nationality='Brazil'),\n",
       " Row(Reviewer_Nationality='Belize'),\n",
       " Row(Reviewer_Nationality='Kenya'),\n",
       " Row(Reviewer_Nationality='Gambia'),\n",
       " Row(Reviewer_Nationality='Lebanon'),\n",
       " Row(Reviewer_Nationality='Slovenia'),\n",
       " Row(Reviewer_Nationality='St Pierre and Miquelon'),\n",
       " Row(Reviewer_Nationality='Dominican Republic'),\n",
       " Row(Reviewer_Nationality='Tanzania'),\n",
       " Row(Reviewer_Nationality='Japan'),\n",
       " Row(Reviewer_Nationality='Botswana'),\n",
       " Row(Reviewer_Nationality='Luxembourg'),\n",
       " Row(Reviewer_Nationality='New Zealand'),\n",
       " Row(Reviewer_Nationality='United States Minor Outlying Islands'),\n",
       " Row(Reviewer_Nationality='Bosnia and Herzegovina'),\n",
       " Row(Reviewer_Nationality='Haiti'),\n",
       " Row(Reviewer_Nationality='Poland'),\n",
       " Row(Reviewer_Nationality='Portugal'),\n",
       " Row(Reviewer_Nationality='Australia'),\n",
       " Row(Reviewer_Nationality='Cameroon'),\n",
       " Row(Reviewer_Nationality='Papua New Guinea'),\n",
       " Row(Reviewer_Nationality='Romania'),\n",
       " Row(Reviewer_Nationality='Bulgaria'),\n",
       " Row(Reviewer_Nationality='Austria'),\n",
       " Row(Reviewer_Nationality='Nepal'),\n",
       " Row(Reviewer_Nationality='Kazakhstan'),\n",
       " Row(Reviewer_Nationality='Egypt'),\n",
       " Row(Reviewer_Nationality='Costa Rica'),\n",
       " Row(Reviewer_Nationality='El Salvador'),\n",
       " Row(Reviewer_Nationality='Serbia'),\n",
       " Row(Reviewer_Nationality='South Africa'),\n",
       " Row(Reviewer_Nationality='Bermuda'),\n",
       " Row(Reviewer_Nationality='Bahrain'),\n",
       " Row(Reviewer_Nationality='Colombia'),\n",
       " Row(Reviewer_Nationality='Hungary'),\n",
       " Row(Reviewer_Nationality='Pakistan'),\n",
       " Row(Reviewer_Nationality='Vanuatu'),\n",
       " Row(Reviewer_Nationality='Vatican City'),\n",
       " Row(Reviewer_Nationality='Mauritius'),\n",
       " Row(Reviewer_Nationality='United Kingdom'),\n",
       " Row(Reviewer_Nationality='Moldova'),\n",
       " Row(Reviewer_Nationality='Vietnam'),\n",
       " Row(Reviewer_Nationality='Netherlands'),\n",
       " Row(Reviewer_Nationality='Mali')]"
      ]
     },
     "execution_count": 56,
     "metadata": {},
     "output_type": "execute_result"
    }
   ],
   "source": [
    "df_cleaned.select('Reviewer_Nationality').distinct().collect()\n"
   ]
  },
  {
   "cell_type": "code",
   "execution_count": 57,
   "metadata": {},
   "outputs": [],
   "source": [
    "df_nationality_tmp = df_hotel_countries.join(df_cleaned.select('id','Reviewer_Nationality', 'Reviewer_Score'), ['id'] )  "
   ]
  },
  {
   "cell_type": "code",
   "execution_count": 58,
   "metadata": {},
   "outputs": [
    {
     "name": "stdout",
     "output_type": "stream",
     "text": [
      "== Physical Plan ==\n",
      "*Project [id#251L, Hotel_Country#252, Reviewer_Nationality#6, Reviewer_Score#11]\n",
      "+- *SortMergeJoin [id#251L], [id#0L], Inner\n",
      "   :- *Sort [id#251L ASC NULLS FIRST], false, 0\n",
      "   :  +- Exchange hashpartitioning(id#251L, 200)\n",
      "   :     +- *Filter isnotnull(id#251L)\n",
      "   :        +- Scan ExistingRDD[id#251L,Hotel_Country#252]\n",
      "   +- *Sort [id#0L ASC NULLS FIRST], false, 0\n",
      "      +- Exchange hashpartitioning(id#0L, 200)\n",
      "         +- *Project [id#0L, Reviewer_Nationality#6, Reviewer_Score#11]\n",
      "            +- *Filter isnotnull(id#0L)\n",
      "               +- *FileScan csv [id#0L,Reviewer_Nationality#6,Reviewer_Score#11] Batched: false, Format: CSV, Location: InMemoryFileIndex[hdfs://masterbig-1.itc.unipi.it:54310/user/student18/df_cleaned.csv], PartitionFilters: [], PushedFilters: [IsNotNull(id)], ReadSchema: struct<id:bigint,Reviewer_Nationality:string,Reviewer_Score:double>\n"
     ]
    }
   ],
   "source": [
    "df_nationality_tmp.explain()"
   ]
  },
  {
   "cell_type": "code",
   "execution_count": 64,
   "metadata": {},
   "outputs": [
    {
     "data": {
      "text/plain": [
       "[Row(id=26, Hotel_Country='Netherlands', Reviewer_Nationality='United Kingdom', Reviewer_Score=9.6, Abroad=1),\n",
       " Row(id=29, Hotel_Country='Netherlands', Reviewer_Nationality='Hungary', Reviewer_Score=9.2, Abroad=1),\n",
       " Row(id=474, Hotel_Country='United Kingdom', Reviewer_Nationality='United States of America', Reviewer_Score=6.3, Abroad=1)]"
      ]
     },
     "execution_count": 64,
     "metadata": {},
     "output_type": "execute_result"
    }
   ],
   "source": [
    "# adding column with Abroad feature: 1 if reviewer was abroad, 0 otherwise\n",
    "\n",
    "df_abroad_temp = df_nationality_tmp.rdd.map(lambda row: (row['id'], 0 if row['Reviewer_Nationality'] == row['Hotel_Country'] else 1 )).toDF(['id','Abroad'])\n",
    "\n",
    "df_nationality = df_nationality_tmp.join(df_abroad_temp, ['id'])\n",
    "\n",
    "df_nationality.take(3)\n",
    "\n",
    "\n"
   ]
  },
  {
   "cell_type": "code",
   "execution_count": 70,
   "metadata": {},
   "outputs": [
    {
     "data": {
      "text/plain": [
       "178357"
      ]
     },
     "execution_count": 70,
     "metadata": {},
     "output_type": "execute_result"
    }
   ],
   "source": [
    "df_nationality.rdd.filter(lambda x: x['Abroad']== 0).count()"
   ]
  },
  {
   "cell_type": "code",
   "execution_count": 72,
   "metadata": {},
   "outputs": [
    {
     "name": "stdout",
     "output_type": "stream",
     "text": [
      "root\n",
      " |-- id: long (nullable = true)\n",
      " |-- Hotel_Country: string (nullable = true)\n",
      " |-- Reviewer_Nationality: string (nullable = true)\n",
      " |-- Reviewer_Score: double (nullable = true)\n",
      " |-- Abroad: long (nullable = true)\n",
      "\n"
     ]
    }
   ],
   "source": [
    "df_nationality.printSchema()"
   ]
  },
  {
   "cell_type": "code",
   "execution_count": 71,
   "metadata": {},
   "outputs": [],
   "source": [
    "df_nationality.createTempView('nationality')"
   ]
  },
  {
   "cell_type": "code",
   "execution_count": 84,
   "metadata": {},
   "outputs": [
    {
     "name": "stdout",
     "output_type": "stream",
     "text": [
      "+--------------------+-----------------+\n",
      "|Reviewer_Nationality|        AVG_SCORE|\n",
      "+--------------------+-----------------+\n",
      "|              Crimea|             10.0|\n",
      "|  Svalbard Jan Mayen|             10.0|\n",
      "|   Equatorial Guinea|             10.0|\n",
      "|             Comoros|             10.0|\n",
      "|          Cape Verde|              9.6|\n",
      "|          Tajikistan|          9.35625|\n",
      "|Central Africa Re...|              9.3|\n",
      "|        Saint Martin|            9.275|\n",
      "|              Gambia|             9.26|\n",
      "|             Burundi|9.200000000000001|\n",
      "|         South Sudan|              9.2|\n",
      "|               Benin|9.166666666666666|\n",
      "|               Congo|9.166666666666666|\n",
      "|               Niger|             9.15|\n",
      "|             Vanuatu|9.075000000000001|\n",
      "|Bonaire St Eustat...|9.066666666666666|\n",
      "|         Saint Barts|9.033333333333333|\n",
      "|          Kyrgyzstan|8.995238095238093|\n",
      "|St Pierre and Miq...|             8.95|\n",
      "|           Cocos K I|             8.95|\n",
      "+--------------------+-----------------+\n",
      "only showing top 20 rows\n",
      "\n"
     ]
    }
   ],
   "source": [
    "# \n",
    "df_mean_score_by_Hotel_nationality =  spark.sql(\"SELECT Reviewer_Nationality, AVG(Reviewer_Score) AS AVG_SCORE \\\n",
    "                                                FROM nationality \\\n",
    "                                                GROUP BY Reviewer_Nationality \\\n",
    "                                                ORDER BY AVG_SCORE DESC\\\n",
    "                                                \")\n",
    "df_mean_score_by_Hotel_nationality.show()"
   ]
  },
  {
   "cell_type": "markdown",
   "metadata": {},
   "source": [
    "#### Quant'è la differenza tra media aritmetica e media geografica sferica/ellissoide?"
   ]
  }
 ],
 "metadata": {
  "kernelspec": {
   "display_name": "Python 3",
   "language": "python",
   "name": "python3"
  },
  "language_info": {
   "codemirror_mode": {
    "name": "ipython",
    "version": 3
   },
   "file_extension": ".py",
   "mimetype": "text/x-python",
   "name": "python",
   "nbconvert_exporter": "python",
   "pygments_lexer": "ipython3",
   "version": "3.4.3"
  }
 },
 "nbformat": 4,
 "nbformat_minor": 2
}
