{
 "cells": [
  {
   "cell_type": "code",
   "execution_count": 1,
   "metadata": {},
   "outputs": [],
   "source": [
    "from pyspark.sql import SparkSession\n",
    "\n",
    "spark = (SparkSession.builder\n",
    "         .appName('Python spark')\n",
    "         .config('spark.some.config.option','some-value')\n",
    "         .getOrCreate()\n",
    "         )"
   ]
  },
  {
   "cell_type": "code",
   "execution_count": 2,
   "metadata": {},
   "outputs": [
    {
     "name": "stdout",
     "output_type": "stream",
     "text": [
      "root\n",
      " |-- Hotel_Address: string (nullable = true)\n",
      " |-- Additional_Number_of_Scoring: integer (nullable = true)\n",
      " |-- Review_Date: string (nullable = true)\n",
      " |-- Average_Score: double (nullable = true)\n",
      " |-- Hotel_Name: string (nullable = true)\n",
      " |-- Reviewer_Nationality: string (nullable = true)\n",
      " |-- Negative_Review: string (nullable = true)\n",
      " |-- Review_Total_Negative_Word_Counts: integer (nullable = true)\n",
      " |-- Total_Number_of_Reviews: integer (nullable = true)\n",
      " |-- Positive_Review: string (nullable = true)\n",
      " |-- Review_Total_Positive_Word_Counts: integer (nullable = true)\n",
      " |-- Total_Number_of_Reviews_Reviewer_Has_Given: integer (nullable = true)\n",
      " |-- Reviewer_Score: double (nullable = true)\n",
      " |-- Tags: string (nullable = true)\n",
      " |-- days_since_review: string (nullable = true)\n",
      " |-- lat: string (nullable = true)\n",
      " |-- lng: string (nullable = true)\n",
      "\n"
     ]
    }
   ],
   "source": [
    "# read file from hdfs and infer schema\n",
    "df = spark.read.csv(\"hdfs://masterbig-1.itc.unipi.it:54310/user/student18/Hotel_Reviews.csv\", header = True, inferSchema = True)\n",
    "df.printSchema()"
   ]
  },
  {
   "cell_type": "code",
   "execution_count": 3,
   "metadata": {},
   "outputs": [],
   "source": [
    "# register table (if not exists)\n",
    "df.createTempView('raw')"
   ]
  },
  {
   "cell_type": "code",
   "execution_count": 4,
   "metadata": {},
   "outputs": [
    {
     "name": "stdout",
     "output_type": "stream",
     "text": [
      "+--------------------+-----------+--------------------+--------------------+\n",
      "|       Hotel_Address| Hotel_Name|     Negative_Review|     Positive_Review|\n",
      "+--------------------+-----------+--------------------+--------------------+\n",
      "| s Gravesandestra...|Hotel Arena| I am so angry th...| Only the park ou...|\n",
      "| s Gravesandestra...|Hotel Arena|         No Negative| No real complain...|\n",
      "| s Gravesandestra...|Hotel Arena| Rooms are nice b...| Location was goo...|\n",
      "| s Gravesandestra...|Hotel Arena| My room was dirt...| Great location i...|\n",
      "| s Gravesandestra...|Hotel Arena| You When I booke...| Amazing location...|\n",
      "| s Gravesandestra...|Hotel Arena| Backyard of the ...| Good restaurant ...|\n",
      "| s Gravesandestra...|Hotel Arena| Cleaner did not ...| The room is spac...|\n",
      "| s Gravesandestra...|Hotel Arena| Apart from the p...| Good location Se...|\n",
      "| s Gravesandestra...|Hotel Arena| Even though the ...|         No Positive|\n",
      "| s Gravesandestra...|Hotel Arena| The aircondition...| The room was big...|\n",
      "| s Gravesandestra...|Hotel Arena|  Nothing all great | Rooms were stunn...|\n",
      "| s Gravesandestra...|Hotel Arena| 6 30 AM started ...| Style location r...|\n",
      "| s Gravesandestra...|Hotel Arena| The floor in my ...| Comfy bed good l...|\n",
      "| s Gravesandestra...|Hotel Arena|         No Negative| This hotel is be...|\n",
      "| s Gravesandestra...|Hotel Arena| The staff in the...| It was very good...|\n",
      "| s Gravesandestra...|Hotel Arena|         No Negative| This hotel is aw...|\n",
      "| s Gravesandestra...|Hotel Arena| Very steep steps...| Great onsite caf...|\n",
      "| s Gravesandestra...|Hotel Arena| We did not like ...| We loved the loc...|\n",
      "| s Gravesandestra...|Hotel Arena|         No Negative| Public areas are...|\n",
      "| s Gravesandestra...|Hotel Arena| We had issues wi...| I liked the hote...|\n",
      "+--------------------+-----------+--------------------+--------------------+\n",
      "only showing top 20 rows\n",
      "\n"
     ]
    }
   ],
   "source": [
    "# selecting only the reviews using spark.sql\n",
    "df_reviews = spark.sql(\"SELECT Hotel_Address, Hotel_Name, Negative_Review, Positive_Review  FROM raw\")\n",
    "df_reviews.show()"
   ]
  },
  {
   "cell_type": "code",
   "execution_count": null,
   "metadata": {},
   "outputs": [],
   "source": [
    "type(df_reviews"
   ]
  },
  {
   "cell_type": "code",
   "execution_count": 12,
   "metadata": {
    "collapsed": true
   },
   "outputs": [],
   "source": [
    "# select column and convert to rdd\n",
    "reviews_rdd = df_reviews.select('Positive_Review','Negative_Review').rdd.map(lambda x: x['Positive_Review']+'. '+x['Negative_Review'])\n"
   ]
  },
  {
   "cell_type": "code",
   "execution_count": 49,
   "metadata": {
    "collapsed": true
   },
   "outputs": [],
   "source": [
    "reviews_rdd"
   ]
  },
  {
   "cell_type": "code",
   "execution_count": 89,
   "metadata": {},
   "outputs": [
    {
     "name": "stdout",
     "output_type": "stream",
     "text": [
      "[' Only the park outside of the hotel was beautiful .  I am so angry that i '\n",
      " 'made this post available via all possible sites i use when planing my '\n",
      " 'trips so no one will make the mistake of booking this place I made my '\n",
      " 'booking via booking com We stayed for 6 nights in this hotel from 11 to 17 '\n",
      " 'July Upon arrival we were placed in a small room on the 2nd floor of the '\n",
      " 'hotel It turned out that this was not the room we booked I had specially '\n",
      " 'reserved the 2 level duplex room so that we would have a big windows and '\n",
      " 'high ceilings The room itself was ok if you don t mind the broken window '\n",
      " 'that can not be closed hello rain and a mini fridge that contained some '\n",
      " 'sort of a bio weapon at least i guessed so by the smell of it I intimately '\n",
      " 'asked to change the room and after explaining 2 times that i booked a '\n",
      " 'duplex btw it costs the same as a simple double but got way more volume '\n",
      " 'due to the high ceiling was offered a room but only the next day SO i had '\n",
      " 'to check out the next day before 11 o clock in order to get the room i '\n",
      " 'waned to Not the best way to begin your holiday So we had to wait till 13 '\n",
      " '00 in order to check in my new room what a wonderful waist of my time The '\n",
      " 'room 023 i got was just as i wanted to peaceful internal garden view big '\n",
      " 'window We were tired from waiting the room so we placed our belongings and '\n",
      " 'rushed to the city In the evening it turned out that there was a constant '\n",
      " 'noise in the room i guess it was made by vibrating vent tubes or something '\n",
      " 'it was constant and annoying as hell AND it did not stop even at 2 am '\n",
      " 'making it hard to fall asleep for me and my wife I have an audio recording '\n",
      " 'that i can not attach here but if you want i can send it via e mail The '\n",
      " 'next day the technician came but was not able to determine the cause of '\n",
      " 'the disturbing sound so i was offered to change the room once again the '\n",
      " 'hotel was fully booked and they had only 1 room left the one that was '\n",
      " 'smaller but seems newer ',\n",
      " ' No real complaints the hotel was great great location surroundings rooms '\n",
      " 'amenities and service Two recommendations however firstly the staff upon '\n",
      " 'check in are very confusing regarding deposit payments and the staff offer '\n",
      " 'you upon checkout to refund your original payment and you can make a new '\n",
      " 'one Bit confusing Secondly the on site restaurant is a bit lacking very '\n",
      " 'well thought out and excellent quality food for anyone of a vegetarian or '\n",
      " 'vegan background but even a wrap or toasted sandwich option would be great '\n",
      " 'Aside from those minor minor things fantastic spot and will be back when i '\n",
      " 'return to Amsterdam . No Negative']\n"
     ]
    }
   ],
   "source": [
    "from pprint import pprint\n",
    "pprint(reviews_rdd.take(2))"
   ]
  },
  {
   "cell_type": "markdown",
   "metadata": {},
   "source": [
    "### Counting the number of reviews by hotel"
   ]
  },
  {
   "cell_type": "code",
   "execution_count": 13,
   "metadata": {},
   "outputs": [
    {
     "name": "stdout",
     "output_type": "stream",
     "text": [
      "1492\n"
     ]
    }
   ],
   "source": [
    "#counting hotels\n",
    "n_hotels = df.select(\"Hotel_Name\").distinct().count()\n",
    "#n_hotels = df.select(\"Hotel_Name\").distinct().show()\n",
    "print(n_hotels)\n",
    "\n"
   ]
  },
  {
   "cell_type": "code",
   "execution_count": null,
   "metadata": {
    "collapsed": true
   },
   "outputs": [],
   "source": [
    "n_hotels"
   ]
  },
  {
   "cell_type": "code",
   "execution_count": 53,
   "metadata": {
    "collapsed": true
   },
   "outputs": [],
   "source": [
    "n_review_byhotel = spark.sql('SELECT Hotel_Name, COUNT(*) AS N FROM global_temp.raw GROUP BY Hotel_Name ORDER BY N ASC')"
   ]
  },
  {
   "cell_type": "code",
   "execution_count": 82,
   "metadata": {},
   "outputs": [
    {
     "name": "stdout",
     "output_type": "stream",
     "text": [
      "[8, 10, 10, 12, 12, 12, 12, 12, 13, 13]\n"
     ]
    }
   ],
   "source": [
    "review_distrib_byhotel = n_review_byhotel.rdd.collect()\n",
    "review_distrib = [h[1] for h in review_distrib_byhotel]\n",
    "print(review_distrib[:10])"
   ]
  },
  {
   "cell_type": "code",
   "execution_count": 90,
   "metadata": {},
   "outputs": [
    {
     "name": "stdout",
     "output_type": "stream",
     "text": [
      "[Row(Hotel_Name='Hotel Gallitzinberg', N=8),\n",
      " Row(Hotel_Name='Mercure Paris Porte d Orleans', N=10),\n",
      " Row(Hotel_Name='Hotel Wagner', N=10),\n",
      " Row(Hotel_Name='Boundary Rooms Suites', N=12),\n",
      " Row(Hotel_Name='Hotel Eitlj rg', N=12),\n",
      " Row(Hotel_Name='Ibis Styles Milano Palmanova', N=12),\n",
      " Row(Hotel_Name='Hotel Daniel Paris', N=12),\n",
      " Row(Hotel_Name='Le Lavoisier', N=12),\n",
      " Row(Hotel_Name='MARQUIS Faubourg St Honor Relais Ch teaux', N=13),\n",
      " Row(Hotel_Name='XO Hotel', N=13)]\n"
     ]
    }
   ],
   "source": [
    "pprint(review_distrib_byhotel[:10])"
   ]
  },
  {
   "cell_type": "code",
   "execution_count": 61,
   "metadata": {
    "collapsed": true
   },
   "outputs": [],
   "source": [
    "import matplotlib.pyplot as plt\n",
    "import numpy as np"
   ]
  },
  {
   "cell_type": "code",
   "execution_count": 91,
   "metadata": {},
   "outputs": [
    {
     "data": {
      "text/plain": [
       "<matplotlib.lines.Line2D object at 0x7f8b584dddd8>"
      ]
     },
     "execution_count": 91,
     "metadata": {},
     "output_type": "execute_result"
    },
    {
     "data": {
      "image/png": "[encoded data removed]",
      "text/plain": [
       "<Figure size 432x288 with 1 Axes>"
      ]
     },
     "metadata": {
      "needs_background": "light"
     },
     "output_type": "display_data"
    }
   ],
   "source": [
    "plt.bar(range(len(review_distrib)), review_distrib)\n",
    "plt.axhline(np.mean(review_distrib), color = 'red')\n",
    "plt.axhline(np.median(review_distrib))\n"
   ]
  },
  {
   "cell_type": "code",
   "execution_count": 67,
   "metadata": {},
   "outputs": [
    {
     "data": {
      "text/plain": [
       "<matplotlib.lines.Line2D object at 0x7f8b58e00198>"
      ]
     },
     "execution_count": 67,
     "metadata": {},
     "output_type": "execute_result"
    },
    {
     "data": {
      "image/png": "[encoded data removed]",
      "text/plain": [
       "<Figure size 432x288 with 1 Axes>"
      ]
     },
     "metadata": {
      "needs_background": "light"
     },
     "output_type": "display_data"
    }
   ],
   "source": [
    "plt.hist(review_distrib, bins = 100)\n",
    "plt.axvline(50, color = 'black')\n",
    "plt.axvline(np.mean(review_distrib), color = 'red')\n",
    "plt.axvline(np.median(review_distrib))\n"
   ]
  },
  {
   "cell_type": "code",
   "execution_count": 63,
   "metadata": {},
   "outputs": [
    {
     "data": {
      "text/plain": [
       "{'boxes': [<matplotlib.lines.Line2D object at 0x7f8b596d1be0>], 'fliers': [<matplotlib.lines.Line2D object at 0x7f8b595e5a20>], 'whiskers': [<matplotlib.lines.Line2D object at 0x7f8b5965d160>, <matplotlib.lines.Line2D object at 0x7f8b59677860>], 'caps': [<matplotlib.lines.Line2D object at 0x7f8b59690f60>, <matplotlib.lines.Line2D object at 0x7f8b59632320>], 'means': [], 'medians': [<matplotlib.lines.Line2D object at 0x7f8b5964c6a0>]}"
      ]
     },
     "execution_count": 63,
     "metadata": {},
     "output_type": "execute_result"
    },
    {
     "data": {
      "image/png": "[encoded data removed]",
      "text/plain": [
       "<Figure size 432x288 with 1 Axes>"
      ]
     },
     "metadata": {
      "needs_background": "light"
     },
     "output_type": "display_data"
    }
   ],
   "source": [
    "plt.boxplot(review_distrib)"
   ]
  },
  {
   "cell_type": "code",
   "execution_count": 64,
   "metadata": {},
   "outputs": [
    {
     "data": {
      "text/plain": [
       "array([30., 48., 90.])"
      ]
     },
     "execution_count": 64,
     "metadata": {},
     "output_type": "execute_result"
    }
   ],
   "source": [
    "np.quantile(review_distrib, (0.05, 0.10,  0.25))"
   ]
  },
  {
   "cell_type": "markdown",
   "metadata": {},
   "source": [
    "## Remove not English reviews"
   ]
  },
  {
   "cell_type": "code",
   "execution_count": 92,
   "metadata": {
    "collapsed": true
   },
   "outputs": [],
   "source": [
    "import langdetect as ld"
   ]
  },
  {
   "cell_type": "code",
   "execution_count": 140,
   "metadata": {},
   "outputs": [
    {
     "name": "stdout",
     "output_type": "stream",
     "text": [
      "CPU times: user 4 µs, sys: 1 µs, total: 5 µs\n",
      "Wall time: 12.2 µs\n"
     ]
    }
   ],
   "source": [
    "%time \n",
    "#reviews_rdd.map(ld.detect).take(10)\n",
    "def detect_notEng(review):\n",
    "    try:\n",
    "        if ld.detect(review)!= 'en':\n",
    "            return True\n",
    "        else:\n",
    "            return False\n",
    "    except:\n",
    "        return True\n",
    "\n",
    "\n",
    "reviews_notEng = (reviews_rdd.filter(lambda x:len(x)<500) \n",
    "                  .filter(lambda x: detect_notEng(x))\n",
    "                 )\n",
    "\n",
    "\n"
   ]
  },
  {
   "cell_type": "code",
   "execution_count": 98,
   "metadata": {},
   "outputs": [
    {
     "data": {
      "text/plain": [
       "<bound method PipelinedRDD.count of PythonRDD[171] at RDD at PythonRDD.scala:48>"
      ]
     },
     "execution_count": 98,
     "metadata": {},
     "output_type": "execute_result"
    }
   ],
   "source": [
    "reviews_cleaned.count"
   ]
  },
  {
   "cell_type": "code",
   "execution_count": 99,
   "metadata": {},
   "outputs": [
    {
     "data": {
      "text/plain": [
       "515738"
      ]
     },
     "execution_count": 99,
     "metadata": {},
     "output_type": "execute_result"
    }
   ],
   "source": [
    "reviews_rdd.count()"
   ]
  },
  {
   "cell_type": "code",
   "execution_count": 142,
   "metadata": {},
   "outputs": [
    {
     "name": "stdout",
     "output_type": "stream",
     "text": [
      "[' Breakfast.  Hotel under renovation ',\n",
      " ' Nothing else.  All ok',\n",
      " ' Personnel was be very good .  Small room ',\n",
      " 'No Positive.  Transparentes WC Bad',\n",
      " ' lOCATION WAS GREAT.  NOTHING',\n",
      " 'No Positive.  no special treatment for regular guests',\n",
      " 'No Positive.  we didn t dislike anything ',\n",
      " ' Convenient comfortable quiet. No Negative',\n",
      " ' La ubicaci n y el personal Plus Lounge . No Negative',\n",
      " ' So quiet . No Negative',\n",
      " ' GOOD ALL ROUND.  ROAD WORKINGS AROUND AREA',\n",
      " 'No Positive.  restaurant table arrangement cramped',\n",
      " ' Bra l ge och rimligt v rde f r pengarna .  Ganska slitet n got bristf '\n",
      " 'llig st dning Irriterande att det bara fanns tv l gen p belysningen i '\n",
      " 'rummet och att b da s nglamporna styrdes med samma lysknapp ',\n",
      " ' Bra l ge n ra t bana och massor av restauranger trevligt kvarter .  '\n",
      " 'Rummet var mkt mindre n v ntat Mobilt element men endast ett str muttag '\n",
      " 'Frukost var inte v rd pengarna r rigt frukostrum och h gljudd personal och '\n",
      " 'det slutade med att vi t frukost ute varje dag L tt att h ra andra rum via '\n",
      " 'ventilen i badrummet och matlukt fr restaurang ',\n",
      " ' Staff very helpful.  Asked for use of iron We never did get one ',\n",
      " ' Excellent . No Negative',\n",
      " ' Ok.  Ok',\n",
      " ' Area.  Cost',\n",
      " ' L english breakfast excellent.  Le manque de rangement',\n",
      " ' Standard Hotel.  Standard Hotel',\n",
      " ' Quite.  Tide space',\n",
      " ' Comfortable bar. No Negative',\n",
      " ' Quiet area.  Small size room',\n",
      " 'No Positive.  Rooms quite small',\n",
      " ' Saif and quit.  Room size',\n",
      " ' staff.  bar',\n",
      " ' Quite place.  Nil',\n",
      " ' Relaax.  Food',\n",
      " ' Location cleanliness staff quite.  room dimension',\n",
      " ' Beautiful room responsive staff excellent management.  Buffet breakfasts',\n",
      " ' decor.  dark room noise from fire door',\n",
      " ' Londres.  Paris',\n",
      " ' Given upgrade to better and bigger room staff extremely helpful and '\n",
      " 'friendly.  No problems',\n",
      " ' Everything.  Noybing',\n",
      " ' Helpful staff .  Small bedroom ',\n",
      " ' All. No Negative',\n",
      " 'No Positive.  TV',\n",
      " ' Bigger rooms.  Small bathrooms',\n",
      " 'No Positive.  poor breakfast',\n",
      " ' Frokost gratis for barn Business center utmerket . No Negative',\n",
      " ' i just enjoyed my stay . No Negative',\n",
      " ' All giod. No Negative',\n",
      " ' situation impeccable. No Negative',\n",
      " 'No Positive.  Car park',\n",
      " ' la situation le breakfast.  il t a beaucoup de monde l usine',\n",
      " ' Breakfast .  No pool no parking parking nearby but awkward',\n",
      " 'No Positive.  I',\n",
      " 'No Positive.  staff',\n",
      " ' Las vistas. No Negative',\n",
      " ' excellent staff excellent facilities excellent rooms. No Negative',\n",
      " ' Location.  Restaurants',\n",
      " 'No Positive.  I never like sliding doors on bathrooms',\n",
      " ' Clean.  Price',\n",
      " ' Loved it.  Poor view',\n",
      " ' location.  price',\n",
      " ' Camere con vista London Eye e Big BEN. No Negative',\n",
      " ' So so. No Negative',\n",
      " ' Loca ia. No Negative',\n",
      " ' Very helpful front desk staff . No Negative',\n",
      " 'No Positive.  Excellent location nice staff',\n",
      " ' All. No Negative',\n",
      " ' Quite place.  Ntr',\n",
      " ' All.  None',\n",
      " ' location clean nice people.  price',\n",
      " ' Location.  Room size attentiveness',\n",
      " ' comfortable.  position',\n",
      " 'No Positive.  Personalen var tyv rr inte serviceminded loj och l ngsam '\n",
      " 'Gick inte att best lla allt som fanns p menyn g ller b de mat och dryck '\n",
      " 'Fint l ge vid Hyde Park Litet rum och badrum ',\n",
      " ' Mysigt hotell med bra l ge n ra Hyde Park Ligger n ra Bayswater '\n",
      " 'tunnelbanestation flera resturanger i n rheten Hotellet har v ldigt god '\n",
      " 'frukost Trevlig personal Blev bra kompenserade n r vi var tvungen att byta '\n",
      " 'hotell en natt pga problem med vattnet . No Negative',\n",
      " 'No Positive.  Expensive noisy',\n",
      " ' Excellent location .  Location ',\n",
      " ' Great bed breakfast staff.  Bigger wardrobe and storage',\n",
      " ' Not a lot .  Very small rooms tv did not work',\n",
      " ' True Victorian design .  None',\n",
      " ' Breakfast.  Stuff',\n",
      " ' Near Hyde Park.  Bar open late',\n",
      " ' Nothing.  Rooms were awful drinks too expense staff not very good',\n",
      " 'No Positive.  Small riom',\n",
      " ' location.  very small double delux room',\n",
      " ' Lage Ambiente Personal.  BETTWANZEN Bed Bugs ',\n",
      " 'No Positive.  Bigger room',\n",
      " ' Excellent . No Negative',\n",
      " 'No Positive.  Too expensive',\n",
      " ' .  ',\n",
      " ' Breakfast.  Room too small',\n",
      " ' Comfortable central just get left alone . No Negative',\n",
      " ' Location.  Personal recepci n',\n",
      " ' fantastic . No Negative',\n",
      " ' Concept.  old',\n",
      " ' good.  room is not big enough',\n",
      " 'No Positive.  I have made a formal complaint',\n",
      " ' everything else was ok .  Building makers wake us up 8am ',\n",
      " ' Swimming Pool.  Room looks old',\n",
      " ' EVERYTHING.  NOTHING',\n",
      " ' All excellent. No Negative',\n",
      " 'No Positive.  n a',\n",
      " ' Spa. No Negative',\n",
      " ' Comfort.  A little far from underground',\n",
      " ' In general all .  All OK',\n",
      " ' la location.  Hotel completamente obsoleto ',\n",
      " ' .  ']\n"
     ]
    }
   ],
   "source": [
    "\n",
    "pprint(reviews_notEng.take(100))\n"
   ]
  },
  {
   "cell_type": "code",
   "execution_count": 130,
   "metadata": {},
   "outputs": [
    {
     "data": {
      "text/plain": [
       "42"
      ]
     },
     "execution_count": 130,
     "metadata": {},
     "output_type": "execute_result"
    }
   ],
   "source": []
  },
  {
   "cell_type": "code",
   "execution_count": 113,
   "metadata": {},
   "outputs": [
    {
     "ename": "KeyboardInterrupt",
     "evalue": "",
     "output_type": "error",
     "traceback": [
      "\u001b[0;31m---------------------------------------------------------------------------\u001b[0m",
      "\u001b[0;31mKeyboardInterrupt\u001b[0m                         Traceback (most recent call last)",
      "\u001b[0;32m<ipython-input-113-b63737f53343>\u001b[0m in \u001b[0;36m<module>\u001b[0;34m()\u001b[0m\n\u001b[0;32m----> 1\u001b[0;31m \u001b[0mreviews_notEng\u001b[0m\u001b[0;34m.\u001b[0m\u001b[0mcount\u001b[0m\u001b[0;34m(\u001b[0m\u001b[0;34m)\u001b[0m\u001b[0;34m\u001b[0m\u001b[0m\n\u001b[0m",
      "\u001b[0;32m/home/hadoopuser/spark/python/pyspark/rdd.py\u001b[0m in \u001b[0;36mcount\u001b[0;34m(self)\u001b[0m\n\u001b[1;32m   1039\u001b[0m         \u001b[0;36m3\u001b[0m\u001b[0;34m\u001b[0m\u001b[0m\n\u001b[1;32m   1040\u001b[0m         \"\"\"\n\u001b[0;32m-> 1041\u001b[0;31m         \u001b[0;32mreturn\u001b[0m \u001b[0mself\u001b[0m\u001b[0;34m.\u001b[0m\u001b[0mmapPartitions\u001b[0m\u001b[0;34m(\u001b[0m\u001b[0;32mlambda\u001b[0m \u001b[0mi\u001b[0m\u001b[0;34m:\u001b[0m \u001b[0;34m[\u001b[0m\u001b[0msum\u001b[0m\u001b[0;34m(\u001b[0m\u001b[0;36m1\u001b[0m \u001b[0;32mfor\u001b[0m \u001b[0m_\u001b[0m \u001b[0;32min\u001b[0m \u001b[0mi\u001b[0m\u001b[0;34m)\u001b[0m\u001b[0;34m]\u001b[0m\u001b[0;34m)\u001b[0m\u001b[0;34m.\u001b[0m\u001b[0msum\u001b[0m\u001b[0;34m(\u001b[0m\u001b[0;34m)\u001b[0m\u001b[0;34m\u001b[0m\u001b[0m\n\u001b[0m\u001b[1;32m   1042\u001b[0m \u001b[0;34m\u001b[0m\u001b[0m\n\u001b[1;32m   1043\u001b[0m     \u001b[0;32mdef\u001b[0m \u001b[0mstats\u001b[0m\u001b[0;34m(\u001b[0m\u001b[0mself\u001b[0m\u001b[0;34m)\u001b[0m\u001b[0;34m:\u001b[0m\u001b[0;34m\u001b[0m\u001b[0m\n",
      "\u001b[0;32m/home/hadoopuser/spark/python/pyspark/rdd.py\u001b[0m in \u001b[0;36msum\u001b[0;34m(self)\u001b[0m\n\u001b[1;32m   1030\u001b[0m         \u001b[0;36m6.0\u001b[0m\u001b[0;34m\u001b[0m\u001b[0m\n\u001b[1;32m   1031\u001b[0m         \"\"\"\n\u001b[0;32m-> 1032\u001b[0;31m         \u001b[0;32mreturn\u001b[0m \u001b[0mself\u001b[0m\u001b[0;34m.\u001b[0m\u001b[0mmapPartitions\u001b[0m\u001b[0;34m(\u001b[0m\u001b[0;32mlambda\u001b[0m \u001b[0mx\u001b[0m\u001b[0;34m:\u001b[0m \u001b[0;34m[\u001b[0m\u001b[0msum\u001b[0m\u001b[0;34m(\u001b[0m\u001b[0mx\u001b[0m\u001b[0;34m)\u001b[0m\u001b[0;34m]\u001b[0m\u001b[0;34m)\u001b[0m\u001b[0;34m.\u001b[0m\u001b[0mfold\u001b[0m\u001b[0;34m(\u001b[0m\u001b[0;36m0\u001b[0m\u001b[0;34m,\u001b[0m \u001b[0moperator\u001b[0m\u001b[0;34m.\u001b[0m\u001b[0madd\u001b[0m\u001b[0;34m)\u001b[0m\u001b[0;34m\u001b[0m\u001b[0m\n\u001b[0m\u001b[1;32m   1033\u001b[0m \u001b[0;34m\u001b[0m\u001b[0m\n\u001b[1;32m   1034\u001b[0m     \u001b[0;32mdef\u001b[0m \u001b[0mcount\u001b[0m\u001b[0;34m(\u001b[0m\u001b[0mself\u001b[0m\u001b[0;34m)\u001b[0m\u001b[0;34m:\u001b[0m\u001b[0;34m\u001b[0m\u001b[0m\n",
      "\u001b[0;32m/home/hadoopuser/spark/python/pyspark/rdd.py\u001b[0m in \u001b[0;36mfold\u001b[0;34m(self, zeroValue, op)\u001b[0m\n\u001b[1;32m    904\u001b[0m         \u001b[0;31m# zeroValue provided to each partition is unique from the one provided\u001b[0m\u001b[0;34m\u001b[0m\u001b[0;34m\u001b[0m\u001b[0m\n\u001b[1;32m    905\u001b[0m         \u001b[0;31m# to the final reduce call\u001b[0m\u001b[0;34m\u001b[0m\u001b[0;34m\u001b[0m\u001b[0m\n\u001b[0;32m--> 906\u001b[0;31m         \u001b[0mvals\u001b[0m \u001b[0;34m=\u001b[0m \u001b[0mself\u001b[0m\u001b[0;34m.\u001b[0m\u001b[0mmapPartitions\u001b[0m\u001b[0;34m(\u001b[0m\u001b[0mfunc\u001b[0m\u001b[0;34m)\u001b[0m\u001b[0;34m.\u001b[0m\u001b[0mcollect\u001b[0m\u001b[0;34m(\u001b[0m\u001b[0;34m)\u001b[0m\u001b[0;34m\u001b[0m\u001b[0m\n\u001b[0m\u001b[1;32m    907\u001b[0m         \u001b[0;32mreturn\u001b[0m \u001b[0mreduce\u001b[0m\u001b[0;34m(\u001b[0m\u001b[0mop\u001b[0m\u001b[0;34m,\u001b[0m \u001b[0mvals\u001b[0m\u001b[0;34m,\u001b[0m \u001b[0mzeroValue\u001b[0m\u001b[0;34m)\u001b[0m\u001b[0;34m\u001b[0m\u001b[0m\n\u001b[1;32m    908\u001b[0m \u001b[0;34m\u001b[0m\u001b[0m\n",
      "\u001b[0;32m/home/hadoopuser/spark/python/pyspark/rdd.py\u001b[0m in \u001b[0;36mcollect\u001b[0;34m(self)\u001b[0m\n\u001b[1;32m    807\u001b[0m         \"\"\"\n\u001b[1;32m    808\u001b[0m         \u001b[0;32mwith\u001b[0m \u001b[0mSCCallSiteSync\u001b[0m\u001b[0;34m(\u001b[0m\u001b[0mself\u001b[0m\u001b[0;34m.\u001b[0m\u001b[0mcontext\u001b[0m\u001b[0;34m)\u001b[0m \u001b[0;32mas\u001b[0m \u001b[0mcss\u001b[0m\u001b[0;34m:\u001b[0m\u001b[0;34m\u001b[0m\u001b[0m\n\u001b[0;32m--> 809\u001b[0;31m             \u001b[0mport\u001b[0m \u001b[0;34m=\u001b[0m \u001b[0mself\u001b[0m\u001b[0;34m.\u001b[0m\u001b[0mctx\u001b[0m\u001b[0;34m.\u001b[0m\u001b[0m_jvm\u001b[0m\u001b[0;34m.\u001b[0m\u001b[0mPythonRDD\u001b[0m\u001b[0;34m.\u001b[0m\u001b[0mcollectAndServe\u001b[0m\u001b[0;34m(\u001b[0m\u001b[0mself\u001b[0m\u001b[0;34m.\u001b[0m\u001b[0m_jrdd\u001b[0m\u001b[0;34m.\u001b[0m\u001b[0mrdd\u001b[0m\u001b[0;34m(\u001b[0m\u001b[0;34m)\u001b[0m\u001b[0;34m)\u001b[0m\u001b[0;34m\u001b[0m\u001b[0m\n\u001b[0m\u001b[1;32m    810\u001b[0m         \u001b[0;32mreturn\u001b[0m \u001b[0mlist\u001b[0m\u001b[0;34m(\u001b[0m\u001b[0m_load_from_socket\u001b[0m\u001b[0;34m(\u001b[0m\u001b[0mport\u001b[0m\u001b[0;34m,\u001b[0m \u001b[0mself\u001b[0m\u001b[0;34m.\u001b[0m\u001b[0m_jrdd_deserializer\u001b[0m\u001b[0;34m)\u001b[0m\u001b[0;34m)\u001b[0m\u001b[0;34m\u001b[0m\u001b[0m\n\u001b[1;32m    811\u001b[0m \u001b[0;34m\u001b[0m\u001b[0m\n",
      "\u001b[0;32m~/env-py3/lib/python3.4/site-packages/py4j/java_gateway.py\u001b[0m in \u001b[0;36m__call__\u001b[0;34m(self, *args)\u001b[0m\n\u001b[1;32m   1282\u001b[0m             \u001b[0mproto\u001b[0m\u001b[0;34m.\u001b[0m\u001b[0mEND_COMMAND_PART\u001b[0m\u001b[0;34m\u001b[0m\u001b[0m\n\u001b[1;32m   1283\u001b[0m \u001b[0;34m\u001b[0m\u001b[0m\n\u001b[0;32m-> 1284\u001b[0;31m         \u001b[0manswer\u001b[0m \u001b[0;34m=\u001b[0m \u001b[0mself\u001b[0m\u001b[0;34m.\u001b[0m\u001b[0mgateway_client\u001b[0m\u001b[0;34m.\u001b[0m\u001b[0msend_command\u001b[0m\u001b[0;34m(\u001b[0m\u001b[0mcommand\u001b[0m\u001b[0;34m)\u001b[0m\u001b[0;34m\u001b[0m\u001b[0m\n\u001b[0m\u001b[1;32m   1285\u001b[0m         return_value = get_return_value(\n\u001b[1;32m   1286\u001b[0m             answer, self.gateway_client, self.target_id, self.name)\n",
      "\u001b[0;32m~/env-py3/lib/python3.4/site-packages/py4j/java_gateway.py\u001b[0m in \u001b[0;36msend_command\u001b[0;34m(self, command, retry, binary)\u001b[0m\n\u001b[1;32m   1012\u001b[0m         \u001b[0mconnection\u001b[0m \u001b[0;34m=\u001b[0m \u001b[0mself\u001b[0m\u001b[0;34m.\u001b[0m\u001b[0m_get_connection\u001b[0m\u001b[0;34m(\u001b[0m\u001b[0;34m)\u001b[0m\u001b[0;34m\u001b[0m\u001b[0m\n\u001b[1;32m   1013\u001b[0m         \u001b[0;32mtry\u001b[0m\u001b[0;34m:\u001b[0m\u001b[0;34m\u001b[0m\u001b[0m\n\u001b[0;32m-> 1014\u001b[0;31m             \u001b[0mresponse\u001b[0m \u001b[0;34m=\u001b[0m \u001b[0mconnection\u001b[0m\u001b[0;34m.\u001b[0m\u001b[0msend_command\u001b[0m\u001b[0;34m(\u001b[0m\u001b[0mcommand\u001b[0m\u001b[0;34m)\u001b[0m\u001b[0;34m\u001b[0m\u001b[0m\n\u001b[0m\u001b[1;32m   1015\u001b[0m             \u001b[0;32mif\u001b[0m \u001b[0mbinary\u001b[0m\u001b[0;34m:\u001b[0m\u001b[0;34m\u001b[0m\u001b[0m\n\u001b[1;32m   1016\u001b[0m                 \u001b[0;32mreturn\u001b[0m \u001b[0mresponse\u001b[0m\u001b[0;34m,\u001b[0m \u001b[0mself\u001b[0m\u001b[0;34m.\u001b[0m\u001b[0m_create_connection_guard\u001b[0m\u001b[0;34m(\u001b[0m\u001b[0mconnection\u001b[0m\u001b[0;34m)\u001b[0m\u001b[0;34m\u001b[0m\u001b[0m\n",
      "\u001b[0;32m~/env-py3/lib/python3.4/site-packages/py4j/java_gateway.py\u001b[0m in \u001b[0;36msend_command\u001b[0;34m(self, command)\u001b[0m\n\u001b[1;32m   1179\u001b[0m \u001b[0;34m\u001b[0m\u001b[0m\n\u001b[1;32m   1180\u001b[0m         \u001b[0;32mtry\u001b[0m\u001b[0;34m:\u001b[0m\u001b[0;34m\u001b[0m\u001b[0m\n\u001b[0;32m-> 1181\u001b[0;31m             \u001b[0manswer\u001b[0m \u001b[0;34m=\u001b[0m \u001b[0msmart_decode\u001b[0m\u001b[0;34m(\u001b[0m\u001b[0mself\u001b[0m\u001b[0;34m.\u001b[0m\u001b[0mstream\u001b[0m\u001b[0;34m.\u001b[0m\u001b[0mreadline\u001b[0m\u001b[0;34m(\u001b[0m\u001b[0;34m)\u001b[0m\u001b[0;34m[\u001b[0m\u001b[0;34m:\u001b[0m\u001b[0;34m-\u001b[0m\u001b[0;36m1\u001b[0m\u001b[0;34m]\u001b[0m\u001b[0;34m)\u001b[0m\u001b[0;34m\u001b[0m\u001b[0m\n\u001b[0m\u001b[1;32m   1182\u001b[0m             \u001b[0mlogger\u001b[0m\u001b[0;34m.\u001b[0m\u001b[0mdebug\u001b[0m\u001b[0;34m(\u001b[0m\u001b[0;34m\"Answer received: {0}\"\u001b[0m\u001b[0;34m.\u001b[0m\u001b[0mformat\u001b[0m\u001b[0;34m(\u001b[0m\u001b[0manswer\u001b[0m\u001b[0;34m)\u001b[0m\u001b[0;34m)\u001b[0m\u001b[0;34m\u001b[0m\u001b[0m\n\u001b[1;32m   1183\u001b[0m             \u001b[0;32mif\u001b[0m \u001b[0manswer\u001b[0m\u001b[0;34m.\u001b[0m\u001b[0mstartswith\u001b[0m\u001b[0;34m(\u001b[0m\u001b[0mproto\u001b[0m\u001b[0;34m.\u001b[0m\u001b[0mRETURN_MESSAGE\u001b[0m\u001b[0;34m)\u001b[0m\u001b[0;34m:\u001b[0m\u001b[0;34m\u001b[0m\u001b[0m\n",
      "\u001b[0;32m/usr/lib/python3.4/socket.py\u001b[0m in \u001b[0;36mreadinto\u001b[0;34m(self, b)\u001b[0m\n\u001b[1;32m    372\u001b[0m         \u001b[0;32mwhile\u001b[0m \u001b[0;32mTrue\u001b[0m\u001b[0;34m:\u001b[0m\u001b[0;34m\u001b[0m\u001b[0m\n\u001b[1;32m    373\u001b[0m             \u001b[0;32mtry\u001b[0m\u001b[0;34m:\u001b[0m\u001b[0;34m\u001b[0m\u001b[0m\n\u001b[0;32m--> 374\u001b[0;31m                 \u001b[0;32mreturn\u001b[0m \u001b[0mself\u001b[0m\u001b[0;34m.\u001b[0m\u001b[0m_sock\u001b[0m\u001b[0;34m.\u001b[0m\u001b[0mrecv_into\u001b[0m\u001b[0;34m(\u001b[0m\u001b[0mb\u001b[0m\u001b[0;34m)\u001b[0m\u001b[0;34m\u001b[0m\u001b[0m\n\u001b[0m\u001b[1;32m    375\u001b[0m             \u001b[0;32mexcept\u001b[0m \u001b[0mtimeout\u001b[0m\u001b[0;34m:\u001b[0m\u001b[0;34m\u001b[0m\u001b[0m\n\u001b[1;32m    376\u001b[0m                 \u001b[0mself\u001b[0m\u001b[0;34m.\u001b[0m\u001b[0m_timeout_occurred\u001b[0m \u001b[0;34m=\u001b[0m \u001b[0;32mTrue\u001b[0m\u001b[0;34m\u001b[0m\u001b[0m\n",
      "\u001b[0;31mKeyboardInterrupt\u001b[0m: "
     ]
    }
   ],
   "source": [
    "reviews_notEng.count()"
   ]
  },
  {
   "cell_type": "code",
   "execution_count": null,
   "metadata": {
    "collapsed": true
   },
   "outputs": [],
   "source": []
  },
  {
   "cell_type": "code",
   "execution_count": 16,
   "metadata": {},
   "outputs": [
    {
     "data": {
      "text/plain": [
       "[' only the park outside of the hotel was beautiful .  I am so angry that I made this post available via all possible sites I use when planing my trips so no one will make the mistake of booking this place I made my booking via booking com we stayed for 6 nights in this hotel from 11 to 17 july upon arrival we were placed in a small room on the 2nd floor of the hotel it turned out that this was not the room we booked I had specially reserved the 2 level duplex room so that we would have a big windows and high ceilings the room itself was ok if you don t mind the broken window that can not be closed hello rain and a mini fridge that contained some sort of a bio weapon at least I guessed so by the smell of it I intimately asked to change the room and after explaining 2 times that I booked a duplex btw it costs the same as a simple double but got way more volume due to the high ceiling was offered a room but only the next day so I had to check out the next day before 11 o clock in order to get the room I waned to not the best way to begin your holiday so we had to wait till 13 00 in order to check in my new room what a wonderful waist of my time the room 023 I got was just as I wanted to peaceful internal garden view big window we were tired from waiting the room so we placed our belongings and rushed to the city in the evening it turned out that there was a constant noise in the room I guess it was made by vibrating vent tubes or something it was constant and annoying as hell and it did not stop even at 2 am making it hard to fall asleep for me and my wife I have an audio recording that I can not attach here but if you want I can send it via e mail the next day the technician came but was not able to determine the cause of the disturbing sound so I was offered to change the room once again the hotel was fully booked and they had only 1 room left the one that was smaller but seems newer ',\n",
       " ' no real complaints the hotel was great great location surroundings rooms amenities and service two recommendations however firstly the staff upon check in are very confusing regarding deposit payments and the staff offer you upon checkout to refund your original payment and you can make a new one bit confusing secondly the on site restaurant is a bit lacking very well thought out and excellent quality food for anyone of a vegetarian or vegan background but even a wrap or toasted sandwich option would be great aside from those minor minor things fantastic spot and will be back when I return to amsterdam . no negative']"
      ]
     },
     "execution_count": 16,
     "metadata": {},
     "output_type": "execute_result"
    }
   ],
   "source": [
    "reviews_rdd.map(lambda x: x.lower().replace(\" i \", \" I \")).take(2)"
   ]
  },
  {
   "cell_type": "code",
   "execution_count": null,
   "metadata": {
    "collapsed": true
   },
   "outputs": [],
   "source": []
  }
 ],
 "metadata": {
  "kernelspec": {
   "display_name": "Python 3",
   "language": "python",
   "name": "python3"
  },
  "language_info": {
   "codemirror_mode": {
    "name": "ipython",
    "version": 3
   },
   "file_extension": ".py",
   "mimetype": "text/x-python",
   "name": "python",
   "nbconvert_exporter": "python",
   "pygments_lexer": "ipython3",
   "version": "3.4.3"
  }
 },
 "nbformat": 4,
 "nbformat_minor": 2
}
