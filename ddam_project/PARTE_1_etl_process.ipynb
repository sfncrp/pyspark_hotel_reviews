{
 "cells": [
  {
   "cell_type": "markdown",
   "metadata": {},
   "source": [
    "# Data transforming and cleaning"
   ]
  },
  {
   "cell_type": "code",
   "execution_count": null,
   "metadata": {},
   "outputs": [],
   "source": [
    "import toLog\n",
    "log = toLog.log('ETL process start')"
   ]
  },
  {
   "cell_type": "code",
   "execution_count": 2,
   "metadata": {},
   "outputs": [],
   "source": [
    "from pyspark.sql import SparkSession\n",
    "spark = (SparkSession.builder\n",
    "         .appName('ddam_project')\n",
    "         .config('spark.some.config.option','some-value')\n",
    "         .getOrCreate()\n",
    "         )"
   ]
  },
  {
   "cell_type": "code",
   "execution_count": 3,
   "metadata": {},
   "outputs": [
    {
     "name": "stdout",
     "output_type": "stream",
     "text": [
      "root\n",
      " |-- Hotel_Address: string (nullable = true)\n",
      " |-- Additional_Number_of_Scoring: integer (nullable = true)\n",
      " |-- Review_Date: string (nullable = true)\n",
      " |-- Average_Score: double (nullable = true)\n",
      " |-- Hotel_Name: string (nullable = true)\n",
      " |-- Reviewer_Nationality: string (nullable = true)\n",
      " |-- Negative_Review: string (nullable = true)\n",
      " |-- Review_Total_Negative_Word_Counts: integer (nullable = true)\n",
      " |-- Total_Number_of_Reviews: integer (nullable = true)\n",
      " |-- Positive_Review: string (nullable = true)\n",
      " |-- Review_Total_Positive_Word_Counts: integer (nullable = true)\n",
      " |-- Total_Number_of_Reviews_Reviewer_Has_Given: integer (nullable = true)\n",
      " |-- Reviewer_Score: double (nullable = true)\n",
      " |-- Tags: string (nullable = true)\n",
      " |-- days_since_review: string (nullable = true)\n",
      " |-- lat: string (nullable = true)\n",
      " |-- lng: string (nullable = true)\n",
      "\n"
     ]
    }
   ],
   "source": [
    "# read file from hdfs and infer schema\n",
    "df_raw = spark.read.csv(\"hdfs://masterbig-1.itc.unipi.it:54310/user/student18/Hotel_Reviews.csv\", header = True, inferSchema = True)\n",
    "df_raw.printSchema()"
   ]
  },
  {
   "cell_type": "code",
   "execution_count": 4,
   "metadata": {},
   "outputs": [
    {
     "name": "stdout",
     "output_type": "stream",
     "text": [
      "515738\n"
     ]
    }
   ],
   "source": [
    "N_raw = df_raw.count()\n",
    "print(N_raw)"
   ]
  },
  {
   "cell_type": "code",
   "execution_count": null,
   "metadata": {},
   "outputs": [],
   "source": [
    "from pyspark.sql.functions import monotonically_increasing_id"
   ]
  },
  {
   "cell_type": "code",
   "execution_count": null,
   "metadata": {},
   "outputs": [],
   "source": [
    "# adding id\n",
    "df_raw_id = df_raw.withColumn('id', monotonically_increasing_id())\n",
    "df_raw_id.printSchema()\n",
    "df_raw_id.take(1)"
   ]
  },
  {
   "cell_type": "markdown",
   "metadata": {},
   "source": [
    "## Reviews transformation"
   ]
  },
  {
   "cell_type": "code",
   "execution_count": null,
   "metadata": {},
   "outputs": [],
   "source": [
    "def catReviews(row):\n",
    "    if row[\"Negative_Review\"] == \"No Negative\" and row[\"Positive_Review\"] == \"No Positive\":\n",
    "        return \"EMPTY\"\n",
    "    else:\n",
    "        if row[\"Negative_Review\"] == \"No Negative\":\n",
    "            return (row[\"Positive_Review\"].lower())\n",
    "        elif row[\"Positive_Review\"] == \"No Positive\":\n",
    "            return (row[\"Negative_Review\"].lower() )\n",
    "        else:\n",
    "            return(row[\"Negative_Review\"].lower()  + \". \" + row[\"Positive_Review\"].lower())\n",
    "            #users_ratings.append(row[12])       \n",
    "        "
   ]
  },
  {
   "cell_type": "code",
   "execution_count": null,
   "metadata": {},
   "outputs": [],
   "source": [
    "def catReviewsLen(row, L = 11):\n",
    "    out = \"\"\n",
    "    if len(row[\"Negative_Review\"]) > L:\n",
    "        out += row[\"Negative_Review\"]\n",
    "    if len(row[\"Positive_Review\"]) > L:\n",
    "        out += '.' + row[\"Positive_Review\"]\n",
    "        \n",
    "    return out.lower()\n",
    "     "
   ]
  },
  {
   "cell_type": "code",
   "execution_count": null,
   "metadata": {},
   "outputs": [],
   "source": [
    "def correction(row):\n",
    "    return (row.replace(\" don t \", \" don't \")\n",
    "            .replace(\" didn t \", \" didn't \")\n",
    "            .replace(\" haven t \", \" haven't \")\n",
    "            .replace(\" hadn t \", \" hadn't \")\n",
    "            .replace(\" isn t \", \" isn't \")\n",
    "            .replace(\" weren t \", \" weren't \")\n",
    "            .replace(\" wasn t \", \" wasn't \")\n",
    "            .replace(\" dont \", \" don't \")\n",
    "            .replace(\" didnt \", \" didn't \")\n",
    "            .replace(\" wont \", \" won't \")\n",
    "            .replace(\" won t \", \" won't \")\n",
    "            .replace(\" wouldn t \", \" wouldn't \")\n",
    "            .replace(\" wouldnt \", \" wouldn't \")\n",
    "            .replace(\" i \", \" I \")\n",
    "           )"
   ]
  },
  {
   "cell_type": "code",
   "execution_count": null,
   "metadata": {},
   "outputs": [],
   "source": [
    "#counting rows with empty reviews\n",
    "#df_raw_id.rdd.map(lambda x: (x['id'], catReviews(x))\n",
    "#                  .filter(lambda x: x[1] == \"EMPTY\").count().take(1) )"
   ]
  },
  {
   "cell_type": "code",
   "execution_count": null,
   "metadata": {},
   "outputs": [],
   "source": [
    "rdd_reviews = (df_raw_id.rdd\n",
    "               #.sample(False, 0.10)\n",
    "               .map(lambda x: (x['id'], catReviewsLen(x)))\n",
    "               .filter(lambda x: len(x[1]) > 1) # remove empty reviews\n",
    "               .map(lambda x: (x[0], correction(x[1]))) \n",
    "              )"
   ]
  },
  {
   "cell_type": "code",
   "execution_count": null,
   "metadata": {},
   "outputs": [],
   "source": [
    "N_cat = rdd_reviews.count()\n",
    "print(N_cat)"
   ]
  },
  {
   "cell_type": "code",
   "execution_count": null,
   "metadata": {},
   "outputs": [],
   "source": [
    "# removed reviews:\n",
    "N_raw - N_cat"
   ]
  },
  {
   "cell_type": "code",
   "execution_count": null,
   "metadata": {},
   "outputs": [],
   "source": [
    "log.toLog( 'counting removed reviews: '+str(N_raw - N_cat))"
   ]
  },
  {
   "cell_type": "code",
   "execution_count": null,
   "metadata": {},
   "outputs": [],
   "source": [
    "#rdd_reviews.filter(lambda x: len(x[1])<1 ).count()"
   ]
  },
  {
   "cell_type": "markdown",
   "metadata": {},
   "source": [
    "# Keep only English reviews"
   ]
  },
  {
   "cell_type": "code",
   "execution_count": null,
   "metadata": {},
   "outputs": [],
   "source": [
    "import langdetect as ld"
   ]
  },
  {
   "cell_type": "code",
   "execution_count": null,
   "metadata": {},
   "outputs": [],
   "source": [
    "#detect english reviews\n",
    "\n",
    "\n",
    "#reviews_rdd.map(ld.detect).take(10)\n",
    "def detect_Eng(review):\n",
    "    if (len(review) < 100 ):\n",
    "        return True\n",
    "    try:\n",
    "        if ld.detect(review)== 'en':\n",
    "            return True\n",
    "        else:\n",
    "            return False\n",
    "    except:\n",
    "        return True"
   ]
  },
  {
   "cell_type": "code",
   "execution_count": null,
   "metadata": {},
   "outputs": [],
   "source": [
    "#stampa le reviews in lingua differente dall'inglese\n",
    "#rdd_reviews.filter(lambda x: not detect_Eng(x[1])).take(30)"
   ]
  },
  {
   "cell_type": "code",
   "execution_count": null,
   "metadata": {},
   "outputs": [],
   "source": [
    "#rdd_reviews.filter(lambda x: x[1] is None).count()"
   ]
  },
  {
   "cell_type": "code",
   "execution_count": null,
   "metadata": {},
   "outputs": [],
   "source": [
    "log.toLog('starting detect_Eng')"
   ]
  },
  {
   "cell_type": "code",
   "execution_count": null,
   "metadata": {},
   "outputs": [],
   "source": [
    "#remove EMPTY reviews, keep only english reviews\n",
    "#creiamo un nuovo data frame(df_revs) con colonne id, Review\n",
    "\n",
    "df_lang = (rdd_reviews.filter(lambda x: detect_Eng(x[1]))\n",
    "           #.filter(lambda x: x[1] is not None)\n",
    "           .toDF(['id','Review'])\n",
    "          )\n",
    "df_lang.printSchema()"
   ]
  },
  {
   "cell_type": "code",
   "execution_count": null,
   "metadata": {},
   "outputs": [],
   "source": [
    "df_lang.take(3)"
   ]
  },
  {
   "cell_type": "code",
   "execution_count": null,
   "metadata": {},
   "outputs": [],
   "source": [
    "N_cat_lang = df_lang.count()\n",
    "N_cat_lang"
   ]
  },
  {
   "cell_type": "code",
   "execution_count": null,
   "metadata": {},
   "outputs": [],
   "source": [
    "# Not english reviews removed:\n",
    "N_cat - N_cat_lang"
   ]
  },
  {
   "cell_type": "code",
   "execution_count": null,
   "metadata": {
    "scrolled": true
   },
   "outputs": [],
   "source": [
    "#creiamo un nuovo dataframe con le review modificate, eliminando quelle \"vecchie\" e senza contare \n",
    "df_cleaned_lang = df_raw_id.join(df_lang, 'id', 'inner').drop(\"Positive_Review\", \"Negative_Review\")\n",
    "df_cleaned_lang.printSchema()"
   ]
  },
  {
   "cell_type": "code",
   "execution_count": null,
   "metadata": {},
   "outputs": [],
   "source": [
    "N_cleaned_lang = df_cleaned_lang.count()\n",
    "log.toLog('counted not english rev, removed:' + str(N_raw-N_cleaned_lang))\n",
    "N_cleaned_lang"
   ]
  },
  {
   "cell_type": "markdown",
   "metadata": {},
   "source": [
    "# Hotel nationality"
   ]
  },
  {
   "cell_type": "code",
   "execution_count": null,
   "metadata": {},
   "outputs": [],
   "source": [
    "import reverse_geocode\n",
    "log.toLog('starting country extraction')"
   ]
  },
  {
   "cell_type": "code",
   "execution_count": null,
   "metadata": {},
   "outputs": [],
   "source": [
    "# example\n",
    "coord =[ (43.6753176,10.5408628) ]\n",
    "reverse_geocode.search(coord)"
   ]
  },
  {
   "cell_type": "code",
   "execution_count": null,
   "metadata": {},
   "outputs": [],
   "source": [
    "# check na value for lat/lng\n",
    "#(df_cleaned_lang\n",
    "# .sample(False, 0.01)\n",
    "# .select('lat','lng').rdd.filter(lambda x: x['lng']== 'NA').count()\n",
    "#)"
   ]
  },
  {
   "cell_type": "code",
   "execution_count": null,
   "metadata": {},
   "outputs": [],
   "source": []
  },
  {
   "cell_type": "code",
   "execution_count": null,
   "metadata": {},
   "outputs": [],
   "source": [
    "df_coord = ( df_raw_id.select('id', 'lat', 'lng').rdd\n",
    "            #.sample(False, 0.01)\n",
    "            .filter(lambda x: x['lat']!='NA' and x['lng']!='NA')\n",
    "            .map(lambda x: (x['id'], [ [float(x['lat']), float(x['lng'])] ] )) \n",
    "            .map(lambda x: (x[0], reverse_geocode.search(x[1])))\n",
    "            .map(lambda x: (x[0] , x[1][0]['city'], x[1][0]['country'], x[1][0]['country_code']))\n",
    "           ).toDF(['id','h_city','h_country','h_country_code'])\n"
   ]
  },
  {
   "cell_type": "code",
   "execution_count": null,
   "metadata": {},
   "outputs": [],
   "source": [
    "print(df_coord.head(5))"
   ]
  },
  {
   "cell_type": "code",
   "execution_count": null,
   "metadata": {},
   "outputs": [],
   "source": [
    "hotel_countries = df_coord.select('h_country').distinct().rdd.map(lambda x: x['h_country']).collect()\n",
    "hotel_countries"
   ]
  },
  {
   "cell_type": "code",
   "execution_count": null,
   "metadata": {},
   "outputs": [],
   "source": [
    "# estrarre la nazionalità dall'indirizzo\n",
    "def extractCountry(row):\n",
    "    for country in hotel_countries:\n",
    "        if country.lower() in row['Hotel_Address'].lower():\n",
    "            return (row['id'], country )\n",
    "    return 'EMPTY'\n",
    " "
   ]
  },
  {
   "cell_type": "code",
   "execution_count": null,
   "metadata": {},
   "outputs": [],
   "source": [
    "rdd_hotel_countries = (df_raw_id\n",
    "                       #.sample(False, 0.005)\n",
    "                       .select('id', 'Hotel_Address').rdd.map(extractCountry)\n",
    "                      )"
   ]
  },
  {
   "cell_type": "code",
   "execution_count": null,
   "metadata": {},
   "outputs": [],
   "source": [
    "# check if all reviews have an associated hotel_country \n",
    "# rdd_hotel_countries.filter(lambda x: x[1] == 'EMPTY').count()"
   ]
  },
  {
   "cell_type": "code",
   "execution_count": null,
   "metadata": {},
   "outputs": [],
   "source": [
    "# rdd_hotel_countries.take(1)"
   ]
  },
  {
   "cell_type": "code",
   "execution_count": null,
   "metadata": {},
   "outputs": [],
   "source": [
    "df_hotel_countries = rdd_hotel_countries.toDF(['id', 'Hotel_Country'])"
   ]
  },
  {
   "cell_type": "code",
   "execution_count": null,
   "metadata": {},
   "outputs": [],
   "source": [
    "print (df_hotel_countries.show())"
   ]
  },
  {
   "cell_type": "markdown",
   "metadata": {},
   "source": [
    "## Join and save cleaned df to hdfs"
   ]
  },
  {
   "cell_type": "code",
   "execution_count": null,
   "metadata": {},
   "outputs": [],
   "source": [
    "log.toLog( 'started final join and write to hdfs')"
   ]
  },
  {
   "cell_type": "code",
   "execution_count": null,
   "metadata": {},
   "outputs": [],
   "source": [
    "df_cleaned = df_cleaned_lang.join(df_hotel_countries, 'id', 'inner')\n"
   ]
  },
  {
   "cell_type": "code",
   "execution_count": null,
   "metadata": {},
   "outputs": [],
   "source": [
    "df_cleaned.write.csv(\"hdfs://masterbig-1.itc.unipi.it:54310/user/student18/df_cleaned.csv\", header = True)"
   ]
  },
  {
   "cell_type": "code",
   "execution_count": null,
   "metadata": {},
   "outputs": [],
   "source": [
    "log.toLog( 'etl notebook finished')\n",
    "log.close()"
   ]
  },
  {
   "cell_type": "code",
   "execution_count": null,
   "metadata": {},
   "outputs": [],
   "source": []
  }
 ],
 "metadata": {
  "kernelspec": {
   "display_name": "Python 3",
   "language": "python",
   "name": "python3"
  },
  "language_info": {
   "codemirror_mode": {
    "name": "ipython",
    "version": 3
   },
   "file_extension": ".py",
   "mimetype": "text/x-python",
   "name": "python",
   "nbconvert_exporter": "python",
   "pygments_lexer": "ipython3",
   "version": "3.4.3"
  }
 },
 "nbformat": 4,
 "nbformat_minor": 2
}
