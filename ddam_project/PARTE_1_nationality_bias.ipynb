{
 "cells": [
  {
   "cell_type": "code",
   "execution_count": 1,
   "metadata": {},
   "outputs": [],
   "source": [
    "from pyspark.sql import SparkSession\n",
    "spark = (SparkSession.builder\n",
    "         .appName('ddam_project')\n",
    "         .config('spark.some.config.option','some-value')\n",
    "         .getOrCreate()\n",
    "         )"
   ]
  },
  {
   "cell_type": "code",
   "execution_count": 62,
   "metadata": {},
   "outputs": [
    {
     "name": "stdout",
     "output_type": "stream",
     "text": [
      "root\n",
      " |-- id: long (nullable = true)\n",
      " |-- Hotel_Address: string (nullable = true)\n",
      " |-- Additional_Number_of_Scoring: integer (nullable = true)\n",
      " |-- Review_Date: string (nullable = true)\n",
      " |-- Average_Score: double (nullable = true)\n",
      " |-- Hotel_Name: string (nullable = true)\n",
      " |-- Reviewer_Nationality: string (nullable = true)\n",
      " |-- Review_Total_Negative_Word_Counts: integer (nullable = true)\n",
      " |-- Total_Number_of_Reviews: integer (nullable = true)\n",
      " |-- Review_Total_Positive_Word_Counts: integer (nullable = true)\n",
      " |-- Total_Number_of_Reviews_Reviewer_Has_Given: integer (nullable = true)\n",
      " |-- Reviewer_Score: double (nullable = true)\n",
      " |-- Tags: string (nullable = true)\n",
      " |-- days_since_review: string (nullable = true)\n",
      " |-- lat: string (nullable = true)\n",
      " |-- lng: string (nullable = true)\n",
      " |-- Review: string (nullable = true)\n",
      " |-- Hotel_Country: string (nullable = true)\n",
      "\n"
     ]
    }
   ],
   "source": [
    "# read file from hdfs and infer schema\n",
    "df_cleaned = spark.read.csv(\"hdfs://masterbig-1.itc.unipi.it:54310/user/student18/df_cleaned.csv\", header = True, inferSchema = True)\n",
    "df_cleaned.printSchema()"
   ]
  },
  {
   "cell_type": "code",
   "execution_count": 3,
   "metadata": {},
   "outputs": [],
   "source": [
    "# register table \n",
    "try:\n",
    "    df_cleaned.createTempView('cleaned')\n",
    "except:\n",
    "    # overwrites if table exists\n",
    "    spark.catalog.dropTempView('cleaned')\n",
    "    df_cleaned.createTempView('cleaned')"
   ]
  },
  {
   "cell_type": "markdown",
   "metadata": {},
   "source": [
    "# Bias computation using the mean"
   ]
  },
  {
   "cell_type": "markdown",
   "metadata": {},
   "source": [
    "The bias has been computed as:  \n",
    "the mean of the Reviewer_Score for each Reviewer_Nationality  \n",
    "MINUS  \n",
    "the overall global Reviewer_Score mean  \n",
    "We have considered the bias only for countries with number of reviewers > 100"
   ]
  },
  {
   "cell_type": "code",
   "execution_count": 63,
   "metadata": {},
   "outputs": [],
   "source": [
    "import pyspark.sql.functions as f"
   ]
  },
  {
   "cell_type": "code",
   "execution_count": 64,
   "metadata": {},
   "outputs": [],
   "source": [
    "tot_avg = spark.sql(\"SELECT   COUNT(*) AS N, \\\n",
    "AVG(Reviewer_Score) AS AVG_SCORE, \\\n",
    "STDDEV(Reviewer_Score) AS S \\\n",
    "FROM cleaned \\\n",
    "GROUP BY NULL \\\n",
    "\").rdd.collect()[0]['AVG_SCORE']"
   ]
  },
  {
   "cell_type": "code",
   "execution_count": null,
   "metadata": {},
   "outputs": [],
   "source": []
  },
  {
   "cell_type": "code",
   "execution_count": 67,
   "metadata": {},
   "outputs": [
    {
     "name": "stdout",
     "output_type": "stream",
     "text": [
      "+--------------------+------+-----------------+------------------+-----------------+\n",
      "|Reviewer_Nationality|     N|        AVG_SCORE|                 S|          Tot_Avg|\n",
      "+--------------------+------+-----------------+------------------+-----------------+\n",
      "|              Panama|   117|8.788888888888888|1.4026930857177227|8.392897271028017|\n",
      "|United States of ...| 34887| 8.78780347980614|1.5073551292818983|8.392897271028017|\n",
      "|         Puerto Rico|   169|  8.7603550295858| 1.588321176248055|8.392897271028017|\n",
      "|              Israel|  6456|8.694733581164826|1.5103577808400275|8.392897271028017|\n",
      "| Trinidad and Tobago|   154|8.677922077922076|1.2885238427110572|8.392897271028017|\n",
      "|         New Zealand|  3195|8.653020344287944|1.3905642252860766|8.392897271028017|\n",
      "|           Australia| 21412|8.592051186250648| 1.483046772456401|8.392897271028017|\n",
      "|             Bermuda|   101| 8.57920792079208|1.4278877288977008|8.392897271028017|\n",
      "|              Canada|  7792|8.547869609856289|1.5202101738245324|8.392897271028017|\n",
      "|            Colombia|   263|8.539923954372625|1.4584719579787118|8.392897271028017|\n",
      "|              Mexico|   576|8.538541666666667|1.6722930755207899|8.392897271028017|\n",
      "|          Costa Rica|   118|  8.5364406779661|1.6053151701756627|8.392897271028017|\n",
      "|             Hungary|  2140|8.493224299065414|1.4981165910570498|8.392897271028017|\n",
      "|               Malta|  1640|8.482012195121948|1.5111300233203524|8.392897271028017|\n",
      "|      United Kingdom|241061|8.481949382106817| 1.607090541343012|8.392897271028017|\n",
      "|             Ireland| 14611|8.461001984805979|1.5532699149015132|8.392897271028017|\n",
      "|             Iceland|   912|8.448026315789473|1.6290975350389723|8.392897271028017|\n",
      "|         Philippines|  1050| 8.43447619047619| 1.514433878786764|8.392897271028017|\n",
      "|               China|  3297|8.434061267819226|1.6364704315039922|8.392897271028017|\n",
      "|              Brazil|  1820|8.433241758241751|1.5898037665973672|8.392897271028017|\n",
      "+--------------------+------+-----------------+------------------+-----------------+\n",
      "only showing top 20 rows\n",
      "\n"
     ]
    }
   ],
   "source": [
    "df_temp = spark.sql(\"SELECT Reviewer_Nationality,  COUNT(*) AS N, \\\n",
    "AVG(Reviewer_Score) AS AVG_SCORE, \\\n",
    "STDDEV(Reviewer_Score) AS S \\\n",
    "FROM cleaned \\\n",
    "GROUP BY Reviewer_Nationality  \\\n",
    "HAVING N> 100 \\\n",
    "ORDER BY AVG_SCORE DESC \\\n",
    "\").withColumn('Tot_Avg', f.lit(tot_avg))\n",
    "df_temp.show()\n"
   ]
  },
  {
   "cell_type": "code",
   "execution_count": 83,
   "metadata": {},
   "outputs": [
    {
     "ename": "AttributeError",
     "evalue": "'DataFrame' object has no attribute 'AVG_SCORE'",
     "output_type": "error",
     "traceback": [
      "\u001b[0;31m---------------------------------------------------------------------------\u001b[0m",
      "\u001b[0;31mAttributeError\u001b[0m                            Traceback (most recent call last)",
      "\u001b[0;32m<ipython-input-83-9038bd686d37>\u001b[0m in \u001b[0;36m<module>\u001b[0;34m()\u001b[0m\n\u001b[0;32m----> 1\u001b[0;31m \u001b[0mdf_bias\u001b[0m \u001b[0;34m=\u001b[0m \u001b[0mdf_temp\u001b[0m\u001b[0;34m.\u001b[0m\u001b[0mwithColumn\u001b[0m\u001b[0;34m(\u001b[0m\u001b[0;34m'Bias'\u001b[0m\u001b[0;34m,\u001b[0m \u001b[0mdf_temp\u001b[0m\u001b[0;34m.\u001b[0m\u001b[0mAVG_SCORE\u001b[0m \u001b[0;34m-\u001b[0m \u001b[0mdf_temp\u001b[0m\u001b[0;34m.\u001b[0m\u001b[0mTot_Avg\u001b[0m\u001b[0;34m)\u001b[0m\u001b[0;34m\u001b[0m\u001b[0m\n\u001b[0m\u001b[1;32m      2\u001b[0m \u001b[0mdf_bias\u001b[0m\u001b[0;34m.\u001b[0m\u001b[0mshow\u001b[0m\u001b[0;34m(\u001b[0m\u001b[0;36m100\u001b[0m\u001b[0;34m)\u001b[0m\u001b[0;34m\u001b[0m\u001b[0m\n",
      "\u001b[0;32m/home/hadoopuser/spark/python/pyspark/sql/dataframe.py\u001b[0m in \u001b[0;36m__getattr__\u001b[0;34m(self, name)\u001b[0m\n\u001b[1;32m    962\u001b[0m         \u001b[0;32mif\u001b[0m \u001b[0mname\u001b[0m \u001b[0;32mnot\u001b[0m \u001b[0;32min\u001b[0m \u001b[0mself\u001b[0m\u001b[0;34m.\u001b[0m\u001b[0mcolumns\u001b[0m\u001b[0;34m:\u001b[0m\u001b[0;34m\u001b[0m\u001b[0m\n\u001b[1;32m    963\u001b[0m             raise AttributeError(\n\u001b[0;32m--> 964\u001b[0;31m                 \"'%s' object has no attribute '%s'\" % (self.__class__.__name__, name))\n\u001b[0m\u001b[1;32m    965\u001b[0m         \u001b[0mjc\u001b[0m \u001b[0;34m=\u001b[0m \u001b[0mself\u001b[0m\u001b[0;34m.\u001b[0m\u001b[0m_jdf\u001b[0m\u001b[0;34m.\u001b[0m\u001b[0mapply\u001b[0m\u001b[0;34m(\u001b[0m\u001b[0mname\u001b[0m\u001b[0;34m)\u001b[0m\u001b[0;34m\u001b[0m\u001b[0m\n\u001b[1;32m    966\u001b[0m         \u001b[0;32mreturn\u001b[0m \u001b[0mColumn\u001b[0m\u001b[0;34m(\u001b[0m\u001b[0mjc\u001b[0m\u001b[0;34m)\u001b[0m\u001b[0;34m\u001b[0m\u001b[0m\n",
      "\u001b[0;31mAttributeError\u001b[0m: 'DataFrame' object has no attribute 'AVG_SCORE'"
     ]
    }
   ],
   "source": [
    "df_bias = df_temp.withColumn('Bias', df_temp.AVG_SCORE - df_temp.Tot_Avg)\n",
    "df_bias.show(100)"
   ]
  },
  {
   "cell_type": "code",
   "execution_count": 70,
   "metadata": {},
   "outputs": [],
   "source": [
    "df_bias.write.csv(\"hdfs://masterbig-1.itc.unipi.it:54310/user/student18/df_bias_mean.csv\", header = True)"
   ]
  },
  {
   "cell_type": "code",
   "execution_count": null,
   "metadata": {},
   "outputs": [],
   "source": []
  },
  {
   "cell_type": "markdown",
   "metadata": {},
   "source": [
    "# Plots"
   ]
  },
  {
   "cell_type": "code",
   "execution_count": 8,
   "metadata": {},
   "outputs": [],
   "source": [
    "df_italy = df_cleaned.filter(\"Reviewer_Nationality = 'United Kingdom' \").select('Hotel_Name', 'Reviewer_Score').toPandas()"
   ]
  },
  {
   "cell_type": "code",
   "execution_count": 9,
   "metadata": {},
   "outputs": [],
   "source": [
    "import matplotlib.pyplot as plt\n",
    "import pandas as pd"
   ]
  },
  {
   "cell_type": "code",
   "execution_count": 10,
   "metadata": {},
   "outputs": [
    {
     "data": {
      "text/html": [
       "<div>\n",
       "<style scoped>\n",
       "    .dataframe tbody tr th:only-of-type {\n",
       "        vertical-align: middle;\n",
       "    }\n",
       "\n",
       "    .dataframe tbody tr th {\n",
       "        vertical-align: top;\n",
       "    }\n",
       "\n",
       "    .dataframe thead th {\n",
       "        text-align: right;\n",
       "    }\n",
       "</style>\n",
       "<table border=\"1\" class=\"dataframe\">\n",
       "  <thead>\n",
       "    <tr style=\"text-align: right;\">\n",
       "      <th></th>\n",
       "      <th>Reviewer_Score</th>\n",
       "    </tr>\n",
       "  </thead>\n",
       "  <tbody>\n",
       "    <tr>\n",
       "      <th>count</th>\n",
       "      <td>241061.000000</td>\n",
       "    </tr>\n",
       "    <tr>\n",
       "      <th>mean</th>\n",
       "      <td>8.481949</td>\n",
       "    </tr>\n",
       "    <tr>\n",
       "      <th>std</th>\n",
       "      <td>1.607091</td>\n",
       "    </tr>\n",
       "    <tr>\n",
       "      <th>min</th>\n",
       "      <td>2.500000</td>\n",
       "    </tr>\n",
       "    <tr>\n",
       "      <th>25%</th>\n",
       "      <td>7.500000</td>\n",
       "    </tr>\n",
       "    <tr>\n",
       "      <th>50%</th>\n",
       "      <td>9.200000</td>\n",
       "    </tr>\n",
       "    <tr>\n",
       "      <th>75%</th>\n",
       "      <td>9.600000</td>\n",
       "    </tr>\n",
       "    <tr>\n",
       "      <th>max</th>\n",
       "      <td>10.000000</td>\n",
       "    </tr>\n",
       "  </tbody>\n",
       "</table>\n",
       "</div>"
      ],
      "text/plain": [
       "       Reviewer_Score\n",
       "count   241061.000000\n",
       "mean         8.481949\n",
       "std          1.607091\n",
       "min          2.500000\n",
       "25%          7.500000\n",
       "50%          9.200000\n",
       "75%          9.600000\n",
       "max         10.000000"
      ]
     },
     "execution_count": 10,
     "metadata": {},
     "output_type": "execute_result"
    }
   ],
   "source": [
    "df_italy.describe()"
   ]
  },
  {
   "cell_type": "code",
   "execution_count": 11,
   "metadata": {},
   "outputs": [
    {
     "data": {
      "text/plain": [
       "<matplotlib.axes._subplots.AxesSubplot at 0x7fa1843b1978>"
      ]
     },
     "execution_count": 11,
     "metadata": {},
     "output_type": "execute_result"
    },
    {
     "data": {
      "image/png": "[encoded data removed]",
      "text/plain": [
       "<Figure size 432x288 with 1 Axes>"
      ]
     },
     "metadata": {
      "needs_background": "light"
     },
     "output_type": "display_data"
    }
   ],
   "source": [
    "df_italy.boxplot()"
   ]
  },
  {
   "cell_type": "code",
   "execution_count": 13,
   "metadata": {},
   "outputs": [
    {
     "data": {
      "text/plain": [
       "<matplotlib.lines.Line2D at 0x7fa18ee59860>"
      ]
     },
     "execution_count": 13,
     "metadata": {},
     "output_type": "execute_result"
    },
    {
     "data": {
      "image/png": "[encoded data removed]",
      "text/plain": [
       "<Figure size 432x288 with 1 Axes>"
      ]
     },
     "metadata": {
      "needs_background": "light"
     },
     "output_type": "display_data"
    }
   ],
   "source": [
    "df_italy.plot.kde()\n",
    "plt.axvline(9.2)\n",
    "plt.axvline(8.5)"
   ]
  },
  {
   "cell_type": "code",
   "execution_count": 14,
   "metadata": {},
   "outputs": [
    {
     "data": {
      "text/plain": [
       "[8.8]"
      ]
     },
     "execution_count": 14,
     "metadata": {},
     "output_type": "execute_result"
    }
   ],
   "source": [
    "df_cleaned.approxQuantile(\"Reviewer_Score\", [0.5], 0.0)"
   ]
  },
  {
   "cell_type": "markdown",
   "metadata": {},
   "source": [
    "## Bias with median"
   ]
  },
  {
   "cell_type": "markdown",
   "metadata": {},
   "source": [
    "### Method\n",
    "The median has been computed for each country by \n",
    "looking for the median position over of each partition by the Reviewer_Nationality"
   ]
  },
  {
   "cell_type": "code",
   "execution_count": 84,
   "metadata": {},
   "outputs": [],
   "source": [
    "from pyspark.sql import Window\n",
    "\n",
    "# setting up the window partitions\n",
    "grp_window = Window.partitionBy(df_cleaned['Reviewer_Nationality']).orderBy('Reviewer_Score')\n",
    "grp_count = Window.partitionBy(df_cleaned['Reviewer_Nationality'])\n",
    "#my_median = f.expr('f.percentRank')"
   ]
  },
  {
   "cell_type": "code",
   "execution_count": 85,
   "metadata": {},
   "outputs": [],
   "source": [
    "#partititioning the Reviewer_Nationality\n",
    "df_part = df_cleaned.select('Hotel_Name', 'Reviewer_Nationality', 'Reviewer_Score', \n",
    "                  f.row_number().over(grp_window).alias('row'),\n",
    "                  f.count('Hotel_Name').over(grp_count).alias('N')\n",
    "                 )"
   ]
  },
  {
   "cell_type": "code",
   "execution_count": 86,
   "metadata": {},
   "outputs": [
    {
     "name": "stdout",
     "output_type": "stream",
     "text": [
      "+--------------------+--------------------+--------------+---+---+\n",
      "|          Hotel_Name|Reviewer_Nationality|Reviewer_Score|row|  N|\n",
      "+--------------------+--------------------+--------------+---+---+\n",
      "|    H tel Diva Opera|Turks Caicos Islands|           4.2|  1| 14|\n",
      "|          Hotel 1898|Turks Caicos Islands|           5.0|  2| 14|\n",
      "|        Hotel Mozart|Turks Caicos Islands|           5.4|  3| 14|\n",
      "|Hyatt Regency Par...|Turks Caicos Islands|           5.5|  4| 14|\n",
      "|Au Manoir Saint G...|Turks Caicos Islands|           7.5|  5| 14|\n",
      "+--------------------+--------------------+--------------+---+---+\n",
      "only showing top 5 rows\n",
      "\n"
     ]
    }
   ],
   "source": [
    "df_part.show(5)\n",
    "# register table \n",
    "try:\n",
    "    df_part.createTempView('median_temp')\n",
    "except:\n",
    "    # overwrites if table exists\n",
    "    spark.catalog.dropTempView('median_temp')\n",
    "    df_part.createTempView('median_temp')"
   ]
  },
  {
   "cell_type": "code",
   "execution_count": 87,
   "metadata": {},
   "outputs": [
    {
     "name": "stdout",
     "output_type": "stream",
     "text": [
      "+--------------------+--------------------+--------------+---+----------+\n",
      "|          Hotel_Name|Reviewer_Nationality|Reviewer_Score|row|MEDIAN_POS|\n",
      "+--------------------+--------------------+--------------+---+----------+\n",
      "|    H tel Diva Opera|Turks Caicos Islands|           4.2|  1|       7.0|\n",
      "|          Hotel 1898|Turks Caicos Islands|           5.0|  2|       7.0|\n",
      "|        Hotel Mozart|Turks Caicos Islands|           5.4|  3|       7.0|\n",
      "|Hyatt Regency Par...|Turks Caicos Islands|           5.5|  4|       7.0|\n",
      "|Au Manoir Saint G...|Turks Caicos Islands|           7.5|  5|       7.0|\n",
      "|Bcn Urban Hotels ...|Turks Caicos Islands|           7.9|  6|       7.0|\n",
      "|St Martins Lane A...|Turks Caicos Islands|           7.9|  7|       7.0|\n",
      "|  Aloft London Excel|Turks Caicos Islands|           8.8|  8|       7.0|\n",
      "|Thistle Kensingto...|Turks Caicos Islands|           9.6|  9|       7.0|\n",
      "|Park Grand Paddin...|Turks Caicos Islands|           9.6| 10|       7.0|\n",
      "|Shangri La Hotel ...|Turks Caicos Islands|          10.0| 11|       7.0|\n",
      "|St Pancras Renais...|Turks Caicos Islands|          10.0| 12|       7.0|\n",
      "| H tel Juliana Paris|Turks Caicos Islands|          10.0| 13|       7.0|\n",
      "|  Acta Atrium Palace|Turks Caicos Islands|          10.0| 14|       7.0|\n",
      "| IntercityHotel Wien|            Anguilla|           7.5|  1|       1.0|\n",
      "|The Abbey Court N...|            Paraguay|           4.2|  1|      14.0|\n",
      "|        H tel Balzac|            Paraguay|           4.2|  2|      14.0|\n",
      "|     Starhotels Echo|            Paraguay|           5.0|  3|      14.0|\n",
      "|Hilton London Met...|            Paraguay|           6.7|  4|      14.0|\n",
      "|Best Western Le J...|            Paraguay|           6.7|  5|      14.0|\n",
      "+--------------------+--------------------+--------------+---+----------+\n",
      "only showing top 20 rows\n",
      "\n"
     ]
    }
   ],
   "source": [
    "# Computing the median position, splitting the case when the partition count is even/odd\n",
    "spark.sql(\n",
    "    'SELECT Hotel_Name, Reviewer_Nationality, Reviewer_Score, row, \\\n",
    "    CASE WHEN(N%2==0) THEN (N/2) \\\n",
    "    ELSE ((N+1)/2) END AS MEDIAN_POS \\\n",
    "    FROM median_temp'\n",
    "         ).show()"
   ]
  },
  {
   "cell_type": "code",
   "execution_count": 88,
   "metadata": {},
   "outputs": [
    {
     "data": {
      "text/plain": [
       "8.8"
      ]
     },
     "execution_count": 88,
     "metadata": {},
     "output_type": "execute_result"
    }
   ],
   "source": [
    "# compute the total median\n",
    "tot_median = df_cleaned.approxQuantile(\"Reviewer_Score\", [0.5], 0.0)[0]\n",
    "tot_median"
   ]
  },
  {
   "cell_type": "code",
   "execution_count": 89,
   "metadata": {},
   "outputs": [
    {
     "name": "stdout",
     "output_type": "stream",
     "text": [
      "+--------------------+------+-----+-----+----------+----------+\n",
      "|Reviewer_Nationality|Median|  row|    N|MEDIAN_POS|Tot_Median|\n",
      "+--------------------+------+-----+-----+----------+----------+\n",
      "|         Puerto Rico|   9.6|   85|  169|      85.0|       8.8|\n",
      "|           Australia|   9.2|10706|21412|   10706.0|       8.8|\n",
      "|United States of ...|   9.2|17444|34887|   17444.0|       8.8|\n",
      "|          Costa Rica|   9.2|   59|  118|      59.0|       8.8|\n",
      "|              Israel|   9.2| 3228| 6456|    3228.0|       8.8|\n",
      "|         South Korea|   9.2|  525| 1049|     525.0|       8.8|\n",
      "|              Canada|   9.2| 3896| 7792|    3896.0|       8.8|\n",
      "|         New Zealand|   9.2| 1598| 3195|    1598.0|       8.8|\n",
      "|              Panama|   9.2|   59|  117|      59.0|       8.8|\n",
      "|              Mexico|   9.2|  288|  576|     288.0|       8.8|\n",
      "+--------------------+------+-----+-----+----------+----------+\n",
      "only showing top 10 rows\n",
      "\n"
     ]
    }
   ],
   "source": [
    "# we then select the median by matching the median_pos and row, \n",
    "# add the global median\n",
    "df_median_temp = (spark.sql(\n",
    "    'SELECT Reviewer_Nationality, Reviewer_Score AS Median, row, N, \\\n",
    "    CASE WHEN(N%2==0) THEN (N/2) \\\n",
    "    ELSE ((N+1)/2) END AS MEDIAN_POS \\\n",
    "    FROM median_temp'\n",
    "         ).filter('row=MEDIAN_POS and N>100')\n",
    " .orderBy('Reviewer_Score', ascending=False)\n",
    " .withColumn('Tot_Median', f.lit(tot_median))\n",
    ")\n",
    "df_median_temp.show(10)"
   ]
  },
  {
   "cell_type": "code",
   "execution_count": 90,
   "metadata": {},
   "outputs": [
    {
     "name": "stdout",
     "output_type": "stream",
     "text": [
      "+--------------------+------+------+------+----------+----------+-------------------+\n",
      "|Reviewer_Nationality|Median|   row|     N|MEDIAN_POS|Tot_Median|        Bias_median|\n",
      "+--------------------+------+------+------+----------+----------+-------------------+\n",
      "|         Puerto Rico|   9.6|    85|   169|      85.0|       8.8| 0.7999999999999989|\n",
      "|              Israel|   9.2|  3228|  6456|    3228.0|       8.8| 0.3999999999999986|\n",
      "|              Mexico|   9.2|   288|   576|     288.0|       8.8| 0.3999999999999986|\n",
      "|         South Korea|   9.2|   525|  1049|     525.0|       8.8| 0.3999999999999986|\n",
      "|United States of ...|   9.2| 17444| 34887|   17444.0|       8.8| 0.3999999999999986|\n",
      "|              Canada|   9.2|  3896|  7792|    3896.0|       8.8| 0.3999999999999986|\n",
      "|         New Zealand|   9.2|  1598|  3195|    1598.0|       8.8| 0.3999999999999986|\n",
      "|          Costa Rica|   9.2|    59|   118|      59.0|       8.8| 0.3999999999999986|\n",
      "|           Australia|   9.2| 10706| 21412|   10706.0|       8.8| 0.3999999999999986|\n",
      "|              Panama|   9.2|    59|   117|      59.0|       8.8| 0.3999999999999986|\n",
      "|      United Kingdom|   9.2|120531|241061|  120531.0|       8.8| 0.3999999999999986|\n",
      "|             Belarus|   8.8|    96|   191|      96.0|       8.8|                0.0|\n",
      "|              Jersey|   8.8|   426|   852|     426.0|       8.8|                0.0|\n",
      "|               China|   8.8|  1649|  3297|    1649.0|       8.8|                0.0|\n",
      "|              Taiwan|   8.8|   451|   902|     451.0|       8.8|                0.0|\n",
      "|               Chile|   8.8|   159|   317|     159.0|       8.8|                0.0|\n",
      "|         Philippines|   8.8|   525|  1050|     525.0|       8.8|                0.0|\n",
      "|         Isle of Man|   8.8|   198|   395|     198.0|       8.8|                0.0|\n",
      "|              Russia|   8.8|  1915|  3830|    1915.0|       8.8|                0.0|\n",
      "|    Abkhazia Georgia|   8.8|    74|   147|      74.0|       8.8|                0.0|\n",
      "|             Albania|   8.8|   136|   272|     136.0|       8.8|                0.0|\n",
      "|             Finland|   8.8|   907|  1813|     907.0|       8.8|                0.0|\n",
      "|            Colombia|   8.8|   132|   263|     132.0|       8.8|                0.0|\n",
      "|              France|   8.8|  3565|  7129|    3565.0|       8.8|                0.0|\n",
      "|             Iceland|   8.8|   456|   912|     456.0|       8.8|                0.0|\n",
      "|              Cyprus|   8.8|   672|  1344|     672.0|       8.8|                0.0|\n",
      "|           Gibraltar|   8.8|   184|   368|     184.0|       8.8|                0.0|\n",
      "|             Estonia|   8.8|   369|   737|     369.0|       8.8|                0.0|\n",
      "|             Georgia|   8.8|   138|   275|     138.0|       8.8|                0.0|\n",
      "|          Montenegro|   8.8|    93|   185|      93.0|       8.8|                0.0|\n",
      "|               Malta|   8.8|   820|  1640|     820.0|       8.8|                0.0|\n",
      "|             Armenia|   8.8|    63|   125|      63.0|       8.8|                0.0|\n",
      "| Trinidad and Tobago|   8.8|    77|   154|      77.0|       8.8|                0.0|\n",
      "|              Latvia|   8.8|   354|   707|     354.0|       8.8|                0.0|\n",
      "|             Croatia|   8.8|   649|  1298|     649.0|       8.8|                0.0|\n",
      "|            Slovakia|   8.8|   445|   889|     445.0|       8.8|                0.0|\n",
      "|           Macedonia|   8.8|   135|   269|     135.0|       8.8|                0.0|\n",
      "|      Czech Republic|   8.8|  1140|  2279|    1140.0|       8.8|                0.0|\n",
      "|           Lithuania|   8.8|   361|   722|     361.0|       8.8|                0.0|\n",
      "|              Brazil|   8.8|   910|  1820|     910.0|       8.8|                0.0|\n",
      "|           Argentina|   8.8|   250|   499|     250.0|       8.8|                0.0|\n",
      "|            Slovenia|   8.8|   387|   773|     387.0|       8.8|                0.0|\n",
      "|               Japan|   8.8|   622|  1244|     622.0|       8.8|                0.0|\n",
      "|          Luxembourg|   8.8|   671|  1342|     671.0|       8.8|                0.0|\n",
      "|Bosnia and Herzeg...|   8.8|   118|   235|     118.0|       8.8|                0.0|\n",
      "|              Sweden|   8.8|  1649|  3297|    1649.0|       8.8|                0.0|\n",
      "|              Poland|   8.8|  1418|  2835|    1418.0|       8.8|                0.0|\n",
      "|             Romania|   8.8|  2215|  4430|    2215.0|       8.8|                0.0|\n",
      "|            Bulgaria|   8.8|   640|  1279|     640.0|       8.8|                0.0|\n",
      "|             Austria|   8.8|  1183|  2365|    1183.0|       8.8|                0.0|\n",
      "|            Thailand|   8.8|   902|  1804|     902.0|       8.8|                0.0|\n",
      "|              Serbia|   8.8|   547|  1094|     547.0|       8.8|                0.0|\n",
      "|        South Africa|   8.8|  1873|  3745|    1873.0|       8.8|                0.0|\n",
      "|             Bermuda|   8.8|    51|   101|      51.0|       8.8|                0.0|\n",
      "|             Hungary|   8.8|  1070|  2140|    1070.0|       8.8|                0.0|\n",
      "|             Ireland|   8.8|  7306| 14611|    7306.0|       8.8|                0.0|\n",
      "|            Guernsey|   8.8|   271|   541|     271.0|       8.8|                0.0|\n",
      "|             Ukraine|   8.8|   540|  1079|     540.0|       8.8|                0.0|\n",
      "|                Peru|   8.8|    54|   108|      54.0|       8.8|                0.0|\n",
      "|               Spain|   8.5|  2306|  4611|    2306.0|       8.8|-0.3000000000000007|\n",
      "|              Greece|   8.5|  1676|  3352|    1676.0|       8.8|-0.3000000000000007|\n",
      "|              Jordan|   8.3|   358|   716|     358.0|       8.8|               -0.5|\n",
      "|            Malaysia|   8.3|   909|  1817|     909.0|       8.8|               -0.5|\n",
      "|                null|   8.3|   256|   511|     256.0|       8.8|               -0.5|\n",
      "|               Qatar|   8.3|  1292|  2583|    1292.0|       8.8|               -0.5|\n",
      "|                Iraq|   8.3|   129|   258|     129.0|       8.8|               -0.5|\n",
      "|               Ghana|   8.3|    69|   137|      69.0|       8.8|               -0.5|\n",
      "|           Sri Lanka|   8.3|   139|   277|     139.0|       8.8|               -0.5|\n",
      "|               India|   8.3|  1675|  3349|    1675.0|       8.8|               -0.5|\n",
      "|              Kuwait|   8.3|  2312|  4623|    2312.0|       8.8|               -0.5|\n",
      "|           Singapore|   8.3|  1524|  3047|    1524.0|       8.8|               -0.5|\n",
      "|        Saudi Arabia|   8.3|  4207|  8413|    4207.0|       8.8|               -0.5|\n",
      "|             Nigeria|   8.3|   467|   934|     467.0|       8.8|               -0.5|\n",
      "|              Norway|   8.3|  1170|  2340|    1170.0|       8.8|               -0.5|\n",
      "|               Italy|   8.3|  2960|  5919|    2960.0|       8.8|               -0.5|\n",
      "|             Denmark|   8.3|   852|  1704|     852.0|       8.8|               -0.5|\n",
      "|             Germany|   8.3|  3911|  7822|    3911.0|       8.8|               -0.5|\n",
      "|              Monaco|   8.3|   121|   241|     121.0|       8.8|               -0.5|\n",
      "|             Morocco|   8.3|   108|   216|     108.0|       8.8|               -0.5|\n",
      "|           Hong Kong|   8.3|  1484|  2967|    1484.0|       8.8|               -0.5|\n",
      "|                Oman|   8.3|   648|  1295|     648.0|       8.8|               -0.5|\n",
      "|              Turkey|   8.3|  2630|  5260|    2630.0|       8.8|               -0.5|\n",
      "|         Switzerland|   8.3|  4278|  8555|    4278.0|       8.8|               -0.5|\n",
      "|United Arab Emirates|   8.3|  4890|  9779|    4890.0|       8.8|               -0.5|\n",
      "|               Kenya|   8.3|   129|   258|     129.0|       8.8|               -0.5|\n",
      "|             Lebanon|   8.3|  1081|  2161|    1081.0|       8.8|               -0.5|\n",
      "|            Portugal|   8.3|   903|  1806|     903.0|       8.8|               -0.5|\n",
      "|             Belgium|   8.3|  2959|  5918|    2959.0|       8.8|               -0.5|\n",
      "|          Kazakhstan|   8.3|   135|   269|     135.0|       8.8|               -0.5|\n",
      "|             Bahrain|   8.3|   762|  1523|     762.0|       8.8|               -0.5|\n",
      "|           Mauritius|   8.3|   107|   213|     107.0|       8.8|               -0.5|\n",
      "|             Vietnam|   8.3|    92|   183|      92.0|       8.8|               -0.5|\n",
      "|             Moldova|   8.3|    53|   105|      53.0|       8.8|               -0.5|\n",
      "|           Indonesia|   8.3|   747|  1493|     747.0|       8.8|               -0.5|\n",
      "|               Egypt|   8.3|  1147|  2293|    1147.0|       8.8|               -0.5|\n",
      "|         Netherlands|   8.3|  4309|  8618|    4309.0|       8.8|               -0.5|\n",
      "|               Macau|   7.9|    53|   105|      53.0|       8.8|-0.9000000000000004|\n",
      "|          Bangladesh|   7.9|    70|   140|      70.0|       8.8|-0.9000000000000004|\n",
      "|          Azerbaijan|   7.9|   131|   262|     131.0|       8.8|-0.9000000000000004|\n",
      "|                Iran|   7.9|   517|  1033|     517.0|       8.8|-0.9000000000000004|\n",
      "|            Pakistan|   7.9|   437|   874|     437.0|       8.8|-0.9000000000000004|\n",
      "+--------------------+------+------+------+----------+----------+-------------------+\n",
      "\n"
     ]
    }
   ],
   "source": [
    "df_bias_median = df_median_temp.withColumn('Bias_median', df_median_temp.Median - df_median_temp.Tot_Median)\n",
    "df_bias_median.show(200)"
   ]
  },
  {
   "cell_type": "code",
   "execution_count": 91,
   "metadata": {},
   "outputs": [],
   "source": [
    "df_bias_median.write.csv(\"hdfs://masterbig-1.itc.unipi.it:54310/user/student18/df_bias_median.csv\", header = True)"
   ]
  },
  {
   "cell_type": "code",
   "execution_count": null,
   "metadata": {},
   "outputs": [],
   "source": []
  }
 ],
 "metadata": {
  "kernelspec": {
   "display_name": "Python 3",
   "language": "python",
   "name": "python3"
  },
  "language_info": {
   "codemirror_mode": {
    "name": "ipython",
    "version": 3
   },
   "file_extension": ".py",
   "mimetype": "text/x-python",
   "name": "python",
   "nbconvert_exporter": "python",
   "pygments_lexer": "ipython3",
   "version": "3.4.3"
  }
 },
 "nbformat": 4,
 "nbformat_minor": 2
}
