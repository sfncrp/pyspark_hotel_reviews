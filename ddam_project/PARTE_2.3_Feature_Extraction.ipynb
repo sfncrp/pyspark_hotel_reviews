{
 "cells": [
  {
   "cell_type": "code",
   "execution_count": 1,
   "metadata": {},
   "outputs": [],
   "source": [
    "import toLog\n",
    "log = toLog.log('Feature extraction starting')"
   ]
  },
  {
   "cell_type": "code",
   "execution_count": 2,
   "metadata": {},
   "outputs": [],
   "source": [
    "from pyspark.sql import SparkSession\n",
    "\n",
    "spark = (SparkSession.builder\n",
    "         .appName('Python spark')\n",
    "         .config('spark.some.config.option','some-value')\n",
    "         .getOrCreate()\n",
    "         )"
   ]
  },
  {
   "cell_type": "code",
   "execution_count": 3,
   "metadata": {},
   "outputs": [
    {
     "name": "stdout",
     "output_type": "stream",
     "text": [
      "root\n",
      " |-- id: long (nullable = true)\n",
      " |-- Hotel_Address: string (nullable = true)\n",
      " |-- Additional_Number_of_Scoring: integer (nullable = true)\n",
      " |-- Review_Date: string (nullable = true)\n",
      " |-- Average_Score: double (nullable = true)\n",
      " |-- Hotel_Name: string (nullable = true)\n",
      " |-- Reviewer_Nationality: string (nullable = true)\n",
      " |-- Review_Total_Negative_Word_Counts: integer (nullable = true)\n",
      " |-- Total_Number_of_Reviews: integer (nullable = true)\n",
      " |-- Review_Total_Positive_Word_Counts: integer (nullable = true)\n",
      " |-- Total_Number_of_Reviews_Reviewer_Has_Given: integer (nullable = true)\n",
      " |-- Reviewer_Score: double (nullable = true)\n",
      " |-- Tags: string (nullable = true)\n",
      " |-- days_since_review: string (nullable = true)\n",
      " |-- lat: string (nullable = true)\n",
      " |-- lng: string (nullable = true)\n",
      " |-- Review: string (nullable = true)\n",
      " |-- Hotel_Country: string (nullable = true)\n",
      "\n"
     ]
    }
   ],
   "source": [
    "# read file from hdfs and infer schema\n",
    "df_cleaned = spark.read.csv(\"hdfs://masterbig-1.itc.unipi.it:54310/user/student18/df_cleaned.csv\", header = True, inferSchema = True)\n",
    "df_cleaned.printSchema()"
   ]
  },
  {
   "cell_type": "code",
   "execution_count": 3,
   "metadata": {},
   "outputs": [
    {
     "data": {
      "text/plain": [
       "0"
      ]
     },
     "execution_count": 3,
     "metadata": {},
     "output_type": "execute_result"
    }
   ],
   "source": [
    "df_cleaned.rdd.filter(lambda x: x['Review'] is None).count()"
   ]
  },
  {
   "cell_type": "code",
   "execution_count": 4,
   "metadata": {},
   "outputs": [],
   "source": [
    "# register table (if not exists)\n",
    "try:\n",
    "    df_cleaned.createTempView('hotels')\n",
    "except:\n",
    "    pass"
   ]
  },
  {
   "cell_type": "code",
   "execution_count": 5,
   "metadata": {},
   "outputs": [
    {
     "name": "stdout",
     "output_type": "stream",
     "text": [
      "+--------------------+--------------------+----------+----------+\n",
      "|          Hotel_Name|              Review|       lat|       lng|\n",
      "+--------------------+--------------------+----------+----------+\n",
      "|         Hotel Arena|staff in restaura...|52.3605759| 4.9159683|\n",
      "|         Hotel Arena|. overall hotel w...|52.3605759| 4.9159683|\n",
      "|    K K Hotel George|no bad experience...|51.4918878|-0.1949706|\n",
      "|    K K Hotel George|room is small any...|51.4918878|-0.1949706|\n",
      "|Apex Temple Court...|my son and his fa...|51.5137335|-0.1087512|\n",
      "|Apex Temple Court...|nothing to improv...|51.5137335|-0.1087512|\n",
      "|Apex Temple Court...|my and my wife ca...|51.5137335|-0.1087512|\n",
      "|Apex Temple Court...|expensive but thi...|51.5137335|-0.1087512|\n",
      "|Apex Temple Court...|nothing not to li...|51.5137335|-0.1087512|\n",
      "|Apex Temple Court...|. rooms are comfo...|51.5137335|-0.1087512|\n",
      "|The Park Grand Lo...|socket for pluggi...|51.5142184|-0.1809032|\n",
      "|The Park Grand Lo...|. staff very frie...|51.5142184|-0.1809032|\n",
      "|The Park Grand Lo...|I would ve liked ...|51.5142184|-0.1809032|\n",
      "|The Park Grand Lo...|everytime I book ...|51.5142184|-0.1809032|\n",
      "|The Park Grand Lo...|cold hotel breakf...|51.5142184|-0.1809032|\n",
      "|The Park Grand Lo...| not well maintained|51.5142184|-0.1809032|\n",
      "|The Park Grand Lo...|. lovely hotel ce...|51.5142184|-0.1809032|\n",
      "|The Principal London|some of us found ...|51.5226217|-0.1251602|\n",
      "|The Principal London|I feel that bathr...|51.5226217|-0.1251602|\n",
      "|The Principal London|side facing road ...|51.5226217|-0.1251602|\n",
      "+--------------------+--------------------+----------+----------+\n",
      "only showing top 20 rows\n",
      "\n"
     ]
    }
   ],
   "source": [
    "# selecting only the reviews using spark.sql\n",
    "df_hotels = spark.sql(\"SELECT Hotel_Name, Review, lat, lng FROM hotels\")\n",
    "df_hotels.show()"
   ]
  },
  {
   "cell_type": "code",
   "execution_count": 6,
   "metadata": {},
   "outputs": [
    {
     "name": "stdout",
     "output_type": "stream",
     "text": [
      "504989\n"
     ]
    }
   ],
   "source": [
    "print(df_hotels.count())"
   ]
  },
  {
   "cell_type": "code",
   "execution_count": 6,
   "metadata": {},
   "outputs": [],
   "source": [
    "rddHotels = df_hotels.select('Hotel_Name', 'Review', 'lat', 'lng').rdd"
   ]
  },
  {
   "cell_type": "markdown",
   "metadata": {},
   "source": [
    "# Features extraction"
   ]
  },
  {
   "cell_type": "code",
   "execution_count": 7,
   "metadata": {},
   "outputs": [],
   "source": [
    "from getTriples import getTriples"
   ]
  },
  {
   "cell_type": "code",
   "execution_count": 8,
   "metadata": {},
   "outputs": [],
   "source": [
    "import nltk\n",
    "from nltk.sentiment.vader import SentimentIntensityAnalyzer\n",
    "vader = SentimentIntensityAnalyzer()"
   ]
  },
  {
   "cell_type": "code",
   "execution_count": 9,
   "metadata": {},
   "outputs": [],
   "source": [
    "def splitTriple(record):\n",
    "    res = []\n",
    "    for tripla in record[1]:\n",
    "        res.append((record[0],tripla))\n",
    "        \n",
    "    return res"
   ]
  },
  {
   "cell_type": "code",
   "execution_count": 15,
   "metadata": {},
   "outputs": [
    {
     "data": {
      "text/plain": [
       "[('Hotel Arena', ('building', 'very', 'historic')),\n",
       " ('Hotel Arena', ('hotel', '', 'overall')),\n",
       " ('Hotel Arena', ('work', '', 'complete')),\n",
       " ('K K Hotel George', ('experiences', '', 'bad')),\n",
       " ('K K Hotel George', ('nothing', '', 'wrong')),\n",
       " ('K K Hotel George', ('hotel', '', 'excellent')),\n",
       " ('K K Hotel George', ('room', 'very', 'comfortable')),\n",
       " ('K K Hotel George', ('size', '', 'good')),\n",
       " ('K K Hotel George', ('hotel', '', 'london')),\n",
       " ('K K Hotel George', ('tidy', '', 'clean')),\n",
       " ('K K Hotel George', ('staff', 'well', 'equipped')),\n",
       " ('K K Hotel George', ('class', '', 'first')),\n",
       " ('K K Hotel George', ('menu', '', 'comprehensive')),\n",
       " ('K K Hotel George', ('quality', '', 'good')),\n",
       " ('K K Hotel George', ('room', '', '')),\n",
       " ('K K Hotel George', ('anywaylondon', '', 'small')),\n",
       " ('Apex Temple Court Hotel', ('family', '', 'staying')),\n",
       " ('Apex Temple Court Hotel', ('rooms', '', 'identical')),\n",
       " ('Apex Temple Court Hotel', ('apex', 'directly', '')),\n",
       " ('Apex Temple Court Hotel', ('breakfasts', '', 'full')),\n",
       " ('Apex Temple Court Hotel', ('room', '', 'same')),\n",
       " ('Apex Temple Court Hotel', ('room', 'really', 'large')),\n",
       " ('Apex Temple Court Hotel', ('decor', '', 'modern')),\n",
       " ('Apex Temple Court Hotel', ('machine', '', 'nespresso')),\n",
       " ('Apex Temple Court Hotel', ('staff', 'friendly', 'helpful')),\n",
       " ('Apex Temple Court Hotel', ('location', '', 'good')),\n",
       " ('Apex Temple Court Hotel', ('wife', '', '')),\n",
       " ('Apex Temple Court Hotel', ('passports', '', 'british')),\n",
       " ('Apex Temple Court Hotel', ('discriminatory', 'very', 'rude')),\n",
       " ('Apex Temple Court Hotel', ('holiday', '', '')),\n",
       " ('Apex Temple Court Hotel', ('times', '', 'many')),\n",
       " ('Apex Temple Court Hotel', ('complaint', '', 'formal')),\n",
       " ('Apex Temple Court Hotel', ('dhami', '', 'surj')),\n",
       " ('Apex Temple Court Hotel', ('venue', '', '')),\n",
       " ('Apex Temple Court Hotel', ('value', '', 'good')),\n",
       " ('Apex Temple Court Hotel', ('facilities', '', 'great')),\n",
       " ('Apex Temple Court Hotel', ('lounge', '', 'club')),\n",
       " ('Apex Temple Court Hotel', ('price', '', 'extra')),\n",
       " ('Apex Temple Court Hotel', ('staff', 'very', 'helpful')),\n",
       " ('Apex Temple Court Hotel', ('location', '', 'excellent'))]"
      ]
     },
     "execution_count": 15,
     "metadata": {},
     "output_type": "execute_result"
    }
   ],
   "source": [
    "(rddHotels\n",
    " .map(lambda x: (x['Hotel_Name'], x['Review'] ))\n",
    " .map(lambda x: (x[0], getTriples(x[1])))\n",
    " .flatMap(splitTriple)).take(40)"
   ]
  },
  {
   "cell_type": "code",
   "execution_count": 19,
   "metadata": {},
   "outputs": [],
   "source": [
    "log.toLog('starting triples extraction')"
   ]
  },
  {
   "cell_type": "code",
   "execution_count": 38,
   "metadata": {},
   "outputs": [],
   "source": [
    "SAMPLE_PERC = 0.001\n",
    "df_features = (rddHotels\n",
    " #.sample(False, SAMPLE_PERC)\n",
    " .filter(lambda x: x['Review'] is not None)\n",
    " .map(lambda x: (x['Hotel_Name'], getTriples(x['Review'])))\n",
    " .flatMap(splitTriple)\n",
    " .map(lambda x:( x[0], x[1][0], (vader.polarity_scores(\" \".join(x[1]))['compound']+1)*5) )\n",
    "              ).toDF([\"hotel\", \"feature\", \"scores\"])"
   ]
  },
  {
   "cell_type": "code",
   "execution_count": 39,
   "metadata": {},
   "outputs": [],
   "source": [
    "# register table (if not exists)\n",
    "try:\n",
    "    df_features.createTempView('features')\n",
    "except:\n",
    "    spark.catalog.dropTempView('features')\n",
    "    df_features.createTempView('features')"
   ]
  },
  {
   "cell_type": "code",
   "execution_count": 40,
   "metadata": {},
   "outputs": [
    {
     "name": "stdout",
     "output_type": "stream",
     "text": [
      "+--------------------+----------+------------------+\n",
      "|               hotel|   feature|            scores|\n",
      "+--------------------+----------+------------------+\n",
      "|Hilton London Wem...|     dirty|             1.408|\n",
      "|Grange St Paul s ...|   flowers|1.7570000000000001|\n",
      "|Grange St Paul s ...|   flowers|1.7570000000000001|\n",
      "|The Royal Park Hotel|      room|1.7570000000000001|\n",
      "|The Royal Park Hotel|      till|1.7570000000000001|\n",
      "|Park Grand Paddin...|       ham|            1.8755|\n",
      "|Catalonia Eixampl...|      view|            1.8755|\n",
      "|    Catalonia Atenas|    racist|1.9379999999999997|\n",
      "| Strand Palace Hotel|     items|1.9379999999999997|\n",
      "|    Silken Concordia|experience|2.1405000000000003|\n",
      "|Great Northern Ho...|     smell|            2.2885|\n",
      "|AC Hotel Diagonal...|      food|            2.2885|\n",
      "|Holiday Inn Paris...|  horrible|            2.2885|\n",
      "|Fleming s Selecti...|     smell|            2.2885|\n",
      "|Hampshire Hotel R...|     smell|            2.2885|\n",
      "|The Nadler Kensin...|  mattress|             2.452|\n",
      "|        Hotel Mozart|     rooms|            2.4525|\n",
      "|        Hotel Mozart|    guests|            2.4525|\n",
      "| Strand Palace Hotel|   arrival|            2.5305|\n",
      "|Park Lane Mews Hotel|        eg|2.5364999999999998|\n",
      "+--------------------+----------+------------------+\n",
      "only showing top 20 rows\n",
      "\n"
     ]
    }
   ],
   "source": [
    "spark.sql(\"SELECT hotel, feature, scores from features order by scores \").show()"
   ]
  },
  {
   "cell_type": "code",
   "execution_count": 41,
   "metadata": {
    "scrolled": true
   },
   "outputs": [
    {
     "name": "stdout",
     "output_type": "stream",
     "text": [
      "+--------------------+------------+------------------+--------+\n",
      "|               hotel|     feature|        avg_scores|n_scores|\n",
      "+--------------------+------------+------------------+--------+\n",
      "|          88 Studios|   furniture|               5.0|       1|\n",
      "|          88 Studios|    location|            8.1245|       1|\n",
      "|AC Hotel Diagonal...|        food|            2.2885|       1|\n",
      "|AC Hotel Paris Po...|       sites|               5.0|       1|\n",
      "|AC Hotel Paris Po...|     station|               5.0|       1|\n",
      "|AC Hotel Paris Po...|       staff| 7.377000000000001|       1|\n",
      "|         Acta CITY47|surroundings|               5.0|       1|\n",
      "|         Acta CITY47|        park|               5.0|       1|\n",
      "|         Acta CITY47|    bathroom| 7.997000000000001|       1|\n",
      "|  Aloft London Excel|        door|               5.0|       1|\n",
      "|  Aloft London Excel|  assistance|               5.0|       1|\n",
      "|  Aloft London Excel|     process|               5.0|       1|\n",
      "|  Aloft London Excel|         bed|               5.0|       1|\n",
      "|  Aloft London Excel|      design|            7.1075|       1|\n",
      "|  Aloft London Excel|       rooms| 7.463500000000001|       1|\n",
      "|  Aloft London Excel|        size|            8.1245|       1|\n",
      "|Amadi Panorama Hotel|  atmosphere|               5.0|       1|\n",
      "|Amadi Panorama Hotel|        room|             5.851|       3|\n",
      "|Amadi Panorama Hotel|       staff| 7.100499999999999|       1|\n",
      "|Amadi Panorama Hotel|    location|            7.1075|       1|\n",
      "|Amadi Panorama Hotel|         bed|             7.202|       1|\n",
      "|Amadi Panorama Hotel|         box|             7.202|       1|\n",
      "|Amadi Panorama Hotel|         way|             7.202|       1|\n",
      "|Amadi Panorama Hotel|         tai|             7.202|       1|\n",
      "|Amadi Panorama Hotel|        view|             7.202|       1|\n",
      "|Amadi Panorama Hotel|        cozy|             7.288|       1|\n",
      "|Amadi Panorama Hotel|    drinking| 7.553000000000001|       1|\n",
      "|Amadi Panorama Hotel|        kind|            7.6335|       1|\n",
      "|Amba Hotel Charin...|       staff|               5.0|       1|\n",
      "|Amba Hotel Charin...|        room|6.3660000000000005|       1|\n",
      "|Amba Hotel Charin...|       hotel|            7.4695|       1|\n",
      "|Amba Hotel Charin...|    location|            8.1245|       1|\n",
      "|Amba Hotel Marble...|       hotel| 7.483499999999999|       2|\n",
      "|Ambassadors Bloom...|       drier|               5.0|       1|\n",
      "|Ambassadors Bloom...|        room|               5.0|       1|\n",
      "|Ambassadors Bloom...|        work|               5.0|       1|\n",
      "|Ambassadors Bloom...|       night|               5.0|       1|\n",
      "|Ambassadors Bloom...|        ones|             6.591|       1|\n",
      "|Ambassadors Bloom...|    standard|             7.202|       1|\n",
      "|Ambassadors Bloom...|    location|            8.1245|       1|\n",
      "+--------------------+------------+------------------+--------+\n",
      "only showing top 40 rows\n",
      "\n"
     ]
    }
   ],
   "source": [
    "spark.sql(\"SELECT hotel, feature, \\\n",
    "AVG(scores) as avg_scores, COUNT(scores) as n_scores \\\n",
    "FROM features GROUP BY hotel, feature \\\n",
    "ORDER BY hotel, avg_scores  \").show(40)"
   ]
  },
  {
   "cell_type": "code",
   "execution_count": 42,
   "metadata": {},
   "outputs": [
    {
     "data": {
      "text/plain": [
       "1904"
      ]
     },
     "execution_count": 42,
     "metadata": {},
     "output_type": "execute_result"
    }
   ],
   "source": [
    "df_features.count()"
   ]
  },
  {
   "cell_type": "code",
   "execution_count": 43,
   "metadata": {},
   "outputs": [],
   "source": [
    "import json\n",
    "# reading the defined categories\n",
    "with open('final_categories.json') as f:\n",
    "     categories = json.load(f)"
   ]
  },
  {
   "cell_type": "code",
   "execution_count": 44,
   "metadata": {},
   "outputs": [
    {
     "data": {
      "text/plain": [
       "{'bathroom': ['washbasin',\n",
       "  'restroom',\n",
       "  'cubicle',\n",
       "  'bathrooms',\n",
       "  'ensuite',\n",
       "  'fixture',\n",
       "  'bathroom.',\n",
       "  'toilette',\n",
       "  'washroom',\n",
       "  'toilet',\n",
       "  'bath',\n",
       "  'shower',\n",
       "  'bathtub',\n",
       "  'towels',\n",
       "  'showerhead',\n",
       "  'wc'],\n",
       " 'facilities': ['bar',\n",
       "  'supplies',\n",
       "  'facility.',\n",
       "  'equipment',\n",
       "  'furniture',\n",
       "  'ammenities',\n",
       "  'lift',\n",
       "  'facilities.',\n",
       "  'tv',\n",
       "  'facility',\n",
       "  'facilties',\n",
       "  'facilites',\n",
       "  'spa.',\n",
       "  'amenities',\n",
       "  'massages',\n",
       "  'equipments',\n",
       "  'pool'],\n",
       " 'food': ['breakfest',\n",
       "  'grill',\n",
       "  'restaurants',\n",
       "  'menu.',\n",
       "  'breakfeast',\n",
       "  'food.',\n",
       "  'food',\n",
       "  'resturant',\n",
       "  'selections',\n",
       "  'coffee',\n",
       "  'resteraunt',\n",
       "  'seafood',\n",
       "  'menu',\n",
       "  'sushi',\n",
       "  'bfast',\n",
       "  'brekkie',\n",
       "  'tea',\n",
       "  'dinner.',\n",
       "  'breakfast',\n",
       "  'carvery',\n",
       "  'foods',\n",
       "  'breakfast.',\n",
       "  'bistro',\n",
       "  'breakfasts',\n",
       "  'menus',\n",
       "  'breafast',\n",
       "  'brekfast',\n",
       "  'buffet',\n",
       "  'meals',\n",
       "  'presentation',\n",
       "  'beakfast',\n",
       "  'brakfast',\n",
       "  'brasserie',\n",
       "  'drinks',\n",
       "  'breackfast',\n",
       "  'steak',\n",
       "  'assortment',\n",
       "  'wines'],\n",
       " 'internet': ['4g',\n",
       "  'wifi.',\n",
       "  'connection',\n",
       "  'wifi',\n",
       "  'signal',\n",
       "  'wireless',\n",
       "  'signal.',\n",
       "  'speed',\n",
       "  'network',\n",
       "  '3g',\n",
       "  'coverage',\n",
       "  'internet.',\n",
       "  'connection.',\n",
       "  'wlan'],\n",
       " 'location': ['view',\n",
       "  'views',\n",
       "  'transport',\n",
       "  'location.',\n",
       "  'localization',\n",
       "  'access',\n",
       "  'place',\n",
       "  'position',\n",
       "  'locality',\n",
       "  'localisation',\n",
       "  'area',\n",
       "  'street',\n",
       "  'parking',\n",
       "  'attractions',\n",
       "  'lication',\n",
       "  'locations',\n",
       "  'areas'],\n",
       " 'room': ['room.',\n",
       "  'suite.',\n",
       "  'studio',\n",
       "  'terrace',\n",
       "  'pillows',\n",
       "  'bedroom',\n",
       "  'suite',\n",
       "  'rooms',\n",
       "  'rom',\n",
       "  'beds',\n",
       "  'bedrooms',\n",
       "  'bedroom.',\n",
       "  'appartment',\n",
       "  'bed',\n",
       "  'apartment',\n",
       "  'rooom',\n",
       "  'rooms.'],\n",
       " 'staff': ['team',\n",
       "  'receptionists',\n",
       "  'personnel',\n",
       "  'concierge',\n",
       "  'hosts',\n",
       "  'stafff',\n",
       "  'personel',\n",
       "  'conceirge',\n",
       "  'reception',\n",
       "  'employees',\n",
       "  'receptionist',\n",
       "  'concierges',\n",
       "  'staffs',\n",
       "  'crew',\n",
       "  'doormen',\n",
       "  'service',\n",
       "  'hospitable',\n",
       "  'staf',\n",
       "  'services',\n",
       "  'porters',\n",
       "  'personell']}"
      ]
     },
     "execution_count": 44,
     "metadata": {},
     "output_type": "execute_result"
    }
   ],
   "source": [
    "categories"
   ]
  },
  {
   "cell_type": "code",
   "execution_count": 45,
   "metadata": {},
   "outputs": [],
   "source": [
    "def assign_categories(feat):\n",
    "    'assign category to each feature'\n",
    "    for cat,dict_feat in categories.items():\n",
    "        if feat == cat or feat in dict_feat  :\n",
    "            return cat\n",
    "    \n",
    "    return 'other'\n",
    "    "
   ]
  },
  {
   "cell_type": "code",
   "execution_count": 46,
   "metadata": {},
   "outputs": [],
   "source": [
    "df_features = (df_features.rdd\n",
    "                 .map(lambda x: (x['hotel'],x['feature'],assign_categories(x['feature']), x['scores'] ))\n",
    "                 .toDF(['hotel', 'feature', 'categories', 'score'])\n",
    "                )"
   ]
  },
  {
   "cell_type": "code",
   "execution_count": 47,
   "metadata": {},
   "outputs": [
    {
     "data": {
      "text/plain": [
       "[Row(hotel='St Paul s Hotel', feature='staff', categories='staff', score=7.1075),\n",
       " Row(hotel='St Paul s Hotel', feature='room', categories='room', score=5.0),\n",
       " Row(hotel='St Paul s Hotel', feature='bed', categories='room', score=7.553000000000001),\n",
       " Row(hotel='St Paul s Hotel', feature='breakfast', categories='food', score=7.202),\n",
       " Row(hotel='Millennium Gloucester Hotel London', feature='room', categories='room', score=5.0),\n",
       " Row(hotel='Millennium Gloucester Hotel London', feature='draught', categories='other', score=5.0),\n",
       " Row(hotel='Millennium Gloucester Hotel London', feature='winter', categories='other', score=3.2940000000000005),\n",
       " Row(hotel='Millennium Gloucester Hotel London', feature='room', categories='room', score=5.0),\n",
       " Row(hotel='Millennium Gloucester Hotel London', feature='safe', categories='other', score=7.202),\n",
       " Row(hotel='Millennium Gloucester Hotel London', feature='breakfast', categories='food', score=5.0),\n",
       " Row(hotel='Millennium Gloucester Hotel London', feature='time', categories='other', score=3.2940000000000005),\n",
       " Row(hotel='Millennium Gloucester Hotel London', feature='location', categories='location', score=7.202),\n",
       " Row(hotel='Doubletree By Hilton London Greenwich', feature='location', categories='location', score=5.0),\n",
       " Row(hotel='Doubletree By Hilton London Greenwich', feature='hotel', categories='other', score=6.3660000000000005),\n",
       " Row(hotel='Holiday Inn London Wembley', feature='rooms', categories='room', score=3.2205),\n",
       " Row(hotel='Holiday Inn London Wembley', feature='room', categories='room', score=5.0),\n",
       " Row(hotel='Holiday Inn London Wembley', feature='room', categories='room', score=5.0),\n",
       " Row(hotel='Holiday Inn London Wembley', feature='breakfast', categories='food', score=5.0),\n",
       " Row(hotel='Holiday Inn London Wembley', feature='variety', categories='other', score=5.0),\n",
       " Row(hotel='Holiday Inn London Wembley', feature='service', categories='staff', score=5.0)]"
      ]
     },
     "execution_count": 47,
     "metadata": {},
     "output_type": "execute_result"
    }
   ],
   "source": [
    "df_features.head(20)"
   ]
  },
  {
   "cell_type": "code",
   "execution_count": null,
   "metadata": {},
   "outputs": [],
   "source": [
    "df_features.write.csv(\"hdfs://masterbig-1.itc.unipi.it:54310/user/student18/df_features.csv\", header = True)"
   ]
  },
  {
   "cell_type": "markdown",
   "metadata": {},
   "source": [
    "# Features cleaning"
   ]
  },
  {
   "cell_type": "code",
   "execution_count": 3,
   "metadata": {},
   "outputs": [],
   "source": [
    "#df_features = spark.read.csv(\"hdfs://masterbig-1.itc.unipi.it:54310/user/student18/df_features.csv\", header = True, inferSchema = True)"
   ]
  },
  {
   "cell_type": "code",
   "execution_count": 4,
   "metadata": {},
   "outputs": [
    {
     "name": "stdout",
     "output_type": "stream",
     "text": [
      "root\n",
      " |-- hotel: string (nullable = true)\n",
      " |-- feature: string (nullable = true)\n",
      " |-- categories: string (nullable = true)\n",
      " |-- score: double (nullable = true)\n",
      "\n"
     ]
    }
   ],
   "source": [
    "df_features.printSchema()"
   ]
  },
  {
   "cell_type": "code",
   "execution_count": 8,
   "metadata": {},
   "outputs": [],
   "source": [
    "try:\n",
    "    df_features.createTempView('df_features')\n",
    "except:\n",
    "    spark.catalog.dropTempView('df_features')\n",
    "    df_features.createTempView('df_features')"
   ]
  },
  {
   "cell_type": "code",
   "execution_count": 9,
   "metadata": {},
   "outputs": [],
   "source": [
    "#remove all features with neutral score\n",
    "df_features_temp = spark.sql(\"SELECT * FROM df_features WHERE score != 5.0 and categories != 'other'\")"
   ]
  },
  {
   "cell_type": "code",
   "execution_count": 10,
   "metadata": {},
   "outputs": [],
   "source": [
    "try:\n",
    "    df_features_temp.createTempView('temp')\n",
    "except:\n",
    "    spark.catalog.dropTempView('temp')\n",
    "    df_features_temp.createTempView('temp')"
   ]
  },
  {
   "cell_type": "code",
   "execution_count": 12,
   "metadata": {},
   "outputs": [
    {
     "name": "stdout",
     "output_type": "stream",
     "text": [
      "+--------------------+-----+\n",
      "|               hotel|conto|\n",
      "+--------------------+-----+\n",
      "|Park Plaza Westmi...| 4141|\n",
      "| Strand Palace Hotel| 3827|\n",
      "|Britannia Interna...| 3662|\n",
      "|Copthorne Tara Ho...| 3259|\n",
      "|DoubleTree by Hil...| 3233|\n",
      "|Intercontinental ...| 2631|\n",
      "|Grand Royale Lond...| 2627|\n",
      "|Holiday Inn Londo...| 2584|\n",
      "|Millennium Glouce...| 2324|\n",
      "|Park Plaza County...| 2229|\n",
      "|Park Grand Paddin...| 2218|\n",
      "|Hilton London Met...| 2211|\n",
      "|DoubleTree by Hil...| 2204|\n",
      "|Park Grand London...| 2196|\n",
      "|      Hotel Esther a| 2182|\n",
      "| Blakemore Hyde Park| 2168|\n",
      "|Hilton London Wem...| 2060|\n",
      "|Park Plaza London...| 2019|\n",
      "|St James Court A ...| 1991|\n",
      "|The Tower A Guoma...| 1891|\n",
      "+--------------------+-----+\n",
      "only showing top 20 rows\n",
      "\n"
     ]
    }
   ],
   "source": [
    "spark.sql(\"SELECT hotel, count(categories) as conto FROM temp WHERE categories != 'other' GROUP BY hotel having conto > 600  order by conto DESC \").show()"
   ]
  },
  {
   "cell_type": "code",
   "execution_count": 14,
   "metadata": {},
   "outputs": [],
   "source": [
    "df_features_cleaned = spark.sql(\"SELECT hotel, categories, feature, score, count(categories) over(partition by(hotel) order by score) as conto, hotel FROM temp WHERE categories != 'other' ORDER BY conto DESC\").filter('conto > 70')"
   ]
  },
  {
   "cell_type": "code",
   "execution_count": 15,
   "metadata": {},
   "outputs": [
    {
     "name": "stdout",
     "output_type": "stream",
     "text": [
      "+--------------------+----------+--------+-----------------+-----+--------------------+\n",
      "|               hotel|categories| feature|            score|conto|               hotel|\n",
      "+--------------------+----------+--------+-----------------+-----+--------------------+\n",
      "|Park Plaza Westmi...|  location|   views|            9.195| 4141|Park Plaza Westmi...|\n",
      "|Park Plaza Westmi...|     staff|   staff|           9.1835| 4140|Park Plaza Westmi...|\n",
      "|Park Plaza Westmi...|  location|   views|            9.158| 4139|Park Plaza Westmi...|\n",
      "|Park Plaza Westmi...|      room|    room|           9.1355| 4138|Park Plaza Westmi...|\n",
      "|Park Plaza Westmi...|     staff|   staff|9.129000000000001| 4137|Park Plaza Westmi...|\n",
      "|Park Plaza Westmi...|      room|    room|           9.1125| 4136|Park Plaza Westmi...|\n",
      "|Park Plaza Westmi...|  location|   views|           9.1055| 4135|Park Plaza Westmi...|\n",
      "|Park Plaza Westmi...|  location|   views|            9.081| 4134|Park Plaza Westmi...|\n",
      "|Park Plaza Westmi...|  location|location|9.036999999999999| 4133|Park Plaza Westmi...|\n",
      "|Park Plaza Westmi...|  location|   views|9.036999999999999| 4133|Park Plaza Westmi...|\n",
      "+--------------------+----------+--------+-----------------+-----+--------------------+\n",
      "only showing top 10 rows\n",
      "\n"
     ]
    }
   ],
   "source": [
    "df_features_cleaned.show(10)"
   ]
  },
  {
   "cell_type": "markdown",
   "metadata": {},
   "source": [
    "scalo lo score dall'intervallo [0-10] in [2-10]"
   ]
  },
  {
   "cell_type": "code",
   "execution_count": 13,
   "metadata": {},
   "outputs": [],
   "source": [
    "df_features_cleaned_scaled = spark.sql(\"SELECT hotel, categories, feature, score*8/10+2 as score, count(categories) over(partition by(hotel) order by score) as conto, hotel FROM temp WHERE categories != 'other' ORDER BY conto DESC\").filter('conto > 70')"
   ]
  },
  {
   "cell_type": "code",
   "execution_count": 16,
   "metadata": {},
   "outputs": [
    {
     "name": "stdout",
     "output_type": "stream",
     "text": [
      "+--------------------+----------+--------+-----------------+-----+--------------------+\n",
      "|               hotel|categories| feature|            score|conto|               hotel|\n",
      "+--------------------+----------+--------+-----------------+-----+--------------------+\n",
      "|Park Plaza Westmi...|  location|   views|            9.356| 4141|Park Plaza Westmi...|\n",
      "|Park Plaza Westmi...|     staff|   staff|           9.3468| 4140|Park Plaza Westmi...|\n",
      "|Park Plaza Westmi...|  location|   views|           9.3264| 4139|Park Plaza Westmi...|\n",
      "|Park Plaza Westmi...|      room|    room|           9.3084| 4138|Park Plaza Westmi...|\n",
      "|Park Plaza Westmi...|     staff|   staff|           9.3032| 4137|Park Plaza Westmi...|\n",
      "|Park Plaza Westmi...|      room|    room|9.290000000000001| 4136|Park Plaza Westmi...|\n",
      "|Park Plaza Westmi...|  location|   views|           9.2844| 4135|Park Plaza Westmi...|\n",
      "|Park Plaza Westmi...|  location|   views|           9.2648| 4134|Park Plaza Westmi...|\n",
      "|Park Plaza Westmi...|  location|location|           9.2296| 4133|Park Plaza Westmi...|\n",
      "|Park Plaza Westmi...|  location|   views|           9.2296| 4133|Park Plaza Westmi...|\n",
      "+--------------------+----------+--------+-----------------+-----+--------------------+\n",
      "only showing top 10 rows\n",
      "\n"
     ]
    }
   ],
   "source": [
    "df_features_cleaned_scaled.show(10)"
   ]
  },
  {
   "cell_type": "code",
   "execution_count": null,
   "metadata": {},
   "outputs": [],
   "source": []
  },
  {
   "cell_type": "code",
   "execution_count": 17,
   "metadata": {},
   "outputs": [],
   "source": [
    "# register table \n",
    "try:\n",
    "    df_features_cleaned_scaled.createTempView('categories')\n",
    "except:\n",
    "    spark.catalog.dropTempView('categories')\n",
    "    df_features_cleaned_scaled.createTempView('categories')"
   ]
  },
  {
   "cell_type": "code",
   "execution_count": 18,
   "metadata": {},
   "outputs": [
    {
     "name": "stdout",
     "output_type": "stream",
     "text": [
      "+--------------------+----------+----------+-----------------+\n",
      "|               hotel|categories|   feature|            score|\n",
      "+--------------------+----------+----------+-----------------+\n",
      "|Park Plaza Westmi...|  location|     views|            9.356|\n",
      "|Park Plaza Westmi...|     staff|     staff|           9.3468|\n",
      "|Park Plaza Westmi...|  location|     views|           9.3264|\n",
      "|Park Plaza Westmi...|      room|      room|           9.3084|\n",
      "|Park Plaza Westmi...|     staff|     staff|           9.3032|\n",
      "|Park Plaza Westmi...|      room|      room|9.290000000000001|\n",
      "|Park Plaza Westmi...|  location|     views|           9.2844|\n",
      "|Park Plaza Westmi...|  location|     views|           9.2648|\n",
      "|Park Plaza Westmi...|  location|  location|           9.2296|\n",
      "|Park Plaza Westmi...|  location|     views|           9.2296|\n",
      "|Park Plaza Westmi...|     staff|     staff|           9.2296|\n",
      "|Park Plaza Westmi...|      room|      room|9.185599999999999|\n",
      "|Park Plaza Westmi...|      room|      room|9.185599999999999|\n",
      "|Park Plaza Westmi...|      room|      room|9.185599999999999|\n",
      "|Park Plaza Westmi...|facilities|facilities|9.185599999999999|\n",
      "|Park Plaza Westmi...|      room|      room|9.185599999999999|\n",
      "|Park Plaza Westmi...|      room|     rooms|9.185599999999999|\n",
      "|Park Plaza Westmi...|     staff|   service|9.178799999999999|\n",
      "|Park Plaza Westmi...|     staff|     staff|           9.1624|\n",
      "|Park Plaza Westmi...|      room|      beds|           9.1624|\n",
      "+--------------------+----------+----------+-----------------+\n",
      "only showing top 20 rows\n",
      "\n"
     ]
    }
   ],
   "source": [
    "spark.sql(\"SELECT hotel, categories, feature, score from categories\").show()"
   ]
  },
  {
   "cell_type": "code",
   "execution_count": 19,
   "metadata": {
    "scrolled": true
   },
   "outputs": [
    {
     "name": "stdout",
     "output_type": "stream",
     "text": [
      "+--------------------+----------+-----------------+--------+\n",
      "|               hotel|categories|       avg_scores|n_scores|\n",
      "+--------------------+----------+-----------------+--------+\n",
      "|  11 Cadogan Gardens|facilities|8.226666666666667|       3|\n",
      "|  11 Cadogan Gardens|      food|8.286742857142857|       7|\n",
      "|  11 Cadogan Gardens|      room|8.287013333333332|      15|\n",
      "|  11 Cadogan Gardens|  location|          8.37905|      24|\n",
      "|  11 Cadogan Gardens|  bathroom|          8.38192|       5|\n",
      "|  11 Cadogan Gardens|     staff|        8.4108625|      32|\n",
      "|            1K Hotel|      food|7.932000000000001|      11|\n",
      "|            1K Hotel|  bathroom|8.030533333333333|       3|\n",
      "|            1K Hotel|  internet|           8.0424|       1|\n",
      "|            1K Hotel|     staff|          8.06048|      25|\n",
      "|            1K Hotel|      room|8.160673684210527|      19|\n",
      "|            1K Hotel|  location|8.232766666666665|      36|\n",
      "|            1K Hotel|facilities|8.440199999999999|       4|\n",
      "|25hours Hotel bei...|facilities|7.551682539682539|      63|\n",
      "|25hours Hotel bei...|  bathroom|7.871723076923076|      13|\n",
      "|25hours Hotel bei...|  internet|7.976171428571428|       7|\n",
      "|25hours Hotel bei...|      room|8.038296296296297|     108|\n",
      "|25hours Hotel bei...|     staff|8.076219780219779|     182|\n",
      "|25hours Hotel bei...|      food|8.076587999999997|     100|\n",
      "|25hours Hotel bei...|  location|8.182108920187789|     213|\n",
      "+--------------------+----------+-----------------+--------+\n",
      "only showing top 20 rows\n",
      "\n"
     ]
    }
   ],
   "source": [
    "spark.sql(\"SELECT hotel, categories, AVG(score) as avg_scores, COUNT(score) as n_scores \\\n",
    "FROM categories GROUP BY hotel, categories ORDER BY hotel, avg_scores  \").show()"
   ]
  },
  {
   "cell_type": "markdown",
   "metadata": {},
   "source": [
    "# Export final dataframe"
   ]
  },
  {
   "cell_type": "code",
   "execution_count": null,
   "metadata": {},
   "outputs": [],
   "source": [
    "log.toLog('start group by hotel/categories')"
   ]
  },
  {
   "cell_type": "code",
   "execution_count": 20,
   "metadata": {},
   "outputs": [],
   "source": [
    "import pyspark.sql.functions as func"
   ]
  },
  {
   "cell_type": "code",
   "execution_count": 21,
   "metadata": {},
   "outputs": [],
   "source": [
    "df_final = df_features_cleaned.groupBy(\"hotel\").pivot('categories').agg(func.avg('score'))"
   ]
  },
  {
   "cell_type": "code",
   "execution_count": 22,
   "metadata": {},
   "outputs": [],
   "source": [
    "df_final.write.csv(\"hdfs://masterbig-1.itc.unipi.it:54310/user/student18/df_categories_scaled.csv\", header = True)"
   ]
  },
  {
   "cell_type": "code",
   "execution_count": null,
   "metadata": {},
   "outputs": [],
   "source": [
    "log.toLog('end feature extraction')\n",
    "log.close()"
   ]
  }
 ],
 "metadata": {
  "kernelspec": {
   "display_name": "Python 3",
   "language": "python",
   "name": "python3"
  },
  "language_info": {
   "codemirror_mode": {
    "name": "ipython",
    "version": 3
   },
   "file_extension": ".py",
   "mimetype": "text/x-python",
   "name": "python",
   "nbconvert_exporter": "python",
   "pygments_lexer": "ipython3",
   "version": "3.4.3"
  }
 },
 "nbformat": 4,
 "nbformat_minor": 2
}
