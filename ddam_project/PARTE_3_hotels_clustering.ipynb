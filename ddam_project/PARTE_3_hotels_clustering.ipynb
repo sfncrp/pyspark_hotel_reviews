{
 "cells": [
  {
   "cell_type": "code",
   "execution_count": 1,
   "metadata": {
    "collapsed": true,
    "deletable": true,
    "editable": true
   },
   "outputs": [],
   "source": [
    "from pyspark.sql import SparkSession\n",
    "\n",
    "spark = (SparkSession.builder\n",
    "         .appName('Python spark')\n",
    "         .config('spark.some.config.option','some-value')\n",
    "         .getOrCreate()\n",
    "         )"
   ]
  },
  {
   "cell_type": "code",
   "execution_count": 2,
   "metadata": {
    "collapsed": false,
    "deletable": true,
    "editable": true,
    "scrolled": true
   },
   "outputs": [
    {
     "name": "stdout",
     "output_type": "stream",
     "text": [
      "root\n",
      " |-- hotel: string (nullable = true)\n",
      " |-- bathroom: double (nullable = true)\n",
      " |-- facilities: double (nullable = true)\n",
      " |-- food: double (nullable = true)\n",
      " |-- internet: double (nullable = true)\n",
      " |-- location: double (nullable = true)\n",
      " |-- room: double (nullable = true)\n",
      " |-- staff: double (nullable = true)\n",
      "\n"
     ]
    }
   ],
   "source": [
    "df_categories = spark.read.csv(\"hdfs://masterbig-1.itc.unipi.it:54310/user/student18/df_categories_scaled.csv\", header = True, inferSchema = True)\n",
    "#df_categoriesdf_cleaned = spark.read.csv(\"hdfs://masterbig-1.itc.unipi.it:54310/user/student18/df_cleaned.csv\", header = True, inferSchema = True)\n",
    "df_categories.printSchema()"
   ]
  },
  {
   "cell_type": "code",
   "execution_count": 3,
   "metadata": {
    "collapsed": false,
    "deletable": true,
    "editable": true
   },
   "outputs": [
    {
     "data": {
      "text/plain": [
       "[Row(hotel='H tel Bedford', bathroom=7.8494166666666665, facilities=7.489083333333333, food=7.7098157894736845, internet=7.510600000000001, location=7.742673469387757, room=7.622862745098039, staff=7.639943478260869),\n",
       " Row(hotel='Hotel Topazz', bathroom=7.89015, facilities=7.845666666666666, food=7.877454545454544, internet=7.859499999999999, location=7.99371590909091, room=7.882769230769231, staff=7.8802424242424225),\n",
       " Row(hotel='Ayre Hotel Rosell n', bathroom=7.242833333333333, facilities=7.446923076923076, food=7.709758620689654, internet=7.250300000000001, location=7.721213692946062, room=7.508993506493506, staff=7.628319444444445)]"
      ]
     },
     "execution_count": 3,
     "metadata": {},
     "output_type": "execute_result"
    }
   ],
   "source": [
    "df_categories.head(3)"
   ]
  },
  {
   "cell_type": "code",
   "execution_count": 4,
   "metadata": {
    "collapsed": false,
    "deletable": true,
    "editable": true
   },
   "outputs": [
    {
     "name": "stdout",
     "output_type": "stream",
     "text": [
      "+-------+------------------+-------------------+-------------------+-------------------+------------------+\n",
      "|summary|          bathroom|           location|               room|           internet|        facilities|\n",
      "+-------+------------------+-------------------+-------------------+-------------------+------------------+\n",
      "|  count|              1050|               1221|               1204|                886|               973|\n",
      "|   mean| 7.567047762139533|  7.813140319880199|  7.678200054590011|  7.443783043459195|  7.59292347582792|\n",
      "| stddev|0.4957424579623036|0.20486640232378378|0.36291228813487697|0.38372241885194774|0.4239051885710234|\n",
      "|    min|4.4093374999999995|  6.243764705882354|  5.854086580086583|             4.0505| 5.147958333333333|\n",
      "|    max|            8.7895|              8.953|               9.01|              8.882|             9.158|\n",
      "+-------+------------------+-------------------+-------------------+-------------------+------------------+\n",
      "\n"
     ]
    }
   ],
   "source": [
    "df_categories.select('bathroom','location', 'room', 'internet', 'facilities').describe().show()"
   ]
  },
  {
   "cell_type": "markdown",
   "metadata": {
    "deletable": true,
    "editable": true
   },
   "source": [
    "# Preprocessing"
   ]
  },
  {
   "cell_type": "code",
   "execution_count": 5,
   "metadata": {
    "collapsed": true,
    "deletable": true,
    "editable": true
   },
   "outputs": [],
   "source": [
    "# register table (if not exists)\n",
    "try:\n",
    "    df_categories.createTempView('clustering')\n",
    "except:\n",
    "    spark.catalog.dropTempView('clustering')\n",
    "    df_categories.createTempView('clustering')"
   ]
  },
  {
   "cell_type": "code",
   "execution_count": 6,
   "metadata": {
    "collapsed": false,
    "deletable": true,
    "editable": true
   },
   "outputs": [
    {
     "name": "stdout",
     "output_type": "stream",
     "text": [
      "+--------------------+------------------+------------------+------------------+-----------------+------------------+------------------+------------------+\n",
      "|               hotel|              room|              food|             staff|         location|          internet|          bathroom|        facilities|\n",
      "+--------------------+------------------+------------------+------------------+-----------------+------------------+------------------+------------------+\n",
      "|       H tel Bedford| 7.622862745098039|7.7098157894736845| 7.639943478260869|7.742673469387757| 7.510600000000001|7.8494166666666665| 7.489083333333333|\n",
      "|        Hotel Topazz| 7.882769230769231| 7.877454545454544|7.8802424242424225| 7.99371590909091| 7.859499999999999|           7.89015| 7.845666666666666|\n",
      "| Ayre Hotel Rosell n| 7.508993506493506| 7.709758620689654| 7.628319444444445|7.721213692946062| 7.250300000000001| 7.242833333333333| 7.446923076923076|\n",
      "|London Marriott H...| 7.574265217391304| 7.611488095238094| 7.655862660944204|7.552056074766355| 7.545343749999998| 7.555916666666666| 7.611562500000001|\n",
      "|Shaftesbury Metro...| 7.247095238095238| 7.467437500000001| 7.540154109589041|7.562934579439252| 7.392954545454546| 7.343771428571428| 7.166799999999999|\n",
      "|Rubens At The Palace| 7.680449541284404| 7.714425438596492| 7.732444625407167|7.806328205128209|            7.6265|7.6351428571428555| 7.700583333333334|\n",
      "|Catalonia La Pedrera| 7.805681818181819| 7.798055555555553|  7.79708108108108|7.903410714285714| 7.553000000000001|              null|             7.879|\n",
      "|H tel Jos phine b...|            8.1245|            8.1245| 8.261099999999999|            8.156|              null|              null|              null|\n",
      "|DoubleTree by Hil...|7.5422391304347824| 7.611958333333334| 7.553243961352655|7.595120370370371| 7.553000000000001| 7.668027777777777|           7.72225|\n",
      "|Tryp Barcelona Ap...| 7.709166666666666| 7.695135135135135| 7.962897058823529|7.691594594594593|              null|              null|              null|\n",
      "|Austria Trend Hot...| 7.562193181818182|7.6205784313725475| 7.588631818181817|7.706277777777778|7.3424000000000005|             7.638|          7.474375|\n",
      "|Best Western Hote...| 7.645096774193549|           7.52625| 7.636458333333333|7.491919642857142| 7.361545454545455|            7.7815| 7.929500000000001|\n",
      "|      Hotel Corvinus| 8.213357142857143| 7.859499999999999| 8.255571428571427|7.977740740740739| 8.352500000000001|              null|              null|\n",
      "|Hidden Hotel by E...|            8.1245| 8.181333333333333|  8.34861111111111|           8.1245|              null|            8.1245|              null|\n",
      "|   The Tophams Hotel|7.6660555555555545|             7.202| 7.759833333333333|7.753510204081632| 7.941833333333332|7.4238333333333335|            8.6755|\n",
      "|       Hotel Louis 2|              null| 8.453999999999999|            8.1245|           8.1245|              null|              null|              null|\n",
      "|H tel L Echiquier...|  7.83557894736842| 7.960374999999999|           7.87462|          8.03925| 7.553000000000001|          7.780875|             7.797|\n",
      "| Little Palace Hotel|7.6909520547945185| 7.623911764705881| 7.554758064516129|7.742289473684212| 7.461388888888889| 7.473111111111113|           7.33025|\n",
      "|        Barcel Raval| 7.515951612903226| 7.539444444444445|7.5562977099236655|7.744926940639272|            7.2888|           7.50455| 6.659231481481485|\n",
      "|Grange Rochester ...|7.6440793650793655| 7.531285714285715| 7.625204301075268|7.696694174757282| 7.589000000000001|          7.700875|7.4058125000000015|\n",
      "+--------------------+------------------+------------------+------------------+-----------------+------------------+------------------+------------------+\n",
      "only showing top 20 rows\n",
      "\n"
     ]
    }
   ],
   "source": [
    "df_clustering = spark.sql(\"SELECT hotel, room, food, staff, location, internet, bathroom, facilities FROM clustering\")\n",
    "df_clustering.show()"
   ]
  },
  {
   "cell_type": "code",
   "execution_count": 7,
   "metadata": {
    "collapsed": true,
    "deletable": true,
    "editable": true
   },
   "outputs": [],
   "source": [
    "FEATURES_COL = ['room', 'food','staff','location', 'internet','bathroom', 'facilities']"
   ]
  },
  {
   "cell_type": "code",
   "execution_count": 8,
   "metadata": {
    "collapsed": false,
    "deletable": true,
    "editable": true
   },
   "outputs": [
    {
     "name": "stdout",
     "output_type": "stream",
     "text": [
      "root\n",
      " |-- hotel: string (nullable = true)\n",
      " |-- room: double (nullable = true)\n",
      " |-- food: double (nullable = true)\n",
      " |-- staff: double (nullable = true)\n",
      " |-- location: double (nullable = true)\n",
      " |-- internet: double (nullable = true)\n",
      " |-- bathroom: double (nullable = true)\n",
      " |-- facilities: double (nullable = true)\n",
      "\n"
     ]
    }
   ],
   "source": [
    "df_clustering.printSchema()"
   ]
  },
  {
   "cell_type": "code",
   "execution_count": 9,
   "metadata": {
    "collapsed": false,
    "deletable": true,
    "editable": true
   },
   "outputs": [
    {
     "data": {
      "text/plain": [
       "1232"
      ]
     },
     "execution_count": 9,
     "metadata": {},
     "output_type": "execute_result"
    }
   ],
   "source": [
    "df_clustering.count()"
   ]
  },
  {
   "cell_type": "code",
   "execution_count": 10,
   "metadata": {
    "collapsed": true,
    "deletable": true,
    "editable": true
   },
   "outputs": [],
   "source": [
    "from pyspark.sql.functions import isnan, when, count, col"
   ]
  },
  {
   "cell_type": "code",
   "execution_count": 11,
   "metadata": {
    "collapsed": false,
    "deletable": true,
    "editable": true
   },
   "outputs": [
    {
     "name": "stdout",
     "output_type": "stream",
     "text": [
      "+-----+----+----+-----+--------+--------+--------+----------+\n",
      "|hotel|room|food|staff|location|internet|bathroom|facilities|\n",
      "+-----+----+----+-----+--------+--------+--------+----------+\n",
      "|    0|  28|  44|    8|      11|     346|     182|       259|\n",
      "+-----+----+----+-----+--------+--------+--------+----------+\n",
      "\n"
     ]
    }
   ],
   "source": [
    "df_clustering.select([count(when(isnan(c) | col(c).isNull(), c)).alias(c) for c in df_clustering.columns]).show()"
   ]
  },
  {
   "cell_type": "code",
   "execution_count": 12,
   "metadata": {
    "collapsed": true,
    "deletable": true,
    "editable": true
   },
   "outputs": [],
   "source": [
    "df_clustering = df_clustering.na.drop()"
   ]
  },
  {
   "cell_type": "code",
   "execution_count": 13,
   "metadata": {
    "collapsed": false,
    "deletable": true,
    "editable": true
   },
   "outputs": [
    {
     "name": "stdout",
     "output_type": "stream",
     "text": [
      "+-----+----+----+-----+--------+--------+--------+----------+\n",
      "|hotel|room|food|staff|location|internet|bathroom|facilities|\n",
      "+-----+----+----+-----+--------+--------+--------+----------+\n",
      "|    0|   0|   0|    0|       0|       0|       0|         0|\n",
      "+-----+----+----+-----+--------+--------+--------+----------+\n",
      "\n"
     ]
    }
   ],
   "source": [
    "df_clustering.select([count(when(isnan(c) | col(c).isNull(), c)).alias(c) for c in df_clustering.columns]).show()"
   ]
  },
  {
   "cell_type": "code",
   "execution_count": 14,
   "metadata": {
    "collapsed": false,
    "deletable": true,
    "editable": true
   },
   "outputs": [
    {
     "data": {
      "text/plain": [
       "774"
      ]
     },
     "execution_count": 14,
     "metadata": {},
     "output_type": "execute_result"
    }
   ],
   "source": [
    "df_clustering.count()"
   ]
  },
  {
   "cell_type": "code",
   "execution_count": 15,
   "metadata": {
    "collapsed": true,
    "deletable": true,
    "editable": true
   },
   "outputs": [],
   "source": [
    "from pyspark.ml.feature import VectorAssembler"
   ]
  },
  {
   "cell_type": "code",
   "execution_count": 16,
   "metadata": {
    "collapsed": true,
    "deletable": true,
    "editable": true
   },
   "outputs": [],
   "source": [
    "#manipolazione del dataset per metterlo in formato adatto da poter essere utilizzato da kmeans\n",
    "vecAssembler = VectorAssembler(inputCols=FEATURES_COL, outputCol=\"features\")"
   ]
  },
  {
   "cell_type": "code",
   "execution_count": 17,
   "metadata": {
    "collapsed": true,
    "deletable": true,
    "editable": true
   },
   "outputs": [],
   "source": [
    "df_kmeans = vecAssembler.transform(df_clustering).select('hotel', 'features')"
   ]
  },
  {
   "cell_type": "code",
   "execution_count": 18,
   "metadata": {
    "collapsed": false,
    "deletable": true,
    "editable": true
   },
   "outputs": [
    {
     "name": "stdout",
     "output_type": "stream",
     "text": [
      "+--------------------+--------------------+\n",
      "|               hotel|            features|\n",
      "+--------------------+--------------------+\n",
      "|       H tel Bedford|[7.62286274509803...|\n",
      "|        Hotel Topazz|[7.88276923076923...|\n",
      "| Ayre Hotel Rosell n|[7.50899350649350...|\n",
      "|London Marriott H...|[7.57426521739130...|\n",
      "|Shaftesbury Metro...|[7.24709523809523...|\n",
      "|Rubens At The Palace|[7.68044954128440...|\n",
      "|DoubleTree by Hil...|[7.54223913043478...|\n",
      "|Austria Trend Hot...|[7.56219318181818...|\n",
      "|Best Western Hote...|[7.64509677419354...|\n",
      "|   The Tophams Hotel|[7.66605555555555...|\n",
      "|H tel L Echiquier...|[7.83557894736842...|\n",
      "| Little Palace Hotel|[7.69095205479451...|\n",
      "|        Barcel Raval|[7.51595161290322...|\n",
      "|Grange Rochester ...|[7.64407936507936...|\n",
      "| The Ampersand Hotel|[7.75563281250000...|\n",
      "|Radisson Blu Edwa...|[7.33435067873303...|\n",
      "|Mercure Hotel Ams...|[7.66074107142857...|\n",
      "|Norfolk Towers Pa...|[7.01147933884297...|\n",
      "|  The Langham London|[7.80375595238095...|\n",
      "|        Hotel Balmes|[7.71986249999999...|\n",
      "+--------------------+--------------------+\n",
      "only showing top 20 rows\n",
      "\n"
     ]
    }
   ],
   "source": [
    "df_kmeans.show()"
   ]
  },
  {
   "cell_type": "markdown",
   "metadata": {
    "deletable": true,
    "editable": true
   },
   "source": [
    "# K-means"
   ]
  },
  {
   "cell_type": "code",
   "execution_count": 19,
   "metadata": {
    "collapsed": true,
    "deletable": true,
    "editable": true
   },
   "outputs": [],
   "source": [
    "from pyspark.ml.clustering import KMeans\n",
    "import numpy as np\n",
    "import pandas as pd\n",
    "import matplotlib.pyplot as plt"
   ]
  },
  {
   "cell_type": "code",
   "execution_count": 20,
   "metadata": {
    "collapsed": true,
    "deletable": true,
    "editable": true
   },
   "outputs": [],
   "source": [
    "###########################################################\n",
    "import matplotlib.pyplot as plt\n",
    "SMALL_SIZE = 15\n",
    "MEDIUM_SIZE = 20\n",
    "BIGGER_SIZE = 20\n",
    "\n",
    "plt.rc('font', size=SMALL_SIZE)          # controls default text sizes\n",
    "plt.rc('axes', titlesize=SMALL_SIZE)     # fontsize of the axes title\n",
    "plt.rc('axes', labelsize=MEDIUM_SIZE)    # fontsize of the x and y label\n",
    "plt.rc('xtick', labelsize=SMALL_SIZE)    # fontsize of the tick labels\n",
    "plt.rc('ytick', labelsize=SMALL_SIZE)    # fontsize of the tick labels\n",
    "plt.rc('legend', fontsize=SMALL_SIZE)    # legend fontsize\n",
    "plt.rc('figure', titlesize=BIGGER_SIZE)  # fontsize of the figure title\n",
    "\n",
    "###########################################################"
   ]
  },
  {
   "cell_type": "code",
   "execution_count": 21,
   "metadata": {
    "collapsed": true,
    "deletable": true,
    "editable": true
   },
   "outputs": [],
   "source": [
    "#per trovare il miglior k\n",
    "cost = np.zeros(20)\n",
    "for k in range(2,20):\n",
    "    kmeans = KMeans().setK(k).setSeed(1).setFeaturesCol(\"features\")\n",
    "    model = kmeans.fit(df_kmeans.sample(False,0.1, seed=10))\n",
    "    cost[k] = model.computeCost(df_kmeans) "
   ]
  },
  {
   "cell_type": "code",
   "execution_count": 22,
   "metadata": {
    "collapsed": false,
    "deletable": true,
    "editable": true
   },
   "outputs": [
    {
     "data": {
      "text/plain": [
       "Text(0,0.5,'cost')"
      ]
     },
     "execution_count": 22,
     "metadata": {},
     "output_type": "execute_result"
    },
    {
     "data": {
      "image/png": "[encoded data removed]",
      "text/plain": [
       "<Figure size 576x432 with 1 Axes>"
      ]
     },
     "metadata": {
      "needs_background": "light"
     },
     "output_type": "display_data"
    }
   ],
   "source": [
    "fig, ax = plt.subplots(1,1, figsize =(8,6))\n",
    "#plt.plot([4,7],[5.5,13],\"r--\")\n",
    "plt.axvline(4, linestyle = \"--\", color = \"red\")\n",
    "ax.plot(range(2,20),cost[2:20])\n",
    "ax.set_xlabel('k')\n",
    "ax.set_ylabel('cost')"
   ]
  },
  {
   "cell_type": "code",
   "execution_count": 23,
   "metadata": {
    "collapsed": false,
    "deletable": true,
    "editable": true
   },
   "outputs": [
    {
     "name": "stdout",
     "output_type": "stream",
     "text": [
      "Cluster Centers: \n",
      "[7.74365403 7.73009124 7.73931683 7.8420487  7.5974271  7.8185044\n",
      " 7.83437848]\n",
      "[6.58053886 7.09238736 7.20811697 7.52827167 6.19161857 5.84856778\n",
      " 6.58067602]\n",
      "[7.15423001 7.33421583 7.4612624  7.6012541  7.21477215 6.93367545\n",
      " 7.0202152 ]\n",
      "[7.57124879 7.56286756 7.6044561  7.68812061 7.46531808 7.49167065\n",
      " 7.51129322]\n"
     ]
    }
   ],
   "source": [
    "k = 4\n",
    "kmeans = KMeans().setK(k).setSeed(1).setFeaturesCol(\"features\")\n",
    "model = kmeans.fit(df_kmeans)\n",
    "centers = model.clusterCenters()\n",
    "\n",
    "print(\"Cluster Centers: \")\n",
    "for center in centers:\n",
    "    print(center)"
   ]
  },
  {
   "cell_type": "code",
   "execution_count": 24,
   "metadata": {
    "collapsed": false,
    "deletable": true,
    "editable": true
   },
   "outputs": [
    {
     "name": "stdout",
     "output_type": "stream",
     "text": [
      "Sum of Squared Errors = 208.53894413044338\n"
     ]
    }
   ],
   "source": [
    "wssse = model.computeCost(df_kmeans)\n",
    "print(\"Sum of Squared Errors = \" + str(wssse))"
   ]
  },
  {
   "cell_type": "code",
   "execution_count": 25,
   "metadata": {
    "collapsed": false,
    "deletable": true,
    "editable": true
   },
   "outputs": [
    {
     "name": "stdout",
     "output_type": "stream",
     "text": [
      "[Row(hotel='H tel Bedford', prediction=3), Row(hotel='Hotel Topazz', prediction=0), Row(hotel='Ayre Hotel Rosell n', prediction=3)]\n"
     ]
    }
   ],
   "source": [
    "#associa ad ogni riga il suo centro\n",
    "transformed = model.transform(df_kmeans).select('hotel', 'prediction')\n",
    "rows = transformed.collect()\n",
    "print(rows[:3])"
   ]
  },
  {
   "cell_type": "code",
   "execution_count": 26,
   "metadata": {
    "collapsed": false,
    "deletable": true,
    "editable": true
   },
   "outputs": [
    {
     "name": "stdout",
     "output_type": "stream",
     "text": [
      "+--------------------+----------+\n",
      "|               hotel|prediction|\n",
      "+--------------------+----------+\n",
      "|       H tel Bedford|         3|\n",
      "|        Hotel Topazz|         0|\n",
      "| Ayre Hotel Rosell n|         3|\n",
      "|London Marriott H...|         3|\n",
      "|Shaftesbury Metro...|         2|\n",
      "|Rubens At The Palace|         0|\n",
      "|DoubleTree by Hil...|         3|\n",
      "|Austria Trend Hot...|         3|\n",
      "|Best Western Hote...|         0|\n",
      "|   The Tophams Hotel|         0|\n",
      "|H tel L Echiquier...|         0|\n",
      "| Little Palace Hotel|         3|\n",
      "|        Barcel Raval|         2|\n",
      "|Grange Rochester ...|         3|\n",
      "| The Ampersand Hotel|         0|\n",
      "|Radisson Blu Edwa...|         3|\n",
      "|Mercure Hotel Ams...|         3|\n",
      "|Norfolk Towers Pa...|         2|\n",
      "|  The Langham London|         0|\n",
      "|        Hotel Balmes|         0|\n",
      "+--------------------+----------+\n",
      "only showing top 20 rows\n",
      "\n"
     ]
    }
   ],
   "source": [
    "df_pred = spark.createDataFrame(rows)\n",
    "df_pred.show()"
   ]
  },
  {
   "cell_type": "code",
   "execution_count": 27,
   "metadata": {
    "collapsed": false,
    "deletable": true,
    "editable": true
   },
   "outputs": [
    {
     "name": "stdout",
     "output_type": "stream",
     "text": [
      "+--------------------+----------+------------------+------------------+------------------+-----------------+------------------+------------------+------------------+\n",
      "|               hotel|prediction|              room|              food|             staff|         location|          internet|          bathroom|        facilities|\n",
      "+--------------------+----------+------------------+------------------+------------------+-----------------+------------------+------------------+------------------+\n",
      "|       H tel Bedford|         3| 7.622862745098039|7.7098157894736845| 7.639943478260869|7.742673469387757| 7.510600000000001|7.8494166666666665| 7.489083333333333|\n",
      "|        Hotel Topazz|         0| 7.882769230769231| 7.877454545454544|7.8802424242424225| 7.99371590909091| 7.859499999999999|           7.89015| 7.845666666666666|\n",
      "| Ayre Hotel Rosell n|         3| 7.508993506493506| 7.709758620689654| 7.628319444444445|7.721213692946062| 7.250300000000001| 7.242833333333333| 7.446923076923076|\n",
      "|London Marriott H...|         3| 7.574265217391304| 7.611488095238094| 7.655862660944204|7.552056074766355| 7.545343749999998| 7.555916666666666| 7.611562500000001|\n",
      "|Shaftesbury Metro...|         2| 7.247095238095238| 7.467437500000001| 7.540154109589041|7.562934579439252| 7.392954545454546| 7.343771428571428| 7.166799999999999|\n",
      "|Rubens At The Palace|         0| 7.680449541284404| 7.714425438596492| 7.732444625407167|7.806328205128209|            7.6265|7.6351428571428555| 7.700583333333334|\n",
      "|DoubleTree by Hil...|         3|7.5422391304347824| 7.611958333333334| 7.553243961352655|7.595120370370371| 7.553000000000001| 7.668027777777777|           7.72225|\n",
      "|Austria Trend Hot...|         3| 7.562193181818182|7.6205784313725475| 7.588631818181817|7.706277777777778|7.3424000000000005|             7.638|          7.474375|\n",
      "|Best Western Hote...|         0| 7.645096774193549|           7.52625| 7.636458333333333|7.491919642857142| 7.361545454545455|            7.7815| 7.929500000000001|\n",
      "|   The Tophams Hotel|         0|7.6660555555555545|             7.202| 7.759833333333333|7.753510204081632| 7.941833333333332|7.4238333333333335|            8.6755|\n",
      "|H tel L Echiquier...|         0|  7.83557894736842| 7.960374999999999|           7.87462|          8.03925| 7.553000000000001|          7.780875|             7.797|\n",
      "| Little Palace Hotel|         3|7.6909520547945185| 7.623911764705881| 7.554758064516129|7.742289473684212| 7.461388888888889| 7.473111111111113|           7.33025|\n",
      "|        Barcel Raval|         2| 7.515951612903226| 7.539444444444445|7.5562977099236655|7.744926940639272|            7.2888|           7.50455| 6.659231481481485|\n",
      "|Grange Rochester ...|         3|7.6440793650793655| 7.531285714285715| 7.625204301075268|7.696694174757282| 7.589000000000001|          7.700875|7.4058125000000015|\n",
      "| The Ampersand Hotel|         0| 7.755632812500001| 7.720219512195122| 7.760116822429907|7.914962809917359| 7.764749999999999| 7.786321428571427| 8.020999999999999|\n",
      "|Radisson Blu Edwa...|         3| 7.334350678733031| 7.376027777777779|  7.59003725490196|7.694335106382984|7.5231666666666674| 7.136328124999999| 7.303642857142857|\n",
      "|Mercure Hotel Ams...|         3|  7.66074107142857| 7.617137499999998|7.5703674698795185|7.645784210526316| 7.553000000000001| 7.551785714285715| 7.491142857142856|\n",
      "|Norfolk Towers Pa...|         2| 7.011479338842974| 7.122841530054646|7.3440987341772175|7.565047413793107| 6.972111111111112| 6.857837662337664|          6.781625|\n",
      "|  The Langham London|         0| 7.803755952380951| 7.818635593220338| 7.721824404761906|7.817316091954026| 7.859499999999999|7.6538571428571425|            7.6865|\n",
      "|        Hotel Balmes|         0| 7.719862499999998| 7.529722222222223|  7.76038596491228|7.742762295081967|             7.436|            8.1245| 7.776944444444445|\n",
      "+--------------------+----------+------------------+------------------+------------------+-----------------+------------------+------------------+------------------+\n",
      "only showing top 20 rows\n",
      "\n"
     ]
    }
   ],
   "source": [
    "df_pred = df_pred.join(df_clustering, 'hotel')\n",
    "df_pred.show()"
   ]
  },
  {
   "cell_type": "markdown",
   "metadata": {
    "deletable": true,
    "editable": true
   },
   "source": [
    "# Plot results"
   ]
  },
  {
   "cell_type": "code",
   "execution_count": 28,
   "metadata": {
    "collapsed": true,
    "deletable": true,
    "editable": true
   },
   "outputs": [],
   "source": [
    "import matplotlib.pyplot as plt\n",
    "from mpl_toolkits.mplot3d import Axes3D\n",
    "import pandas as pd"
   ]
  },
  {
   "cell_type": "code",
   "execution_count": 29,
   "metadata": {
    "collapsed": false,
    "deletable": true,
    "editable": true
   },
   "outputs": [
    {
     "data": {
      "text/html": [
       "<div>\n",
       "<style scoped>\n",
       "    .dataframe tbody tr th:only-of-type {\n",
       "        vertical-align: middle;\n",
       "    }\n",
       "\n",
       "    .dataframe tbody tr th {\n",
       "        vertical-align: top;\n",
       "    }\n",
       "\n",
       "    .dataframe thead th {\n",
       "        text-align: right;\n",
       "    }\n",
       "</style>\n",
       "<table border=\"1\" class=\"dataframe\">\n",
       "  <thead>\n",
       "    <tr style=\"text-align: right;\">\n",
       "      <th></th>\n",
       "      <th>prediction</th>\n",
       "      <th>room</th>\n",
       "      <th>food</th>\n",
       "      <th>staff</th>\n",
       "      <th>location</th>\n",
       "      <th>internet</th>\n",
       "      <th>bathroom</th>\n",
       "      <th>facilities</th>\n",
       "    </tr>\n",
       "    <tr>\n",
       "      <th>hotel</th>\n",
       "      <th></th>\n",
       "      <th></th>\n",
       "      <th></th>\n",
       "      <th></th>\n",
       "      <th></th>\n",
       "      <th></th>\n",
       "      <th></th>\n",
       "      <th></th>\n",
       "    </tr>\n",
       "  </thead>\n",
       "  <tbody>\n",
       "    <tr>\n",
       "      <th>H tel Bedford</th>\n",
       "      <td>3</td>\n",
       "      <td>7.622863</td>\n",
       "      <td>7.709816</td>\n",
       "      <td>7.639943</td>\n",
       "      <td>7.742673</td>\n",
       "      <td>7.510600</td>\n",
       "      <td>7.849417</td>\n",
       "      <td>7.489083</td>\n",
       "    </tr>\n",
       "    <tr>\n",
       "      <th>Hotel Topazz</th>\n",
       "      <td>0</td>\n",
       "      <td>7.882769</td>\n",
       "      <td>7.877455</td>\n",
       "      <td>7.880242</td>\n",
       "      <td>7.993716</td>\n",
       "      <td>7.859500</td>\n",
       "      <td>7.890150</td>\n",
       "      <td>7.845667</td>\n",
       "    </tr>\n",
       "    <tr>\n",
       "      <th>Ayre Hotel Rosell n</th>\n",
       "      <td>3</td>\n",
       "      <td>7.508994</td>\n",
       "      <td>7.709759</td>\n",
       "      <td>7.628319</td>\n",
       "      <td>7.721214</td>\n",
       "      <td>7.250300</td>\n",
       "      <td>7.242833</td>\n",
       "      <td>7.446923</td>\n",
       "    </tr>\n",
       "    <tr>\n",
       "      <th>London Marriott Hotel Regents Park</th>\n",
       "      <td>3</td>\n",
       "      <td>7.574265</td>\n",
       "      <td>7.611488</td>\n",
       "      <td>7.655863</td>\n",
       "      <td>7.552056</td>\n",
       "      <td>7.545344</td>\n",
       "      <td>7.555917</td>\n",
       "      <td>7.611563</td>\n",
       "    </tr>\n",
       "    <tr>\n",
       "      <th>Shaftesbury Metropolis London Hyde Park</th>\n",
       "      <td>2</td>\n",
       "      <td>7.247095</td>\n",
       "      <td>7.467438</td>\n",
       "      <td>7.540154</td>\n",
       "      <td>7.562935</td>\n",
       "      <td>7.392955</td>\n",
       "      <td>7.343771</td>\n",
       "      <td>7.166800</td>\n",
       "    </tr>\n",
       "  </tbody>\n",
       "</table>\n",
       "</div>"
      ],
      "text/plain": [
       "                                         prediction      room      food  \\\n",
       "hotel                                                                     \n",
       "H tel Bedford                                     3  7.622863  7.709816   \n",
       "Hotel Topazz                                      0  7.882769  7.877455   \n",
       "Ayre Hotel Rosell n                               3  7.508994  7.709759   \n",
       "London Marriott Hotel Regents Park                3  7.574265  7.611488   \n",
       "Shaftesbury Metropolis London Hyde Park           2  7.247095  7.467438   \n",
       "\n",
       "                                            staff  location  internet  \\\n",
       "hotel                                                                   \n",
       "H tel Bedford                            7.639943  7.742673  7.510600   \n",
       "Hotel Topazz                             7.880242  7.993716  7.859500   \n",
       "Ayre Hotel Rosell n                      7.628319  7.721214  7.250300   \n",
       "London Marriott Hotel Regents Park       7.655863  7.552056  7.545344   \n",
       "Shaftesbury Metropolis London Hyde Park  7.540154  7.562935  7.392955   \n",
       "\n",
       "                                         bathroom  facilities  \n",
       "hotel                                                          \n",
       "H tel Bedford                            7.849417    7.489083  \n",
       "Hotel Topazz                             7.890150    7.845667  \n",
       "Ayre Hotel Rosell n                      7.242833    7.446923  \n",
       "London Marriott Hotel Regents Park       7.555917    7.611563  \n",
       "Shaftesbury Metropolis London Hyde Park  7.343771    7.166800  "
      ]
     },
     "execution_count": 29,
     "metadata": {},
     "output_type": "execute_result"
    }
   ],
   "source": [
    "df_pred2 = df_pred.toPandas().set_index('hotel')\n",
    "df_pred2.head()"
   ]
  },
  {
   "cell_type": "code",
   "execution_count": 30,
   "metadata": {
    "collapsed": false,
    "deletable": true,
    "editable": true
   },
   "outputs": [
    {
     "data": {
      "image/png": "[encoded data removed]",
      "text/plain": [
       "<Figure size 864x720 with 1 Axes>"
      ]
     },
     "metadata": {
      "needs_background": "light"
     },
     "output_type": "display_data"
    }
   ],
   "source": [
    "#plot in 3 dimensioni dei cluster\n",
    "threedee = plt.figure(figsize=(12,10)).gca(projection='3d')\n",
    "threedee.scatter(df_pred2.bathroom, df_pred2.internet ,df_pred2.facilities, c=df_pred2.prediction)\n",
    "threedee.set_xlabel('bathroom')\n",
    "threedee.set_ylabel('internet')\n",
    "threedee.set_ylim(5,9)\n",
    "threedee.set_zlabel('facilities')\n",
    "plt.show()"
   ]
  },
  {
   "cell_type": "code",
   "execution_count": 31,
   "metadata": {
    "collapsed": false,
    "deletable": true,
    "editable": true
   },
   "outputs": [
    {
     "data": {
      "text/plain": [
       "<matplotlib.colorbar.Colorbar at 0x7f9cf4572908>"
      ]
     },
     "execution_count": 31,
     "metadata": {},
     "output_type": "execute_result"
    },
    {
     "data": {
      "image/png": "[encoded data removed]",
      "text/plain": [
       "<Figure size 432x288 with 2 Axes>"
      ]
     },
     "metadata": {
      "needs_background": "light"
     },
     "output_type": "display_data"
    }
   ],
   "source": [
    "#scatterplot 2D\n",
    "\n",
    "fig = plt.figure()\n",
    "x = 'bathroom'\n",
    "y = 'internet'\n",
    "\n",
    "\n",
    "ax = fig.add_subplot(111)\n",
    "scatter = ax.scatter(df_pred2[x],df_pred2[y],\n",
    "                   c=df_pred2.prediction,s=50)\n",
    "ax.set_title('K-Means Clustering')\n",
    "ax.set_xlabel(x)\n",
    "ax.set_ylabel(y)\n",
    "plt.colorbar(scatter)"
   ]
  },
  {
   "cell_type": "code",
   "execution_count": 32,
   "metadata": {
    "collapsed": false,
    "deletable": true,
    "editable": true
   },
   "outputs": [
    {
     "data": {
      "text/plain": [
       "['room', 'food', 'staff', 'location', 'internet', 'bathroom', 'facilities']"
      ]
     },
     "execution_count": 32,
     "metadata": {},
     "output_type": "execute_result"
    }
   ],
   "source": [
    "#preparazione per lo spider plot\n",
    "\n",
    "categories=list(df_pred2)[1:]\n",
    "categories"
   ]
  },
  {
   "cell_type": "code",
   "execution_count": 33,
   "metadata": {
    "collapsed": false,
    "deletable": true,
    "editable": true
   },
   "outputs": [
    {
     "name": "stdout",
     "output_type": "stream",
     "text": [
      "+--------------------+----------+------------------+------------------+------------------+-----------------+------------------+------------------+------------------+\n",
      "|               hotel|prediction|              room|              food|             staff|         location|          internet|          bathroom|        facilities|\n",
      "+--------------------+----------+------------------+------------------+------------------+-----------------+------------------+------------------+------------------+\n",
      "|       H tel Bedford|         3| 7.622862745098039|7.7098157894736845| 7.639943478260869|7.742673469387757| 7.510600000000001|7.8494166666666665| 7.489083333333333|\n",
      "|        Hotel Topazz|         0| 7.882769230769231| 7.877454545454544|7.8802424242424225| 7.99371590909091| 7.859499999999999|           7.89015| 7.845666666666666|\n",
      "| Ayre Hotel Rosell n|         3| 7.508993506493506| 7.709758620689654| 7.628319444444445|7.721213692946062| 7.250300000000001| 7.242833333333333| 7.446923076923076|\n",
      "|London Marriott H...|         3| 7.574265217391304| 7.611488095238094| 7.655862660944204|7.552056074766355| 7.545343749999998| 7.555916666666666| 7.611562500000001|\n",
      "|Shaftesbury Metro...|         2| 7.247095238095238| 7.467437500000001| 7.540154109589041|7.562934579439252| 7.392954545454546| 7.343771428571428| 7.166799999999999|\n",
      "|Rubens At The Palace|         0| 7.680449541284404| 7.714425438596492| 7.732444625407167|7.806328205128209|            7.6265|7.6351428571428555| 7.700583333333334|\n",
      "|DoubleTree by Hil...|         3|7.5422391304347824| 7.611958333333334| 7.553243961352655|7.595120370370371| 7.553000000000001| 7.668027777777777|           7.72225|\n",
      "|Austria Trend Hot...|         3| 7.562193181818182|7.6205784313725475| 7.588631818181817|7.706277777777778|7.3424000000000005|             7.638|          7.474375|\n",
      "|Best Western Hote...|         0| 7.645096774193549|           7.52625| 7.636458333333333|7.491919642857142| 7.361545454545455|            7.7815| 7.929500000000001|\n",
      "|   The Tophams Hotel|         0|7.6660555555555545|             7.202| 7.759833333333333|7.753510204081632| 7.941833333333332|7.4238333333333335|            8.6755|\n",
      "|H tel L Echiquier...|         0|  7.83557894736842| 7.960374999999999|           7.87462|          8.03925| 7.553000000000001|          7.780875|             7.797|\n",
      "| Little Palace Hotel|         3|7.6909520547945185| 7.623911764705881| 7.554758064516129|7.742289473684212| 7.461388888888889| 7.473111111111113|           7.33025|\n",
      "|        Barcel Raval|         2| 7.515951612903226| 7.539444444444445|7.5562977099236655|7.744926940639272|            7.2888|           7.50455| 6.659231481481485|\n",
      "|Grange Rochester ...|         3|7.6440793650793655| 7.531285714285715| 7.625204301075268|7.696694174757282| 7.589000000000001|          7.700875|7.4058125000000015|\n",
      "| The Ampersand Hotel|         0| 7.755632812500001| 7.720219512195122| 7.760116822429907|7.914962809917359| 7.764749999999999| 7.786321428571427| 8.020999999999999|\n",
      "|Radisson Blu Edwa...|         3| 7.334350678733031| 7.376027777777779|  7.59003725490196|7.694335106382984|7.5231666666666674| 7.136328124999999| 7.303642857142857|\n",
      "|Mercure Hotel Ams...|         3|  7.66074107142857| 7.617137499999998|7.5703674698795185|7.645784210526316| 7.553000000000001| 7.551785714285715| 7.491142857142856|\n",
      "|Norfolk Towers Pa...|         2| 7.011479338842974| 7.122841530054646|7.3440987341772175|7.565047413793107| 6.972111111111112| 6.857837662337664|          6.781625|\n",
      "|  The Langham London|         0| 7.803755952380951| 7.818635593220338| 7.721824404761906|7.817316091954026| 7.859499999999999|7.6538571428571425|            7.6865|\n",
      "|        Hotel Balmes|         0| 7.719862499999998| 7.529722222222223|  7.76038596491228|7.742762295081967|             7.436|            8.1245| 7.776944444444445|\n",
      "+--------------------+----------+------------------+------------------+------------------+-----------------+------------------+------------------+------------------+\n",
      "only showing top 20 rows\n",
      "\n"
     ]
    }
   ],
   "source": [
    "df_pred.show()"
   ]
  },
  {
   "cell_type": "code",
   "execution_count": 34,
   "metadata": {
    "collapsed": true,
    "deletable": true,
    "editable": true
   },
   "outputs": [],
   "source": [
    "# register table (if not exists)\n",
    "try:\n",
    "    df_pred.createTempView('plots')\n",
    "except:\n",
    "    spark.catalog.dropTempView('plots')\n",
    "    df_pred.createTempView('plots')"
   ]
  },
  {
   "cell_type": "code",
   "execution_count": 35,
   "metadata": {
    "collapsed": true,
    "deletable": true,
    "editable": true
   },
   "outputs": [],
   "source": [
    "df_kmeans_average = spark.sql(\"SELECT prediction as cluster, count(*) as n_hotels, avg(facilities), avg(room), avg(bathroom), avg(food), avg(staff), avg(location), avg(internet) FROM plots group by prediction\")"
   ]
  },
  {
   "cell_type": "code",
   "execution_count": 36,
   "metadata": {
    "collapsed": false,
    "deletable": true,
    "editable": true
   },
   "outputs": [
    {
     "name": "stdout",
     "output_type": "stream",
     "text": [
      "+-------+--------+-----------------+------------------+------------------+-----------------+-----------------+------------------+------------------+\n",
      "|cluster|n_hotels|  avg(facilities)|         avg(room)|     avg(bathroom)|        avg(food)|       avg(staff)|     avg(location)|     avg(internet)|\n",
      "+-------+--------+-----------------+------------------+------------------+-----------------+-----------------+------------------+------------------+\n",
      "|      0|     228|7.834378483141279| 7.743654032429984|7.8185044010486155|7.730091243181128|7.739316832722899|7.8420487018855765|7.5974270977483584|\n",
      "|      1|      35|6.580676021666534| 6.580538856964494|5.8485677784333525| 7.09238735927861|7.208116968696243| 7.528271669995042| 6.191618571007901|\n",
      "|      3|     413|7.511293224224646| 7.571248785411142| 7.491670650613374| 7.56286755695746|7.604456098010658| 7.688120611697741| 7.465318082586121|\n",
      "|      2|      98|7.020215196825589|7.1542300061709705| 6.933675446879322|7.334215834062791|7.461262403289529| 7.601254103186503|7.2147721489904635|\n",
      "+-------+--------+-----------------+------------------+------------------+-----------------+-----------------+------------------+------------------+\n",
      "\n"
     ]
    }
   ],
   "source": [
    "df_kmeans_average.show()"
   ]
  },
  {
   "cell_type": "code",
   "execution_count": 37,
   "metadata": {
    "collapsed": false,
    "deletable": true,
    "editable": true
   },
   "outputs": [
    {
     "data": {
      "text/html": [
       "<div>\n",
       "<style scoped>\n",
       "    .dataframe tbody tr th:only-of-type {\n",
       "        vertical-align: middle;\n",
       "    }\n",
       "\n",
       "    .dataframe tbody tr th {\n",
       "        vertical-align: top;\n",
       "    }\n",
       "\n",
       "    .dataframe thead th {\n",
       "        text-align: right;\n",
       "    }\n",
       "</style>\n",
       "<table border=\"1\" class=\"dataframe\">\n",
       "  <thead>\n",
       "    <tr style=\"text-align: right;\">\n",
       "      <th></th>\n",
       "      <th>n_hotels</th>\n",
       "      <th>avg(facilities)</th>\n",
       "      <th>avg(room)</th>\n",
       "      <th>avg(bathroom)</th>\n",
       "      <th>avg(food)</th>\n",
       "      <th>avg(staff)</th>\n",
       "      <th>avg(location)</th>\n",
       "      <th>avg(internet)</th>\n",
       "    </tr>\n",
       "    <tr>\n",
       "      <th>cluster</th>\n",
       "      <th></th>\n",
       "      <th></th>\n",
       "      <th></th>\n",
       "      <th></th>\n",
       "      <th></th>\n",
       "      <th></th>\n",
       "      <th></th>\n",
       "      <th></th>\n",
       "    </tr>\n",
       "  </thead>\n",
       "  <tbody>\n",
       "    <tr>\n",
       "      <th>0</th>\n",
       "      <td>228</td>\n",
       "      <td>7.8</td>\n",
       "      <td>7.7</td>\n",
       "      <td>7.8</td>\n",
       "      <td>7.7</td>\n",
       "      <td>7.7</td>\n",
       "      <td>7.8</td>\n",
       "      <td>7.6</td>\n",
       "    </tr>\n",
       "    <tr>\n",
       "      <th>1</th>\n",
       "      <td>35</td>\n",
       "      <td>6.6</td>\n",
       "      <td>6.6</td>\n",
       "      <td>5.8</td>\n",
       "      <td>7.1</td>\n",
       "      <td>7.2</td>\n",
       "      <td>7.5</td>\n",
       "      <td>6.2</td>\n",
       "    </tr>\n",
       "    <tr>\n",
       "      <th>2</th>\n",
       "      <td>98</td>\n",
       "      <td>7.0</td>\n",
       "      <td>7.2</td>\n",
       "      <td>6.9</td>\n",
       "      <td>7.3</td>\n",
       "      <td>7.5</td>\n",
       "      <td>7.6</td>\n",
       "      <td>7.2</td>\n",
       "    </tr>\n",
       "    <tr>\n",
       "      <th>3</th>\n",
       "      <td>413</td>\n",
       "      <td>7.5</td>\n",
       "      <td>7.6</td>\n",
       "      <td>7.5</td>\n",
       "      <td>7.6</td>\n",
       "      <td>7.6</td>\n",
       "      <td>7.7</td>\n",
       "      <td>7.5</td>\n",
       "    </tr>\n",
       "  </tbody>\n",
       "</table>\n",
       "</div>"
      ],
      "text/plain": [
       "         n_hotels  avg(facilities)  avg(room)  avg(bathroom)  avg(food)  \\\n",
       "cluster                                                                   \n",
       "0             228              7.8        7.7            7.8        7.7   \n",
       "1              35              6.6        6.6            5.8        7.1   \n",
       "2              98              7.0        7.2            6.9        7.3   \n",
       "3             413              7.5        7.6            7.5        7.6   \n",
       "\n",
       "         avg(staff)  avg(location)  avg(internet)  \n",
       "cluster                                            \n",
       "0               7.7            7.8            7.6  \n",
       "1               7.2            7.5            6.2  \n",
       "2               7.5            7.6            7.2  \n",
       "3               7.6            7.7            7.5  "
      ]
     },
     "execution_count": 37,
     "metadata": {},
     "output_type": "execute_result"
    }
   ],
   "source": [
    "df_kmeans_average2 = df_kmeans_average.toPandas().set_index('cluster').sort_index().round(1)\n",
    "df_kmeans_average2"
   ]
  },
  {
   "cell_type": "code",
   "execution_count": 38,
   "metadata": {
    "collapsed": false,
    "deletable": true,
    "editable": true
   },
   "outputs": [],
   "source": [
    "df_kmeans_average2 = df_kmeans_average2.drop(columns=['n_hotels'])"
   ]
  },
  {
   "cell_type": "code",
   "execution_count": 39,
   "metadata": {
    "collapsed": false,
    "deletable": true,
    "editable": true
   },
   "outputs": [
    {
     "name": "stdout",
     "output_type": "stream",
     "text": [
      "[7.8, 7.7, 7.8, 7.7, 7.7, 7.8, 7.6]\n",
      "['avg(facilities)', 'avg(room)', 'avg(bathroom)', 'avg(food)', 'avg(staff)', 'avg(location)', 'avg(internet)']\n"
     ]
    },
    {
     "data": {
      "text/plain": [
       "[<matplotlib.patches.Polygon at 0x7f9cf4500780>]"
      ]
     },
     "execution_count": 39,
     "metadata": {},
     "output_type": "execute_result"
    },
    {
     "data": {
      "image/png": "[encoded data removed]",
      "text/plain": [
       "<Figure size 432x288 with 1 Axes>"
      ]
     },
     "metadata": {
      "needs_background": "dark"
     },
     "output_type": "display_data"
    }
   ],
   "source": [
    "from math import pi\n",
    " \n",
    "#spider plot\n",
    "\n",
    "cluster1 = 0 \n",
    "cluster2 = 2\n",
    "cluster3 = 3\n",
    "cluster4 = 1\n",
    "    \n",
    "\n",
    "categories=list(df_kmeans_average2)[0:]\n",
    "N = len(categories)\n",
    " \n",
    "print   (df_kmeans_average2.loc[0].values.flatten().tolist() )\n",
    "print(categories)\n",
    "\n",
    "values=df_kmeans_average2.loc[cluster1].values.flatten().tolist()\n",
    "values += values[:1]\n",
    "values\n",
    "\n",
    "values2=df_kmeans_average2.loc[cluster3].values.flatten().tolist()\n",
    "values2 += values2[:1]\n",
    "values2\n",
    "\n",
    "values3=df_kmeans_average2.loc[cluster2].values.flatten().tolist()\n",
    "values3 += values3[:1]\n",
    "values3\n",
    "\n",
    "values4=df_kmeans_average2.loc[cluster4].values.flatten().tolist()\n",
    "values4 += values4[:1]\n",
    "values4\n",
    "\n",
    " \n",
    "angles = [n / float(N) * 2 * pi for n in range(N)]\n",
    "angles += angles[:1]\n",
    " \n",
    "\n",
    "ax = plt.subplot(111, polar=True)\n",
    " \n",
    "\n",
    "plt.xticks(angles[:-1], categories, color='grey', size=8)\n",
    " \n",
    "\n",
    "ax.set_rlabel_position(0)\n",
    "plt.yticks([5,6,8], [\"5\",\"6\",\"8\"], color=\"grey\", size=7)\n",
    "plt.ylim(5,8)\n",
    " \n",
    "\n",
    "ax.plot(angles, values, linewidth=1, linestyle='solid')\n",
    "ax.plot(angles, values2, linewidth=1, linestyle='solid')\n",
    "ax.plot(angles, values3, linewidth=1, linestyle='solid')\n",
    "ax.plot(angles, values4, linewidth=1, linestyle='solid')\n",
    "\n",
    " \n",
    "ax.fill(angles, values, 'b', alpha=0.1)\n",
    "ax.fill(angles, values2, 'b', alpha=0.1)\n",
    "ax.fill(angles, values3, 'b', alpha=0.1)\n",
    "ax.fill(angles, values4, 'b', alpha=0.1)"
   ]
  },
  {
   "cell_type": "markdown",
   "metadata": {
    "deletable": true,
    "editable": true
   },
   "source": [
    "### print hotels"
   ]
  },
  {
   "cell_type": "code",
   "execution_count": 40,
   "metadata": {
    "collapsed": false,
    "deletable": true,
    "editable": true,
    "scrolled": true
   },
   "outputs": [
    {
     "data": {
      "text/html": [
       "<div>\n",
       "<style scoped>\n",
       "    .dataframe tbody tr th:only-of-type {\n",
       "        vertical-align: middle;\n",
       "    }\n",
       "\n",
       "    .dataframe tbody tr th {\n",
       "        vertical-align: top;\n",
       "    }\n",
       "\n",
       "    .dataframe thead th {\n",
       "        text-align: right;\n",
       "    }\n",
       "</style>\n",
       "<table border=\"1\" class=\"dataframe\">\n",
       "  <thead>\n",
       "    <tr style=\"text-align: right;\">\n",
       "      <th></th>\n",
       "      <th>prediction</th>\n",
       "      <th>room</th>\n",
       "      <th>food</th>\n",
       "      <th>staff</th>\n",
       "      <th>location</th>\n",
       "      <th>internet</th>\n",
       "      <th>bathroom</th>\n",
       "      <th>facilities</th>\n",
       "    </tr>\n",
       "    <tr>\n",
       "      <th>hotel</th>\n",
       "      <th></th>\n",
       "      <th></th>\n",
       "      <th></th>\n",
       "      <th></th>\n",
       "      <th></th>\n",
       "      <th></th>\n",
       "      <th></th>\n",
       "      <th></th>\n",
       "    </tr>\n",
       "  </thead>\n",
       "  <tbody>\n",
       "    <tr>\n",
       "      <th>Henry VIII</th>\n",
       "      <td>1</td>\n",
       "      <td>6.0</td>\n",
       "      <td>6.6</td>\n",
       "      <td>7.2</td>\n",
       "      <td>7.5</td>\n",
       "      <td>6.4</td>\n",
       "      <td>6.1</td>\n",
       "      <td>6.6</td>\n",
       "    </tr>\n",
       "    <tr>\n",
       "      <th>Copthorne Tara Hotel London Kensington</th>\n",
       "      <td>1</td>\n",
       "      <td>6.5</td>\n",
       "      <td>7.0</td>\n",
       "      <td>7.2</td>\n",
       "      <td>7.6</td>\n",
       "      <td>5.2</td>\n",
       "      <td>5.4</td>\n",
       "      <td>6.6</td>\n",
       "    </tr>\n",
       "    <tr>\n",
       "      <th>Saint Georges Hotel</th>\n",
       "      <td>1</td>\n",
       "      <td>7.1</td>\n",
       "      <td>7.4</td>\n",
       "      <td>7.3</td>\n",
       "      <td>7.8</td>\n",
       "      <td>6.2</td>\n",
       "      <td>5.8</td>\n",
       "      <td>7.1</td>\n",
       "    </tr>\n",
       "    <tr>\n",
       "      <th>Millennium Hotel London Mayfair</th>\n",
       "      <td>1</td>\n",
       "      <td>6.5</td>\n",
       "      <td>7.0</td>\n",
       "      <td>7.1</td>\n",
       "      <td>7.7</td>\n",
       "      <td>5.9</td>\n",
       "      <td>5.5</td>\n",
       "      <td>6.7</td>\n",
       "    </tr>\n",
       "    <tr>\n",
       "      <th>Mercure Paris Terminus Nord</th>\n",
       "      <td>1</td>\n",
       "      <td>6.8</td>\n",
       "      <td>7.3</td>\n",
       "      <td>7.2</td>\n",
       "      <td>7.5</td>\n",
       "      <td>6.4</td>\n",
       "      <td>4.4</td>\n",
       "      <td>5.5</td>\n",
       "    </tr>\n",
       "    <tr>\n",
       "      <th>Park Lane Mews Hotel</th>\n",
       "      <td>1</td>\n",
       "      <td>5.9</td>\n",
       "      <td>7.0</td>\n",
       "      <td>7.2</td>\n",
       "      <td>7.7</td>\n",
       "      <td>5.9</td>\n",
       "      <td>6.2</td>\n",
       "      <td>5.3</td>\n",
       "    </tr>\n",
       "    <tr>\n",
       "      <th>Britannia International Hotel Canary Wharf</th>\n",
       "      <td>1</td>\n",
       "      <td>5.9</td>\n",
       "      <td>5.7</td>\n",
       "      <td>6.2</td>\n",
       "      <td>7.3</td>\n",
       "      <td>6.7</td>\n",
       "      <td>5.0</td>\n",
       "      <td>5.7</td>\n",
       "    </tr>\n",
       "    <tr>\n",
       "      <th>The Grosvenor</th>\n",
       "      <td>1</td>\n",
       "      <td>6.9</td>\n",
       "      <td>6.9</td>\n",
       "      <td>7.2</td>\n",
       "      <td>7.6</td>\n",
       "      <td>5.4</td>\n",
       "      <td>6.0</td>\n",
       "      <td>6.5</td>\n",
       "    </tr>\n",
       "    <tr>\n",
       "      <th>Millennium Gloucester Hotel London</th>\n",
       "      <td>1</td>\n",
       "      <td>6.4</td>\n",
       "      <td>6.9</td>\n",
       "      <td>7.0</td>\n",
       "      <td>7.6</td>\n",
       "      <td>6.1</td>\n",
       "      <td>5.0</td>\n",
       "      <td>5.9</td>\n",
       "    </tr>\n",
       "    <tr>\n",
       "      <th>Hyatt Regency Paris Etoile</th>\n",
       "      <td>1</td>\n",
       "      <td>6.8</td>\n",
       "      <td>6.9</td>\n",
       "      <td>7.2</td>\n",
       "      <td>7.6</td>\n",
       "      <td>6.1</td>\n",
       "      <td>6.1</td>\n",
       "      <td>6.3</td>\n",
       "    </tr>\n",
       "    <tr>\n",
       "      <th>NH Carlton Amsterdam</th>\n",
       "      <td>1</td>\n",
       "      <td>6.5</td>\n",
       "      <td>7.4</td>\n",
       "      <td>7.2</td>\n",
       "      <td>7.7</td>\n",
       "      <td>6.2</td>\n",
       "      <td>5.3</td>\n",
       "      <td>5.1</td>\n",
       "    </tr>\n",
       "    <tr>\n",
       "      <th>Hotel Cavendish</th>\n",
       "      <td>1</td>\n",
       "      <td>6.1</td>\n",
       "      <td>7.2</td>\n",
       "      <td>7.3</td>\n",
       "      <td>7.4</td>\n",
       "      <td>6.3</td>\n",
       "      <td>7.0</td>\n",
       "      <td>5.7</td>\n",
       "    </tr>\n",
       "    <tr>\n",
       "      <th>Holiday Inn London Kensington Forum</th>\n",
       "      <td>1</td>\n",
       "      <td>6.5</td>\n",
       "      <td>7.4</td>\n",
       "      <td>7.3</td>\n",
       "      <td>7.6</td>\n",
       "      <td>7.1</td>\n",
       "      <td>5.5</td>\n",
       "      <td>7.0</td>\n",
       "    </tr>\n",
       "    <tr>\n",
       "      <th>DoubleTree by Hilton London Docklands Riverside</th>\n",
       "      <td>1</td>\n",
       "      <td>6.9</td>\n",
       "      <td>7.2</td>\n",
       "      <td>7.1</td>\n",
       "      <td>7.4</td>\n",
       "      <td>6.4</td>\n",
       "      <td>5.5</td>\n",
       "      <td>6.8</td>\n",
       "    </tr>\n",
       "    <tr>\n",
       "      <th>Hilton London Metropole</th>\n",
       "      <td>1</td>\n",
       "      <td>6.0</td>\n",
       "      <td>7.1</td>\n",
       "      <td>6.9</td>\n",
       "      <td>7.5</td>\n",
       "      <td>6.7</td>\n",
       "      <td>4.8</td>\n",
       "      <td>6.3</td>\n",
       "    </tr>\n",
       "    <tr>\n",
       "      <th>St James Court A Taj Hotel London</th>\n",
       "      <td>1</td>\n",
       "      <td>7.0</td>\n",
       "      <td>7.5</td>\n",
       "      <td>7.6</td>\n",
       "      <td>7.7</td>\n",
       "      <td>6.5</td>\n",
       "      <td>5.9</td>\n",
       "      <td>7.4</td>\n",
       "    </tr>\n",
       "    <tr>\n",
       "      <th>Blakemore Hyde Park</th>\n",
       "      <td>1</td>\n",
       "      <td>7.1</td>\n",
       "      <td>7.0</td>\n",
       "      <td>7.3</td>\n",
       "      <td>7.5</td>\n",
       "      <td>4.1</td>\n",
       "      <td>6.8</td>\n",
       "      <td>6.9</td>\n",
       "    </tr>\n",
       "    <tr>\n",
       "      <th>Corus Hotel Hyde Park</th>\n",
       "      <td>1</td>\n",
       "      <td>6.5</td>\n",
       "      <td>7.4</td>\n",
       "      <td>7.3</td>\n",
       "      <td>7.6</td>\n",
       "      <td>7.1</td>\n",
       "      <td>5.3</td>\n",
       "      <td>7.0</td>\n",
       "    </tr>\n",
       "    <tr>\n",
       "      <th>Holiday Inn London Kensington</th>\n",
       "      <td>1</td>\n",
       "      <td>6.5</td>\n",
       "      <td>7.1</td>\n",
       "      <td>7.2</td>\n",
       "      <td>7.5</td>\n",
       "      <td>6.6</td>\n",
       "      <td>5.6</td>\n",
       "      <td>6.8</td>\n",
       "    </tr>\n",
       "    <tr>\n",
       "      <th>M by Montcalm Shoreditch London Tech City</th>\n",
       "      <td>1</td>\n",
       "      <td>7.4</td>\n",
       "      <td>6.7</td>\n",
       "      <td>7.4</td>\n",
       "      <td>7.6</td>\n",
       "      <td>4.1</td>\n",
       "      <td>7.1</td>\n",
       "      <td>7.2</td>\n",
       "    </tr>\n",
       "    <tr>\n",
       "      <th>Hotel SB Diagonal Zero Barcelona 4 Sup</th>\n",
       "      <td>1</td>\n",
       "      <td>7.2</td>\n",
       "      <td>7.5</td>\n",
       "      <td>7.5</td>\n",
       "      <td>7.5</td>\n",
       "      <td>6.2</td>\n",
       "      <td>6.4</td>\n",
       "      <td>7.0</td>\n",
       "    </tr>\n",
       "    <tr>\n",
       "      <th>Idea Hotel Milano San Siro</th>\n",
       "      <td>1</td>\n",
       "      <td>6.9</td>\n",
       "      <td>7.1</td>\n",
       "      <td>6.9</td>\n",
       "      <td>6.2</td>\n",
       "      <td>6.9</td>\n",
       "      <td>5.6</td>\n",
       "      <td>7.2</td>\n",
       "    </tr>\n",
       "    <tr>\n",
       "      <th>Hotel 82 London</th>\n",
       "      <td>1</td>\n",
       "      <td>6.7</td>\n",
       "      <td>6.8</td>\n",
       "      <td>7.4</td>\n",
       "      <td>7.5</td>\n",
       "      <td>7.0</td>\n",
       "      <td>5.1</td>\n",
       "      <td>7.2</td>\n",
       "    </tr>\n",
       "    <tr>\n",
       "      <th>Rafayel Hotel Spa</th>\n",
       "      <td>1</td>\n",
       "      <td>7.2</td>\n",
       "      <td>7.4</td>\n",
       "      <td>7.2</td>\n",
       "      <td>7.5</td>\n",
       "      <td>4.3</td>\n",
       "      <td>7.1</td>\n",
       "      <td>7.1</td>\n",
       "    </tr>\n",
       "    <tr>\n",
       "      <th>Hilton London Olympia</th>\n",
       "      <td>1</td>\n",
       "      <td>6.3</td>\n",
       "      <td>7.6</td>\n",
       "      <td>7.5</td>\n",
       "      <td>7.6</td>\n",
       "      <td>7.3</td>\n",
       "      <td>5.5</td>\n",
       "      <td>7.0</td>\n",
       "    </tr>\n",
       "    <tr>\n",
       "      <th>IH Hotels Milano Gioia</th>\n",
       "      <td>1</td>\n",
       "      <td>6.7</td>\n",
       "      <td>7.2</td>\n",
       "      <td>6.8</td>\n",
       "      <td>6.9</td>\n",
       "      <td>6.0</td>\n",
       "      <td>6.5</td>\n",
       "      <td>6.1</td>\n",
       "    </tr>\n",
       "    <tr>\n",
       "      <th>Commodore Hotel</th>\n",
       "      <td>1</td>\n",
       "      <td>6.2</td>\n",
       "      <td>7.0</td>\n",
       "      <td>6.9</td>\n",
       "      <td>7.6</td>\n",
       "      <td>6.7</td>\n",
       "      <td>6.0</td>\n",
       "      <td>5.5</td>\n",
       "    </tr>\n",
       "    <tr>\n",
       "      <th>The Cumberland A Guoman Hotel</th>\n",
       "      <td>1</td>\n",
       "      <td>6.1</td>\n",
       "      <td>7.4</td>\n",
       "      <td>7.1</td>\n",
       "      <td>7.6</td>\n",
       "      <td>5.6</td>\n",
       "      <td>5.4</td>\n",
       "      <td>5.8</td>\n",
       "    </tr>\n",
       "    <tr>\n",
       "      <th>Strand Palace Hotel</th>\n",
       "      <td>1</td>\n",
       "      <td>6.4</td>\n",
       "      <td>7.1</td>\n",
       "      <td>7.4</td>\n",
       "      <td>7.7</td>\n",
       "      <td>6.6</td>\n",
       "      <td>6.4</td>\n",
       "      <td>7.2</td>\n",
       "    </tr>\n",
       "    <tr>\n",
       "      <th>Gainsborough Hotel</th>\n",
       "      <td>1</td>\n",
       "      <td>6.0</td>\n",
       "      <td>7.0</td>\n",
       "      <td>7.4</td>\n",
       "      <td>7.5</td>\n",
       "      <td>7.5</td>\n",
       "      <td>5.8</td>\n",
       "      <td>5.9</td>\n",
       "    </tr>\n",
       "    <tr>\n",
       "      <th>Park Plaza County Hall London</th>\n",
       "      <td>1</td>\n",
       "      <td>6.7</td>\n",
       "      <td>6.9</td>\n",
       "      <td>7.4</td>\n",
       "      <td>7.7</td>\n",
       "      <td>5.7</td>\n",
       "      <td>6.0</td>\n",
       "      <td>7.0</td>\n",
       "    </tr>\n",
       "    <tr>\n",
       "      <th>Park Plaza Westminster Bridge London</th>\n",
       "      <td>1</td>\n",
       "      <td>7.0</td>\n",
       "      <td>6.8</td>\n",
       "      <td>7.2</td>\n",
       "      <td>7.7</td>\n",
       "      <td>5.9</td>\n",
       "      <td>6.7</td>\n",
       "      <td>7.3</td>\n",
       "    </tr>\n",
       "    <tr>\n",
       "      <th>Hilton London Kensington Hotel</th>\n",
       "      <td>1</td>\n",
       "      <td>6.3</td>\n",
       "      <td>7.4</td>\n",
       "      <td>7.4</td>\n",
       "      <td>7.6</td>\n",
       "      <td>6.9</td>\n",
       "      <td>5.7</td>\n",
       "      <td>7.1</td>\n",
       "    </tr>\n",
       "    <tr>\n",
       "      <th>Park Plaza Victoria Amsterdam</th>\n",
       "      <td>1</td>\n",
       "      <td>6.9</td>\n",
       "      <td>7.4</td>\n",
       "      <td>7.5</td>\n",
       "      <td>7.7</td>\n",
       "      <td>6.3</td>\n",
       "      <td>6.4</td>\n",
       "      <td>7.2</td>\n",
       "    </tr>\n",
       "    <tr>\n",
       "      <th>Courthouse Hotel London</th>\n",
       "      <td>1</td>\n",
       "      <td>6.4</td>\n",
       "      <td>7.0</td>\n",
       "      <td>7.3</td>\n",
       "      <td>7.8</td>\n",
       "      <td>6.4</td>\n",
       "      <td>5.9</td>\n",
       "      <td>7.0</td>\n",
       "    </tr>\n",
       "  </tbody>\n",
       "</table>\n",
       "</div>"
      ],
      "text/plain": [
       "                                                 prediction  room  food  \\\n",
       "hotel                                                                     \n",
       "Henry VIII                                                1   6.0   6.6   \n",
       "Copthorne Tara Hotel London Kensington                    1   6.5   7.0   \n",
       "Saint Georges Hotel                                       1   7.1   7.4   \n",
       "Millennium Hotel London Mayfair                           1   6.5   7.0   \n",
       "Mercure Paris Terminus Nord                               1   6.8   7.3   \n",
       "Park Lane Mews Hotel                                      1   5.9   7.0   \n",
       "Britannia International Hotel Canary Wharf                1   5.9   5.7   \n",
       "The Grosvenor                                             1   6.9   6.9   \n",
       "Millennium Gloucester Hotel London                        1   6.4   6.9   \n",
       "Hyatt Regency Paris Etoile                                1   6.8   6.9   \n",
       "NH Carlton Amsterdam                                      1   6.5   7.4   \n",
       "Hotel Cavendish                                           1   6.1   7.2   \n",
       "Holiday Inn London Kensington Forum                       1   6.5   7.4   \n",
       "DoubleTree by Hilton London Docklands Riverside           1   6.9   7.2   \n",
       "Hilton London Metropole                                   1   6.0   7.1   \n",
       "St James Court A Taj Hotel London                         1   7.0   7.5   \n",
       "Blakemore Hyde Park                                       1   7.1   7.0   \n",
       "Corus Hotel Hyde Park                                     1   6.5   7.4   \n",
       "Holiday Inn London Kensington                             1   6.5   7.1   \n",
       "M by Montcalm Shoreditch London Tech City                 1   7.4   6.7   \n",
       "Hotel SB Diagonal Zero Barcelona 4 Sup                    1   7.2   7.5   \n",
       "Idea Hotel Milano San Siro                                1   6.9   7.1   \n",
       "Hotel 82 London                                           1   6.7   6.8   \n",
       "Rafayel Hotel Spa                                         1   7.2   7.4   \n",
       "Hilton London Olympia                                     1   6.3   7.6   \n",
       "IH Hotels Milano Gioia                                    1   6.7   7.2   \n",
       "Commodore Hotel                                           1   6.2   7.0   \n",
       "The Cumberland A Guoman Hotel                             1   6.1   7.4   \n",
       "Strand Palace Hotel                                       1   6.4   7.1   \n",
       "Gainsborough Hotel                                        1   6.0   7.0   \n",
       "Park Plaza County Hall London                             1   6.7   6.9   \n",
       "Park Plaza Westminster Bridge London                      1   7.0   6.8   \n",
       "Hilton London Kensington Hotel                            1   6.3   7.4   \n",
       "Park Plaza Victoria Amsterdam                             1   6.9   7.4   \n",
       "Courthouse Hotel London                                   1   6.4   7.0   \n",
       "\n",
       "                                                 staff  location  internet  \\\n",
       "hotel                                                                        \n",
       "Henry VIII                                         7.2       7.5       6.4   \n",
       "Copthorne Tara Hotel London Kensington             7.2       7.6       5.2   \n",
       "Saint Georges Hotel                                7.3       7.8       6.2   \n",
       "Millennium Hotel London Mayfair                    7.1       7.7       5.9   \n",
       "Mercure Paris Terminus Nord                        7.2       7.5       6.4   \n",
       "Park Lane Mews Hotel                               7.2       7.7       5.9   \n",
       "Britannia International Hotel Canary Wharf         6.2       7.3       6.7   \n",
       "The Grosvenor                                      7.2       7.6       5.4   \n",
       "Millennium Gloucester Hotel London                 7.0       7.6       6.1   \n",
       "Hyatt Regency Paris Etoile                         7.2       7.6       6.1   \n",
       "NH Carlton Amsterdam                               7.2       7.7       6.2   \n",
       "Hotel Cavendish                                    7.3       7.4       6.3   \n",
       "Holiday Inn London Kensington Forum                7.3       7.6       7.1   \n",
       "DoubleTree by Hilton London Docklands Riverside    7.1       7.4       6.4   \n",
       "Hilton London Metropole                            6.9       7.5       6.7   \n",
       "St James Court A Taj Hotel London                  7.6       7.7       6.5   \n",
       "Blakemore Hyde Park                                7.3       7.5       4.1   \n",
       "Corus Hotel Hyde Park                              7.3       7.6       7.1   \n",
       "Holiday Inn London Kensington                      7.2       7.5       6.6   \n",
       "M by Montcalm Shoreditch London Tech City          7.4       7.6       4.1   \n",
       "Hotel SB Diagonal Zero Barcelona 4 Sup             7.5       7.5       6.2   \n",
       "Idea Hotel Milano San Siro                         6.9       6.2       6.9   \n",
       "Hotel 82 London                                    7.4       7.5       7.0   \n",
       "Rafayel Hotel Spa                                  7.2       7.5       4.3   \n",
       "Hilton London Olympia                              7.5       7.6       7.3   \n",
       "IH Hotels Milano Gioia                             6.8       6.9       6.0   \n",
       "Commodore Hotel                                    6.9       7.6       6.7   \n",
       "The Cumberland A Guoman Hotel                      7.1       7.6       5.6   \n",
       "Strand Palace Hotel                                7.4       7.7       6.6   \n",
       "Gainsborough Hotel                                 7.4       7.5       7.5   \n",
       "Park Plaza County Hall London                      7.4       7.7       5.7   \n",
       "Park Plaza Westminster Bridge London               7.2       7.7       5.9   \n",
       "Hilton London Kensington Hotel                     7.4       7.6       6.9   \n",
       "Park Plaza Victoria Amsterdam                      7.5       7.7       6.3   \n",
       "Courthouse Hotel London                            7.3       7.8       6.4   \n",
       "\n",
       "                                                 bathroom  facilities  \n",
       "hotel                                                                  \n",
       "Henry VIII                                            6.1         6.6  \n",
       "Copthorne Tara Hotel London Kensington                5.4         6.6  \n",
       "Saint Georges Hotel                                   5.8         7.1  \n",
       "Millennium Hotel London Mayfair                       5.5         6.7  \n",
       "Mercure Paris Terminus Nord                           4.4         5.5  \n",
       "Park Lane Mews Hotel                                  6.2         5.3  \n",
       "Britannia International Hotel Canary Wharf            5.0         5.7  \n",
       "The Grosvenor                                         6.0         6.5  \n",
       "Millennium Gloucester Hotel London                    5.0         5.9  \n",
       "Hyatt Regency Paris Etoile                            6.1         6.3  \n",
       "NH Carlton Amsterdam                                  5.3         5.1  \n",
       "Hotel Cavendish                                       7.0         5.7  \n",
       "Holiday Inn London Kensington Forum                   5.5         7.0  \n",
       "DoubleTree by Hilton London Docklands Riverside       5.5         6.8  \n",
       "Hilton London Metropole                               4.8         6.3  \n",
       "St James Court A Taj Hotel London                     5.9         7.4  \n",
       "Blakemore Hyde Park                                   6.8         6.9  \n",
       "Corus Hotel Hyde Park                                 5.3         7.0  \n",
       "Holiday Inn London Kensington                         5.6         6.8  \n",
       "M by Montcalm Shoreditch London Tech City             7.1         7.2  \n",
       "Hotel SB Diagonal Zero Barcelona 4 Sup                6.4         7.0  \n",
       "Idea Hotel Milano San Siro                            5.6         7.2  \n",
       "Hotel 82 London                                       5.1         7.2  \n",
       "Rafayel Hotel Spa                                     7.1         7.1  \n",
       "Hilton London Olympia                                 5.5         7.0  \n",
       "IH Hotels Milano Gioia                                6.5         6.1  \n",
       "Commodore Hotel                                       6.0         5.5  \n",
       "The Cumberland A Guoman Hotel                         5.4         5.8  \n",
       "Strand Palace Hotel                                   6.4         7.2  \n",
       "Gainsborough Hotel                                    5.8         5.9  \n",
       "Park Plaza County Hall London                         6.0         7.0  \n",
       "Park Plaza Westminster Bridge London                  6.7         7.3  \n",
       "Hilton London Kensington Hotel                        5.7         7.1  \n",
       "Park Plaza Victoria Amsterdam                         6.4         7.2  \n",
       "Courthouse Hotel London                               5.9         7.0  "
      ]
     },
     "execution_count": 40,
     "metadata": {},
     "output_type": "execute_result"
    }
   ],
   "source": [
    "df_pred2.sort_values('prediction').query('prediction==1').round(1)"
   ]
  },
  {
   "cell_type": "code",
   "execution_count": 41,
   "metadata": {
    "collapsed": true,
    "deletable": true,
    "editable": true
   },
   "outputs": [],
   "source": [
    "df_hotels = spark.sql(\"SELECT hotel, prediction as cluster, facilities, room, bathroom, food, staff, location, internet FROM plots  WHERE hotel='Hotel Monge' or hotel='Grange Holborn Hotel' or hotel='Hotel Da Vinci' or hotel='Mercure Paris Terminus Nord'\") "
   ]
  },
  {
   "cell_type": "code",
   "execution_count": 42,
   "metadata": {
    "collapsed": false,
    "deletable": true,
    "editable": true
   },
   "outputs": [
    {
     "data": {
      "text/html": [
       "<div>\n",
       "<style scoped>\n",
       "    .dataframe tbody tr th:only-of-type {\n",
       "        vertical-align: middle;\n",
       "    }\n",
       "\n",
       "    .dataframe tbody tr th {\n",
       "        vertical-align: top;\n",
       "    }\n",
       "\n",
       "    .dataframe thead th {\n",
       "        text-align: right;\n",
       "    }\n",
       "</style>\n",
       "<table border=\"1\" class=\"dataframe\">\n",
       "  <thead>\n",
       "    <tr style=\"text-align: right;\">\n",
       "      <th></th>\n",
       "      <th>cluster</th>\n",
       "      <th>facilities</th>\n",
       "      <th>room</th>\n",
       "      <th>bathroom</th>\n",
       "      <th>food</th>\n",
       "      <th>staff</th>\n",
       "      <th>location</th>\n",
       "      <th>internet</th>\n",
       "    </tr>\n",
       "    <tr>\n",
       "      <th>hotel</th>\n",
       "      <th></th>\n",
       "      <th></th>\n",
       "      <th></th>\n",
       "      <th></th>\n",
       "      <th></th>\n",
       "      <th></th>\n",
       "      <th></th>\n",
       "      <th></th>\n",
       "    </tr>\n",
       "  </thead>\n",
       "  <tbody>\n",
       "    <tr>\n",
       "      <th>Hotel Monge</th>\n",
       "      <td>0</td>\n",
       "      <td>8.2</td>\n",
       "      <td>7.8</td>\n",
       "      <td>7.7</td>\n",
       "      <td>7.9</td>\n",
       "      <td>7.9</td>\n",
       "      <td>8.1</td>\n",
       "      <td>7.9</td>\n",
       "    </tr>\n",
       "    <tr>\n",
       "      <th>Hotel Da Vinci</th>\n",
       "      <td>2</td>\n",
       "      <td>6.3</td>\n",
       "      <td>7.0</td>\n",
       "      <td>6.6</td>\n",
       "      <td>7.0</td>\n",
       "      <td>6.7</td>\n",
       "      <td>6.7</td>\n",
       "      <td>7.3</td>\n",
       "    </tr>\n",
       "    <tr>\n",
       "      <th>Mercure Paris Terminus Nord</th>\n",
       "      <td>1</td>\n",
       "      <td>5.5</td>\n",
       "      <td>6.8</td>\n",
       "      <td>4.4</td>\n",
       "      <td>7.3</td>\n",
       "      <td>7.2</td>\n",
       "      <td>7.5</td>\n",
       "      <td>6.4</td>\n",
       "    </tr>\n",
       "    <tr>\n",
       "      <th>Grange Holborn Hotel</th>\n",
       "      <td>3</td>\n",
       "      <td>7.7</td>\n",
       "      <td>7.6</td>\n",
       "      <td>7.5</td>\n",
       "      <td>7.7</td>\n",
       "      <td>7.6</td>\n",
       "      <td>7.7</td>\n",
       "      <td>7.7</td>\n",
       "    </tr>\n",
       "  </tbody>\n",
       "</table>\n",
       "</div>"
      ],
      "text/plain": [
       "                             cluster  facilities  room  bathroom  food  staff  \\\n",
       "hotel                                                                           \n",
       "Hotel Monge                        0         8.2   7.8       7.7   7.9    7.9   \n",
       "Hotel Da Vinci                     2         6.3   7.0       6.6   7.0    6.7   \n",
       "Mercure Paris Terminus Nord        1         5.5   6.8       4.4   7.3    7.2   \n",
       "Grange Holborn Hotel               3         7.7   7.6       7.5   7.7    7.6   \n",
       "\n",
       "                             location  internet  \n",
       "hotel                                            \n",
       "Hotel Monge                       8.1       7.9  \n",
       "Hotel Da Vinci                    6.7       7.3  \n",
       "Mercure Paris Terminus Nord       7.5       6.4  \n",
       "Grange Holborn Hotel              7.7       7.7  "
      ]
     },
     "execution_count": 42,
     "metadata": {},
     "output_type": "execute_result"
    }
   ],
   "source": [
    "df_hotels2 = df_hotels.toPandas().set_index('hotel').round(1)#.sort_index()\n",
    "df_hotels2"
   ]
  },
  {
   "cell_type": "code",
   "execution_count": null,
   "metadata": {
    "collapsed": true,
    "deletable": true,
    "editable": true
   },
   "outputs": [],
   "source": []
  },
  {
   "cell_type": "code",
   "execution_count": 43,
   "metadata": {
    "collapsed": false,
    "deletable": true,
    "editable": true
   },
   "outputs": [
    {
     "name": "stderr",
     "output_type": "stream",
     "text": [
      "No handles with labels found to put in legend.\n"
     ]
    },
    {
     "data": {
      "text/plain": [
       "<matplotlib.axes._subplots.AxesSubplot at 0x7f9cf4500f60>"
      ]
     },
     "execution_count": 43,
     "metadata": {},
     "output_type": "execute_result"
    },
    {
     "data": {
      "image/png": "[encoded data removed]",
      "text/plain": [
       "<Figure size 432x288 with 1 Axes>"
      ]
     },
     "metadata": {
      "needs_background": "light"
     },
     "output_type": "display_data"
    }
   ],
   "source": [
    "#grafico: un hotel per cluster\n",
    "from pandas.plotting import parallel_coordinates\n",
    "plt.figure()\n",
    "plt.legend(loc='lower right')\n",
    "parallel_coordinates(df_hotels2, 'cluster', color=['b','g','r','y','k','c','m'])"
   ]
  },
  {
   "cell_type": "code",
   "execution_count": 44,
   "metadata": {
    "collapsed": true,
    "deletable": true,
    "editable": true
   },
   "outputs": [],
   "source": [
    "df_pred3 = df_pred2.drop(\"prediction\", axis= 1)"
   ]
  },
  {
   "cell_type": "code",
   "execution_count": 45,
   "metadata": {
    "collapsed": false,
    "deletable": true,
    "editable": true
   },
   "outputs": [
    {
     "data": {
      "text/html": [
       "<div>\n",
       "<style scoped>\n",
       "    .dataframe tbody tr th:only-of-type {\n",
       "        vertical-align: middle;\n",
       "    }\n",
       "\n",
       "    .dataframe tbody tr th {\n",
       "        vertical-align: top;\n",
       "    }\n",
       "\n",
       "    .dataframe thead th {\n",
       "        text-align: right;\n",
       "    }\n",
       "</style>\n",
       "<table border=\"1\" class=\"dataframe\">\n",
       "  <thead>\n",
       "    <tr style=\"text-align: right;\">\n",
       "      <th></th>\n",
       "      <th>room</th>\n",
       "      <th>food</th>\n",
       "      <th>staff</th>\n",
       "      <th>location</th>\n",
       "      <th>internet</th>\n",
       "      <th>bathroom</th>\n",
       "      <th>facilities</th>\n",
       "    </tr>\n",
       "    <tr>\n",
       "      <th>hotel</th>\n",
       "      <th></th>\n",
       "      <th></th>\n",
       "      <th></th>\n",
       "      <th></th>\n",
       "      <th></th>\n",
       "      <th></th>\n",
       "      <th></th>\n",
       "    </tr>\n",
       "  </thead>\n",
       "  <tbody>\n",
       "    <tr>\n",
       "      <th>H tel Bedford</th>\n",
       "      <td>7.622863</td>\n",
       "      <td>7.709816</td>\n",
       "      <td>7.639943</td>\n",
       "      <td>7.742673</td>\n",
       "      <td>7.510600</td>\n",
       "      <td>7.849417</td>\n",
       "      <td>7.489083</td>\n",
       "    </tr>\n",
       "    <tr>\n",
       "      <th>Hotel Topazz</th>\n",
       "      <td>7.882769</td>\n",
       "      <td>7.877455</td>\n",
       "      <td>7.880242</td>\n",
       "      <td>7.993716</td>\n",
       "      <td>7.859500</td>\n",
       "      <td>7.890150</td>\n",
       "      <td>7.845667</td>\n",
       "    </tr>\n",
       "    <tr>\n",
       "      <th>Ayre Hotel Rosell n</th>\n",
       "      <td>7.508994</td>\n",
       "      <td>7.709759</td>\n",
       "      <td>7.628319</td>\n",
       "      <td>7.721214</td>\n",
       "      <td>7.250300</td>\n",
       "      <td>7.242833</td>\n",
       "      <td>7.446923</td>\n",
       "    </tr>\n",
       "    <tr>\n",
       "      <th>London Marriott Hotel Regents Park</th>\n",
       "      <td>7.574265</td>\n",
       "      <td>7.611488</td>\n",
       "      <td>7.655863</td>\n",
       "      <td>7.552056</td>\n",
       "      <td>7.545344</td>\n",
       "      <td>7.555917</td>\n",
       "      <td>7.611563</td>\n",
       "    </tr>\n",
       "    <tr>\n",
       "      <th>Shaftesbury Metropolis London Hyde Park</th>\n",
       "      <td>7.247095</td>\n",
       "      <td>7.467438</td>\n",
       "      <td>7.540154</td>\n",
       "      <td>7.562935</td>\n",
       "      <td>7.392955</td>\n",
       "      <td>7.343771</td>\n",
       "      <td>7.166800</td>\n",
       "    </tr>\n",
       "    <tr>\n",
       "      <th>Rubens At The Palace</th>\n",
       "      <td>7.680450</td>\n",
       "      <td>7.714425</td>\n",
       "      <td>7.732445</td>\n",
       "      <td>7.806328</td>\n",
       "      <td>7.626500</td>\n",
       "      <td>7.635143</td>\n",
       "      <td>7.700583</td>\n",
       "    </tr>\n",
       "    <tr>\n",
       "      <th>DoubleTree by Hilton London Ealing</th>\n",
       "      <td>7.542239</td>\n",
       "      <td>7.611958</td>\n",
       "      <td>7.553244</td>\n",
       "      <td>7.595120</td>\n",
       "      <td>7.553000</td>\n",
       "      <td>7.668028</td>\n",
       "      <td>7.722250</td>\n",
       "    </tr>\n",
       "    <tr>\n",
       "      <th>Austria Trend Hotel Rathauspark Wien</th>\n",
       "      <td>7.562193</td>\n",
       "      <td>7.620578</td>\n",
       "      <td>7.588632</td>\n",
       "      <td>7.706278</td>\n",
       "      <td>7.342400</td>\n",
       "      <td>7.638000</td>\n",
       "      <td>7.474375</td>\n",
       "    </tr>\n",
       "    <tr>\n",
       "      <th>Best Western Hotel St George</th>\n",
       "      <td>7.645097</td>\n",
       "      <td>7.526250</td>\n",
       "      <td>7.636458</td>\n",
       "      <td>7.491920</td>\n",
       "      <td>7.361545</td>\n",
       "      <td>7.781500</td>\n",
       "      <td>7.929500</td>\n",
       "    </tr>\n",
       "    <tr>\n",
       "      <th>The Tophams Hotel</th>\n",
       "      <td>7.666056</td>\n",
       "      <td>7.202000</td>\n",
       "      <td>7.759833</td>\n",
       "      <td>7.753510</td>\n",
       "      <td>7.941833</td>\n",
       "      <td>7.423833</td>\n",
       "      <td>8.675500</td>\n",
       "    </tr>\n",
       "  </tbody>\n",
       "</table>\n",
       "</div>"
      ],
      "text/plain": [
       "                                             room      food     staff  \\\n",
       "hotel                                                                   \n",
       "H tel Bedford                            7.622863  7.709816  7.639943   \n",
       "Hotel Topazz                             7.882769  7.877455  7.880242   \n",
       "Ayre Hotel Rosell n                      7.508994  7.709759  7.628319   \n",
       "London Marriott Hotel Regents Park       7.574265  7.611488  7.655863   \n",
       "Shaftesbury Metropolis London Hyde Park  7.247095  7.467438  7.540154   \n",
       "Rubens At The Palace                     7.680450  7.714425  7.732445   \n",
       "DoubleTree by Hilton London Ealing       7.542239  7.611958  7.553244   \n",
       "Austria Trend Hotel Rathauspark Wien     7.562193  7.620578  7.588632   \n",
       "Best Western Hotel St George             7.645097  7.526250  7.636458   \n",
       "The Tophams Hotel                        7.666056  7.202000  7.759833   \n",
       "\n",
       "                                         location  internet  bathroom  \\\n",
       "hotel                                                                   \n",
       "H tel Bedford                            7.742673  7.510600  7.849417   \n",
       "Hotel Topazz                             7.993716  7.859500  7.890150   \n",
       "Ayre Hotel Rosell n                      7.721214  7.250300  7.242833   \n",
       "London Marriott Hotel Regents Park       7.552056  7.545344  7.555917   \n",
       "Shaftesbury Metropolis London Hyde Park  7.562935  7.392955  7.343771   \n",
       "Rubens At The Palace                     7.806328  7.626500  7.635143   \n",
       "DoubleTree by Hilton London Ealing       7.595120  7.553000  7.668028   \n",
       "Austria Trend Hotel Rathauspark Wien     7.706278  7.342400  7.638000   \n",
       "Best Western Hotel St George             7.491920  7.361545  7.781500   \n",
       "The Tophams Hotel                        7.753510  7.941833  7.423833   \n",
       "\n",
       "                                         facilities  \n",
       "hotel                                                \n",
       "H tel Bedford                              7.489083  \n",
       "Hotel Topazz                               7.845667  \n",
       "Ayre Hotel Rosell n                        7.446923  \n",
       "London Marriott Hotel Regents Park         7.611563  \n",
       "Shaftesbury Metropolis London Hyde Park    7.166800  \n",
       "Rubens At The Palace                       7.700583  \n",
       "DoubleTree by Hilton London Ealing         7.722250  \n",
       "Austria Trend Hotel Rathauspark Wien       7.474375  \n",
       "Best Western Hotel St George               7.929500  \n",
       "The Tophams Hotel                          8.675500  "
      ]
     },
     "execution_count": 45,
     "metadata": {},
     "output_type": "execute_result"
    }
   ],
   "source": [
    "df_pred3.head(10)"
   ]
  },
  {
   "cell_type": "code",
   "execution_count": 46,
   "metadata": {
    "collapsed": false,
    "deletable": true,
    "editable": true
   },
   "outputs": [
    {
     "data": {
      "image/png": "[encoded data removed]",
      "text/plain": [
       "<Figure size 432x288 with 1 Axes>"
      ]
     },
     "metadata": {
      "needs_background": "dark"
     },
     "output_type": "display_data"
    }
   ],
   "source": [
    "hotel1 = 'Hotel Monge'\n",
    "\n",
    "    \n",
    "\n",
    "categories=list(df_pred3)[0:]\n",
    "N = len(categories)\n",
    " \n",
    "\n",
    "values=df_pred3.loc[hotel1].values.flatten().tolist()\n",
    "values += values[:1]\n",
    "values\n",
    "\n",
    "values2=df_pred3.loc[hotel1].values.flatten().tolist()\n",
    "values2 += values2[:1]\n",
    "values2\n",
    "\n",
    " \n",
    "angles = [n / float(N) * 2 * pi for n in range(N)]\n",
    "angles += angles[:1]\n",
    " \n",
    "ax = plt.subplot(111, polar=True)\n",
    " \n",
    "plt.xticks(angles[:-1], categories, color='grey', size=8)\n",
    " \n",
    "ax.set_rlabel_position(0)\n",
    "plt.yticks([3,6,8.5], [\"3\",\"6\",\"8\"], color=\"grey\", size=7)\n",
    "plt.ylim(3,8.5)\n",
    " \n",
    "ax.plot(angles, values, linewidth=1, linestyle='solid')\n",
    "ax.plot(angles, values2, linewidth=1, linestyle='solid')\n",
    "\n",
    "plt.title(hotel1)\n",
    "\n",
    "ax.fill(angles, values, 'b', alpha=0.1)\n",
    "ax.fill(angles, values2, 'b', alpha=0.1)\n",
    "plt.tight_layout()"
   ]
  },
  {
   "cell_type": "markdown",
   "metadata": {
    "deletable": true,
    "editable": true
   },
   "source": [
    "# Localization"
   ]
  },
  {
   "cell_type": "code",
   "execution_count": 47,
   "metadata": {
    "collapsed": true,
    "deletable": true,
    "editable": true
   },
   "outputs": [],
   "source": [
    "df_cleaned = spark.read.csv(\"hdfs://masterbig-1.itc.unipi.it:54310/user/student18/df_cleaned.csv\", header = True, inferSchema = True)"
   ]
  },
  {
   "cell_type": "code",
   "execution_count": 48,
   "metadata": {
    "collapsed": true,
    "deletable": true,
    "editable": true
   },
   "outputs": [],
   "source": [
    "df1 = df_cleaned.select('Hotel_Name','lat', 'lng').distinct()"
   ]
  },
  {
   "cell_type": "code",
   "execution_count": 49,
   "metadata": {
    "collapsed": true,
    "deletable": true,
    "editable": true
   },
   "outputs": [],
   "source": [
    "df_loc = df_pred.join(df1, df1.Hotel_Name == df_pred.hotel, 'inner')"
   ]
  },
  {
   "cell_type": "code",
   "execution_count": 50,
   "metadata": {
    "collapsed": true,
    "deletable": true,
    "editable": true
   },
   "outputs": [],
   "source": [
    "import pyspark.sql.functions as f"
   ]
  },
  {
   "cell_type": "code",
   "execution_count": 51,
   "metadata": {
    "collapsed": false,
    "deletable": true,
    "editable": true
   },
   "outputs": [
    {
     "data": {
      "text/plain": [
       "DataFrame[hotel: string, prediction: bigint, room: double, food: double, staff: double, location: double, internet: double, bathroom: double, facilities: double, Hotel_Name: string, lat: string, lng: string]"
      ]
     },
     "execution_count": 51,
     "metadata": {},
     "output_type": "execute_result"
    }
   ],
   "source": [
    "df_loc"
   ]
  },
  {
   "cell_type": "code",
   "execution_count": 52,
   "metadata": {
    "collapsed": true,
    "deletable": true,
    "editable": true
   },
   "outputs": [],
   "source": [
    "df_milano = df_loc.select(f.col(\"lat\").cast(\"float\").alias('lat'),\n",
    "              f.col(\"lng\").cast(\"float\").alias('lng'),\n",
    "              'Hotel_Name', 'prediction' ).filter(\"lat<45.528234 and lat>45.400042 and lng<9.284797 and lng>9.057297\")"
   ]
  },
  {
   "cell_type": "code",
   "execution_count": 53,
   "metadata": {
    "collapsed": true,
    "deletable": true,
    "editable": true
   },
   "outputs": [],
   "source": [
    "df_londra = df_loc.select(f.col(\"lat\").cast(\"float\").alias('lat'),\n",
    "              f.col(\"lng\").cast(\"float\").alias('lng'),\n",
    "              'Hotel_Name', 'prediction' ).filter(\"lat<51.701433 and lat>51.269276 and lng<0.340342 and lng>-0.622306\")"
   ]
  },
  {
   "cell_type": "code",
   "execution_count": 54,
   "metadata": {
    "collapsed": true,
    "deletable": true,
    "editable": true
   },
   "outputs": [],
   "source": [
    "df_londra.toPandas().to_csv(\"londra.csv\")"
   ]
  },
  {
   "cell_type": "code",
   "execution_count": 55,
   "metadata": {
    "collapsed": false,
    "deletable": true,
    "editable": true
   },
   "outputs": [
    {
     "data": {
      "text/plain": [
       "304"
      ]
     },
     "execution_count": 55,
     "metadata": {},
     "output_type": "execute_result"
    }
   ],
   "source": [
    "df_londra.count()"
   ]
  },
  {
   "cell_type": "code",
   "execution_count": 56,
   "metadata": {
    "collapsed": false,
    "deletable": true,
    "editable": true
   },
   "outputs": [
    {
     "data": {
      "text/plain": [
       "28"
      ]
     },
     "execution_count": 56,
     "metadata": {},
     "output_type": "execute_result"
    }
   ],
   "source": [
    "df_londra.filter(\"prediction=1\").count()"
   ]
  },
  {
   "cell_type": "code",
   "execution_count": 57,
   "metadata": {
    "collapsed": false,
    "deletable": true,
    "editable": true
   },
   "outputs": [
    {
     "data": {
      "text/plain": [
       "65"
      ]
     },
     "execution_count": 57,
     "metadata": {},
     "output_type": "execute_result"
    }
   ],
   "source": [
    "df_londra.filter(\"prediction=0\").count()"
   ]
  },
  {
   "cell_type": "code",
   "execution_count": 58,
   "metadata": {
    "collapsed": false,
    "deletable": true,
    "editable": true
   },
   "outputs": [
    {
     "data": {
      "text/plain": [
       "58"
      ]
     },
     "execution_count": 58,
     "metadata": {},
     "output_type": "execute_result"
    }
   ],
   "source": [
    "df_londra.filter(\"prediction=2\").count()"
   ]
  },
  {
   "cell_type": "code",
   "execution_count": 59,
   "metadata": {
    "collapsed": false,
    "deletable": true,
    "editable": true
   },
   "outputs": [
    {
     "data": {
      "text/plain": [
       "153"
      ]
     },
     "execution_count": 59,
     "metadata": {},
     "output_type": "execute_result"
    }
   ],
   "source": [
    "df_londra.filter(\"prediction=3\").count()"
   ]
  },
  {
   "cell_type": "code",
   "execution_count": 60,
   "metadata": {
    "collapsed": true,
    "deletable": true,
    "editable": true
   },
   "outputs": [],
   "source": [
    "df_milano.toPandas().to_csv(\"milano.csv\")"
   ]
  },
  {
   "cell_type": "code",
   "execution_count": 61,
   "metadata": {
    "collapsed": true,
    "deletable": true,
    "editable": true
   },
   "outputs": [],
   "source": [
    "#dataset esportati per il plot sulla mappa"
   ]
  }
 ],
 "metadata": {
  "kernelspec": {
   "display_name": "Python 3",
   "language": "python",
   "name": "python3"
  },
  "language_info": {
   "codemirror_mode": {
    "name": "ipython",
    "version": 3
   },
   "file_extension": ".py",
   "mimetype": "text/x-python",
   "name": "python",
   "nbconvert_exporter": "python",
   "pygments_lexer": "ipython3",
   "version": "3.4.3"
  }
 },
 "nbformat": 4,
 "nbformat_minor": 2
}
