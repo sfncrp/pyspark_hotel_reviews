{
 "cells": [
  {
   "cell_type": "code",
   "execution_count": 1,
   "metadata": {},
   "outputs": [],
   "source": [
    "from pyspark.sql import SparkSession\n",
    "\n",
    "spark = (SparkSession.builder\n",
    "         .appName('Python spark')\n",
    "         .config('spark.some.config.option','some-value')\n",
    "         .getOrCreate()\n",
    "         )"
   ]
  },
  {
   "cell_type": "code",
   "execution_count": 75,
   "metadata": {
    "scrolled": true
   },
   "outputs": [
    {
     "name": "stdout",
     "output_type": "stream",
     "text": [
      "root\n",
      " |-- hotel: string (nullable = true)\n",
      " |-- bathroom: double (nullable = true)\n",
      " |-- facilities: double (nullable = true)\n",
      " |-- food: double (nullable = true)\n",
      " |-- internet: double (nullable = true)\n",
      " |-- location: double (nullable = true)\n",
      " |-- room: double (nullable = true)\n",
      " |-- staff: double (nullable = true)\n",
      "\n"
     ]
    }
   ],
   "source": [
    "df_categories = spark.read.csv(\"hdfs://masterbig-1.itc.unipi.it:54310/user/student18/df_categories.csv\", header = True, inferSchema = True)\n",
    "#df_categoriesdf_cleaned = spark.read.csv(\"hdfs://masterbig-1.itc.unipi.it:54310/user/student18/df_cleaned.csv\", header = True, inferSchema = True)\n",
    "df_categories.printSchema()"
   ]
  },
  {
   "cell_type": "code",
   "execution_count": 76,
   "metadata": {},
   "outputs": [
    {
     "data": {
      "text/plain": [
       "[Row(hotel='H tel Bedford', bathroom=0.5698833333333333, facilities=0.49781666666666663, food=0.5419631578947369, internet=0.50212, location=0.548534693877551, room=0.5245725490196078, staff=0.5279886956521739),\n",
       " Row(hotel='Hotel Topazz', bathroom=0.57803, facilities=0.5691333333333334, food=0.5754909090909092, internet=0.5719, location=0.5987431818181819, room=0.5765538461538462, staff=0.5760484848484848),\n",
       " Row(hotel='Ayre Hotel Rosell n', bathroom=0.4485666666666666, facilities=0.4893846153846154, food=0.5419517241379311, internet=0.45005999999999996, location=0.5442427385892114, room=0.5017987012987013, staff=0.5256638888888889)]"
      ]
     },
     "execution_count": 76,
     "metadata": {},
     "output_type": "execute_result"
    }
   ],
   "source": [
    "df_categories.head(3)"
   ]
  },
  {
   "cell_type": "code",
   "execution_count": 77,
   "metadata": {},
   "outputs": [
    {
     "name": "stdout",
     "output_type": "stream",
     "text": [
      "+-------+--------------------+-------------------+-------------------+--------------------+--------------------+\n",
      "|summary|            bathroom|           location|               room|            internet|          facilities|\n",
      "+-------+--------------------+-------------------+-------------------+--------------------+--------------------+\n",
      "|  count|                1050|               1221|               1204|                 886|                 973|\n",
      "|   mean|  0.5134095524279068| 0.5626280639760403| 0.5356400109180018|  0.4887566086918376|  0.5185846951655839|\n",
      "| stddev|  0.0991484915924607|0.04097328046475687|0.07258245762697539| 0.07674448377038956| 0.08478103771420469|\n",
      "|    min|-0.11813250000000002| 0.2487529411764706| 0.1708173160173156|-0.18989999999999999|0.029591666666666645|\n",
      "|    max|              0.7579|             0.7906|              0.802|              0.7764|              0.8316|\n",
      "+-------+--------------------+-------------------+-------------------+--------------------+--------------------+\n",
      "\n"
     ]
    }
   ],
   "source": [
    "df_categories.select('bathroom','location', 'room', 'internet', 'facilities').describe().show()"
   ]
  },
  {
   "cell_type": "markdown",
   "metadata": {},
   "source": [
    "# Preprocessing"
   ]
  },
  {
   "cell_type": "code",
   "execution_count": 78,
   "metadata": {},
   "outputs": [],
   "source": [
    "# register table (if not exists)\n",
    "try:\n",
    "    df_categories.createTempView('clustering')\n",
    "except:\n",
    "    spark.catalog.dropTempView('clustering')\n",
    "    df_categories.createTempView('clustering')"
   ]
  },
  {
   "cell_type": "code",
   "execution_count": 79,
   "metadata": {},
   "outputs": [
    {
     "name": "stdout",
     "output_type": "stream",
     "text": [
      "+--------------------+------------------+-------------------+------------------+-------------------+-------------------+-------------------+-------------------+\n",
      "|               hotel|              room|               food|             staff|           location|           internet|           bathroom|         facilities|\n",
      "+--------------------+------------------+-------------------+------------------+-------------------+-------------------+-------------------+-------------------+\n",
      "|       H tel Bedford|0.5245725490196078| 0.5419631578947369|0.5279886956521739|  0.548534693877551|            0.50212| 0.5698833333333333|0.49781666666666663|\n",
      "|        Hotel Topazz|0.5765538461538462| 0.5754909090909092|0.5760484848484848| 0.5987431818181819|             0.5719|            0.57803| 0.5691333333333334|\n",
      "| Ayre Hotel Rosell n|0.5017987012987013| 0.5419517241379311|0.5256638888888889| 0.5442427385892114|0.45005999999999996| 0.4485666666666666| 0.4893846153846154|\n",
      "|London Marriott H...| 0.514853043478261| 0.5222976190476193|0.5311725321888412|  0.510411214953271| 0.5090687500000001| 0.5111833333333334| 0.5223124999999998|\n",
      "|Shaftesbury Metro...|0.4494190476190475|0.49348749999999997|0.5080308219178085| 0.5125869158878504|0.47859090909090907|0.46875428571428573| 0.4333600000000001|\n",
      "|Rubens At The Palace|0.5360899082568807| 0.5428850877192982|0.5464889250814332| 0.5612656410256407|             0.5253| 0.5270285714285714| 0.5401166666666667|\n",
      "|Catalonia La Pedrera|0.5611363636363638| 0.5596111111111112|0.5594162162162162| 0.5806821428571428|             0.5106|               null|             0.5758|\n",
      "|H tel Jos phine b...|            0.6249|             0.6249|           0.65222|             0.6312|               null|               null|               null|\n",
      "|DoubleTree by Hil...|0.5084478260869567| 0.5223916666666667|0.5106487922705314| 0.5190240740740742|             0.5106| 0.5336055555555557|            0.54445|\n",
      "|Tryp Barcelona Ap...|0.5418333333333334| 0.5390270270270271|0.5925794117647057| 0.5383189189189189|               null|               null|               null|\n",
      "|Austria Trend Hot...|0.5124386363636364| 0.5241156862745099|0.5177263636363636| 0.5412555555555555| 0.4684800000000001|             0.5276|0.49487499999999995|\n",
      "|Best Western Hote...|0.5290193548387097| 0.5052500000000001|0.5272916666666666|0.49838392857142866|0.47230909090909096|             0.5563|             0.5859|\n",
      "|      Hotel Corvinus|0.6426714285714287|             0.5719|0.6511142857142858| 0.5955481481481483|             0.6705|               null|               null|\n",
      "|Hidden Hotel by E...|            0.6249| 0.6362666666666666|0.6697222222222222|             0.6249|               null|             0.6249|               null|\n",
      "|   The Tophams Hotel|0.5332111111111112|             0.4404|0.5519666666666667| 0.5507020408163266| 0.5883666666666667| 0.4847666666666666|             0.7351|\n",
      "|       Hotel Louis 2|              null|             0.6908|            0.6249| 0.6249000000000001|               null|               null|               null|\n",
      "|H tel L Echiquier...|0.5671157894736844|           0.592075|          0.574924| 0.6078500000000001|             0.5106|           0.556175|             0.5594|\n",
      "| Little Palace Hotel| 0.538190410958904| 0.5247823529411765|0.5109516129032258| 0.5484578947368424| 0.4922777777777778|0.49462222222222213|            0.46605|\n",
      "|        Barcel Raval|0.5031903225806453|  0.507888888888889|0.5112595419847328| 0.5489853881278536|0.45776000000000006| 0.5009100000000001|0.33184629629629636|\n",
      "|Grange Rochester ...|0.5288158730158731|  0.506257142857143|0.5250408602150537| 0.5393388349514563|             0.5178|           0.540175|          0.4811625|\n",
      "+--------------------+------------------+-------------------+------------------+-------------------+-------------------+-------------------+-------------------+\n",
      "only showing top 20 rows\n",
      "\n"
     ]
    }
   ],
   "source": [
    "df_clustering = spark.sql(\"SELECT hotel, room, food, staff, location, internet, bathroom, facilities FROM clustering\")\n",
    "df_clustering.show()"
   ]
  },
  {
   "cell_type": "code",
   "execution_count": 80,
   "metadata": {},
   "outputs": [],
   "source": [
    "FEATURES_COL = ['room', 'food','staff','location', 'internet','bathroom', 'facilities']"
   ]
  },
  {
   "cell_type": "code",
   "execution_count": 81,
   "metadata": {},
   "outputs": [
    {
     "name": "stdout",
     "output_type": "stream",
     "text": [
      "root\n",
      " |-- hotel: string (nullable = true)\n",
      " |-- room: double (nullable = true)\n",
      " |-- food: double (nullable = true)\n",
      " |-- staff: double (nullable = true)\n",
      " |-- location: double (nullable = true)\n",
      " |-- internet: double (nullable = true)\n",
      " |-- bathroom: double (nullable = true)\n",
      " |-- facilities: double (nullable = true)\n",
      "\n"
     ]
    }
   ],
   "source": [
    "df_clustering.printSchema()"
   ]
  },
  {
   "cell_type": "code",
   "execution_count": 82,
   "metadata": {},
   "outputs": [
    {
     "data": {
      "text/plain": [
       "1232"
      ]
     },
     "execution_count": 82,
     "metadata": {},
     "output_type": "execute_result"
    }
   ],
   "source": [
    "df_clustering.count()"
   ]
  },
  {
   "cell_type": "code",
   "execution_count": 83,
   "metadata": {},
   "outputs": [],
   "source": [
    "from pyspark.sql.functions import isnan, when, count, col"
   ]
  },
  {
   "cell_type": "code",
   "execution_count": 84,
   "metadata": {},
   "outputs": [
    {
     "name": "stdout",
     "output_type": "stream",
     "text": [
      "+-----+----+----+-----+--------+--------+--------+----------+\n",
      "|hotel|room|food|staff|location|internet|bathroom|facilities|\n",
      "+-----+----+----+-----+--------+--------+--------+----------+\n",
      "|    0|  28|  44|    8|      11|     346|     182|       259|\n",
      "+-----+----+----+-----+--------+--------+--------+----------+\n",
      "\n"
     ]
    }
   ],
   "source": [
    "df_clustering.select([count(when(isnan(c) | col(c).isNull(), c)).alias(c) for c in df_clustering.columns]).show()"
   ]
  },
  {
   "cell_type": "code",
   "execution_count": 85,
   "metadata": {},
   "outputs": [],
   "source": [
    "df_clustering = df_clustering.na.drop()"
   ]
  },
  {
   "cell_type": "code",
   "execution_count": 86,
   "metadata": {},
   "outputs": [
    {
     "name": "stdout",
     "output_type": "stream",
     "text": [
      "+-----+----+----+-----+--------+--------+--------+----------+\n",
      "|hotel|room|food|staff|location|internet|bathroom|facilities|\n",
      "+-----+----+----+-----+--------+--------+--------+----------+\n",
      "|    0|   0|   0|    0|       0|       0|       0|         0|\n",
      "+-----+----+----+-----+--------+--------+--------+----------+\n",
      "\n"
     ]
    }
   ],
   "source": [
    "df_clustering.select([count(when(isnan(c) | col(c).isNull(), c)).alias(c) for c in df_clustering.columns]).show()"
   ]
  },
  {
   "cell_type": "code",
   "execution_count": 87,
   "metadata": {},
   "outputs": [
    {
     "data": {
      "text/plain": [
       "774"
      ]
     },
     "execution_count": 87,
     "metadata": {},
     "output_type": "execute_result"
    }
   ],
   "source": [
    "df_clustering.count()"
   ]
  },
  {
   "cell_type": "code",
   "execution_count": 88,
   "metadata": {},
   "outputs": [],
   "source": [
    "from pyspark.ml.feature import VectorAssembler"
   ]
  },
  {
   "cell_type": "code",
   "execution_count": 89,
   "metadata": {},
   "outputs": [],
   "source": [
    "vecAssembler = VectorAssembler(inputCols=FEATURES_COL, outputCol=\"features\")"
   ]
  },
  {
   "cell_type": "code",
   "execution_count": 90,
   "metadata": {},
   "outputs": [],
   "source": [
    "df_kmeans = vecAssembler.transform(df_clustering).select('hotel', 'features')"
   ]
  },
  {
   "cell_type": "code",
   "execution_count": 91,
   "metadata": {},
   "outputs": [
    {
     "name": "stdout",
     "output_type": "stream",
     "text": [
      "+--------------------+--------------------+\n",
      "|               hotel|            features|\n",
      "+--------------------+--------------------+\n",
      "|       H tel Bedford|[0.52457254901960...|\n",
      "|        Hotel Topazz|[0.57655384615384...|\n",
      "| Ayre Hotel Rosell n|[0.50179870129870...|\n",
      "|London Marriott H...|[0.51485304347826...|\n",
      "|Shaftesbury Metro...|[0.44941904761904...|\n",
      "|Rubens At The Palace|[0.53608990825688...|\n",
      "|DoubleTree by Hil...|[0.50844782608695...|\n",
      "|Austria Trend Hot...|[0.51243863636363...|\n",
      "|Best Western Hote...|[0.52901935483870...|\n",
      "|   The Tophams Hotel|[0.53321111111111...|\n",
      "|H tel L Echiquier...|[0.56711578947368...|\n",
      "| Little Palace Hotel|[0.53819041095890...|\n",
      "|        Barcel Raval|[0.50319032258064...|\n",
      "|Grange Rochester ...|[0.52881587301587...|\n",
      "| The Ampersand Hotel|[0.5511265625,0.5...|\n",
      "|Radisson Blu Edwa...|[0.46687013574660...|\n",
      "|Mercure Hotel Ams...|[0.53214821428571...|\n",
      "|Norfolk Towers Pa...|[0.40229586776859...|\n",
      "|  The Langham London|[0.56075119047619...|\n",
      "|        Hotel Balmes|[0.54397250000000...|\n",
      "+--------------------+--------------------+\n",
      "only showing top 20 rows\n",
      "\n"
     ]
    }
   ],
   "source": [
    "df_kmeans.show()"
   ]
  },
  {
   "cell_type": "markdown",
   "metadata": {},
   "source": [
    "# K-means"
   ]
  },
  {
   "cell_type": "code",
   "execution_count": 30,
   "metadata": {},
   "outputs": [],
   "source": [
    "from pyspark.ml.clustering import KMeans\n",
    "import numpy as np\n",
    "import pandas as pd\n",
    "import matplotlib.pyplot as plt"
   ]
  },
  {
   "cell_type": "code",
   "execution_count": 92,
   "metadata": {},
   "outputs": [],
   "source": [
    "cost = np.zeros(20)\n",
    "for k in range(2,20):\n",
    "    kmeans = KMeans().setK(k).setSeed(1).setFeaturesCol(\"features\")\n",
    "    model = kmeans.fit(df_kmeans.sample(False,0.1, seed=10))\n",
    "    cost[k] = model.computeCost(df_kmeans) "
   ]
  },
  {
   "cell_type": "code",
   "execution_count": 93,
   "metadata": {},
   "outputs": [
    {
     "data": {
      "text/plain": [
       "Text(0,0.5,'cost')"
      ]
     },
     "execution_count": 93,
     "metadata": {},
     "output_type": "execute_result"
    },
    {
     "data": {
      "image/png": "[encoded data removed]",
      "text/plain": [
       "<Figure size 576x432 with 1 Axes>"
      ]
     },
     "metadata": {
      "needs_background": "light"
     },
     "output_type": "display_data"
    }
   ],
   "source": [
    "fig, ax = plt.subplots(1,1, figsize =(8,6))\n",
    "ax.plot(range(2,20),cost[2:20])\n",
    "ax.set_xlabel('k')\n",
    "ax.set_ylabel('cost')"
   ]
  },
  {
   "cell_type": "code",
   "execution_count": 163,
   "metadata": {},
   "outputs": [
    {
     "name": "stdout",
     "output_type": "stream",
     "text": [
      "Cluster Centers: \n",
      "[0.51361288 0.50942618 0.52333    0.5425737  0.49629244 0.50731252\n",
      " 0.43703853]\n",
      "[ 0.42103196  0.39148039  0.45762897  0.51967104 -0.03978152  0.39472492\n",
      "  0.43546262]\n",
      "[0.2896906  0.41387239 0.4312491  0.50058663 0.28017032 0.12606563\n",
      " 0.28014695]\n",
      "[0.55979406 0.56589647 0.56123325 0.58238103 0.53202926 0.57660664\n",
      " 0.57897534]\n",
      "[0.4098959  0.45856627 0.48689976 0.51674593 0.4225513  0.34370962\n",
      " 0.39577879]\n",
      "[0.52791195 0.52095251 0.52700249 0.54597591 0.50023471 0.52968673\n",
      " 0.53697507]\n",
      "[0.49406398 0.50159255 0.5131533  0.52829932 0.48163878 0.46007257\n",
      " 0.4963812 ]\n"
     ]
    }
   ],
   "source": [
    "k = 7\n",
    "kmeans = KMeans().setK(k).setSeed(1).setFeaturesCol(\"features\")\n",
    "model = kmeans.fit(df_kmeans)\n",
    "centers = model.clusterCenters()\n",
    "\n",
    "print(\"Cluster Centers: \")\n",
    "for center in centers:\n",
    "    print(center)"
   ]
  },
  {
   "cell_type": "code",
   "execution_count": 164,
   "metadata": {},
   "outputs": [
    {
     "name": "stdout",
     "output_type": "stream",
     "text": [
      "Within Set Sum of Squared Errors = 6.458491600569893\n"
     ]
    }
   ],
   "source": [
    "wssse = model.computeCost(df_kmeans)\n",
    "print(\"Within Set Sum of Squared Errors = \" + str(wssse))"
   ]
  },
  {
   "cell_type": "code",
   "execution_count": 165,
   "metadata": {},
   "outputs": [
    {
     "name": "stdout",
     "output_type": "stream",
     "text": [
      "[Row(hotel='H tel Bedford', prediction=5), Row(hotel='Hotel Topazz', prediction=3), Row(hotel='Ayre Hotel Rosell n', prediction=6)]\n"
     ]
    }
   ],
   "source": [
    "transformed = model.transform(df_kmeans).select('hotel', 'prediction')\n",
    "rows = transformed.collect()\n",
    "print(rows[:3])"
   ]
  },
  {
   "cell_type": "code",
   "execution_count": 166,
   "metadata": {},
   "outputs": [
    {
     "name": "stdout",
     "output_type": "stream",
     "text": [
      "+--------------------+----------+\n",
      "|               hotel|prediction|\n",
      "+--------------------+----------+\n",
      "|       H tel Bedford|         5|\n",
      "|        Hotel Topazz|         3|\n",
      "| Ayre Hotel Rosell n|         6|\n",
      "|London Marriott H...|         5|\n",
      "|Shaftesbury Metro...|         6|\n",
      "|Rubens At The Palace|         5|\n",
      "|DoubleTree by Hil...|         5|\n",
      "|Austria Trend Hot...|         5|\n",
      "|Best Western Hote...|         5|\n",
      "|   The Tophams Hotel|         3|\n",
      "|H tel L Echiquier...|         3|\n",
      "| Little Palace Hotel|         0|\n",
      "|        Barcel Raval|         0|\n",
      "|Grange Rochester ...|         0|\n",
      "| The Ampersand Hotel|         3|\n",
      "|Radisson Blu Edwa...|         6|\n",
      "|Mercure Hotel Ams...|         5|\n",
      "|Norfolk Towers Pa...|         4|\n",
      "|  The Langham London|         3|\n",
      "|        Hotel Balmes|         3|\n",
      "+--------------------+----------+\n",
      "only showing top 20 rows\n",
      "\n"
     ]
    }
   ],
   "source": [
    "df_pred = spark.createDataFrame(rows)\n",
    "df_pred.show()"
   ]
  },
  {
   "cell_type": "code",
   "execution_count": 167,
   "metadata": {},
   "outputs": [
    {
     "name": "stdout",
     "output_type": "stream",
     "text": [
      "+--------------------+----------+-------------------+-------------------+------------------+-------------------+-------------------+-------------------+-------------------+\n",
      "|               hotel|prediction|               room|               food|             staff|           location|           internet|           bathroom|         facilities|\n",
      "+--------------------+----------+-------------------+-------------------+------------------+-------------------+-------------------+-------------------+-------------------+\n",
      "|       H tel Bedford|         5| 0.5245725490196078| 0.5419631578947369|0.5279886956521739|  0.548534693877551|            0.50212| 0.5698833333333333|0.49781666666666663|\n",
      "|        Hotel Topazz|         3| 0.5765538461538462| 0.5754909090909092|0.5760484848484848| 0.5987431818181819|             0.5719|            0.57803| 0.5691333333333334|\n",
      "| Ayre Hotel Rosell n|         6| 0.5017987012987013| 0.5419517241379311|0.5256638888888889| 0.5442427385892114|0.45005999999999996| 0.4485666666666666| 0.4893846153846154|\n",
      "|London Marriott H...|         5|  0.514853043478261| 0.5222976190476193|0.5311725321888412|  0.510411214953271| 0.5090687500000001| 0.5111833333333334| 0.5223124999999998|\n",
      "|Shaftesbury Metro...|         6| 0.4494190476190475|0.49348749999999997|0.5080308219178085| 0.5125869158878504|0.47859090909090907|0.46875428571428573| 0.4333600000000001|\n",
      "|Rubens At The Palace|         5| 0.5360899082568807| 0.5428850877192982|0.5464889250814332| 0.5612656410256407|             0.5253| 0.5270285714285714| 0.5401166666666667|\n",
      "|DoubleTree by Hil...|         5| 0.5084478260869567| 0.5223916666666667|0.5106487922705314| 0.5190240740740742|             0.5106| 0.5336055555555557|            0.54445|\n",
      "|Austria Trend Hot...|         5| 0.5124386363636364| 0.5241156862745099|0.5177263636363636| 0.5412555555555555| 0.4684800000000001|             0.5276|0.49487499999999995|\n",
      "|Best Western Hote...|         5| 0.5290193548387097| 0.5052500000000001|0.5272916666666666|0.49838392857142866|0.47230909090909096|             0.5563|             0.5859|\n",
      "|   The Tophams Hotel|         3| 0.5332111111111112|             0.4404|0.5519666666666667| 0.5507020408163266| 0.5883666666666667| 0.4847666666666666|             0.7351|\n",
      "|H tel L Echiquier...|         3| 0.5671157894736844|           0.592075|          0.574924| 0.6078500000000001|             0.5106|           0.556175|             0.5594|\n",
      "| Little Palace Hotel|         0|  0.538190410958904| 0.5247823529411765|0.5109516129032258| 0.5484578947368424| 0.4922777777777778|0.49462222222222213|            0.46605|\n",
      "|        Barcel Raval|         0| 0.5031903225806453|  0.507888888888889|0.5112595419847328| 0.5489853881278536|0.45776000000000006| 0.5009100000000001|0.33184629629629636|\n",
      "|Grange Rochester ...|         0| 0.5288158730158731|  0.506257142857143|0.5250408602150537| 0.5393388349514563|             0.5178|           0.540175|          0.4811625|\n",
      "| The Ampersand Hotel|         3|       0.5511265625| 0.5440439024390246|0.5520233644859813| 0.5829925619834708|            0.55295| 0.5572642857142858| 0.6042000000000001|\n",
      "|Radisson Blu Edwa...|         6|0.46687013574660624| 0.4752055555555556| 0.518007450980392| 0.5388670212765954| 0.5046333333333334|        0.427265625|0.46072857142857143|\n",
      "|Mercure Hotel Ams...|         5| 0.5321482142857143| 0.5234274999999999|0.5140734939759035| 0.5291568421052633|             0.5106| 0.5103571428571428|0.49822857142857135|\n",
      "|Norfolk Towers Pa...|         4| 0.4022958677685949| 0.4245683060109292|0.4688197468354429| 0.5130094827586199|0.39442222222222223| 0.3715675324675325|           0.356325|\n",
      "|  The Langham London|         3| 0.5607511904761904| 0.5637271186440679|0.5443648809523808| 0.5634632183908046|             0.5719| 0.5307714285714286| 0.5373000000000001|\n",
      "|        Hotel Balmes|         3| 0.5439725000000002| 0.5059444444444444| 0.552077192982456| 0.5485524590163936| 0.4872000000000001|             0.6249| 0.5553888888888889|\n",
      "+--------------------+----------+-------------------+-------------------+------------------+-------------------+-------------------+-------------------+-------------------+\n",
      "only showing top 20 rows\n",
      "\n"
     ]
    }
   ],
   "source": [
    "df_pred = df_pred.join(df_clustering, 'hotel')\n",
    "df_pred.show()"
   ]
  },
  {
   "cell_type": "markdown",
   "metadata": {},
   "source": [
    "# Plot results"
   ]
  },
  {
   "cell_type": "code",
   "execution_count": 168,
   "metadata": {},
   "outputs": [],
   "source": [
    "import matplotlib.pyplot as plt\n",
    "from mpl_toolkits.mplot3d import Axes3D\n",
    "import pandas as pd"
   ]
  },
  {
   "cell_type": "code",
   "execution_count": 169,
   "metadata": {},
   "outputs": [
    {
     "data": {
      "text/html": [
       "<div>\n",
       "<style scoped>\n",
       "    .dataframe tbody tr th:only-of-type {\n",
       "        vertical-align: middle;\n",
       "    }\n",
       "\n",
       "    .dataframe tbody tr th {\n",
       "        vertical-align: top;\n",
       "    }\n",
       "\n",
       "    .dataframe thead th {\n",
       "        text-align: right;\n",
       "    }\n",
       "</style>\n",
       "<table border=\"1\" class=\"dataframe\">\n",
       "  <thead>\n",
       "    <tr style=\"text-align: right;\">\n",
       "      <th></th>\n",
       "      <th>prediction</th>\n",
       "      <th>room</th>\n",
       "      <th>food</th>\n",
       "      <th>staff</th>\n",
       "      <th>location</th>\n",
       "      <th>internet</th>\n",
       "      <th>bathroom</th>\n",
       "      <th>facilities</th>\n",
       "    </tr>\n",
       "    <tr>\n",
       "      <th>hotel</th>\n",
       "      <th></th>\n",
       "      <th></th>\n",
       "      <th></th>\n",
       "      <th></th>\n",
       "      <th></th>\n",
       "      <th></th>\n",
       "      <th></th>\n",
       "      <th></th>\n",
       "    </tr>\n",
       "  </thead>\n",
       "  <tbody>\n",
       "    <tr>\n",
       "      <th>H tel Bedford</th>\n",
       "      <td>5</td>\n",
       "      <td>0.524573</td>\n",
       "      <td>0.541963</td>\n",
       "      <td>0.527989</td>\n",
       "      <td>0.548535</td>\n",
       "      <td>0.502120</td>\n",
       "      <td>0.569883</td>\n",
       "      <td>0.497817</td>\n",
       "    </tr>\n",
       "    <tr>\n",
       "      <th>Hotel Topazz</th>\n",
       "      <td>3</td>\n",
       "      <td>0.576554</td>\n",
       "      <td>0.575491</td>\n",
       "      <td>0.576048</td>\n",
       "      <td>0.598743</td>\n",
       "      <td>0.571900</td>\n",
       "      <td>0.578030</td>\n",
       "      <td>0.569133</td>\n",
       "    </tr>\n",
       "    <tr>\n",
       "      <th>Ayre Hotel Rosell n</th>\n",
       "      <td>6</td>\n",
       "      <td>0.501799</td>\n",
       "      <td>0.541952</td>\n",
       "      <td>0.525664</td>\n",
       "      <td>0.544243</td>\n",
       "      <td>0.450060</td>\n",
       "      <td>0.448567</td>\n",
       "      <td>0.489385</td>\n",
       "    </tr>\n",
       "    <tr>\n",
       "      <th>London Marriott Hotel Regents Park</th>\n",
       "      <td>5</td>\n",
       "      <td>0.514853</td>\n",
       "      <td>0.522298</td>\n",
       "      <td>0.531173</td>\n",
       "      <td>0.510411</td>\n",
       "      <td>0.509069</td>\n",
       "      <td>0.511183</td>\n",
       "      <td>0.522312</td>\n",
       "    </tr>\n",
       "    <tr>\n",
       "      <th>Shaftesbury Metropolis London Hyde Park</th>\n",
       "      <td>6</td>\n",
       "      <td>0.449419</td>\n",
       "      <td>0.493487</td>\n",
       "      <td>0.508031</td>\n",
       "      <td>0.512587</td>\n",
       "      <td>0.478591</td>\n",
       "      <td>0.468754</td>\n",
       "      <td>0.433360</td>\n",
       "    </tr>\n",
       "  </tbody>\n",
       "</table>\n",
       "</div>"
      ],
      "text/plain": [
       "                                         prediction      room      food  \\\n",
       "hotel                                                                     \n",
       "H tel Bedford                                     5  0.524573  0.541963   \n",
       "Hotel Topazz                                      3  0.576554  0.575491   \n",
       "Ayre Hotel Rosell n                               6  0.501799  0.541952   \n",
       "London Marriott Hotel Regents Park                5  0.514853  0.522298   \n",
       "Shaftesbury Metropolis London Hyde Park           6  0.449419  0.493487   \n",
       "\n",
       "                                            staff  location  internet  \\\n",
       "hotel                                                                   \n",
       "H tel Bedford                            0.527989  0.548535  0.502120   \n",
       "Hotel Topazz                             0.576048  0.598743  0.571900   \n",
       "Ayre Hotel Rosell n                      0.525664  0.544243  0.450060   \n",
       "London Marriott Hotel Regents Park       0.531173  0.510411  0.509069   \n",
       "Shaftesbury Metropolis London Hyde Park  0.508031  0.512587  0.478591   \n",
       "\n",
       "                                         bathroom  facilities  \n",
       "hotel                                                          \n",
       "H tel Bedford                            0.569883    0.497817  \n",
       "Hotel Topazz                             0.578030    0.569133  \n",
       "Ayre Hotel Rosell n                      0.448567    0.489385  \n",
       "London Marriott Hotel Regents Park       0.511183    0.522312  \n",
       "Shaftesbury Metropolis London Hyde Park  0.468754    0.433360  "
      ]
     },
     "execution_count": 169,
     "metadata": {},
     "output_type": "execute_result"
    }
   ],
   "source": [
    "df_pred2 = df_pred.toPandas().set_index('hotel')\n",
    "df_pred2.head()"
   ]
  },
  {
   "cell_type": "code",
   "execution_count": 170,
   "metadata": {},
   "outputs": [
    {
     "data": {
      "text/html": [
       "<div>\n",
       "<style scoped>\n",
       "    .dataframe tbody tr th:only-of-type {\n",
       "        vertical-align: middle;\n",
       "    }\n",
       "\n",
       "    .dataframe tbody tr th {\n",
       "        vertical-align: top;\n",
       "    }\n",
       "\n",
       "    .dataframe thead th {\n",
       "        text-align: right;\n",
       "    }\n",
       "</style>\n",
       "<table border=\"1\" class=\"dataframe\">\n",
       "  <thead>\n",
       "    <tr style=\"text-align: right;\">\n",
       "      <th></th>\n",
       "      <th>room</th>\n",
       "      <th>food</th>\n",
       "      <th>staff</th>\n",
       "      <th>location</th>\n",
       "      <th>internet</th>\n",
       "      <th>bathroom</th>\n",
       "      <th>facilities</th>\n",
       "    </tr>\n",
       "    <tr>\n",
       "      <th>prediction</th>\n",
       "      <th></th>\n",
       "      <th></th>\n",
       "      <th></th>\n",
       "      <th></th>\n",
       "      <th></th>\n",
       "      <th></th>\n",
       "      <th></th>\n",
       "    </tr>\n",
       "  </thead>\n",
       "  <tbody>\n",
       "    <tr>\n",
       "      <th>0</th>\n",
       "      <td>98</td>\n",
       "      <td>98</td>\n",
       "      <td>98</td>\n",
       "      <td>98</td>\n",
       "      <td>98</td>\n",
       "      <td>98</td>\n",
       "      <td>98</td>\n",
       "    </tr>\n",
       "    <tr>\n",
       "      <th>1</th>\n",
       "      <td>5</td>\n",
       "      <td>5</td>\n",
       "      <td>5</td>\n",
       "      <td>5</td>\n",
       "      <td>5</td>\n",
       "      <td>5</td>\n",
       "      <td>5</td>\n",
       "    </tr>\n",
       "    <tr>\n",
       "      <th>2</th>\n",
       "      <td>27</td>\n",
       "      <td>27</td>\n",
       "      <td>27</td>\n",
       "      <td>27</td>\n",
       "      <td>27</td>\n",
       "      <td>27</td>\n",
       "      <td>27</td>\n",
       "    </tr>\n",
       "    <tr>\n",
       "      <th>3</th>\n",
       "      <td>119</td>\n",
       "      <td>119</td>\n",
       "      <td>119</td>\n",
       "      <td>119</td>\n",
       "      <td>119</td>\n",
       "      <td>119</td>\n",
       "      <td>119</td>\n",
       "    </tr>\n",
       "    <tr>\n",
       "      <th>4</th>\n",
       "      <td>63</td>\n",
       "      <td>63</td>\n",
       "      <td>63</td>\n",
       "      <td>63</td>\n",
       "      <td>63</td>\n",
       "      <td>63</td>\n",
       "      <td>63</td>\n",
       "    </tr>\n",
       "    <tr>\n",
       "      <th>5</th>\n",
       "      <td>293</td>\n",
       "      <td>293</td>\n",
       "      <td>293</td>\n",
       "      <td>293</td>\n",
       "      <td>293</td>\n",
       "      <td>293</td>\n",
       "      <td>293</td>\n",
       "    </tr>\n",
       "    <tr>\n",
       "      <th>6</th>\n",
       "      <td>169</td>\n",
       "      <td>169</td>\n",
       "      <td>169</td>\n",
       "      <td>169</td>\n",
       "      <td>169</td>\n",
       "      <td>169</td>\n",
       "      <td>169</td>\n",
       "    </tr>\n",
       "  </tbody>\n",
       "</table>\n",
       "</div>"
      ],
      "text/plain": [
       "            room  food  staff  location  internet  bathroom  facilities\n",
       "prediction                                                             \n",
       "0             98    98     98        98        98        98          98\n",
       "1              5     5      5         5         5         5           5\n",
       "2             27    27     27        27        27        27          27\n",
       "3            119   119    119       119       119       119         119\n",
       "4             63    63     63        63        63        63          63\n",
       "5            293   293    293       293       293       293         293\n",
       "6            169   169    169       169       169       169         169"
      ]
     },
     "execution_count": 170,
     "metadata": {},
     "output_type": "execute_result"
    }
   ],
   "source": [
    "df_pred2.groupby(\"prediction\").count()"
   ]
  },
  {
   "cell_type": "code",
   "execution_count": 185,
   "metadata": {},
   "outputs": [
    {
     "data": {
      "text/html": [
       "<div>\n",
       "<style scoped>\n",
       "    .dataframe tbody tr th:only-of-type {\n",
       "        vertical-align: middle;\n",
       "    }\n",
       "\n",
       "    .dataframe tbody tr th {\n",
       "        vertical-align: top;\n",
       "    }\n",
       "\n",
       "    .dataframe thead th {\n",
       "        text-align: right;\n",
       "    }\n",
       "</style>\n",
       "<table border=\"1\" class=\"dataframe\">\n",
       "  <thead>\n",
       "    <tr style=\"text-align: right;\">\n",
       "      <th></th>\n",
       "      <th>prediction</th>\n",
       "      <th>room</th>\n",
       "      <th>food</th>\n",
       "      <th>staff</th>\n",
       "      <th>location</th>\n",
       "      <th>internet</th>\n",
       "      <th>bathroom</th>\n",
       "      <th>facilities</th>\n",
       "    </tr>\n",
       "    <tr>\n",
       "      <th>hotel</th>\n",
       "      <th></th>\n",
       "      <th></th>\n",
       "      <th></th>\n",
       "      <th></th>\n",
       "      <th></th>\n",
       "      <th></th>\n",
       "      <th></th>\n",
       "      <th></th>\n",
       "    </tr>\n",
       "  </thead>\n",
       "  <tbody>\n",
       "    <tr>\n",
       "      <th>Rafayel Hotel Spa</th>\n",
       "      <td>1</td>\n",
       "      <td>0.447724</td>\n",
       "      <td>0.485802</td>\n",
       "      <td>0.444000</td>\n",
       "      <td>0.499831</td>\n",
       "      <td>-0.149500</td>\n",
       "      <td>0.415521</td>\n",
       "      <td>0.427530</td>\n",
       "    </tr>\n",
       "    <tr>\n",
       "      <th>Park Plaza Westminster Bridge London</th>\n",
       "      <td>1</td>\n",
       "      <td>0.399776</td>\n",
       "      <td>0.353030</td>\n",
       "      <td>0.434484</td>\n",
       "      <td>0.536874</td>\n",
       "      <td>0.172661</td>\n",
       "      <td>0.339609</td>\n",
       "      <td>0.452854</td>\n",
       "    </tr>\n",
       "    <tr>\n",
       "      <th>M by Montcalm Shoreditch London Tech City</th>\n",
       "      <td>1</td>\n",
       "      <td>0.472076</td>\n",
       "      <td>0.342757</td>\n",
       "      <td>0.481085</td>\n",
       "      <td>0.519702</td>\n",
       "      <td>-0.189900</td>\n",
       "      <td>0.418008</td>\n",
       "      <td>0.444911</td>\n",
       "    </tr>\n",
       "    <tr>\n",
       "      <th>Grange St Paul s Hotel</th>\n",
       "      <td>1</td>\n",
       "      <td>0.370050</td>\n",
       "      <td>0.376311</td>\n",
       "      <td>0.466637</td>\n",
       "      <td>0.539606</td>\n",
       "      <td>0.150080</td>\n",
       "      <td>0.436160</td>\n",
       "      <td>0.462954</td>\n",
       "    </tr>\n",
       "    <tr>\n",
       "      <th>Blakemore Hyde Park</th>\n",
       "      <td>1</td>\n",
       "      <td>0.415534</td>\n",
       "      <td>0.399501</td>\n",
       "      <td>0.461939</td>\n",
       "      <td>0.502342</td>\n",
       "      <td>-0.182248</td>\n",
       "      <td>0.364326</td>\n",
       "      <td>0.389064</td>\n",
       "    </tr>\n",
       "  </tbody>\n",
       "</table>\n",
       "</div>"
      ],
      "text/plain": [
       "                                           prediction      room      food  \\\n",
       "hotel                                                                       \n",
       "Rafayel Hotel Spa                                   1  0.447724  0.485802   \n",
       "Park Plaza Westminster Bridge London                1  0.399776  0.353030   \n",
       "M by Montcalm Shoreditch London Tech City           1  0.472076  0.342757   \n",
       "Grange St Paul s Hotel                              1  0.370050  0.376311   \n",
       "Blakemore Hyde Park                                 1  0.415534  0.399501   \n",
       "\n",
       "                                              staff  location  internet  \\\n",
       "hotel                                                                     \n",
       "Rafayel Hotel Spa                          0.444000  0.499831 -0.149500   \n",
       "Park Plaza Westminster Bridge London       0.434484  0.536874  0.172661   \n",
       "M by Montcalm Shoreditch London Tech City  0.481085  0.519702 -0.189900   \n",
       "Grange St Paul s Hotel                     0.466637  0.539606  0.150080   \n",
       "Blakemore Hyde Park                        0.461939  0.502342 -0.182248   \n",
       "\n",
       "                                           bathroom  facilities  \n",
       "hotel                                                            \n",
       "Rafayel Hotel Spa                          0.415521    0.427530  \n",
       "Park Plaza Westminster Bridge London       0.339609    0.452854  \n",
       "M by Montcalm Shoreditch London Tech City  0.418008    0.444911  \n",
       "Grange St Paul s Hotel                     0.436160    0.462954  \n",
       "Blakemore Hyde Park                        0.364326    0.389064  "
      ]
     },
     "execution_count": 185,
     "metadata": {},
     "output_type": "execute_result"
    }
   ],
   "source": [
    "df_pred2.sort_values('prediction').query('prediction==1')"
   ]
  },
  {
   "cell_type": "code",
   "execution_count": 171,
   "metadata": {},
   "outputs": [
    {
     "data": {
      "image/png": "[encoded data removed]",
      "text/plain": [
       "<Figure size 864x720 with 1 Axes>"
      ]
     },
     "metadata": {
      "needs_background": "light"
     },
     "output_type": "display_data"
    }
   ],
   "source": [
    "threedee = plt.figure(figsize=(12,10)).gca(projection='3d')\n",
    "threedee.scatter(df_pred2.food, df_pred2.internet ,df_pred2.room, c=df_pred2.prediction)\n",
    "threedee.set_xlabel('food')\n",
    "threedee.set_ylabel('internet')\n",
    "threedee.set_zlabel('room')\n",
    "#threedee.set_klabel('staff')\n",
    "plt.show()"
   ]
  },
  {
   "cell_type": "code",
   "execution_count": 172,
   "metadata": {},
   "outputs": [
    {
     "data": {
      "text/plain": [
       "['room', 'food', 'staff', 'location', 'internet', 'bathroom', 'facilities']"
      ]
     },
     "execution_count": 172,
     "metadata": {},
     "output_type": "execute_result"
    }
   ],
   "source": [
    "FEATURES_COL"
   ]
  },
  {
   "cell_type": "code",
   "execution_count": 173,
   "metadata": {},
   "outputs": [
    {
     "data": {
      "text/plain": [
       "<matplotlib.colorbar.Colorbar at 0x7f467f639b70>"
      ]
     },
     "execution_count": 173,
     "metadata": {},
     "output_type": "execute_result"
    },
    {
     "data": {
      "image/png": "[encoded data removed]",
      "text/plain": [
       "<Figure size 432x288 with 2 Axes>"
      ]
     },
     "metadata": {
      "needs_background": "light"
     },
     "output_type": "display_data"
    }
   ],
   "source": [
    "fig = plt.figure()\n",
    "x = 'bathroom'\n",
    "y = 'internet'\n",
    "\n",
    "\n",
    "ax = fig.add_subplot(111)\n",
    "scatter = ax.scatter(df_pred2[x],df_pred2[y],\n",
    "                   c=df_pred2.prediction,s=50)\n",
    "ax.set_title('K-Means Clustering')\n",
    "ax.set_xlabel(x)\n",
    "ax.set_ylabel(y)\n",
    "plt.colorbar(scatter)"
   ]
  },
  {
   "cell_type": "code",
   "execution_count": 174,
   "metadata": {},
   "outputs": [
    {
     "data": {
      "text/plain": [
       "['room', 'food', 'staff', 'location', 'internet', 'bathroom', 'facilities']"
      ]
     },
     "execution_count": 174,
     "metadata": {},
     "output_type": "execute_result"
    }
   ],
   "source": [
    "categories=list(df_pred2)[1:]\n",
    "categories"
   ]
  },
  {
   "cell_type": "code",
   "execution_count": 175,
   "metadata": {},
   "outputs": [
    {
     "name": "stdout",
     "output_type": "stream",
     "text": [
      "+--------------------+----------+-------------------+-------------------+------------------+-------------------+-------------------+-------------------+-------------------+\n",
      "|               hotel|prediction|               room|               food|             staff|           location|           internet|           bathroom|         facilities|\n",
      "+--------------------+----------+-------------------+-------------------+------------------+-------------------+-------------------+-------------------+-------------------+\n",
      "|       H tel Bedford|         5| 0.5245725490196078| 0.5419631578947369|0.5279886956521739|  0.548534693877551|            0.50212| 0.5698833333333333|0.49781666666666663|\n",
      "|        Hotel Topazz|         3| 0.5765538461538462| 0.5754909090909092|0.5760484848484848| 0.5987431818181819|             0.5719|            0.57803| 0.5691333333333334|\n",
      "| Ayre Hotel Rosell n|         6| 0.5017987012987013| 0.5419517241379311|0.5256638888888889| 0.5442427385892114|0.45005999999999996| 0.4485666666666666| 0.4893846153846154|\n",
      "|London Marriott H...|         5|  0.514853043478261| 0.5222976190476193|0.5311725321888412|  0.510411214953271| 0.5090687500000001| 0.5111833333333334| 0.5223124999999998|\n",
      "|Shaftesbury Metro...|         6| 0.4494190476190475|0.49348749999999997|0.5080308219178085| 0.5125869158878504|0.47859090909090907|0.46875428571428573| 0.4333600000000001|\n",
      "|Rubens At The Palace|         5| 0.5360899082568807| 0.5428850877192982|0.5464889250814332| 0.5612656410256407|             0.5253| 0.5270285714285714| 0.5401166666666667|\n",
      "|DoubleTree by Hil...|         5| 0.5084478260869567| 0.5223916666666667|0.5106487922705314| 0.5190240740740742|             0.5106| 0.5336055555555557|            0.54445|\n",
      "|Austria Trend Hot...|         5| 0.5124386363636364| 0.5241156862745099|0.5177263636363636| 0.5412555555555555| 0.4684800000000001|             0.5276|0.49487499999999995|\n",
      "|Best Western Hote...|         5| 0.5290193548387097| 0.5052500000000001|0.5272916666666666|0.49838392857142866|0.47230909090909096|             0.5563|             0.5859|\n",
      "|   The Tophams Hotel|         3| 0.5332111111111112|             0.4404|0.5519666666666667| 0.5507020408163266| 0.5883666666666667| 0.4847666666666666|             0.7351|\n",
      "|H tel L Echiquier...|         3| 0.5671157894736844|           0.592075|          0.574924| 0.6078500000000001|             0.5106|           0.556175|             0.5594|\n",
      "| Little Palace Hotel|         0|  0.538190410958904| 0.5247823529411765|0.5109516129032258| 0.5484578947368424| 0.4922777777777778|0.49462222222222213|            0.46605|\n",
      "|        Barcel Raval|         0| 0.5031903225806453|  0.507888888888889|0.5112595419847328| 0.5489853881278536|0.45776000000000006| 0.5009100000000001|0.33184629629629636|\n",
      "|Grange Rochester ...|         0| 0.5288158730158731|  0.506257142857143|0.5250408602150537| 0.5393388349514563|             0.5178|           0.540175|          0.4811625|\n",
      "| The Ampersand Hotel|         3|       0.5511265625| 0.5440439024390246|0.5520233644859813| 0.5829925619834708|            0.55295| 0.5572642857142858| 0.6042000000000001|\n",
      "|Radisson Blu Edwa...|         6|0.46687013574660624| 0.4752055555555556| 0.518007450980392| 0.5388670212765954| 0.5046333333333334|        0.427265625|0.46072857142857143|\n",
      "|Mercure Hotel Ams...|         5| 0.5321482142857143| 0.5234274999999999|0.5140734939759035| 0.5291568421052633|             0.5106| 0.5103571428571428|0.49822857142857135|\n",
      "|Norfolk Towers Pa...|         4| 0.4022958677685949| 0.4245683060109292|0.4688197468354429| 0.5130094827586199|0.39442222222222223| 0.3715675324675325|           0.356325|\n",
      "|  The Langham London|         3| 0.5607511904761904| 0.5637271186440679|0.5443648809523808| 0.5634632183908046|             0.5719| 0.5307714285714286| 0.5373000000000001|\n",
      "|        Hotel Balmes|         3| 0.5439725000000002| 0.5059444444444444| 0.552077192982456| 0.5485524590163936| 0.4872000000000001|             0.6249| 0.5553888888888889|\n",
      "+--------------------+----------+-------------------+-------------------+------------------+-------------------+-------------------+-------------------+-------------------+\n",
      "only showing top 20 rows\n",
      "\n"
     ]
    }
   ],
   "source": [
    "df_pred.show()"
   ]
  },
  {
   "cell_type": "code",
   "execution_count": 176,
   "metadata": {},
   "outputs": [],
   "source": [
    "# register table (if not exists)\n",
    "try:\n",
    "    df_pred.createTempView('plots')\n",
    "except:\n",
    "    spark.catalog.dropTempView('plots')\n",
    "    df_pred.createTempView('plots')"
   ]
  },
  {
   "cell_type": "code",
   "execution_count": 177,
   "metadata": {},
   "outputs": [],
   "source": [
    "df_kmeans_average = spark.sql(\"SELECT prediction as cluster, avg(facilities), avg(room), avg(bathroom), avg(food), avg(staff), avg(location), avg(internet) FROM plots group by prediction\")"
   ]
  },
  {
   "cell_type": "code",
   "execution_count": 178,
   "metadata": {},
   "outputs": [
    {
     "name": "stdout",
     "output_type": "stream",
     "text": [
      "+-------+-------------------+-------------------+-------------------+-------------------+-------------------+------------------+--------------------+\n",
      "|cluster|    avg(facilities)|          avg(room)|      avg(bathroom)|          avg(food)|         avg(staff)|     avg(location)|       avg(internet)|\n",
      "+-------+-------------------+-------------------+-------------------+-------------------+-------------------+------------------+--------------------+\n",
      "|      0|0.43620998002439104| 0.5134891025979196| 0.5067884176509894| 0.5091787749456576| 0.5234354827364451|0.5424675872163816| 0.49601194826521305|\n",
      "|      6|0.49627994247807816|0.49394950899728546|0.45992480698552235| 0.5016525148300354| 0.5128779477548294|0.5281792797600753|  0.4825259152315676|\n",
      "|      5| 0.5361170037167352|  0.527875362814501| 0.5295075364873967| 0.5209312019221062| 0.5272366287779181|0.5460068217977726| 0.49969869067108946|\n",
      "|      1| 0.4354626160570508| 0.4210319582324858|0.39472491537609145| 0.3914803941910827|0.45762896657488267| 0.519671039323419|-0.03978152305665...|\n",
      "|      3| 0.5795286929025003| 0.5593724843132751| 0.5765247172202213| 0.5651184402034458| 0.5603239050835946|0.5818937565227841|  0.5317195278111245|\n",
      "|      2|  0.280146946583634| 0.2896905997142718|0.12606563250768327|0.41387238597187526| 0.4312491020802669|0.5005866313135624| 0.28017031963497396|\n",
      "|      4|0.39577878822247275|0.40989589963423023| 0.3437096211332951|0.45856626771099773| 0.4868997642624755|0.5167459295704178|  0.4225512952550273|\n",
      "+-------+-------------------+-------------------+-------------------+-------------------+-------------------+------------------+--------------------+\n",
      "\n"
     ]
    }
   ],
   "source": [
    "df_kmeans_average.show()"
   ]
  },
  {
   "cell_type": "code",
   "execution_count": 179,
   "metadata": {},
   "outputs": [
    {
     "data": {
      "text/html": [
       "<div>\n",
       "<style scoped>\n",
       "    .dataframe tbody tr th:only-of-type {\n",
       "        vertical-align: middle;\n",
       "    }\n",
       "\n",
       "    .dataframe tbody tr th {\n",
       "        vertical-align: top;\n",
       "    }\n",
       "\n",
       "    .dataframe thead th {\n",
       "        text-align: right;\n",
       "    }\n",
       "</style>\n",
       "<table border=\"1\" class=\"dataframe\">\n",
       "  <thead>\n",
       "    <tr style=\"text-align: right;\">\n",
       "      <th></th>\n",
       "      <th>avg(facilities)</th>\n",
       "      <th>avg(room)</th>\n",
       "      <th>avg(bathroom)</th>\n",
       "      <th>avg(food)</th>\n",
       "      <th>avg(staff)</th>\n",
       "      <th>avg(location)</th>\n",
       "      <th>avg(internet)</th>\n",
       "    </tr>\n",
       "    <tr>\n",
       "      <th>cluster</th>\n",
       "      <th></th>\n",
       "      <th></th>\n",
       "      <th></th>\n",
       "      <th></th>\n",
       "      <th></th>\n",
       "      <th></th>\n",
       "      <th></th>\n",
       "    </tr>\n",
       "  </thead>\n",
       "  <tbody>\n",
       "    <tr>\n",
       "      <th>0</th>\n",
       "      <td>0.436210</td>\n",
       "      <td>0.513489</td>\n",
       "      <td>0.506788</td>\n",
       "      <td>0.509179</td>\n",
       "      <td>0.523435</td>\n",
       "      <td>0.542468</td>\n",
       "      <td>0.496012</td>\n",
       "    </tr>\n",
       "    <tr>\n",
       "      <th>1</th>\n",
       "      <td>0.435463</td>\n",
       "      <td>0.421032</td>\n",
       "      <td>0.394725</td>\n",
       "      <td>0.391480</td>\n",
       "      <td>0.457629</td>\n",
       "      <td>0.519671</td>\n",
       "      <td>-0.039782</td>\n",
       "    </tr>\n",
       "    <tr>\n",
       "      <th>2</th>\n",
       "      <td>0.280147</td>\n",
       "      <td>0.289691</td>\n",
       "      <td>0.126066</td>\n",
       "      <td>0.413872</td>\n",
       "      <td>0.431249</td>\n",
       "      <td>0.500587</td>\n",
       "      <td>0.280170</td>\n",
       "    </tr>\n",
       "    <tr>\n",
       "      <th>3</th>\n",
       "      <td>0.579529</td>\n",
       "      <td>0.559372</td>\n",
       "      <td>0.576525</td>\n",
       "      <td>0.565118</td>\n",
       "      <td>0.560324</td>\n",
       "      <td>0.581894</td>\n",
       "      <td>0.531720</td>\n",
       "    </tr>\n",
       "    <tr>\n",
       "      <th>4</th>\n",
       "      <td>0.395779</td>\n",
       "      <td>0.409896</td>\n",
       "      <td>0.343710</td>\n",
       "      <td>0.458566</td>\n",
       "      <td>0.486900</td>\n",
       "      <td>0.516746</td>\n",
       "      <td>0.422551</td>\n",
       "    </tr>\n",
       "    <tr>\n",
       "      <th>5</th>\n",
       "      <td>0.536117</td>\n",
       "      <td>0.527875</td>\n",
       "      <td>0.529508</td>\n",
       "      <td>0.520931</td>\n",
       "      <td>0.527237</td>\n",
       "      <td>0.546007</td>\n",
       "      <td>0.499699</td>\n",
       "    </tr>\n",
       "    <tr>\n",
       "      <th>6</th>\n",
       "      <td>0.496280</td>\n",
       "      <td>0.493950</td>\n",
       "      <td>0.459925</td>\n",
       "      <td>0.501653</td>\n",
       "      <td>0.512878</td>\n",
       "      <td>0.528179</td>\n",
       "      <td>0.482526</td>\n",
       "    </tr>\n",
       "  </tbody>\n",
       "</table>\n",
       "</div>"
      ],
      "text/plain": [
       "         avg(facilities)  avg(room)  avg(bathroom)  avg(food)  avg(staff)  \\\n",
       "cluster                                                                     \n",
       "0               0.436210   0.513489       0.506788   0.509179    0.523435   \n",
       "1               0.435463   0.421032       0.394725   0.391480    0.457629   \n",
       "2               0.280147   0.289691       0.126066   0.413872    0.431249   \n",
       "3               0.579529   0.559372       0.576525   0.565118    0.560324   \n",
       "4               0.395779   0.409896       0.343710   0.458566    0.486900   \n",
       "5               0.536117   0.527875       0.529508   0.520931    0.527237   \n",
       "6               0.496280   0.493950       0.459925   0.501653    0.512878   \n",
       "\n",
       "         avg(location)  avg(internet)  \n",
       "cluster                                \n",
       "0             0.542468       0.496012  \n",
       "1             0.519671      -0.039782  \n",
       "2             0.500587       0.280170  \n",
       "3             0.581894       0.531720  \n",
       "4             0.516746       0.422551  \n",
       "5             0.546007       0.499699  \n",
       "6             0.528179       0.482526  "
      ]
     },
     "execution_count": 179,
     "metadata": {},
     "output_type": "execute_result"
    }
   ],
   "source": [
    "df_kmeans_average2 = df_kmeans_average.toPandas().set_index('cluster').sort_index()\n",
    "df_kmeans_average2"
   ]
  },
  {
   "cell_type": "code",
   "execution_count": 182,
   "metadata": {},
   "outputs": [
    {
     "name": "stdout",
     "output_type": "stream",
     "text": [
      "[0.43620998002439104, 0.5134891025979196, 0.5067884176509894, 0.5091787749456576, 0.5234354827364451, 0.5424675872163816, 0.49601194826521305]\n",
      "['avg(facilities)', 'avg(room)', 'avg(bathroom)', 'avg(food)', 'avg(staff)', 'avg(location)', 'avg(internet)']\n"
     ]
    },
    {
     "data": {
      "text/plain": [
       "[<matplotlib.patches.Polygon at 0x7f467f575518>]"
      ]
     },
     "execution_count": 182,
     "metadata": {},
     "output_type": "execute_result"
    },
    {
     "data": {
      "image/png": "[encoded data removed]",
      "text/plain": [
       "<Figure size 432x288 with 1 Axes>"
      ]
     },
     "metadata": {
      "needs_background": "dark"
     },
     "output_type": "display_data"
    }
   ],
   "source": [
    "from math import pi\n",
    " \n",
    "cluster1 = 3\n",
    "cluster2 = 2\n",
    "    \n",
    "#number of variable\n",
    "categories=list(df_kmeans_average2)[0:]\n",
    "N = len(categories)\n",
    " \n",
    "print   (df_kmeans_average2.loc[0].values.flatten().tolist() )\n",
    "print(categories)\n",
    "# We are going to plot the first line of the data frame.\n",
    "# But we need to repeat the first value to close the circular graph:\n",
    "values=df_kmeans_average2.loc[cluster1].values.flatten().tolist()\n",
    "values += values[:1]\n",
    "values\n",
    "\n",
    "values2=df_kmeans_average2.loc[cluster1].values.flatten().tolist()\n",
    "values2 += values2[:1]\n",
    "values2\n",
    "\n",
    "values3=df_kmeans_average2.loc[cluster2].values.flatten().tolist()\n",
    "values3 += values3[:1]\n",
    "values3\n",
    "\n",
    "values4=df_kmeans_average2.loc[cluster2].values.flatten().tolist()\n",
    "values4 += values4[:1]\n",
    "values4\n",
    "\n",
    " \n",
    "#What will be the angle of each axis in the plot? (we divide the plot / number of variable)\n",
    "angles = [n / float(N) * 2 * pi for n in range(N)]\n",
    "angles += angles[:1]\n",
    " \n",
    "# Initialise the spider plot\n",
    "ax = plt.subplot(111, polar=True)\n",
    " \n",
    "# Draw one axe per variable + add labels labels yet\n",
    "plt.xticks(angles[:-1], categories, color='grey', size=8)\n",
    " \n",
    "# Draw ylabels\n",
    "ax.set_rlabel_position(0)\n",
    "plt.yticks([0,0.3,0.6], [\"-1\",\"0\",\"1\"], color=\"grey\", size=7)\n",
    "plt.ylim(0,0.6)\n",
    " \n",
    "# Plot data\n",
    "ax.plot(angles, values, linewidth=1, linestyle='solid')\n",
    "ax.plot(angles, values2, linewidth=1, linestyle='solid')\n",
    "ax.plot(angles, values3, linewidth=1, linestyle='solid')\n",
    "ax.plot(angles, values4, linewidth=1, linestyle='solid')\n",
    "\n",
    " \n",
    "#Fill area\n",
    "ax.fill(angles, values, 'b', alpha=0.1)\n",
    "ax.fill(angles, values2, 'b', alpha=0.1)\n",
    "ax.fill(angles, values3, 'b', alpha=0.1)\n",
    "ax.fill(angles, values4, 'b', alpha=0.1)"
   ]
  },
  {
   "cell_type": "code",
   "execution_count": null,
   "metadata": {},
   "outputs": [],
   "source": []
  },
  {
   "cell_type": "code",
   "execution_count": null,
   "metadata": {},
   "outputs": [],
   "source": []
  },
  {
   "cell_type": "code",
   "execution_count": null,
   "metadata": {},
   "outputs": [],
   "source": []
  }
 ],
 "metadata": {
  "kernelspec": {
   "display_name": "Python 3",
   "language": "python",
   "name": "python3"
  },
  "language_info": {
   "codemirror_mode": {
    "name": "ipython",
    "version": 3
   },
   "file_extension": ".py",
   "mimetype": "text/x-python",
   "name": "python",
   "nbconvert_exporter": "python",
   "pygments_lexer": "ipython3",
   "version": "3.4.3"
  }
 },
 "nbformat": 4,
 "nbformat_minor": 2
}
