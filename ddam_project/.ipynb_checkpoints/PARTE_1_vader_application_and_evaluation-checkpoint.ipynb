{
 "cells": [
  {
   "cell_type": "code",
   "execution_count": 1,
   "metadata": {},
   "outputs": [],
   "source": [
    "from pyspark.sql import SparkSession\n",
    "spark = (SparkSession.builder\n",
    "         .appName('ddam_project')\n",
    "         .config('spark.some.config.option','some-value')\n",
    "         .getOrCreate()\n",
    "         )"
   ]
  },
  {
   "cell_type": "code",
   "execution_count": 2,
   "metadata": {},
   "outputs": [
    {
     "name": "stdout",
     "output_type": "stream",
     "text": [
      "root\n",
      " |-- id: long (nullable = true)\n",
      " |-- Hotel_Address: string (nullable = true)\n",
      " |-- Additional_Number_of_Scoring: integer (nullable = true)\n",
      " |-- Review_Date: string (nullable = true)\n",
      " |-- Average_Score: double (nullable = true)\n",
      " |-- Hotel_Name: string (nullable = true)\n",
      " |-- Reviewer_Nationality: string (nullable = true)\n",
      " |-- Review_Total_Negative_Word_Counts: integer (nullable = true)\n",
      " |-- Total_Number_of_Reviews: integer (nullable = true)\n",
      " |-- Review_Total_Positive_Word_Counts: integer (nullable = true)\n",
      " |-- Total_Number_of_Reviews_Reviewer_Has_Given: integer (nullable = true)\n",
      " |-- Reviewer_Score: double (nullable = true)\n",
      " |-- Tags: string (nullable = true)\n",
      " |-- days_since_review: string (nullable = true)\n",
      " |-- lat: string (nullable = true)\n",
      " |-- lng: string (nullable = true)\n",
      " |-- Review: string (nullable = true)\n",
      " |-- Hotel_Country: string (nullable = true)\n",
      "\n"
     ]
    }
   ],
   "source": [
    "# read file from hdfs and infer schema\n",
    "df_cleaned = spark.read.csv(\"hdfs://masterbig-1.itc.unipi.it:54310/user/student18/df_cleaned.csv\", header = True, inferSchema = True)\n",
    "df_cleaned.printSchema()"
   ]
  },
  {
   "cell_type": "code",
   "execution_count": 3,
   "metadata": {},
   "outputs": [
    {
     "data": {
      "text/plain": [
       "504989"
      ]
     },
     "execution_count": 3,
     "metadata": {},
     "output_type": "execute_result"
    }
   ],
   "source": [
    "df_cleaned.count()"
   ]
  },
  {
   "cell_type": "markdown",
   "metadata": {},
   "source": [
    "# VADER evaluation"
   ]
  },
  {
   "cell_type": "code",
   "execution_count": 4,
   "metadata": {},
   "outputs": [],
   "source": [
    "from nltk.sentiment.vader import SentimentIntensityAnalyzer\n"
   ]
  },
  {
   "cell_type": "code",
   "execution_count": 5,
   "metadata": {},
   "outputs": [],
   "source": [
    "import numpy as np"
   ]
  },
  {
   "cell_type": "code",
   "execution_count": 6,
   "metadata": {},
   "outputs": [],
   "source": [
    "vader = SentimentIntensityAnalyzer()"
   ]
  },
  {
   "cell_type": "code",
   "execution_count": 7,
   "metadata": {},
   "outputs": [],
   "source": [
    "# applying vader to each review and standardize score in [0,10]\n",
    "rdd_scores = (df_cleaned.select(\"id\", \"Review\", \"Reviewer_Score\").rdd\n",
    "              #.filter(lambda row: row['Review'] is not None)\n",
    "              .map(lambda x: (x[\"id\"], \n",
    "                              ((vader.polarity_scores(x[\"Review\"])['compound']  ) +1)*5,\n",
    "                              x[\"Reviewer_Score\"]))\n",
    "             )\n",
    "\n",
    "#.toDF([\"id\", \"Vader_scores\", \"User_scores\"])\n",
    "#df_scores.printSchema()"
   ]
  },
  {
   "cell_type": "code",
   "execution_count": 8,
   "metadata": {
    "scrolled": true
   },
   "outputs": [
    {
     "data": {
      "text/plain": [
       "[(14, 9.1835, 8.8),\n",
       " (374, 8.591999999999999, 9.2),\n",
       " (681, 9.8475, 8.8),\n",
       " (860, 5.0, 9.6),\n",
       " (1014, 5.0, 9.2),\n",
       " (1123, 9.643999999999998, 10.0),\n",
       " (1162, 3.4684999999999997, 5.0),\n",
       " (1318, 9.907, 9.2),\n",
       " (1375, 9.5775, 9.6),\n",
       " (1705, 8.7125, 9.2)]"
      ]
     },
     "execution_count": 8,
     "metadata": {},
     "output_type": "execute_result"
    }
   ],
   "source": [
    "rdd_scores.take(10)"
   ]
  },
  {
   "cell_type": "markdown",
   "metadata": {},
   "source": [
    "# Evaluation"
   ]
  },
  {
   "cell_type": "code",
   "execution_count": 9,
   "metadata": {},
   "outputs": [],
   "source": [
    "def errors(rdd, ix, iy):\n",
    "    ''' \n",
    "    rdd= rdd composed by lists/tuples \n",
    "    ix: index of the first variable\n",
    "    iy: index of the second variable\n",
    "    return: dictionary with \n",
    "    {'rmse': root mean squared error\n",
    "     'mae' : mean absolute error\n",
    "    }\n",
    "    \n",
    "    '''\n",
    "    # acc = ('counts', sum of abs errors', 'sum of squared errors')\n",
    "    acc = (0, 0, 0)\n",
    "    def mergeValue(acc, value):\n",
    "        return (acc[0] + 1, acc[1] + value,  acc[2] + value**2)\n",
    "    \n",
    "    def mergeAccum(acc1,acc2):\n",
    "        return (acc1[0] + acc2[0], acc1[1] + acc2[1], acc1[2]+acc2[2])\n",
    "    \n",
    "    acc = (rdd.map(lambda x: ( np.abs(x[ix] - x[iy]) ))\n",
    "       .aggregate(acc, mergeValue, mergeAccum)\n",
    "      )\n",
    "    \n",
    "    return {'rmse':np.sqrt(acc[2]/acc[0]) , 'mae': acc[1]/acc[0] }\n",
    "    \n",
    "    \n",
    "    "
   ]
  },
  {
   "cell_type": "code",
   "execution_count": 10,
   "metadata": {},
   "outputs": [
    {
     "data": {
      "text/plain": [
       "[(14, 9.1835, 8.8),\n",
       " (374, 8.591999999999999, 9.2),\n",
       " (681, 9.8475, 8.8),\n",
       " (860, 5.0, 9.6),\n",
       " (1014, 5.0, 9.2),\n",
       " (1123, 9.643999999999998, 10.0),\n",
       " (1162, 3.4684999999999997, 5.0),\n",
       " (1318, 9.907, 9.2),\n",
       " (1375, 9.5775, 9.6),\n",
       " (1705, 8.7125, 9.2),\n",
       " (2500, 9.749, 8.3),\n",
       " (3001, 9.338, 9.6),\n",
       " (3056, 7.1075, 9.2),\n",
       " (3422, 5.0, 9.6),\n",
       " (3530, 5.7655, 7.1),\n",
       " (3676, 3.9715, 7.1),\n",
       " (3739, 9.1125, 9.6),\n",
       " (3890, 8.5015, 8.3),\n",
       " (4181, 8.8515, 7.5),\n",
       " (4230, 2.213, 8.3)]"
      ]
     },
     "execution_count": 10,
     "metadata": {},
     "output_type": "execute_result"
    }
   ],
   "source": [
    "rdd_scores.take(20)"
   ]
  },
  {
   "cell_type": "code",
   "execution_count": 11,
   "metadata": {},
   "outputs": [
    {
     "data": {
      "text/plain": [
       "{'mae': 1.6846593123810762, 'rmse': 2.3336413418498716}"
      ]
     },
     "execution_count": 11,
     "metadata": {},
     "output_type": "execute_result"
    }
   ],
   "source": [
    "vader_errors = errors(rdd_scores, 1, 2)\n",
    "vader_errors"
   ]
  },
  {
   "cell_type": "markdown",
   "metadata": {},
   "source": [
    "# Nationality Bias"
   ]
  },
  {
   "cell_type": "markdown",
   "metadata": {},
   "source": [
    "### mean bias correction\n",
    "first we add the mean bias of each country to the vader score  \n",
    "Correcting the score using the mean bias, the vader performance increase?\n"
   ]
  },
  {
   "cell_type": "code",
   "execution_count": 12,
   "metadata": {},
   "outputs": [],
   "source": [
    "df_cleaned = df_cleaned.select( \"Review\", \"Reviewer_Nationality\", \"Reviewer_Score\")"
   ]
  },
  {
   "cell_type": "code",
   "execution_count": 13,
   "metadata": {},
   "outputs": [],
   "source": [
    "df_bias_mean = spark.read.csv(\"hdfs://masterbig-1.itc.unipi.it:54310/user/student18/df_bias_mean.csv\", header = True, inferSchema = True)\n",
    "df_bias_mean = df_bias_mean.select(\"Reviewer_Nationality\", \"Bias\")"
   ]
  },
  {
   "cell_type": "code",
   "execution_count": 14,
   "metadata": {},
   "outputs": [],
   "source": [
    "df_joined = df_cleaned.join(df_bias_mean, 'Reviewer_Nationality', 'left')"
   ]
  },
  {
   "cell_type": "code",
   "execution_count": 15,
   "metadata": {},
   "outputs": [
    {
     "name": "stdout",
     "output_type": "stream",
     "text": [
      "504989\n",
      "+--------------------+--------------------+--------------+--------------------+\n",
      "|Reviewer_Nationality|              Review|Reviewer_Score|                Bias|\n",
      "+--------------------+--------------------+--------------+--------------------+\n",
      "|              Canada|staff in restaura...|           8.8|  0.1549723388282711|\n",
      "|      United Kingdom|. overall hotel w...|           9.2| 0.08905211107880007|\n",
      "|      United Kingdom|no bad experience...|           8.8| 0.08905211107880007|\n",
      "|      United Kingdom|room is small any...|           9.6| 0.08905211107880007|\n",
      "|      United Kingdom|my son and his fa...|           9.2| 0.08905211107880007|\n",
      "|           Australia|nothing to improv...|          10.0| 0.19915391522263093|\n",
      "|      United Kingdom|my and my wife ca...|           5.0| 0.08905211107880007|\n",
      "|      United Kingdom|expensive but thi...|           9.2| 0.08905211107880007|\n",
      "|      United Kingdom|nothing not to li...|           9.6| 0.08905211107880007|\n",
      "|              Brazil|. rooms are comfo...|           9.2|0.040344487213733515|\n",
      "+--------------------+--------------------+--------------+--------------------+\n",
      "only showing top 10 rows\n",
      "\n"
     ]
    }
   ],
   "source": [
    "print(df_joined.count())\n",
    "df_joined.show(10)"
   ]
  },
  {
   "cell_type": "code",
   "execution_count": 16,
   "metadata": {},
   "outputs": [],
   "source": [
    "try:\n",
    "    df_joined.createTempView('bias_mean')\n",
    "except:\n",
    "    spark.catalog.dropTempView('bias_mean')\n",
    "    df_joined.createTempView('bias_mean')"
   ]
  },
  {
   "cell_type": "code",
   "execution_count": 17,
   "metadata": {},
   "outputs": [
    {
     "name": "stdout",
     "output_type": "stream",
     "text": [
      "+--------------------+--------+\n",
      "|Reviewer_Nationality|count(1)|\n",
      "+--------------------+--------+\n",
      "|Turks Caicos Islands|      14|\n",
      "|            Paraguay|      28|\n",
      "|            Anguilla|       1|\n",
      "|               Yemen|      16|\n",
      "|          St Maarten|      11|\n",
      "|             Senegal|      22|\n",
      "|            Kiribati|       2|\n",
      "|              Guyana|       5|\n",
      "|             Eritrea|       2|\n",
      "|            Djibouti|       2|\n",
      "|                Fiji|      11|\n",
      "|              Malawi|      10|\n",
      "|Northern Mariana ...|       1|\n",
      "|             Comoros|       1|\n",
      "|            Cambodia|      32|\n",
      "|         Afghanistan|       7|\n",
      "|              Crimea|       6|\n",
      "|            Maldives|      47|\n",
      "|              Rwanda|      12|\n",
      "|         Ivory Coast|      19|\n",
      "+--------------------+--------+\n",
      "only showing top 20 rows\n",
      "\n"
     ]
    }
   ],
   "source": [
    "spark.sql(\"SELECT Reviewer_Nationality, count(*) FROM bias_mean WHERE Bias is null GROUP BY Reviewer_Nationality \").show()"
   ]
  },
  {
   "cell_type": "code",
   "execution_count": 18,
   "metadata": {},
   "outputs": [],
   "source": [
    "def vader_bias(x):\n",
    "  \n",
    "    if x[\"Bias\"] == None:\n",
    "        score = (((vader.polarity_scores(x[\"Review\"])['compound']  ) +1)*5 ) + 0\n",
    "    else:\n",
    "        score = (((vader.polarity_scores(x[\"Review\"])['compound']  ) +1)*5 ) + x[\"Bias\"]\n",
    "        \n",
    "    # handling scores 'overflow'\n",
    "    if score > 10:\n",
    "        score = 10\n",
    "    elif score < 0:\n",
    "        score = 0\n",
    "        \n",
    "    return (x['Reviewer_Score'], score)"
   ]
  },
  {
   "cell_type": "code",
   "execution_count": 19,
   "metadata": {},
   "outputs": [
    {
     "data": {
      "text/plain": [
       "[(8.8, 9.338472338828272),\n",
       " (9.2, 8.681052111078799),\n",
       " (8.8, 9.9365521110788),\n",
       " (9.6, 5.0890521110788),\n",
       " (9.2, 5.0890521110788),\n",
       " (10.0, 9.84315391522263),\n",
       " (5.0, 3.5575521110787998),\n",
       " (9.2, 9.9960521110788),\n",
       " (9.6, 9.6665521110788),\n",
       " (9.2, 8.752844487213734),\n",
       " (8.3, 9.478764599475605),\n",
       " (9.6, 9.4270521110788),\n",
       " (9.2, 7.1965521110788),\n",
       " (9.6, 4.487335634316863),\n",
       " (7.1, 5.8545521110788),\n",
       " (7.1, 3.6853268377741637),\n",
       " (9.6, 9.2015521110788),\n",
       " (8.3, 8.277453199096339),\n",
       " (7.5, 8.482835961193082),\n",
       " (8.3, 2.3020521110788)]"
      ]
     },
     "execution_count": 19,
     "metadata": {},
     "output_type": "execute_result"
    }
   ],
   "source": [
    "rdd_bias_mean = (df_joined.rdd\n",
    "              #.filter(lambda row: row['Review'] is not None) \n",
    "              .map(vader_bias)\n",
    "             )\n",
    "rdd_bias_mean.take(20)"
   ]
  },
  {
   "cell_type": "code",
   "execution_count": 21,
   "metadata": {},
   "outputs": [],
   "source": [
    "vader_errors_bias_mean = errors(rdd_bias_mean, 0, 1)"
   ]
  },
  {
   "cell_type": "code",
   "execution_count": 22,
   "metadata": {},
   "outputs": [
    {
     "data": {
      "text/plain": [
       "{'mae': 1.6907125757447694, 'rmse': 2.3470459578524867}"
      ]
     },
     "execution_count": 22,
     "metadata": {},
     "output_type": "execute_result"
    }
   ],
   "source": [
    "vader_errors_bias_mean"
   ]
  },
  {
   "cell_type": "code",
   "execution_count": 23,
   "metadata": {},
   "outputs": [
    {
     "data": {
      "text/plain": [
       "{'mae': 1.6846593123810762, 'rmse': 2.3336413418498716}"
      ]
     },
     "execution_count": 23,
     "metadata": {},
     "output_type": "execute_result"
    }
   ],
   "source": [
    "vader_errors"
   ]
  },
  {
   "cell_type": "markdown",
   "metadata": {},
   "source": [
    "The performance are not improved using the mean bias correction, let's try with the median"
   ]
  },
  {
   "cell_type": "markdown",
   "metadata": {},
   "source": [
    "### Median bias correction"
   ]
  },
  {
   "cell_type": "code",
   "execution_count": 24,
   "metadata": {},
   "outputs": [
    {
     "name": "stdout",
     "output_type": "stream",
     "text": [
      "+--------------------+-------------------+------+\n",
      "|Reviewer_Nationality|        Bias_median|     N|\n",
      "+--------------------+-------------------+------+\n",
      "|               Macau|-0.9000000000000004|   105|\n",
      "|          Azerbaijan|-0.9000000000000004|   262|\n",
      "|          Bangladesh|-0.9000000000000004|   140|\n",
      "|            Pakistan|-0.9000000000000004|   874|\n",
      "|                Iran|-0.9000000000000004|  1033|\n",
      "|               Ghana|               -0.5|   137|\n",
      "|           Hong Kong|               -0.5|  2967|\n",
      "|           Singapore|               -0.5|  3047|\n",
      "|                Oman|               -0.5|  1295|\n",
      "|                null|               -0.5|   511|\n",
      "|           Indonesia|               -0.5|  1493|\n",
      "|        Saudi Arabia|               -0.5|  8413|\n",
      "|         Switzerland|               -0.5|  8555|\n",
      "|             Belgium|               -0.5|  5918|\n",
      "|United Arab Emirates|               -0.5|  9779|\n",
      "|               Qatar|               -0.5|  2583|\n",
      "|               Kenya|               -0.5|   258|\n",
      "|             Lebanon|               -0.5|  2161|\n",
      "|            Portugal|               -0.5|  1806|\n",
      "|                Iraq|               -0.5|   258|\n",
      "|               Egypt|               -0.5|  2293|\n",
      "|               India|               -0.5|  3349|\n",
      "|          Kazakhstan|               -0.5|   269|\n",
      "|             Bahrain|               -0.5|  1523|\n",
      "|           Mauritius|               -0.5|   213|\n",
      "|              Kuwait|               -0.5|  4623|\n",
      "|             Moldova|               -0.5|   105|\n",
      "|             Nigeria|               -0.5|   934|\n",
      "|             Vietnam|               -0.5|   183|\n",
      "|               Italy|               -0.5|  5919|\n",
      "|         Netherlands|               -0.5|  8618|\n",
      "|            Malaysia|               -0.5|  1817|\n",
      "|              Norway|               -0.5|  2340|\n",
      "|              Turkey|               -0.5|  5260|\n",
      "|             Germany|               -0.5|  7822|\n",
      "|             Denmark|               -0.5|  1704|\n",
      "|              Jordan|               -0.5|   716|\n",
      "|              Monaco|               -0.5|   241|\n",
      "|           Sri Lanka|               -0.5|   277|\n",
      "|             Morocco|               -0.5|   216|\n",
      "|               Spain|-0.3000000000000007|  4611|\n",
      "|              Greece|-0.3000000000000007|  3352|\n",
      "|                Peru|                0.0|   108|\n",
      "|               Chile|                0.0|   317|\n",
      "|              Cyprus|                0.0|  1344|\n",
      "|              Latvia|                0.0|   707|\n",
      "|             Iceland|                0.0|   912|\n",
      "|             Croatia|                0.0|  1298|\n",
      "|         Isle of Man|                0.0|   395|\n",
      "|    Abkhazia Georgia|                0.0|   147|\n",
      "|           Gibraltar|                0.0|   368|\n",
      "|             Georgia|                0.0|   275|\n",
      "|           Macedonia|                0.0|   269|\n",
      "|            Slovenia|                0.0|   773|\n",
      "|             Romania|                0.0|  4430|\n",
      "|              Serbia|                0.0|  1094|\n",
      "|              Poland|                0.0|  2835|\n",
      "|           Argentina|                0.0|   499|\n",
      "|            Guernsey|                0.0|   541|\n",
      "|               China|                0.0|  3297|\n",
      "|             Belarus|                0.0|   191|\n",
      "|           Lithuania|                0.0|   722|\n",
      "|             Ireland|                0.0| 14611|\n",
      "|            Thailand|                0.0|  1804|\n",
      "|             Estonia|                0.0|   737|\n",
      "|          Montenegro|                0.0|   185|\n",
      "|             Armenia|                0.0|   125|\n",
      "|              Brazil|                0.0|  1820|\n",
      "|      Czech Republic|                0.0|  2279|\n",
      "|               Japan|                0.0|  1244|\n",
      "|          Luxembourg|                0.0|  1342|\n",
      "|             Austria|                0.0|  2365|\n",
      "|            Bulgaria|                0.0|  1279|\n",
      "|        South Africa|                0.0|  3745|\n",
      "|             Bermuda|                0.0|   101|\n",
      "|              France|                0.0|  7129|\n",
      "|              Taiwan|                0.0|   902|\n",
      "|              Jersey|                0.0|   852|\n",
      "|              Sweden|                0.0|  3297|\n",
      "|             Finland|                0.0|  1813|\n",
      "|             Albania|                0.0|   272|\n",
      "|               Malta|                0.0|  1640|\n",
      "|             Ukraine|                0.0|  1079|\n",
      "| Trinidad and Tobago|                0.0|   154|\n",
      "|Bosnia and Herzeg...|                0.0|   235|\n",
      "|            Colombia|                0.0|   263|\n",
      "|             Hungary|                0.0|  2140|\n",
      "|         Philippines|                0.0|  1050|\n",
      "|            Slovakia|                0.0|   889|\n",
      "|              Russia|                0.0|  3830|\n",
      "|              Panama| 0.3999999999999986|   117|\n",
      "|           Australia| 0.3999999999999986| 21412|\n",
      "|         South Korea| 0.3999999999999986|  1049|\n",
      "|              Israel| 0.3999999999999986|  6456|\n",
      "|              Mexico| 0.3999999999999986|   576|\n",
      "|United States of ...| 0.3999999999999986| 34887|\n",
      "|          Costa Rica| 0.3999999999999986|   118|\n",
      "|              Canada| 0.3999999999999986|  7792|\n",
      "|      United Kingdom| 0.3999999999999986|241061|\n",
      "|         New Zealand| 0.3999999999999986|  3195|\n",
      "+--------------------+-------------------+------+\n",
      "only showing top 100 rows\n",
      "\n"
     ]
    }
   ],
   "source": [
    "df_bias_median = spark.read.csv(\"hdfs://masterbig-1.itc.unipi.it:54310/user/student18/df_bias_median.csv\", header = True, inferSchema = True)\n",
    "df_bias_median = df_bias_median.select(\"Reviewer_Nationality\", \"Bias_median\", \"N\").orderBy('Bias_median')\n",
    "df_bias_median.show(100)"
   ]
  },
  {
   "cell_type": "code",
   "execution_count": 25,
   "metadata": {},
   "outputs": [],
   "source": [
    "df_bias = df_bias_mean.join(df_bias_median, 'Reviewer_Nationality', 'inner').orderBy('Bias_median', ascending = False)"
   ]
  },
  {
   "cell_type": "code",
   "execution_count": 26,
   "metadata": {},
   "outputs": [
    {
     "name": "stdout",
     "output_type": "stream",
     "text": [
      "+--------------------+--------------------+-------------------+------+\n",
      "|Reviewer_Nationality|                Bias|        Bias_median|     N|\n",
      "+--------------------+--------------------+-------------------+------+\n",
      "|         Puerto Rico| 0.36745775855778184| 0.7999999999999989|   169|\n",
      "|          Costa Rica| 0.14354340693808254| 0.3999999999999986|   118|\n",
      "|              Israel| 0.30183631013680845| 0.3999999999999986|  6456|\n",
      "|United States of ...| 0.39490620877812255| 0.3999999999999986| 34887|\n",
      "|         New Zealand| 0.26012307325992623| 0.3999999999999986|  3195|\n",
      "|      United Kingdom| 0.08905211107880007| 0.3999999999999986|241061|\n",
      "|           Australia| 0.19915391522263093| 0.3999999999999986| 21412|\n",
      "|              Panama| 0.39599161786087045| 0.3999999999999986|   117|\n",
      "|              Mexico| 0.14564439563864973| 0.3999999999999986|   576|\n",
      "|         South Korea|-0.00681528818721...| 0.3999999999999986|  1049|\n",
      "|              Canada|  0.1549723388282711| 0.3999999999999986|  7792|\n",
      "|          Luxembourg| -0.1994546480772037|                0.0|  1342|\n",
      "|          Montenegro|-0.42749186562261254|                0.0|   185|\n",
      "|              Latvia|-0.13419854401245956|                0.0|   707|\n",
      "|         Philippines| 0.04157891944817216|                0.0|  1050|\n",
      "|            Bulgaria|0.015077709425456831|                0.0|  1279|\n",
      "|    Abkhazia Georgia|-0.08337346150420721|                0.0|   147|\n",
      "|           Argentina| 0.02854561474352657|                0.0|   499|\n",
      "|             Finland| -0.1037080818388354|                0.0|  1813|\n",
      "|            Guernsey|0.004145242835200236|                0.0|   541|\n",
      "|            Thailand| -0.1933961623805729|                0.0|  1804|\n",
      "|         Isle of Man|0.005077412516287794|                0.0|   395|\n",
      "|        South Africa|-0.03140194392521245|                0.0|  3745|\n",
      "|Bosnia and Herzeg...|-0.02438663273014...|                0.0|   235|\n",
      "|             Iceland| 0.05512904476145586|                0.0|   912|\n",
      "| Trinidad and Tobago| 0.28502480689405907|                0.0|   154|\n",
      "|             Croatia|-0.07810528335467559|                0.0|  1298|\n",
      "|              Jersey|-0.09594891422050544|                0.0|   852|\n",
      "|            Slovenia| -0.1113966241974893|                0.0|   773|\n",
      "|              Serbia| -0.1153835598762818|                0.0|  1094|\n",
      "|              Russia| -0.1167876104536063|                0.0|  3830|\n",
      "|             Romania| -0.2032132981160455|                0.0|  4430|\n",
      "|             Hungary| 0.10032702803739646|                0.0|  2140|\n",
      "|              Sweden|-0.22404680090366114|                0.0|  3297|\n",
      "|              Brazil|0.040344487213733515|                0.0|  1820|\n",
      "|            Colombia|  0.1470266833446079|                0.0|   263|\n",
      "|           Lithuania|-0.04912995800862596|                0.0|   722|\n",
      "|               Japan|-0.08300981122094697|                0.0|  1244|\n",
      "|             Armenia| -0.2944972710280176|                0.0|   125|\n",
      "|           Macedonia|-0.14940284723619612|                0.0|   269|\n",
      "|             Estonia|-0.02424055461010...|                0.0|   737|\n",
      "|              Cyprus|-0.09498060436135525|                0.0|  1344|\n",
      "|             Ireland| 0.06810471377796112|                0.0| 14611|\n",
      "|           Gibraltar|-0.15322335798453857|                0.0|   368|\n",
      "|             Georgia|-0.06453363466438056|                0.0|   275|\n",
      "|             Austria|-0.08418691161998915|                0.0|  2365|\n",
      "|             Belarus| -0.1824260668395361|                0.0|   191|\n",
      "|              Taiwan|-0.01739837967546798|                0.0|   902|\n",
      "|               Chile|-0.06008970005009928|                0.0|   317|\n",
      "|             Albania|-0.16642668279272144|                0.0|   272|\n",
      "|              France|  -0.255472667296754|                0.0|  7129|\n",
      "|            Slovakia| -0.0350794982496172|                0.0|   889|\n",
      "|             Ukraine|-0.01504741004562...|                0.0|  1079|\n",
      "|             Bermuda| 0.18631064976406186|                0.0|   101|\n",
      "|                Peru|-0.06697134510209146|                0.0|   108|\n",
      "|      Czech Republic|-0.10527111920704968|                0.0|  2279|\n",
      "|               Malta| 0.08911492409393063|                0.0|  1640|\n",
      "|              Poland| -0.1653487701461902|                0.0|  2835|\n",
      "|               China|0.041163996791208746|                0.0|  3297|\n",
      "|               Spain| -0.2354693811993389|-0.3000000000000007|  4611|\n",
      "|              Greece| -0.2275929750852974|-0.3000000000000007|  3352|\n",
      "|United Arab Emirates| -0.5206199420577589|               -0.5|  9779|\n",
      "|           Mauritius| -0.4792822475538383|               -0.5|   213|\n",
      "|         Netherlands|-0.27023540052439543|               -0.5|  8618|\n",
      "|         Switzerland| -0.2331894977959692|               -0.5|  8555|\n",
      "|           Hong Kong|-0.36866403880691756|               -0.5|  2967|\n",
      "|              Monaco| -0.3497437440570632|               -0.5|   241|\n",
      "|             Vietnam|-0.28032896501708926|               -0.5|   183|\n",
      "|               India| -0.5126643656831371|               -0.5|  3349|\n",
      "|           Singapore|-0.25561469800537395|               -0.5|  3047|\n",
      "|            Portugal|-0.34909882141562143|               -0.5|  1806|\n",
      "|            Malaysia|-0.23956760674624178|               -0.5|  1817|\n",
      "|                Iraq| -0.3917344803303422|               -0.5|   258|\n",
      "|              Norway| -0.2528972710280204|               -0.5|  2340|\n",
      "|             Bahrain|-0.47569438199322267|               -0.5|  1523|\n",
      "|                Oman| -0.5467968849276348|               -0.5|  1295|\n",
      "|             Morocco| -0.3748417154724617|               -0.5|   216|\n",
      "|               Ghana|-0.22574398635648585|               -0.5|   137|\n",
      "|              Jordan| -0.5578414051062301|               -0.5|   716|\n",
      "|           Indonesia| -0.1366347124211913|               -0.5|  1493|\n",
      "|          Kazakhstan| -0.5181760814369385|               -0.5|   269|\n",
      "|               Kenya| -0.3196414570745265|               -0.5|   258|\n",
      "|             Lebanon|-0.40955622521589863|               -0.5|  2161|\n",
      "|        Saudi Arabia| -0.5192136860999037|               -0.5|  8413|\n",
      "|              Turkey| -0.3923649516363703|               -0.5|  5260|\n",
      "|             Moldova| -0.2919448900756354|               -0.5|   105|\n",
      "|             Germany| -0.2638765602123456|               -0.5|  7822|\n",
      "|              Kuwait| -0.4061786900200097|               -0.5|  4623|\n",
      "|               Italy| -0.2861731622258361|               -0.5|  5919|\n",
      "|             Denmark| -0.3208315433284916|               -0.5|  1704|\n",
      "|           Sri Lanka| -0.3131138775262112|               -0.5|   277|\n",
      "|             Belgium|-0.22459716964239362|               -0.5|  5918|\n",
      "|             Nigeria|-0.21645187488240758|               -0.5|   934|\n",
      "|               Egypt|-0.29542670844625185|               -0.5|  2293|\n",
      "|               Qatar| -0.5271984711828779|               -0.5|  2583|\n",
      "|          Bangladesh| -0.8121829853137319|-0.9000000000000004|   140|\n",
      "|          Azerbaijan| -0.5329736069058795|-0.9000000000000004|   262|\n",
      "|            Pakistan| -0.5982748453987261|-0.9000000000000004|   874|\n",
      "|                Iran| -0.6462370580560943|-0.9000000000000004|  1033|\n",
      "|               Macau| -0.4386115567423037|-0.9000000000000004|   105|\n",
      "+--------------------+--------------------+-------------------+------+\n",
      "\n"
     ]
    }
   ],
   "source": [
    "# looking at Bias (mean) vs Bias median\n",
    "df_bias.show(200)"
   ]
  },
  {
   "cell_type": "code",
   "execution_count": 27,
   "metadata": {},
   "outputs": [],
   "source": [
    "df_joined_median = df_cleaned.join(df_bias_median, 'Reviewer_Nationality', 'left')"
   ]
  },
  {
   "cell_type": "code",
   "execution_count": 28,
   "metadata": {},
   "outputs": [],
   "source": [
    "try:\n",
    "    df_joined_median.createTempView('bias_median')\n",
    "except:\n",
    "    spark.catalog.dropTempView('bias_median')\n",
    "    df_joined_median.createTempView('bias_median')"
   ]
  },
  {
   "cell_type": "code",
   "execution_count": 29,
   "metadata": {},
   "outputs": [],
   "source": [
    "def vader_bias_median(x):\n",
    "  \n",
    "    if x[\"Bias_median\"] == None:\n",
    "        score = (((vader.polarity_scores(x[\"Review\"])['compound']  ) +1)*5 ) + 0\n",
    "    else:\n",
    "        score = (((vader.polarity_scores(x[\"Review\"])['compound']  ) +1)*5 ) + x[\"Bias_median\"]\n",
    "        \n",
    "    # handling scores 'overflow'\n",
    "    if score > 10:\n",
    "        score = 10\n",
    "    elif score < 0:\n",
    "        score = 0\n",
    "        \n",
    "    return (x['Reviewer_Score'], score)"
   ]
  },
  {
   "cell_type": "code",
   "execution_count": 30,
   "metadata": {},
   "outputs": [
    {
     "data": {
      "text/plain": [
       "[(8.8, 9.583499999999999),\n",
       " (9.2, 8.991999999999997),\n",
       " (8.8, 10),\n",
       " (9.6, 5.399999999999999),\n",
       " (9.2, 5.399999999999999),\n",
       " (10.0, 10),\n",
       " (5.0, 3.8684999999999983),\n",
       " (9.2, 10),\n",
       " (9.6, 9.9775),\n",
       " (9.2, 8.7125),\n",
       " (8.3, 9.249),\n",
       " (9.6, 9.737999999999998),\n",
       " (9.2, 7.5074999999999985),\n",
       " (9.6, 4.5),\n",
       " (7.1, 6.165499999999999),\n",
       " (7.1, 3.4715),\n",
       " (9.6, 9.5125),\n",
       " (8.3, 8.5015),\n",
       " (7.5, 8.3515),\n",
       " (8.3, 2.6129999999999987)]"
      ]
     },
     "execution_count": 30,
     "metadata": {},
     "output_type": "execute_result"
    }
   ],
   "source": [
    "rdd_bias_median = (df_joined_median.rdd\n",
    "              #.filter(lambda row: row['Review'] is not None) \n",
    "              .map(vader_bias_median)\n",
    "             )\n",
    "rdd_bias_median.take(20)"
   ]
  },
  {
   "cell_type": "code",
   "execution_count": 35,
   "metadata": {},
   "outputs": [],
   "source": [
    "vader_errors_bias_median = errors(rdd_bias_median, 0, 1)"
   ]
  },
  {
   "cell_type": "code",
   "execution_count": 36,
   "metadata": {},
   "outputs": [
    {
     "data": {
      "text/plain": [
       "{'mae': 1.6590399068098154, 'rmse': 2.307100807665857}"
      ]
     },
     "execution_count": 36,
     "metadata": {},
     "output_type": "execute_result"
    }
   ],
   "source": [
    "vader_errors_bias_median"
   ]
  },
  {
   "cell_type": "code",
   "execution_count": 37,
   "metadata": {},
   "outputs": [
    {
     "data": {
      "text/plain": [
       "{'mae': 1.6907125757447694, 'rmse': 2.3470459578524867}"
      ]
     },
     "execution_count": 37,
     "metadata": {},
     "output_type": "execute_result"
    }
   ],
   "source": [
    "vader_errors_bias_mean"
   ]
  },
  {
   "cell_type": "code",
   "execution_count": 38,
   "metadata": {},
   "outputs": [
    {
     "data": {
      "text/plain": [
       "{'mae': 1.6846593123810762, 'rmse': 2.3336413418498716}"
      ]
     },
     "execution_count": 38,
     "metadata": {},
     "output_type": "execute_result"
    }
   ],
   "source": [
    "vader_errors"
   ]
  },
  {
   "cell_type": "markdown",
   "metadata": {},
   "source": [
    "Le performance sono praticamente le stesse, solo leggermente migliorate applicando il bias mediano.  \n",
    "\n",
    "Globalmente non si hanno miglioramenti significativi.  \n",
    "\n",
    "Le performance sui singoli paesi migliorano?\n",
    "\n",
    "\n",
    "\n"
   ]
  },
  {
   "cell_type": "code",
   "execution_count": null,
   "metadata": {},
   "outputs": [],
   "source": []
  }
 ],
 "metadata": {
  "kernelspec": {
   "display_name": "Python 3",
   "language": "python",
   "name": "python3"
  },
  "language_info": {
   "codemirror_mode": {
    "name": "ipython",
    "version": 3
   },
   "file_extension": ".py",
   "mimetype": "text/x-python",
   "name": "python",
   "nbconvert_exporter": "python",
   "pygments_lexer": "ipython3",
   "version": "3.4.3"
  }
 },
 "nbformat": 4,
 "nbformat_minor": 2
}
