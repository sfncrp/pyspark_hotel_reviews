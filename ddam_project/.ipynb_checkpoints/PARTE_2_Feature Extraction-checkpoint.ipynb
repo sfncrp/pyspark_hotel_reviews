{
 "cells": [
  {
   "cell_type": "code",
   "execution_count": 36,
   "metadata": {},
   "outputs": [],
   "source": [
    "import toLog\n",
    "log = toLog.log('Feature extraction starting')"
   ]
  },
  {
   "cell_type": "code",
   "execution_count": 37,
   "metadata": {},
   "outputs": [],
   "source": [
    "from pyspark.sql import SparkSession\n",
    "\n",
    "spark = (SparkSession.builder\n",
    "         .appName('Python spark')\n",
    "         .config('spark.some.config.option','some-value')\n",
    "         .getOrCreate()\n",
    "         )"
   ]
  },
  {
   "cell_type": "code",
   "execution_count": 38,
   "metadata": {},
   "outputs": [
    {
     "name": "stdout",
     "output_type": "stream",
     "text": [
      "root\n",
      " |-- id: long (nullable = true)\n",
      " |-- Hotel_Address: string (nullable = true)\n",
      " |-- Additional_Number_of_Scoring: integer (nullable = true)\n",
      " |-- Review_Date: string (nullable = true)\n",
      " |-- Average_Score: double (nullable = true)\n",
      " |-- Hotel_Name: string (nullable = true)\n",
      " |-- Reviewer_Nationality: string (nullable = true)\n",
      " |-- Review_Total_Negative_Word_Counts: integer (nullable = true)\n",
      " |-- Total_Number_of_Reviews: integer (nullable = true)\n",
      " |-- Review_Total_Positive_Word_Counts: integer (nullable = true)\n",
      " |-- Total_Number_of_Reviews_Reviewer_Has_Given: integer (nullable = true)\n",
      " |-- Reviewer_Score: double (nullable = true)\n",
      " |-- Tags: string (nullable = true)\n",
      " |-- days_since_review: string (nullable = true)\n",
      " |-- lat: string (nullable = true)\n",
      " |-- lng: string (nullable = true)\n",
      " |-- Review: string (nullable = true)\n",
      " |-- Hotel_Country: string (nullable = true)\n",
      "\n"
     ]
    }
   ],
   "source": [
    "# read file from hdfs and infer schema\n",
    "df_cleaned = spark.read.csv(\"hdfs://masterbig-1.itc.unipi.it:54310/user/student18/df_cleaned.csv\", header = True, inferSchema = True)\n",
    "df_cleaned.printSchema()"
   ]
  },
  {
   "cell_type": "code",
   "execution_count": 43,
   "metadata": {},
   "outputs": [
    {
     "data": {
      "text/plain": [
       "0"
      ]
     },
     "execution_count": 43,
     "metadata": {},
     "output_type": "execute_result"
    }
   ],
   "source": [
    "df_cleaned.rdd.filter(lambda x: x['Review'] is None).count()"
   ]
  },
  {
   "cell_type": "code",
   "execution_count": 39,
   "metadata": {},
   "outputs": [],
   "source": [
    "# register table (if not exists)\n",
    "try:\n",
    "    df_cleaned.createTempView('hotels')\n",
    "except:\n",
    "    pass"
   ]
  },
  {
   "cell_type": "code",
   "execution_count": 40,
   "metadata": {},
   "outputs": [
    {
     "name": "stdout",
     "output_type": "stream",
     "text": [
      "+--------------------+--------------------+----------+----------+\n",
      "|          Hotel_Name|              Review|       lat|       lng|\n",
      "+--------------------+--------------------+----------+----------+\n",
      "|         Hotel Arena|the staff in the ...|52.3605759| 4.9159683|\n",
      "|         Hotel Arena|the overall hotel...|52.3605759| 4.9159683|\n",
      "|    K K Hotel George|no bad experience...|51.4918878|-0.1949706|\n",
      "|    K K Hotel George|the room is bit s...|51.4918878|-0.1949706|\n",
      "|Apex Temple Court...|my son and his fa...|51.5137335|-0.1087512|\n",
      "|Apex Temple Court...|nothing to improv...|51.5137335|-0.1087512|\n",
      "|Apex Temple Court...|my self and my wi...|51.5137335|-0.1087512|\n",
      "|Apex Temple Court...|expensive but thi...|51.5137335|-0.1087512|\n",
      "|Apex Temple Court...|nothing not to li...|51.5137335|-0.1087512|\n",
      "|Apex Temple Court...|rooms are comfort...|51.5137335|-0.1087512|\n",
      "|The Park Grand Lo...|a socket for plug...|51.5142184|-0.1809032|\n",
      "|The Park Grand Lo...|staff very friend...|51.5142184|-0.1809032|\n",
      "|The Park Grand Lo...|I would ve liked ...|51.5142184|-0.1809032|\n",
      "|The Park Grand Lo...|everytime I book ...|51.5142184|-0.1809032|\n",
      "|The Park Grand Lo...|cold hotel breakf...|51.5142184|-0.1809032|\n",
      "|The Park Grand Lo...| not well maintained|51.5142184|-0.1809032|\n",
      "|The Park Grand Lo...|lovely hotel cent...|51.5142184|-0.1809032|\n",
      "|The Principal London|some of us found ...|51.5226217|-0.1251602|\n",
      "|The Principal London|I feel that the b...|51.5226217|-0.1251602|\n",
      "|The Principal London|the side facing t...|51.5226217|-0.1251602|\n",
      "+--------------------+--------------------+----------+----------+\n",
      "only showing top 20 rows\n",
      "\n"
     ]
    }
   ],
   "source": [
    "# selecting only the reviews using spark.sql\n",
    "df_hotels = spark.sql(\"SELECT Hotel_Name, Review, lat, lng FROM hotels\")\n",
    "df_hotels.show()"
   ]
  },
  {
   "cell_type": "code",
   "execution_count": 41,
   "metadata": {},
   "outputs": [
    {
     "data": {
      "text/plain": [
       "515500"
      ]
     },
     "execution_count": 41,
     "metadata": {},
     "output_type": "execute_result"
    }
   ],
   "source": [
    "print(df_hotels.count())"
   ]
  },
  {
   "cell_type": "code",
   "execution_count": 6,
   "metadata": {},
   "outputs": [],
   "source": [
    "rddHotels = df_hotels.select('Hotel_Name', 'Review', 'lat', 'lng').rdd"
   ]
  },
  {
   "cell_type": "markdown",
   "metadata": {},
   "source": [
    "# Features extraction"
   ]
  },
  {
   "cell_type": "code",
   "execution_count": 7,
   "metadata": {},
   "outputs": [],
   "source": [
    "from getTriples import getTriples"
   ]
  },
  {
   "cell_type": "code",
   "execution_count": 8,
   "metadata": {},
   "outputs": [],
   "source": [
    "import nltk\n",
    "from nltk.sentiment.vader import SentimentIntensityAnalyzer\n",
    "vader = SentimentIntensityAnalyzer()"
   ]
  },
  {
   "cell_type": "code",
   "execution_count": 9,
   "metadata": {},
   "outputs": [],
   "source": [
    "def splitTriple(record):\n",
    "    res = []\n",
    "    for tripla in record[1]:\n",
    "        res.append((record[0],tripla))\n",
    "        \n",
    "    return res"
   ]
  },
  {
   "cell_type": "code",
   "execution_count": null,
   "metadata": {},
   "outputs": [],
   "source": [
    "(rddHotels\n",
    " .filter(lambda x: x['Review'] is not None)\n",
    " .map(lambda x: (x['Hotel_Name'], getTriples(x['Review'])))\n",
    "  .flatMap(splitTriple)\n",
    ").take(40)"
   ]
  },
  {
   "cell_type": "code",
   "execution_count": null,
   "metadata": {},
   "outputs": [],
   "source": [
    "log.toLog('starting triples extraction')"
   ]
  },
  {
   "cell_type": "code",
   "execution_count": 10,
   "metadata": {},
   "outputs": [],
   "source": [
    "SAMPLE_PERC = 0.001\n",
    "df_features = (rddHotels\n",
    " #.sample(False, SAMPLE_PERC) \n",
    " .filter(lambda x: x['Review'] is not None)\n",
    " .map(lambda x: (x['Hotel_Name'], getTriples(x['Review'])))\n",
    " .flatMap(splitTriple)\n",
    " .map(lambda x:( x[0], x[1][0], vader.polarity_scores(\" \".join(x[1]))['compound'] )  )\n",
    ").toDF([\"hotel\", \"feature\", \"scores\"])"
   ]
  },
  {
   "cell_type": "code",
   "execution_count": 11,
   "metadata": {},
   "outputs": [],
   "source": [
    "# register table (if not exists)\n",
    "try:\n",
    "    df_features.createTempView('features')\n",
    "except:\n",
    "    spark.catalog.dropTempView('features')\n",
    "    df_features.createTempView('features')"
   ]
  },
  {
   "cell_type": "code",
   "execution_count": 12,
   "metadata": {},
   "outputs": [
    {
     "name": "stdout",
     "output_type": "stream",
     "text": [
      "+--------------------+-----------+-------+\n",
      "|               hotel|    feature| scores|\n",
      "+--------------------+-----------+-------+\n",
      "|DoubleTree by Hil...|        bed|-0.1027|\n",
      "|The Mandeville Hotel|   standard|    0.0|\n",
      "|The Mandeville Hotel|      staff| 0.5859|\n",
      "|The Mandeville Hotel|conserierge|    0.0|\n",
      "|The Mandeville Hotel|      asset|  0.743|\n",
      "|Best Western Plus...|   location| 0.6249|\n",
      "|Best Western Plus...|      rooms| 0.5859|\n",
      "|Shangri La Hotel ...|  furniture| 0.5719|\n",
      "|Royal Hotel Champ...|    options| -0.296|\n",
      "|Royal Hotel Champ...|    cutlery|    0.0|\n",
      "|Intercontinental ...|        bar|    0.0|\n",
      "|Acad mie H tel Sa...|    nothing|-0.1511|\n",
      "|Acad mie H tel Sa...|      staff| 0.4215|\n",
      "|Acad mie H tel Sa...|     dinner|    0.0|\n",
      "|The Premier Notti...|   bathroom|    0.0|\n",
      "|The Premier Notti...|        bit|    0.0|\n",
      "|The Premier Notti...|        bed| 0.5106|\n",
      "|The Premier Notti...|       room| 0.4215|\n",
      "|The Premier Notti...|      stuff| 0.4754|\n",
      "|DoubleTree by Hil...|        pre|    0.0|\n",
      "+--------------------+-----------+-------+\n",
      "only showing top 20 rows\n",
      "\n"
     ]
    }
   ],
   "source": [
    "spark.sql(\"SELECT hotel, feature, scores from features\").show()"
   ]
  },
  {
   "cell_type": "code",
   "execution_count": 13,
   "metadata": {
    "scrolled": true
   },
   "outputs": [
    {
     "name": "stdout",
     "output_type": "stream",
     "text": [
      "+--------------------+------------+----------+--------+\n",
      "|               hotel|     feature|avg_scores|n_scores|\n",
      "+--------------------+------------+----------+--------+\n",
      "|                  41|  everything|       0.0|       1|\n",
      "|                  41|      access|       0.0|       1|\n",
      "|                  41|          tv|       0.0|       1|\n",
      "|                  41|        home|       0.0|       1|\n",
      "|Acad mie H tel Sa...|     nothing|   -0.1511|       1|\n",
      "|Acad mie H tel Sa...|      dinner|       0.0|       1|\n",
      "|Acad mie H tel Sa...|       staff|    0.4215|       1|\n",
      "|    Acevi Villarroel|         caf|       0.0|       1|\n",
      "|    Acevi Villarroel|         day|       0.0|       1|\n",
      "|    Acevi Villarroel|         spa|    0.5719|       1|\n",
      "|  Aloft London Excel|        room|       0.0|       1|\n",
      "|  Aloft London Excel|        feel|       0.0|       1|\n",
      "|  Aloft London Excel|    chargers|    0.2732|       1|\n",
      "|  Aloft London Excel|connectivity|    0.4404|       1|\n",
      "|    Amadi Park Hotel|        room|       0.0|       1|\n",
      "|Amba Hotel Marble...|        room|    0.4019|       1|\n",
      "|Amba Hotel Marble...|   amenities|    0.4404|       1|\n",
      "|Andaz London Live...|       place|   -0.3231|       2|\n",
      "|Andaz London Live...| temperature|   -0.1027|       1|\n",
      "|Andaz London Live...|         bed|       0.0|       1|\n",
      "|Andaz London Live...|        plug|       0.0|       1|\n",
      "|Andaz London Live...|        view|       0.0|       1|\n",
      "|Andaz London Live...|      fridge|       0.0|       1|\n",
      "|Andaz London Live...|      mirror|       0.0|       1|\n",
      "|Andaz London Live...|      player|       0.0|       1|\n",
      "|Andaz London Live...|      buffet|       0.0|       1|\n",
      "|Andaz London Live...|    diffcult|       0.0|       1|\n",
      "|Andaz London Live...|        room|       0.0|       1|\n",
      "|Andaz London Live...|      hotels|    0.4404|       1|\n",
      "|Apex City Of Lond...|    birthday|       0.0|       1|\n",
      "|Apex City Of Lond...|      burger|    0.6249|       1|\n",
      "|Apex Temple Court...|        beds|    0.4404|       1|\n",
      "|Apex Temple Court...|       staff|    0.4939|       1|\n",
      "|          Arbor City|      hoxton|       0.0|       1|\n",
      "|          Arbor City|        soup|    0.5719|       1|\n",
      "|          Arbor City|       value|    0.6801|       1|\n",
      "|          Arbor City|       staff|    0.8126|       1|\n",
      "|     Arbor Hyde Park|   breakfast|    0.4939|       1|\n",
      "|     Arbor Hyde Park|         bed|    0.5563|       1|\n",
      "|Atlantis Hotel Vi...|   furniture|       0.0|       1|\n",
      "+--------------------+------------+----------+--------+\n",
      "only showing top 40 rows\n",
      "\n"
     ]
    }
   ],
   "source": [
    "spark.sql(\"SELECT hotel, feature, \\\n",
    "AVG(scores) as avg_scores, COUNT(scores) as n_scores \\\n",
    "FROM features GROUP BY hotel, feature \\\n",
    "ORDER BY hotel, avg_scores  \").show(40)"
   ]
  },
  {
   "cell_type": "code",
   "execution_count": 14,
   "metadata": {},
   "outputs": [
    {
     "data": {
      "text/plain": [
       "1724"
      ]
     },
     "execution_count": 14,
     "metadata": {},
     "output_type": "execute_result"
    }
   ],
   "source": [
    "df_features.count()"
   ]
  },
  {
   "cell_type": "markdown",
   "metadata": {},
   "source": [
    "# Defining categories using Word2Vec"
   ]
  },
  {
   "cell_type": "code",
   "execution_count": null,
   "metadata": {},
   "outputs": [],
   "source": [
    "log.toLog('starting Word2Vec')"
   ]
  },
  {
   "cell_type": "code",
   "execution_count": 15,
   "metadata": {},
   "outputs": [],
   "source": [
    "from pyspark.mllib.feature import Word2Vec"
   ]
  },
  {
   "cell_type": "code",
   "execution_count": 19,
   "metadata": {},
   "outputs": [],
   "source": [
    "rdd_tokens = (df_cleaned.select(\"Review\").rdd\n",
    "              #.sample(False,0.1)\n",
    "              .filter(lambda x: x['Review'] is not None)\n",
    "              .map(lambda x: x['Review'].split(\" \"))\n",
    "             )"
   ]
  },
  {
   "cell_type": "code",
   "execution_count": 20,
   "metadata": {},
   "outputs": [],
   "source": [
    "word2Vec = Word2Vec().setMinCount(50).setVectorSize(200).setWindowSize(4)"
   ]
  },
  {
   "cell_type": "code",
   "execution_count": 21,
   "metadata": {},
   "outputs": [],
   "source": [
    "model = word2Vec.fit(rdd_tokens)"
   ]
  },
  {
   "cell_type": "code",
   "execution_count": 22,
   "metadata": {},
   "outputs": [],
   "source": [
    "categories = ['breakfast', 'staff', 'room', 'internet', 'location', 'bath', 'food']\n",
    "#food(breakfast), #staff(service), #room, #internet(wi-fi), #location, #bath"
   ]
  },
  {
   "cell_type": "code",
   "execution_count": 23,
   "metadata": {},
   "outputs": [],
   "source": [
    "all_categories = {cat:dict(model.findSynonyms(cat, num = 20)) for cat in categories}"
   ]
  },
  {
   "cell_type": "code",
   "execution_count": 24,
   "metadata": {},
   "outputs": [],
   "source": [
    "from pprint import pprint"
   ]
  },
  {
   "cell_type": "code",
   "execution_count": 25,
   "metadata": {},
   "outputs": [
    {
     "name": "stdout",
     "output_type": "stream",
     "text": [
      "{'bath': {'bathtub': 0.7747597136378125,\n",
      "          'chair': 0.7057696238180915,\n",
      "          'curtain': 0.8221979716434152,\n",
      "          'drain': 0.69020862582995,\n",
      "          'gel': 0.7941029686718208,\n",
      "          'hairdryer': 0.7072194399577826,\n",
      "          'leaked': 0.724425893579412,\n",
      "          'microwave': 0.6793925850183672,\n",
      "          'mirror': 0.7003404123037882,\n",
      "          'rain': 0.7740943176797076,\n",
      "          'screen': 0.7764742030491375,\n",
      "          'separate': 0.6809073623380965,\n",
      "          'shower': 0.7346343788554097,\n",
      "          'sink': 0.7451760409257452,\n",
      "          'soap': 0.6941982680161047,\n",
      "          'toilet': 0.7038944708923538,\n",
      "          'toiletries': 0.6886999559916872,\n",
      "          'towel': 0.7442922735865374,\n",
      "          'tub': 0.8081234815377862,\n",
      "          'wardrobe': 0.6739209747884857},\n",
      " 'breakfast': {'ambiance': 0.4006449847052091,\n",
      "               'breakfast.': 0.42801991514506854,\n",
      "               'breakfasts': 0.4602912354652437,\n",
      "               'buffet': 0.4354548126171054,\n",
      "               'croissants': 0.39421652168052307,\n",
      "               'dinner': 0.49792555390523974,\n",
      "               'food': 0.6664242862539209,\n",
      "               'lunch': 0.3898616778715701,\n",
      "               'meal': 0.38139104381224875,\n",
      "               'meals': 0.5068390114186432,\n",
      "               'menu': 0.4458109009155635,\n",
      "               'plentiful': 0.44812148016705855,\n",
      "               'price': 0.4451543520610909,\n",
      "               'quality': 0.4628531077882137,\n",
      "               'restaurant': 0.41150908977966233,\n",
      "               'selection': 0.4313108041781035,\n",
      "               'service': 0.3868952979435263,\n",
      "               'spread': 0.4329431974165308,\n",
      "               'tasty': 0.4209025038928787,\n",
      "               'varied': 0.38820499753881305},\n",
      " 'food': {'bacon': 0.567333024014737,\n",
      "          'bread': 0.570259279792812,\n",
      "          'breakfast': 0.666424361023118,\n",
      "          'choices': 0.5923330875705668,\n",
      "          'croissants': 0.559342866586424,\n",
      "          'dinner': 0.6190873327705948,\n",
      "          'drinks': 0.5935625740950983,\n",
      "          'eggs': 0.5651473978667428,\n",
      "          'foods': 0.5945532998181159,\n",
      "          'italian': 0.5803157603809688,\n",
      "          'meals': 0.5784662384739503,\n",
      "          'menu': 0.7152232764402012,\n",
      "          'plentiful': 0.5712278980063681,\n",
      "          'quality': 0.6118601028823453,\n",
      "          'restaurant': 0.5971704038563971,\n",
      "          'selection': 0.569774039091619,\n",
      "          'spread': 0.5526466250464259,\n",
      "          'tasty': 0.559565815120102,\n",
      "          'varied': 0.5520567664021188,\n",
      "          'variety': 0.573885407547144},\n",
      " 'internet': {'ac': 0.4263093109878941,\n",
      "              'computer': 0.46950797253663457,\n",
      "              'connection': 0.7013219310971538,\n",
      "              'fast': 0.5689478191288986,\n",
      "              'fi': 0.5524734733596598,\n",
      "              'gluten': 0.50762348146354,\n",
      "              'gym': 0.4172101339287722,\n",
      "              'minibar': 0.5101578270398681,\n",
      "              'mobile': 0.4745375749069146,\n",
      "              'movies': 0.5029473946018969,\n",
      "              'poor': 0.4195899719851007,\n",
      "              'signal': 0.7262799847727232,\n",
      "              'slow': 0.4252069492312067,\n",
      "              'sometimes': 0.4576826581828929,\n",
      "              'speed': 0.6330995385077628,\n",
      "              'television': 0.4289258889958714,\n",
      "              'tv': 0.4366618734292204,\n",
      "              'weak': 0.5512189290057463,\n",
      "              'wi': 0.6095885078814791,\n",
      "              'wifi': 0.8763774204974811},\n",
      " 'location': {'ambiance': 0.403939325319337,\n",
      "              'ambience': 0.34079615528096807,\n",
      "              'base': 0.34116057921860515,\n",
      "              'cleanness': 0.36828941023602785,\n",
      "              'environment': 0.4115300661729066,\n",
      "              'everything': 0.37244573732804753,\n",
      "              'everything.': 0.3547346446017924,\n",
      "              'excel': 0.35627843678411975,\n",
      "              'ideally': 0.4038515330742208,\n",
      "              'location.': 0.42420674102335404,\n",
      "              'money.': 0.37644356348670116,\n",
      "              'neighborhood': 0.34146352006224473,\n",
      "              'neighbourhood': 0.3975566266617231,\n",
      "              'none.': 0.37592199755965006,\n",
      "              'parking.': 0.340979326369939,\n",
      "              'position': 0.7289062944540294,\n",
      "              'proximity': 0.3846838330320495,\n",
      "              'quirky': 0.34834755792604666,\n",
      "              'service.': 0.34797930804302213,\n",
      "              'wifi.': 0.34877979065824044},\n",
      " 'room': {'apartment': 0.5188731622558717,\n",
      "          'bathroom': 0.536124693375869,\n",
      "          'bathtub': 0.4351664750629612,\n",
      "          'bed': 0.3639612350672775,\n",
      "          'bedroom': 0.7062659681466369,\n",
      "          'ceiling': 0.36553693396807796,\n",
      "          'cupboard': 0.34925415195951276,\n",
      "          'duvet': 0.43309516556442085,\n",
      "          'hair': 0.3768319815393304,\n",
      "          'jacuzzi': 0.3601488165952963,\n",
      "          'king': 0.4035173886716145,\n",
      "          'kitchenette': 0.39875750998850706,\n",
      "          'maid': 0.48243837661252237,\n",
      "          'mattress': 0.38077000049080206,\n",
      "          'room.': 0.4245358917149714,\n",
      "          'rooms': 0.47902602581553166,\n",
      "          'sink': 0.3543710668402185,\n",
      "          'strong': 0.35004012259284856,\n",
      "          'suite': 0.428277383389836,\n",
      "          'tub': 0.3708149235181752},\n",
      " 'staff': {'accommodating': 0.4930986923352758,\n",
      "           'cheerful': 0.48146798151640824,\n",
      "           'concierge': 0.5270953435341551,\n",
      "           'cooperative': 0.5152628702457747,\n",
      "           'courteous': 0.5144134172957853,\n",
      "           'doorman': 0.5578031526622641,\n",
      "           'efficient': 0.47704703214877636,\n",
      "           'employees': 0.617169735081276,\n",
      "           'informative': 0.5286853349902441,\n",
      "           'knowledgeable': 0.5783620469939557,\n",
      "           'personnel': 0.6952811836557643,\n",
      "           'polite': 0.47780880275236226,\n",
      "           'professional': 0.5031274322325253,\n",
      "           'receptionists': 0.5878808808505792,\n",
      "           'responsive': 0.5138154693479466,\n",
      "           'smiling': 0.4881711833223646,\n",
      "           'staffs': 0.7547013450934268,\n",
      "           'stuff': 0.7389743755234144,\n",
      "           'team': 0.5721084953296476,\n",
      "           'welcoming': 0.5064657149433378}}\n"
     ]
    }
   ],
   "source": [
    "pprint(all_categories)"
   ]
  },
  {
   "cell_type": "code",
   "execution_count": 27,
   "metadata": {},
   "outputs": [],
   "source": [
    "import json\n",
    "\n",
    "with open('categories.json', 'w') as outfile:\n",
    "    json.dump(all_categories, outfile)"
   ]
  },
  {
   "cell_type": "code",
   "execution_count": null,
   "metadata": {},
   "outputs": [],
   "source": []
  },
  {
   "cell_type": "code",
   "execution_count": 28,
   "metadata": {
    "scrolled": true
   },
   "outputs": [
    {
     "name": "stdout",
     "output_type": "stream",
     "text": [
      "{'bath': {'bathtub': 0.7747597136378125,\n",
      "          'chair': 0.7057696238180915,\n",
      "          'curtain': 0.8221979716434152,\n",
      "          'drain': 0.69020862582995,\n",
      "          'gel': 0.7941029686718208,\n",
      "          'hairdryer': 0.7072194399577826,\n",
      "          'leaked': 0.724425893579412,\n",
      "          'microwave': 0.6793925850183672,\n",
      "          'mirror': 0.7003404123037882,\n",
      "          'rain': 0.7740943176797076,\n",
      "          'screen': 0.7764742030491375,\n",
      "          'separate': 0.6809073623380965,\n",
      "          'shower': 0.7346343788554097,\n",
      "          'sink': 0.7451760409257452,\n",
      "          'soap': 0.6941982680161047,\n",
      "          'toilet': 0.7038944708923538,\n",
      "          'toiletries': 0.6886999559916872,\n",
      "          'towel': 0.7442922735865374,\n",
      "          'tub': 0.8081234815377862,\n",
      "          'wardrobe': 0.6739209747884857},\n",
      " 'breakfast': {'food': 0.6664242862539209},\n",
      " 'food': {'breakfast': 0.666424361023118,\n",
      "          'dinner': 0.6190873327705948,\n",
      "          'menu': 0.7152232764402012,\n",
      "          'quality': 0.6118601028823453},\n",
      " 'internet': {'connection': 0.7013219310971538,\n",
      "              'signal': 0.7262799847727232,\n",
      "              'speed': 0.6330995385077628,\n",
      "              'wi': 0.6095885078814791,\n",
      "              'wifi': 0.8763774204974811},\n",
      " 'location': {'position': 0.7289062944540294},\n",
      " 'room': {'bedroom': 0.7062659681466369},\n",
      " 'staff': {'employees': 0.617169735081276,\n",
      "           'personnel': 0.6952811836557643,\n",
      "           'staffs': 0.7547013450934268,\n",
      "           'stuff': 0.7389743755234144}}\n"
     ]
    }
   ],
   "source": [
    "for category, dict_feat in all_categories.items():\n",
    "    copyOfDict = dict(dict_feat)\n",
    "    for word, similarity in copyOfDict.items():\n",
    "        if similarity < 0.6:\n",
    "            del dict_feat[word] \n",
    "    \n",
    "pprint(all_categories)  "
   ]
  },
  {
   "cell_type": "code",
   "execution_count": null,
   "metadata": {},
   "outputs": [],
   "source": [
    "all_categories"
   ]
  },
  {
   "cell_type": "code",
   "execution_count": null,
   "metadata": {},
   "outputs": [],
   "source": [
    "#eliminare duplicati tra categorie differenti"
   ]
  },
  {
   "cell_type": "code",
   "execution_count": 29,
   "metadata": {},
   "outputs": [],
   "source": [
    "def assign_categories(feat):\n",
    "    for cat,dict_feat in all_categories.items():\n",
    "        if feat == cat or feat in dict_feat  :\n",
    "            return cat\n",
    "    \n",
    "    return 'other'\n",
    "    "
   ]
  },
  {
   "cell_type": "code",
   "execution_count": 31,
   "metadata": {},
   "outputs": [],
   "source": [
    "df_categories = (df_features.rdd\n",
    "                 .map(lambda x: (x['hotel'],x['feature'],assign_categories(x['feature']), x['scores'] ))\n",
    "                 .toDF(['hotel', 'feature', 'categories', 'score'])\n",
    "                )"
   ]
  },
  {
   "cell_type": "code",
   "execution_count": 32,
   "metadata": {},
   "outputs": [
    {
     "data": {
      "text/plain": [
       "[Row(hotel='DoubleTree by Hilton London Islington', feature='bed', categories='other', score=-0.1027),\n",
       " Row(hotel='The Mandeville Hotel', feature='standard', categories='other', score=0.0),\n",
       " Row(hotel='The Mandeville Hotel', feature='staff', categories='staff', score=0.5859),\n",
       " Row(hotel='The Mandeville Hotel', feature='conserierge', categories='other', score=0.0),\n",
       " Row(hotel='The Mandeville Hotel', feature='asset', categories='other', score=0.743),\n",
       " Row(hotel='Best Western Plus Hotel Galles', feature='location', categories='location', score=0.6249),\n",
       " Row(hotel='Best Western Plus Hotel Galles', feature='rooms', categories='other', score=0.5859),\n",
       " Row(hotel='Shangri La Hotel at The Shard London', feature='furniture', categories='other', score=0.5719),\n",
       " Row(hotel='Royal Hotel Champs Elys es', feature='options', categories='other', score=-0.296),\n",
       " Row(hotel='Royal Hotel Champs Elys es', feature='cutlery', categories='other', score=0.0)]"
      ]
     },
     "execution_count": 32,
     "metadata": {},
     "output_type": "execute_result"
    }
   ],
   "source": [
    "df_categories.head(10)"
   ]
  },
  {
   "cell_type": "code",
   "execution_count": null,
   "metadata": {},
   "outputs": [],
   "source": [
    "df_categories.write.csv(\"hdfs://masterbig-1.itc.unipi.it:54310/user/student18/df_features.csv\", header = True)"
   ]
  },
  {
   "cell_type": "code",
   "execution_count": 33,
   "metadata": {},
   "outputs": [],
   "source": [
    "# register table (if not exists)\n",
    "try:\n",
    "    df_categories.createTempView('categories')\n",
    "except:\n",
    "    spark.catalog.dropTempView('categories')\n",
    "    df_categories.createTempView('categories')"
   ]
  },
  {
   "cell_type": "code",
   "execution_count": 34,
   "metadata": {},
   "outputs": [
    {
     "name": "stdout",
     "output_type": "stream",
     "text": [
      "+--------------------+----------+-----------+-------+\n",
      "|               hotel|categories|    feature|  score|\n",
      "+--------------------+----------+-----------+-------+\n",
      "|DoubleTree by Hil...|     other|        bed|-0.1027|\n",
      "|The Mandeville Hotel|     other|   standard|    0.0|\n",
      "|The Mandeville Hotel|     staff|      staff| 0.5859|\n",
      "|The Mandeville Hotel|     other|conserierge|    0.0|\n",
      "|The Mandeville Hotel|     other|      asset|  0.743|\n",
      "|Best Western Plus...|  location|   location| 0.6249|\n",
      "|Best Western Plus...|     other|      rooms| 0.5859|\n",
      "|Shangri La Hotel ...|     other|  furniture| 0.5719|\n",
      "|Royal Hotel Champ...|     other|    options| -0.296|\n",
      "|Royal Hotel Champ...|     other|    cutlery|    0.0|\n",
      "|Intercontinental ...|     other|        bar|    0.0|\n",
      "|Acad mie H tel Sa...|     other|    nothing|-0.1511|\n",
      "|Acad mie H tel Sa...|     staff|      staff| 0.4215|\n",
      "|Acad mie H tel Sa...|      food|     dinner|    0.0|\n",
      "|The Premier Notti...|     other|   bathroom|    0.0|\n",
      "|The Premier Notti...|     other|        bit|    0.0|\n",
      "|The Premier Notti...|     other|        bed| 0.5106|\n",
      "|The Premier Notti...|      room|       room| 0.4215|\n",
      "|The Premier Notti...|     staff|      stuff| 0.4754|\n",
      "|DoubleTree by Hil...|     other|        pre|    0.0|\n",
      "+--------------------+----------+-----------+-------+\n",
      "only showing top 20 rows\n",
      "\n"
     ]
    }
   ],
   "source": [
    "spark.sql(\"SELECT hotel, categories, feature, score from categories\").show()"
   ]
  },
  {
   "cell_type": "code",
   "execution_count": 35,
   "metadata": {
    "scrolled": true
   },
   "outputs": [
    {
     "data": {
      "text/plain": [
       "DataFrame[hotel: string, categories: string, avg_scores: double, n_scores: bigint]"
      ]
     },
     "execution_count": 35,
     "metadata": {},
     "output_type": "execute_result"
    }
   ],
   "source": [
    "spark.sql(\"SELECT hotel, categories, AVG(score) as avg_scores, COUNT(score) as n_scores \\\n",
    "FROM categories GROUP BY hotel, categories ORDER BY hotel, avg_scores  \")"
   ]
  },
  {
   "cell_type": "markdown",
   "metadata": {},
   "source": [
    "# Export final dataframe"
   ]
  },
  {
   "cell_type": "code",
   "execution_count": null,
   "metadata": {},
   "outputs": [],
   "source": [
    "log.toLog('start group by hotel/categories')"
   ]
  },
  {
   "cell_type": "code",
   "execution_count": null,
   "metadata": {},
   "outputs": [],
   "source": [
    "import pyspark.sql.functions as func"
   ]
  },
  {
   "cell_type": "code",
   "execution_count": null,
   "metadata": {},
   "outputs": [],
   "source": [
    "df_final = df_categories.groupBy(\"hotel\").pivot('categories').agg(func.avg('score'))"
   ]
  },
  {
   "cell_type": "code",
   "execution_count": null,
   "metadata": {},
   "outputs": [],
   "source": [
    "df_final.write.csv(\"hdfs://masterbig-1.itc.unipi.it:54310/user/student18/df_categories.csv\", header = True)"
   ]
  },
  {
   "cell_type": "code",
   "execution_count": null,
   "metadata": {},
   "outputs": [],
   "source": [
    "log.toLog('end feature extraction')\n",
    "log.close()"
   ]
  }
 ],
 "metadata": {
  "kernelspec": {
   "display_name": "Python 3",
   "language": "python",
   "name": "python3"
  },
  "language_info": {
   "codemirror_mode": {
    "name": "ipython",
    "version": 3
   },
   "file_extension": ".py",
   "mimetype": "text/x-python",
   "name": "python",
   "nbconvert_exporter": "python",
   "pygments_lexer": "ipython3",
   "version": "3.4.3"
  }
 },
 "nbformat": 4,
 "nbformat_minor": 2
}
