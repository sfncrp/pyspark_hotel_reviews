{
 "cells": [
  {
   "cell_type": "code",
   "execution_count": 4,
   "metadata": {},
   "outputs": [],
   "source": [
    "import toLog\n",
    "log = toLog.log('Feature extraction starting')"
   ]
  },
  {
   "cell_type": "code",
   "execution_count": 5,
   "metadata": {},
   "outputs": [],
   "source": [
    "from pyspark.sql import SparkSession\n",
    "\n",
    "spark = (SparkSession.builder\n",
    "         .appName('Python spark')\n",
    "         .config('spark.some.config.option','some-value')\n",
    "         .getOrCreate()\n",
    "         )"
   ]
  },
  {
   "cell_type": "code",
   "execution_count": 6,
   "metadata": {},
   "outputs": [
    {
     "name": "stdout",
     "output_type": "stream",
     "text": [
      "root\n",
      " |-- id: long (nullable = true)\n",
      " |-- Hotel_Address: string (nullable = true)\n",
      " |-- Additional_Number_of_Scoring: integer (nullable = true)\n",
      " |-- Review_Date: string (nullable = true)\n",
      " |-- Average_Score: double (nullable = true)\n",
      " |-- Hotel_Name: string (nullable = true)\n",
      " |-- Reviewer_Nationality: string (nullable = true)\n",
      " |-- Review_Total_Negative_Word_Counts: integer (nullable = true)\n",
      " |-- Total_Number_of_Reviews: integer (nullable = true)\n",
      " |-- Review_Total_Positive_Word_Counts: integer (nullable = true)\n",
      " |-- Total_Number_of_Reviews_Reviewer_Has_Given: integer (nullable = true)\n",
      " |-- Reviewer_Score: double (nullable = true)\n",
      " |-- Tags: string (nullable = true)\n",
      " |-- days_since_review: string (nullable = true)\n",
      " |-- lat: string (nullable = true)\n",
      " |-- lng: string (nullable = true)\n",
      " |-- Review: string (nullable = true)\n",
      " |-- Hotel_Country: string (nullable = true)\n",
      "\n"
     ]
    }
   ],
   "source": [
    "# read file from hdfs and infer schema\n",
    "df_cleaned = spark.read.csv(\"hdfs://masterbig-1.itc.unipi.it:54310/user/student18/df_cleaned.csv\", header = True, inferSchema = True)\n",
    "df_cleaned.printSchema()"
   ]
  },
  {
   "cell_type": "code",
   "execution_count": 7,
   "metadata": {},
   "outputs": [
    {
     "data": {
      "text/plain": [
       "0"
      ]
     },
     "execution_count": 7,
     "metadata": {},
     "output_type": "execute_result"
    }
   ],
   "source": [
    "df_cleaned.rdd.filter(lambda x: x['Review'] is None).count()"
   ]
  },
  {
   "cell_type": "code",
   "execution_count": 8,
   "metadata": {},
   "outputs": [],
   "source": [
    "# register table (if not exists)\n",
    "try:\n",
    "    df_cleaned.createTempView('hotels')\n",
    "except:\n",
    "    pass"
   ]
  },
  {
   "cell_type": "code",
   "execution_count": 9,
   "metadata": {},
   "outputs": [
    {
     "name": "stdout",
     "output_type": "stream",
     "text": [
      "+--------------------+--------------------+----------+----------+\n",
      "|          Hotel_Name|              Review|       lat|       lng|\n",
      "+--------------------+--------------------+----------+----------+\n",
      "|         Hotel Arena|the staff in the ...|52.3605759| 4.9159683|\n",
      "|         Hotel Arena|. the overall hot...|52.3605759| 4.9159683|\n",
      "|    K K Hotel George|no bad experience...|51.4918878|-0.1949706|\n",
      "|    K K Hotel George|the room is bit s...|51.4918878|-0.1949706|\n",
      "|Apex Temple Court...|my son and his fa...|51.5137335|-0.1087512|\n",
      "|Apex Temple Court...|nothing to improv...|51.5137335|-0.1087512|\n",
      "|Apex Temple Court...|my self and my wi...|51.5137335|-0.1087512|\n",
      "|Apex Temple Court...|expensive but thi...|51.5137335|-0.1087512|\n",
      "|Apex Temple Court...|nothing not to li...|51.5137335|-0.1087512|\n",
      "|Apex Temple Court...|. rooms are comfo...|51.5137335|-0.1087512|\n",
      "|The Park Grand Lo...|a socket for plug...|51.5142184|-0.1809032|\n",
      "|The Park Grand Lo...|. staff very frie...|51.5142184|-0.1809032|\n",
      "|The Park Grand Lo...|I would ve liked ...|51.5142184|-0.1809032|\n",
      "|The Park Grand Lo...|everytime I book ...|51.5142184|-0.1809032|\n",
      "|The Park Grand Lo...|cold hotel breakf...|51.5142184|-0.1809032|\n",
      "|The Park Grand Lo...| not well maintained|51.5142184|-0.1809032|\n",
      "|The Park Grand Lo...|. lovely hotel ce...|51.5142184|-0.1809032|\n",
      "|The Principal London|some of us found ...|51.5226217|-0.1251602|\n",
      "|The Principal London|I feel that the b...|51.5226217|-0.1251602|\n",
      "|The Principal London|the side facing t...|51.5226217|-0.1251602|\n",
      "+--------------------+--------------------+----------+----------+\n",
      "only showing top 20 rows\n",
      "\n"
     ]
    }
   ],
   "source": [
    "# selecting only the reviews using spark.sql\n",
    "df_hotels = spark.sql(\"SELECT Hotel_Name, Review, lat, lng FROM hotels\")\n",
    "df_hotels.show()"
   ]
  },
  {
   "cell_type": "code",
   "execution_count": 10,
   "metadata": {},
   "outputs": [
    {
     "name": "stdout",
     "output_type": "stream",
     "text": [
      "505009\n"
     ]
    }
   ],
   "source": [
    "print(df_hotels.count())"
   ]
  },
  {
   "cell_type": "code",
   "execution_count": 11,
   "metadata": {},
   "outputs": [],
   "source": [
    "rddHotels = df_hotels.select('Hotel_Name', 'Review', 'lat', 'lng').rdd"
   ]
  },
  {
   "cell_type": "markdown",
   "metadata": {},
   "source": [
    "# Features extraction"
   ]
  },
  {
   "cell_type": "code",
   "execution_count": 12,
   "metadata": {},
   "outputs": [],
   "source": [
    "from getTriples import getTriples"
   ]
  },
  {
   "cell_type": "code",
   "execution_count": 13,
   "metadata": {},
   "outputs": [],
   "source": [
    "import nltk\n",
    "from nltk.sentiment.vader import SentimentIntensityAnalyzer\n",
    "vader = SentimentIntensityAnalyzer()"
   ]
  },
  {
   "cell_type": "code",
   "execution_count": 14,
   "metadata": {},
   "outputs": [],
   "source": [
    "def splitTriple(record):\n",
    "    res = []\n",
    "    for tripla in record[1]:\n",
    "        res.append((record[0],tripla))\n",
    "        \n",
    "    return res"
   ]
  },
  {
   "cell_type": "code",
   "execution_count": 18,
   "metadata": {},
   "outputs": [
    {
     "data": {
      "text/plain": [
       "[('Hotel Arena', ('building', 'very', 'historic')),\n",
       " ('Hotel Arena', ('hotel', '', 'overall')),\n",
       " ('Hotel Arena', ('work', '', 'complete')),\n",
       " ('K K Hotel George', ('experiences', '', 'bad')),\n",
       " ('K K Hotel George', ('nothing', '', 'wrong')),\n",
       " ('K K Hotel George', ('hotel', '', 'excellent')),\n",
       " ('K K Hotel George', ('room', 'very', 'comfortable')),\n",
       " ('K K Hotel George', ('size', '', 'good')),\n",
       " ('K K Hotel George', ('hotel', '', 'london')),\n",
       " ('K K Hotel George', ('tidy', '', 'clean')),\n",
       " ('K K Hotel George', ('staff', 'well', 'equipped')),\n",
       " ('K K Hotel George', ('class', '', 'first')),\n",
       " ('K K Hotel George', ('menu', '', 'comprehensive')),\n",
       " ('K K Hotel George', ('quality', '', 'good')),\n",
       " ('K K Hotel George', ('room', '', '')),\n",
       " ('K K Hotel George', ('anywaylondon', '', 'small')),\n",
       " ('Apex Temple Court Hotel', ('family', '', 'staying')),\n",
       " ('Apex Temple Court Hotel', ('rooms', '', 'identical')),\n",
       " ('Apex Temple Court Hotel', ('apex', 'directly', '')),\n",
       " ('Apex Temple Court Hotel', ('breakfasts', '', 'full')),\n",
       " ('Apex Temple Court Hotel', ('room', '', 'same')),\n",
       " ('Apex Temple Court Hotel', ('room', 'really', 'large')),\n",
       " ('Apex Temple Court Hotel', ('decor', '', 'modern')),\n",
       " ('Apex Temple Court Hotel', ('machine', '', 'nespresso')),\n",
       " ('Apex Temple Court Hotel', ('staff', 'friendly', 'helpful')),\n",
       " ('Apex Temple Court Hotel', ('location', '', 'good')),\n",
       " ('Apex Temple Court Hotel', ('wife', '', '')),\n",
       " ('Apex Temple Court Hotel', ('passports', '', 'british')),\n",
       " ('Apex Temple Court Hotel', ('discriminatory', 'very', 'rude')),\n",
       " ('Apex Temple Court Hotel', ('holiday', '', '')),\n",
       " ('Apex Temple Court Hotel', ('times', '', 'many')),\n",
       " ('Apex Temple Court Hotel', ('complaint', '', 'formal')),\n",
       " ('Apex Temple Court Hotel', ('dhami', '', 'surj')),\n",
       " ('Apex Temple Court Hotel', ('venue', '', '')),\n",
       " ('Apex Temple Court Hotel', ('value', '', 'good')),\n",
       " ('Apex Temple Court Hotel', ('facilities', '', 'great')),\n",
       " ('Apex Temple Court Hotel', ('lounge', '', 'club')),\n",
       " ('Apex Temple Court Hotel', ('price', '', 'extra')),\n",
       " ('Apex Temple Court Hotel', ('staff', 'very', 'helpful')),\n",
       " ('Apex Temple Court Hotel', ('location', '', 'excellent'))]"
      ]
     },
     "execution_count": 18,
     "metadata": {},
     "output_type": "execute_result"
    }
   ],
   "source": [
    "(rddHotels\n",
    " .filter(lambda x: x['Review'] is not None)\n",
    " .map(lambda x: (x['Hotel_Name'], x['Review'] )\n",
    " .map(lambda x: (x[0], getTriples(x[1])))\n",
    " .flatMap(splitTriple)\n",
    ").take(40)"
   ]
  },
  {
   "cell_type": "code",
   "execution_count": 19,
   "metadata": {},
   "outputs": [],
   "source": [
    "log.toLog('starting triples extraction')"
   ]
  },
  {
   "cell_type": "code",
   "execution_count": 20,
   "metadata": {},
   "outputs": [],
   "source": [
    "SAMPLE_PERC = 0.001\n",
    "df_features = (rddHotels\n",
    " .sample(False, SAMPLE_PERC) \n",
    " .filter(lambda x: x['Review'] is not None)\n",
    " .map(lambda x: (x['Hotel_Name'], getTriples(x['Review'])))\n",
    " .flatMap(splitTriple)\n",
    " .map(lambda x:( x[0], x[1][0], vader.polarity_scores(\" \".join(x[1]))['compound'] )  )\n",
    ").toDF([\"hotel\", \"feature\", \"scores\"])"
   ]
  },
  {
   "cell_type": "code",
   "execution_count": 21,
   "metadata": {},
   "outputs": [],
   "source": [
    "# register table (if not exists)\n",
    "try:\n",
    "    df_features.createTempView('features')\n",
    "except:\n",
    "    spark.catalog.dropTempView('features')\n",
    "    df_features.createTempView('features')"
   ]
  },
  {
   "cell_type": "code",
   "execution_count": 22,
   "metadata": {},
   "outputs": [
    {
     "name": "stdout",
     "output_type": "stream",
     "text": [
      "+--------------------+------------+------+\n",
      "|               hotel|     feature|scores|\n",
      "+--------------------+------------+------+\n",
      "|  ME London by Melia|    everyone|   0.0|\n",
      "|  ME London by Melia|       lover|0.5859|\n",
      "|  ME London by Melia|    waitress|   0.0|\n",
      "|  ME London by Melia|         bar|   0.0|\n",
      "|  ME London by Melia|      charge|   0.0|\n",
      "|  ME London by Melia|   refilling|   0.0|\n",
      "|  ME London by Melia|       radio|   0.0|\n",
      "|  ME London by Melia|         bar|0.5574|\n",
      "|  ME London by Melia|       staff|0.5267|\n",
      "|  ME London by Melia|       floor|   0.0|\n",
      "|  ME London by Melia|architecture|   0.0|\n",
      "|  ME London by Melia|         wow| 0.836|\n",
      "|The Cumberland A ...|         bit|   0.0|\n",
      "|The Cumberland A ...|    location|0.6249|\n",
      "|The Cumberland A ...|      decent|   0.0|\n",
      "|Mercure Amsterdam...|          tv|   0.0|\n",
      "|Mercure Amsterdam...|        work|   0.0|\n",
      "|Mercure Amsterdam...|     station|   0.0|\n",
      "|Mercure Amsterdam...|    location|0.6249|\n",
      "|Mercure Amsterdam...|        room|0.6124|\n",
      "+--------------------+------------+------+\n",
      "only showing top 20 rows\n",
      "\n"
     ]
    }
   ],
   "source": [
    "spark.sql(\"SELECT hotel, feature, scores from features\").show()"
   ]
  },
  {
   "cell_type": "code",
   "execution_count": 23,
   "metadata": {
    "scrolled": true
   },
   "outputs": [
    {
     "name": "stdout",
     "output_type": "stream",
     "text": [
      "+--------------------+-----------+----------+--------+\n",
      "|               hotel|    feature|avg_scores|n_scores|\n",
      "+--------------------+-----------+----------+--------+\n",
      "|25hours Hotel bei...|   internet|   -0.5423|       1|\n",
      "|25hours Hotel bei...|      guest|       0.0|       1|\n",
      "|25hours Hotel bei...|       wifi|       0.0|       1|\n",
      "|25hours Hotel bei...|     waiter|       0.0|       1|\n",
      "|25hours Hotel bei...|        bit|       0.0|       2|\n",
      "|25hours Hotel bei...|    terrace|       0.0|       1|\n",
      "|25hours Hotel bei...|      style|       0.0|       1|\n",
      "|25hours Hotel bei...|      staff|   0.48465|       2|\n",
      "|25hours Hotel bei...|  breakfast|   0.50615|       2|\n",
      "|25hours Hotel bei...|       view|    0.5574|       1|\n",
      "|25hours Hotel bei...|   location|    0.6249|       1|\n",
      "|   9Hotel Republique|      staff|     -0.43|       1|\n",
      "|   9Hotel Republique|       city|       0.0|       1|\n",
      "|   9Hotel Republique|        bed|    0.5563|       1|\n",
      "|   9Hotel Republique|     design|    0.6249|       1|\n",
      "|   9Hotel Republique|      clean|     0.765|       1|\n",
      "|AC Hotel Barcelon...|information|   -0.4767|       1|\n",
      "|AC Hotel Barcelon...|       desk|       0.0|       1|\n",
      "|AC Hotel Barcelon...|      floor|       0.0|       1|\n",
      "|AC Hotel Barcelon...| connection|    0.4576|       1|\n",
      "|AC Hotel Barcelon...|        etc|    0.5719|       1|\n",
      "|AC Hotel Barcelon...|   location|    0.6249|       1|\n",
      "|AC Hotel Barcelon...|      rooms|    0.6249|       1|\n",
      "|AC Hotel Barcelon...|       room|    0.6249|       1|\n",
      "|          Abba Sants|      staff|     0.296|       1|\n",
      "|Ace Hotel London ...|  isolation|   -0.7003|       1|\n",
      "|Ace Hotel London ...|     people|       0.0|       1|\n",
      "|         Acta CITY47|      staff|    0.3815|       2|\n",
      "|    Ako Suites Hotel|   location|       0.0|       1|\n",
      "|    Ako Suites Hotel|restaurants|    0.4404|       1|\n",
      "|  Aloft London Excel|        bit|   -0.4404|       1|\n",
      "|  Aloft London Excel|    options|   -0.2263|       1|\n",
      "|  Aloft London Excel|      eater|       0.0|       1|\n",
      "|  Aloft London Excel|   purchase|       0.0|       1|\n",
      "|  Aloft London Excel| everything|       0.0|       1|\n",
      "|  Aloft London Excel|          s|       0.0|       1|\n",
      "|  Aloft London Excel|   sittings|       0.0|       1|\n",
      "|  Aloft London Excel|  transport|       0.0|       1|\n",
      "|  Aloft London Excel|    request|       0.0|       1|\n",
      "|  Aloft London Excel|       food|       0.0|       1|\n",
      "+--------------------+-----------+----------+--------+\n",
      "only showing top 40 rows\n",
      "\n"
     ]
    }
   ],
   "source": [
    "spark.sql(\"SELECT hotel, feature, \\\n",
    "AVG(scores) as avg_scores, COUNT(scores) as n_scores \\\n",
    "FROM features GROUP BY hotel, feature \\\n",
    "ORDER BY hotel, avg_scores  \").show(40)"
   ]
  },
  {
   "cell_type": "code",
   "execution_count": 24,
   "metadata": {},
   "outputs": [
    {
     "data": {
      "text/plain": [
       "1968"
      ]
     },
     "execution_count": 24,
     "metadata": {},
     "output_type": "execute_result"
    }
   ],
   "source": [
    "df_features.count()"
   ]
  },
  {
   "cell_type": "code",
   "execution_count": 25,
   "metadata": {},
   "outputs": [],
   "source": [
    "import json\n",
    "# reading the defined categories\n",
    "with open('final_categories.json') as f:\n",
    "     categories = json.load(f)"
   ]
  },
  {
   "cell_type": "code",
   "execution_count": 26,
   "metadata": {},
   "outputs": [
    {
     "data": {
      "text/plain": [
       "{'bathroom': ['washbasin',\n",
       "  'restroom',\n",
       "  'cubicle',\n",
       "  'bathrooms',\n",
       "  'ensuite',\n",
       "  'fixture',\n",
       "  'bathroom.',\n",
       "  'toilette',\n",
       "  'washroom',\n",
       "  'toilet',\n",
       "  'bath',\n",
       "  'shower',\n",
       "  'bathtub',\n",
       "  'towels',\n",
       "  'showerhead',\n",
       "  'wc'],\n",
       " 'facilities': ['bar',\n",
       "  'supplies',\n",
       "  'facility.',\n",
       "  'equipment',\n",
       "  'furniture',\n",
       "  'ammenities',\n",
       "  'lift',\n",
       "  'facilities.',\n",
       "  'tv',\n",
       "  'facility',\n",
       "  'facilties',\n",
       "  'facilites',\n",
       "  'spa.',\n",
       "  'amenities',\n",
       "  'massages',\n",
       "  'equipments',\n",
       "  'pool'],\n",
       " 'food': ['breakfest',\n",
       "  'grill',\n",
       "  'restaurants',\n",
       "  'menu.',\n",
       "  'breakfeast',\n",
       "  'food.',\n",
       "  'food',\n",
       "  'resturant',\n",
       "  'selections',\n",
       "  'coffee',\n",
       "  'resteraunt',\n",
       "  'seafood',\n",
       "  'menu',\n",
       "  'sushi',\n",
       "  'bfast',\n",
       "  'brekkie',\n",
       "  'tea',\n",
       "  'dinner.',\n",
       "  'breakfast',\n",
       "  'carvery',\n",
       "  'foods',\n",
       "  'breakfast.',\n",
       "  'bistro',\n",
       "  'breakfasts',\n",
       "  'menus',\n",
       "  'breafast',\n",
       "  'brekfast',\n",
       "  'buffet',\n",
       "  'meals',\n",
       "  'presentation',\n",
       "  'beakfast',\n",
       "  'brakfast',\n",
       "  'brasserie',\n",
       "  'drinks',\n",
       "  'breackfast',\n",
       "  'steak',\n",
       "  'assortment',\n",
       "  'wines'],\n",
       " 'internet': ['4g',\n",
       "  'wifi.',\n",
       "  'connection',\n",
       "  'wifi',\n",
       "  'signal',\n",
       "  'wireless',\n",
       "  'signal.',\n",
       "  'speed',\n",
       "  'network',\n",
       "  '3g',\n",
       "  'coverage',\n",
       "  'internet.',\n",
       "  'connection.',\n",
       "  'wlan'],\n",
       " 'location': ['view',\n",
       "  'views',\n",
       "  'transport',\n",
       "  'location.',\n",
       "  'localization',\n",
       "  'access',\n",
       "  'place',\n",
       "  'position',\n",
       "  'locality',\n",
       "  'localisation',\n",
       "  'area',\n",
       "  'street',\n",
       "  'parking',\n",
       "  'attractions',\n",
       "  'lication',\n",
       "  'locations',\n",
       "  'areas'],\n",
       " 'room': ['room.',\n",
       "  'suite.',\n",
       "  'studio',\n",
       "  'terrace',\n",
       "  'pillows',\n",
       "  'bedroom',\n",
       "  'suite',\n",
       "  'rooms',\n",
       "  'rom',\n",
       "  'beds',\n",
       "  'bedrooms',\n",
       "  'bedroom.',\n",
       "  'appartment',\n",
       "  'bed',\n",
       "  'apartment',\n",
       "  'rooom',\n",
       "  'rooms.'],\n",
       " 'staff': ['team',\n",
       "  'receptionists',\n",
       "  'personnel',\n",
       "  'concierge',\n",
       "  'hosts',\n",
       "  'stafff',\n",
       "  'personel',\n",
       "  'conceirge',\n",
       "  'reception',\n",
       "  'employees',\n",
       "  'receptionist',\n",
       "  'concierges',\n",
       "  'staffs',\n",
       "  'crew',\n",
       "  'doormen',\n",
       "  'service',\n",
       "  'hospitable',\n",
       "  'staf',\n",
       "  'services',\n",
       "  'porters',\n",
       "  'personell']}"
      ]
     },
     "execution_count": 26,
     "metadata": {},
     "output_type": "execute_result"
    }
   ],
   "source": [
    "categories"
   ]
  },
  {
   "cell_type": "code",
   "execution_count": 27,
   "metadata": {},
   "outputs": [],
   "source": [
    "def assign_categories(feat):\n",
    "    for cat,dict_feat in categories.items():\n",
    "        if feat == cat or feat in dict_feat  :\n",
    "            return cat\n",
    "    \n",
    "    return 'other'\n",
    "    "
   ]
  },
  {
   "cell_type": "code",
   "execution_count": 28,
   "metadata": {},
   "outputs": [],
   "source": [
    "df_categories = (df_features.rdd\n",
    "                 .map(lambda x: (x['hotel'],x['feature'],assign_categories(x['feature']), x['scores'] ))\n",
    "                 .toDF(['hotel', 'feature', 'categories', 'score'])\n",
    "                )"
   ]
  },
  {
   "cell_type": "code",
   "execution_count": 30,
   "metadata": {},
   "outputs": [
    {
     "data": {
      "text/plain": [
       "[Row(hotel='ME London by Melia', feature='everyone', categories='other', score=0.0),\n",
       " Row(hotel='ME London by Melia', feature='lover', categories='other', score=0.5859),\n",
       " Row(hotel='ME London by Melia', feature='waitress', categories='other', score=0.0),\n",
       " Row(hotel='ME London by Melia', feature='bar', categories='facilities', score=0.0),\n",
       " Row(hotel='ME London by Melia', feature='charge', categories='other', score=0.0),\n",
       " Row(hotel='ME London by Melia', feature='refilling', categories='other', score=0.0),\n",
       " Row(hotel='ME London by Melia', feature='radio', categories='other', score=0.0),\n",
       " Row(hotel='ME London by Melia', feature='bar', categories='facilities', score=0.5574),\n",
       " Row(hotel='ME London by Melia', feature='staff', categories='staff', score=0.5267),\n",
       " Row(hotel='ME London by Melia', feature='floor', categories='other', score=0.0),\n",
       " Row(hotel='ME London by Melia', feature='architecture', categories='other', score=0.0),\n",
       " Row(hotel='ME London by Melia', feature='wow', categories='other', score=0.836),\n",
       " Row(hotel='The Cumberland A Guoman Hotel', feature='bit', categories='other', score=0.0),\n",
       " Row(hotel='The Cumberland A Guoman Hotel', feature='location', categories='location', score=0.6249),\n",
       " Row(hotel='The Cumberland A Guoman Hotel', feature='decent', categories='other', score=0.0),\n",
       " Row(hotel='Mercure Amsterdam Sloterdijk Station', feature='tv', categories='facilities', score=0.0),\n",
       " Row(hotel='Mercure Amsterdam Sloterdijk Station', feature='work', categories='other', score=0.0),\n",
       " Row(hotel='Mercure Amsterdam Sloterdijk Station', feature='station', categories='other', score=0.0),\n",
       " Row(hotel='Mercure Amsterdam Sloterdijk Station', feature='location', categories='location', score=0.6249),\n",
       " Row(hotel='Mercure Amsterdam Sloterdijk Station', feature='room', categories='room', score=0.6124)]"
      ]
     },
     "execution_count": 30,
     "metadata": {},
     "output_type": "execute_result"
    }
   ],
   "source": [
    "df_categories.head(20)"
   ]
  },
  {
   "cell_type": "code",
   "execution_count": null,
   "metadata": {},
   "outputs": [],
   "source": [
    "df_categories.write.csv(\"hdfs://masterbig-1.itc.unipi.it:54310/user/student18/df_features.csv\", header = True)"
   ]
  },
  {
   "cell_type": "code",
   "execution_count": 31,
   "metadata": {},
   "outputs": [],
   "source": [
    "# register table (if not exists)\n",
    "try:\n",
    "    df_categories.createTempView('categories')\n",
    "except:\n",
    "    spark.catalog.dropTempView('categories')\n",
    "    df_categories.createTempView('categories')"
   ]
  },
  {
   "cell_type": "code",
   "execution_count": 32,
   "metadata": {},
   "outputs": [
    {
     "name": "stdout",
     "output_type": "stream",
     "text": [
      "+--------------------+----------+------------+------+\n",
      "|               hotel|categories|     feature| score|\n",
      "+--------------------+----------+------------+------+\n",
      "|  ME London by Melia|     other|    everyone|   0.0|\n",
      "|  ME London by Melia|     other|       lover|0.5859|\n",
      "|  ME London by Melia|     other|    waitress|   0.0|\n",
      "|  ME London by Melia|facilities|         bar|   0.0|\n",
      "|  ME London by Melia|     other|      charge|   0.0|\n",
      "|  ME London by Melia|     other|   refilling|   0.0|\n",
      "|  ME London by Melia|     other|       radio|   0.0|\n",
      "|  ME London by Melia|facilities|         bar|0.5574|\n",
      "|  ME London by Melia|     staff|       staff|0.5267|\n",
      "|  ME London by Melia|     other|       floor|   0.0|\n",
      "|  ME London by Melia|     other|architecture|   0.0|\n",
      "|  ME London by Melia|     other|         wow| 0.836|\n",
      "|The Cumberland A ...|     other|         bit|   0.0|\n",
      "|The Cumberland A ...|  location|    location|0.6249|\n",
      "|The Cumberland A ...|     other|      decent|   0.0|\n",
      "|Mercure Amsterdam...|facilities|          tv|   0.0|\n",
      "|Mercure Amsterdam...|     other|        work|   0.0|\n",
      "|Mercure Amsterdam...|     other|     station|   0.0|\n",
      "|Mercure Amsterdam...|  location|    location|0.6249|\n",
      "|Mercure Amsterdam...|      room|        room|0.6124|\n",
      "+--------------------+----------+------------+------+\n",
      "only showing top 20 rows\n",
      "\n"
     ]
    }
   ],
   "source": [
    "spark.sql(\"SELECT hotel, categories, feature, score from categories\").show()"
   ]
  },
  {
   "cell_type": "code",
   "execution_count": 35,
   "metadata": {
    "scrolled": true
   },
   "outputs": [
    {
     "data": {
      "text/plain": [
       "DataFrame[hotel: string, categories: string, avg_scores: double, n_scores: bigint]"
      ]
     },
     "execution_count": 35,
     "metadata": {},
     "output_type": "execute_result"
    }
   ],
   "source": [
    "spark.sql(\"SELECT hotel, categories, AVG(score) as avg_scores, COUNT(score) as n_scores \\\n",
    "FROM categories GROUP BY hotel, categories ORDER BY hotel, avg_scores  \")"
   ]
  },
  {
   "cell_type": "markdown",
   "metadata": {},
   "source": [
    "# Export final dataframe"
   ]
  },
  {
   "cell_type": "code",
   "execution_count": null,
   "metadata": {},
   "outputs": [],
   "source": [
    "log.toLog('start group by hotel/categories')"
   ]
  },
  {
   "cell_type": "code",
   "execution_count": null,
   "metadata": {},
   "outputs": [],
   "source": [
    "import pyspark.sql.functions as func"
   ]
  },
  {
   "cell_type": "code",
   "execution_count": null,
   "metadata": {},
   "outputs": [],
   "source": [
    "df_final = df_categories.groupBy(\"hotel\").pivot('categories').agg(func.avg('score'))"
   ]
  },
  {
   "cell_type": "code",
   "execution_count": null,
   "metadata": {},
   "outputs": [],
   "source": [
    "df_final.write.csv(\"hdfs://masterbig-1.itc.unipi.it:54310/user/student18/df_categories.csv\", header = True)"
   ]
  },
  {
   "cell_type": "code",
   "execution_count": null,
   "metadata": {},
   "outputs": [],
   "source": [
    "log.toLog('end feature extraction')\n",
    "log.close()"
   ]
  }
 ],
 "metadata": {
  "kernelspec": {
   "display_name": "Python 3",
   "language": "python",
   "name": "python3"
  },
  "language_info": {
   "codemirror_mode": {
    "name": "ipython",
    "version": 3
   },
   "file_extension": ".py",
   "mimetype": "text/x-python",
   "name": "python",
   "nbconvert_exporter": "python",
   "pygments_lexer": "ipython3",
   "version": "3.4.3"
  }
 },
 "nbformat": 4,
 "nbformat_minor": 2
}
