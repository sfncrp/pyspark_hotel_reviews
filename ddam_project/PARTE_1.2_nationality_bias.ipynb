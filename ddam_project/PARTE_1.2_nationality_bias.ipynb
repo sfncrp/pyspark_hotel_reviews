{
 "cells": [
  {
   "cell_type": "code",
   "execution_count": 1,
   "metadata": {},
   "outputs": [],
   "source": [
    "from pyspark.sql import SparkSession\n",
    "spark = (SparkSession.builder\n",
    "         .appName('ddam_project')\n",
    "         .config('spark.some.config.option','some-value')\n",
    "         .getOrCreate()\n",
    "         )"
   ]
  },
  {
   "cell_type": "code",
   "execution_count": 62,
   "metadata": {},
   "outputs": [
    {
     "name": "stdout",
     "output_type": "stream",
     "text": [
      "root\n",
      " |-- id: long (nullable = true)\n",
      " |-- Hotel_Address: string (nullable = true)\n",
      " |-- Additional_Number_of_Scoring: integer (nullable = true)\n",
      " |-- Review_Date: string (nullable = true)\n",
      " |-- Average_Score: double (nullable = true)\n",
      " |-- Hotel_Name: string (nullable = true)\n",
      " |-- Reviewer_Nationality: string (nullable = true)\n",
      " |-- Review_Total_Negative_Word_Counts: integer (nullable = true)\n",
      " |-- Total_Number_of_Reviews: integer (nullable = true)\n",
      " |-- Review_Total_Positive_Word_Counts: integer (nullable = true)\n",
      " |-- Total_Number_of_Reviews_Reviewer_Has_Given: integer (nullable = true)\n",
      " |-- Reviewer_Score: double (nullable = true)\n",
      " |-- Tags: string (nullable = true)\n",
      " |-- days_since_review: string (nullable = true)\n",
      " |-- lat: string (nullable = true)\n",
      " |-- lng: string (nullable = true)\n",
      " |-- Review: string (nullable = true)\n",
      " |-- Hotel_Country: string (nullable = true)\n",
      "\n"
     ]
    }
   ],
   "source": [
    "# read file from hdfs and infer schema\n",
    "df_cleaned = spark.read.csv(\"hdfs://masterbig-1.itc.unipi.it:54310/user/student18/df_cleaned.csv\", header = True, inferSchema = True)\n",
    "df_cleaned.printSchema()"
   ]
  },
  {
   "cell_type": "code",
   "execution_count": 63,
   "metadata": {},
   "outputs": [],
   "source": [
    "# register table \n",
    "try:\n",
    "    df_cleaned.createTempView('cleaned')\n",
    "except:\n",
    "    # overwrites if table exists\n",
    "    spark.catalog.dropTempView('cleaned')\n",
    "    df_cleaned.createTempView('cleaned')"
   ]
  },
  {
   "cell_type": "markdown",
   "metadata": {},
   "source": [
    "# Bias computation using the mean"
   ]
  },
  {
   "cell_type": "markdown",
   "metadata": {},
   "source": [
    "The bias has been computed as:  \n",
    "the mean of the Reviewer_Score for each Reviewer_Nationality  \n",
    "MINUS  \n",
    "the overall global Reviewer_Score mean  \n",
    "We have considered the bias only for countries with number of reviewers > 100"
   ]
  },
  {
   "cell_type": "code",
   "execution_count": 64,
   "metadata": {},
   "outputs": [],
   "source": [
    "import pyspark.sql.functions as f"
   ]
  },
  {
   "cell_type": "code",
   "execution_count": 65,
   "metadata": {},
   "outputs": [],
   "source": [
    "tot_avg = spark.sql(\"SELECT   COUNT(*) AS N, \\\n",
    "AVG(Reviewer_Score) AS AVG_SCORE, \\\n",
    "STDDEV(Reviewer_Score) AS S \\\n",
    "FROM cleaned \\\n",
    "GROUP BY NULL \\\n",
    "\").rdd.collect()[0]['AVG_SCORE']"
   ]
  },
  {
   "cell_type": "code",
   "execution_count": null,
   "metadata": {},
   "outputs": [],
   "source": []
  },
  {
   "cell_type": "code",
   "execution_count": 66,
   "metadata": {},
   "outputs": [
    {
     "name": "stdout",
     "output_type": "stream",
     "text": [
      "+--------------------+------+-----------------+------------------+-----------------+\n",
      "|Reviewer_Nationality|     N|        AVG_SCORE|                 S|          Tot_Avg|\n",
      "+--------------------+------+-----------------+------------------+-----------------+\n",
      "|              Panama|   117|8.788888888888888|1.4026930857177227|8.392897271028017|\n",
      "|United States of ...| 34887| 8.78780347980614|1.5073551292818983|8.392897271028017|\n",
      "|         Puerto Rico|   169|  8.7603550295858| 1.588321176248055|8.392897271028017|\n",
      "|              Israel|  6456|8.694733581164826|1.5103577808400275|8.392897271028017|\n",
      "| Trinidad and Tobago|   154|8.677922077922076|1.2885238427110572|8.392897271028017|\n",
      "|         New Zealand|  3195|8.653020344287944|1.3905642252860766|8.392897271028017|\n",
      "|           Australia| 21412|8.592051186250648| 1.483046772456401|8.392897271028017|\n",
      "|             Bermuda|   101| 8.57920792079208|1.4278877288977008|8.392897271028017|\n",
      "|              Canada|  7792|8.547869609856289|1.5202101738245324|8.392897271028017|\n",
      "|            Colombia|   263|8.539923954372625|1.4584719579787118|8.392897271028017|\n",
      "|              Mexico|   576|8.538541666666667|1.6722930755207899|8.392897271028017|\n",
      "|          Costa Rica|   118|  8.5364406779661|1.6053151701756627|8.392897271028017|\n",
      "|             Hungary|  2140|8.493224299065414|1.4981165910570498|8.392897271028017|\n",
      "|               Malta|  1640|8.482012195121948|1.5111300233203524|8.392897271028017|\n",
      "|      United Kingdom|241061|8.481949382106817| 1.607090541343012|8.392897271028017|\n",
      "|             Ireland| 14611|8.461001984805979|1.5532699149015132|8.392897271028017|\n",
      "|             Iceland|   912|8.448026315789473|1.6290975350389723|8.392897271028017|\n",
      "|         Philippines|  1050| 8.43447619047619| 1.514433878786764|8.392897271028017|\n",
      "|               China|  3297|8.434061267819226|1.6364704315039922|8.392897271028017|\n",
      "|              Brazil|  1820|8.433241758241751|1.5898037665973672|8.392897271028017|\n",
      "+--------------------+------+-----------------+------------------+-----------------+\n",
      "only showing top 20 rows\n",
      "\n"
     ]
    }
   ],
   "source": [
    "df_temp = spark.sql(\"SELECT Reviewer_Nationality,  COUNT(*) AS N, \\\n",
    "AVG(Reviewer_Score) AS AVG_SCORE, \\\n",
    "STDDEV(Reviewer_Score) AS S \\\n",
    "FROM cleaned \\\n",
    "GROUP BY Reviewer_Nationality  \\\n",
    "HAVING N> 100 \\\n",
    "ORDER BY AVG_SCORE DESC \\\n",
    "\").withColumn('Tot_Avg', f.lit(tot_avg))\n",
    "df_temp.show()\n"
   ]
  },
  {
   "cell_type": "code",
   "execution_count": 67,
   "metadata": {},
   "outputs": [
    {
     "name": "stdout",
     "output_type": "stream",
     "text": [
      "+--------------------+------+------------------+------------------+-----------------+--------------------+\n",
      "|Reviewer_Nationality|     N|         AVG_SCORE|                 S|          Tot_Avg|                Bias|\n",
      "+--------------------+------+------------------+------------------+-----------------+--------------------+\n",
      "|              Panama|   117| 8.788888888888888|1.4026930857177227|8.392897271028017| 0.39599161786087045|\n",
      "|United States of ...| 34887|  8.78780347980614|1.5073551292818983|8.392897271028017| 0.39490620877812255|\n",
      "|         Puerto Rico|   169|   8.7603550295858| 1.588321176248055|8.392897271028017| 0.36745775855778184|\n",
      "|              Israel|  6456| 8.694733581164826|1.5103577808400275|8.392897271028017| 0.30183631013680845|\n",
      "| Trinidad and Tobago|   154| 8.677922077922076|1.2885238427110572|8.392897271028017| 0.28502480689405907|\n",
      "|         New Zealand|  3195| 8.653020344287944|1.3905642252860766|8.392897271028017| 0.26012307325992623|\n",
      "|           Australia| 21412| 8.592051186250648| 1.483046772456401|8.392897271028017| 0.19915391522263093|\n",
      "|             Bermuda|   101|  8.57920792079208|1.4278877288977008|8.392897271028017| 0.18631064976406186|\n",
      "|              Canada|  7792| 8.547869609856289|1.5202101738245324|8.392897271028017|  0.1549723388282711|\n",
      "|            Colombia|   263| 8.539923954372625|1.4584719579787118|8.392897271028017|  0.1470266833446079|\n",
      "|              Mexico|   576| 8.538541666666667|1.6722930755207899|8.392897271028017| 0.14564439563864973|\n",
      "|          Costa Rica|   118|   8.5364406779661|1.6053151701756627|8.392897271028017| 0.14354340693808254|\n",
      "|             Hungary|  2140| 8.493224299065414|1.4981165910570498|8.392897271028017| 0.10032702803739646|\n",
      "|               Malta|  1640| 8.482012195121948|1.5111300233203524|8.392897271028017| 0.08911492409393063|\n",
      "|      United Kingdom|241061| 8.481949382106817| 1.607090541343012|8.392897271028017| 0.08905211107880007|\n",
      "|             Ireland| 14611| 8.461001984805979|1.5532699149015132|8.392897271028017| 0.06810471377796112|\n",
      "|             Iceland|   912| 8.448026315789473|1.6290975350389723|8.392897271028017| 0.05512904476145586|\n",
      "|         Philippines|  1050|  8.43447619047619| 1.514433878786764|8.392897271028017| 0.04157891944817216|\n",
      "|               China|  3297| 8.434061267819226|1.6364704315039922|8.392897271028017|0.041163996791208746|\n",
      "|              Brazil|  1820| 8.433241758241751|1.5898037665973672|8.392897271028017|0.040344487213733515|\n",
      "|           Argentina|   499| 8.421442885771544|1.5595544113921964|8.392897271028017| 0.02854561474352657|\n",
      "|            Bulgaria|  1279| 8.407974980453474|1.6729081851466485|8.392897271028017|0.015077709425456831|\n",
      "|         Isle of Man|   395| 8.397974683544305| 1.504796375373474|8.392897271028017|0.005077412516287794|\n",
      "|            Guernsey|   541| 8.397042513863218|1.5921772119067497|8.392897271028017|0.004145242835200236|\n",
      "|         South Korea|  1049| 8.386081982840802|1.7530335748771175|8.392897271028017|-0.00681528818721...|\n",
      "|             Ukraine|  1079|  8.37784986098239|1.6037527337060555|8.392897271028017|-0.01504741004562...|\n",
      "|              Taiwan|   902|  8.37549889135255|1.5536675758284941|8.392897271028017|-0.01739837967546798|\n",
      "|             Estonia|   737| 8.368656716417913|1.5692986742513797|8.392897271028017|-0.02424055461010...|\n",
      "|Bosnia and Herzeg...|   235|  8.36851063829787| 1.511786991964932|8.392897271028017|-0.02438663273014...|\n",
      "|        South Africa|  3745| 8.361495327102805|1.6338538896212238|8.392897271028017|-0.03140194392521245|\n",
      "|            Slovakia|   889|   8.3578177727784| 1.500588535622717|8.392897271028017| -0.0350794982496172|\n",
      "|           Lithuania|   722| 8.343767313019391|1.6413759632021516|8.392897271028017|-0.04912995800862596|\n",
      "|               Chile|   317| 8.332807570977918|1.6039890949290645|8.392897271028017|-0.06008970005009928|\n",
      "|             Georgia|   275| 8.328363636363637|1.6674850633900937|8.392897271028017|-0.06453363466438056|\n",
      "|                Peru|   108| 8.325925925925926| 1.613284243565441|8.392897271028017|-0.06697134510209146|\n",
      "|             Croatia|  1298| 8.314791987673342|  1.65527497123773|8.392897271028017|-0.07810528335467559|\n",
      "|               Japan|  1244|  8.30988745980707|    1.581425872757|8.392897271028017|-0.08300981122094697|\n",
      "|    Abkhazia Georgia|   147|  8.30952380952381| 1.677381085482984|8.392897271028017|-0.08337346150420721|\n",
      "|             Austria|  2365| 8.308710359408028| 1.631124481929048|8.392897271028017|-0.08418691161998915|\n",
      "|              Cyprus|  1344| 8.297916666666662|1.6217789352643635|8.392897271028017|-0.09498060436135525|\n",
      "|              Jersey|   852| 8.296948356807512|1.6885708521096299|8.392897271028017|-0.09594891422050544|\n",
      "|             Finland|  1813| 8.289189189189182| 1.434779310953897|8.392897271028017| -0.1037080818388354|\n",
      "|      Czech Republic|  2279| 8.287626151820968|1.5631667753758305|8.392897271028017|-0.10527111920704968|\n",
      "|            Slovenia|   773| 8.281500646830528| 1.576201515239932|8.392897271028017| -0.1113966241974893|\n",
      "|              Serbia|  1094| 8.277513711151736|1.6093865894280535|8.392897271028017| -0.1153835598762818|\n",
      "|              Russia|  3830| 8.276109660574411|1.6845653028549543|8.392897271028017| -0.1167876104536063|\n",
      "|              Latvia|   707| 8.258698727015558|1.5088473748552045|8.392897271028017|-0.13419854401245956|\n",
      "|           Indonesia|  1493| 8.256262558606826|1.4879889862636664|8.392897271028017| -0.1366347124211913|\n",
      "|           Macedonia|   269| 8.243494423791821|1.8068702999253636|8.392897271028017|-0.14940284723619612|\n",
      "|           Gibraltar|   368| 8.239673913043479|1.5776200135018381|8.392897271028017|-0.15322335798453857|\n",
      "|              Poland|  2835| 8.227548500881827|1.6121406080686271|8.392897271028017| -0.1653487701461902|\n",
      "|             Albania|   272| 8.226470588235296|1.9012613911192058|8.392897271028017|-0.16642668279272144|\n",
      "|             Belarus|   191| 8.210471204188481|1.7461522475244988|8.392897271028017| -0.1824260668395361|\n",
      "|            Thailand|  1804| 8.199501108647445| 1.619091853770869|8.392897271028017| -0.1933961623805729|\n",
      "|          Luxembourg|  1342| 8.193442622950814|1.6062058746526873|8.392897271028017| -0.1994546480772037|\n",
      "|             Romania|  4430| 8.189683972911972|1.6844257950713788|8.392897271028017| -0.2032132981160455|\n",
      "|             Nigeria|   934|  8.17644539614561|1.5141426173641412|8.392897271028017|-0.21645187488240758|\n",
      "|              Sweden|  3297| 8.168850470124356|1.6436431444172601|8.392897271028017|-0.22404680090366114|\n",
      "|             Belgium|  5918| 8.168300101385624|1.6074470251472401|8.392897271028017|-0.22459716964239362|\n",
      "|               Ghana|   137| 8.167153284671532|1.7126737562795458|8.392897271028017|-0.22574398635648585|\n",
      "|              Greece|  3352|  8.16530429594272|1.6361456269442602|8.392897271028017| -0.2275929750852974|\n",
      "|         Switzerland|  8555| 8.159707773232048|1.6033626281222073|8.392897271028017| -0.2331894977959692|\n",
      "|               Spain|  4611| 8.157427889828679| 1.718247928113725|8.392897271028017| -0.2354693811993389|\n",
      "|            Malaysia|  1817| 8.153329664281776|1.5248316068527734|8.392897271028017|-0.23956760674624178|\n",
      "|              Norway|  2340| 8.139999999999997|1.5826193645390882|8.392897271028017| -0.2528972710280204|\n",
      "|              France|  7129| 8.137424603731263|1.7447602781276128|8.392897271028017|  -0.255472667296754|\n",
      "|           Singapore|  3047| 8.137282573022643|1.5913118408473417|8.392897271028017|-0.25561469800537395|\n",
      "|             Germany|  7822| 8.129020710815672| 1.680425460257919|8.392897271028017| -0.2638765602123456|\n",
      "|         Netherlands|  8618| 8.122661870503622| 1.612402757536525|8.392897271028017|-0.27023540052439543|\n",
      "|             Vietnam|   183| 8.112568306010928|1.7304021842362982|8.392897271028017|-0.28032896501708926|\n",
      "|               Italy|  5919| 8.106724108802181|1.7151784663471703|8.392897271028017| -0.2861731622258361|\n",
      "|             Moldova|   105| 8.100952380952382| 1.671566241473457|8.392897271028017| -0.2919448900756354|\n",
      "|             Armenia|   125|            8.0984|1.9685832469062614|8.392897271028017| -0.2944972710280176|\n",
      "|               Egypt|  2293| 8.097470562581766|1.7018398484172894|8.392897271028017|-0.29542670844625185|\n",
      "|           Sri Lanka|   277| 8.079783393501806|1.6859895677247971|8.392897271028017| -0.3131138775262112|\n",
      "|               Kenya|   258| 8.073255813953491|  1.61525493418159|8.392897271028017| -0.3196414570745265|\n",
      "|             Denmark|  1704| 8.072065727699526|1.6841233562130058|8.392897271028017| -0.3208315433284916|\n",
      "|            Portugal|  1806| 8.043798449612396|1.6244403327952672|8.392897271028017|-0.34909882141562143|\n",
      "|              Monaco|   241| 8.043153526970954|1.8855273392779515|8.392897271028017| -0.3497437440570632|\n",
      "|                null|   511| 8.038551859099806|1.7198213133219222|8.392897271028017|  -0.354345411928211|\n",
      "|           Hong Kong|  2967|   8.0242332322211|1.6100040867464565|8.392897271028017|-0.36866403880691756|\n",
      "|             Morocco|   216| 8.018055555555556|1.6431104696592604|8.392897271028017| -0.3748417154724617|\n",
      "|                Iraq|   258| 8.001162790697675|1.8265121139973182|8.392897271028017| -0.3917344803303422|\n",
      "|              Turkey|  5260| 8.000532319391647|1.8042005090878637|8.392897271028017| -0.3923649516363703|\n",
      "|              Kuwait|  4623| 7.986718581008008|1.8182880594357207|8.392897271028017| -0.4061786900200097|\n",
      "|             Lebanon|  2161| 7.983341045812119| 1.800159493660322|8.392897271028017|-0.40955622521589863|\n",
      "|          Montenegro|   185| 7.965405405405405|2.0179070552595517|8.392897271028017|-0.42749186562261254|\n",
      "|               Macau|   105| 7.954285714285714|1.5755968692865234|8.392897271028017| -0.4386115567423037|\n",
      "|             Bahrain|  1523| 7.917202889034795|1.7693011613101546|8.392897271028017|-0.47569438199322267|\n",
      "|           Mauritius|   213| 7.913615023474179|1.7374489492051233|8.392897271028017| -0.4792822475538383|\n",
      "|               India|  3349|  7.88023290534488|1.8405747682176872|8.392897271028017| -0.5126643656831371|\n",
      "|          Kazakhstan|   269| 7.874721189591079|1.8605569139866842|8.392897271028017| -0.5181760814369385|\n",
      "|        Saudi Arabia|  8413| 7.873683584928114|1.8721833669284635|8.392897271028017| -0.5192136860999037|\n",
      "|United Arab Emirates|  9779| 7.872277328970259|1.8978525716468788|8.392897271028017| -0.5206199420577589|\n",
      "|               Qatar|  2583|7.8656987998451395|1.9357816373517551|8.392897271028017| -0.5271984711828779|\n",
      "|          Azerbaijan|   262| 7.859923664122138|1.7465337302150392|8.392897271028017| -0.5329736069058795|\n",
      "|                Oman|  1295| 7.846100386100383|1.7903091801553543|8.392897271028017| -0.5467968849276348|\n",
      "|              Jordan|   716| 7.835055865921787|1.8649172154953308|8.392897271028017| -0.5578414051062301|\n",
      "|            Pakistan|   874| 7.794622425629291| 1.802132097773113|8.392897271028017| -0.5982748453987261|\n",
      "|                Iran|  1033| 7.746660212971923|1.7450236492852131|8.392897271028017| -0.6462370580560943|\n",
      "+--------------------+------+------------------+------------------+-----------------+--------------------+\n",
      "only showing top 100 rows\n",
      "\n"
     ]
    }
   ],
   "source": [
    "df_bias = df_temp.withColumn('Bias', df_temp.AVG_SCORE - df_temp.Tot_Avg)\n",
    "df_bias.show(100)"
   ]
  },
  {
   "cell_type": "code",
   "execution_count": 70,
   "metadata": {},
   "outputs": [],
   "source": [
    "df_bias.write.csv(\"hdfs://masterbig-1.itc.unipi.it:54310/user/student18/df_bias_mean.csv\", header = True)"
   ]
  },
  {
   "cell_type": "markdown",
   "metadata": {},
   "source": [
    "## Bias with median"
   ]
  },
  {
   "cell_type": "markdown",
   "metadata": {},
   "source": [
    "### Method\n",
    "The median has been computed for each country by \n",
    "looking for the median position over of each partition by the Reviewer_Nationality"
   ]
  },
  {
   "cell_type": "code",
   "execution_count": 43,
   "metadata": {},
   "outputs": [],
   "source": [
    "from pyspark.sql import Window\n",
    "\n",
    "# setting up the window partitions\n",
    "grp_window = Window.partitionBy(df_cleaned['Reviewer_Nationality']).orderBy('Reviewer_Score')\n",
    "grp_count = Window.partitionBy(df_cleaned['Reviewer_Nationality'])\n",
    "#my_median = f.expr('f.percentRank')"
   ]
  },
  {
   "cell_type": "code",
   "execution_count": 44,
   "metadata": {},
   "outputs": [],
   "source": [
    "#partititioning the Reviewer_Nationality\n",
    "df_part = df_cleaned.select('Hotel_Name', 'Reviewer_Nationality', 'Reviewer_Score', \n",
    "                  f.row_number().over(grp_window).alias('row'),\n",
    "                  f.count('Hotel_Name').over(grp_count).alias('N')\n",
    "                 )"
   ]
  },
  {
   "cell_type": "code",
   "execution_count": 45,
   "metadata": {},
   "outputs": [
    {
     "name": "stdout",
     "output_type": "stream",
     "text": [
      "+--------------------+--------------------+--------------+---+---+\n",
      "|          Hotel_Name|Reviewer_Nationality|Reviewer_Score|row|  N|\n",
      "+--------------------+--------------------+--------------+---+---+\n",
      "|    H tel Diva Opera|Turks Caicos Islands|           4.2|  1| 14|\n",
      "|          Hotel 1898|Turks Caicos Islands|           5.0|  2| 14|\n",
      "|        Hotel Mozart|Turks Caicos Islands|           5.4|  3| 14|\n",
      "|Hyatt Regency Par...|Turks Caicos Islands|           5.5|  4| 14|\n",
      "|Au Manoir Saint G...|Turks Caicos Islands|           7.5|  5| 14|\n",
      "+--------------------+--------------------+--------------+---+---+\n",
      "only showing top 5 rows\n",
      "\n"
     ]
    }
   ],
   "source": [
    "df_part.show(5)\n",
    "# register table \n",
    "try:\n",
    "    df_part.createTempView('median_temp')\n",
    "except:\n",
    "    # overwrites if table exists\n",
    "    spark.catalog.dropTempView('median_temp')\n",
    "    df_part.createTempView('median_temp')"
   ]
  },
  {
   "cell_type": "code",
   "execution_count": 46,
   "metadata": {},
   "outputs": [
    {
     "name": "stdout",
     "output_type": "stream",
     "text": [
      "+--------------------+--------------------+--------------+---+----------+\n",
      "|          Hotel_Name|Reviewer_Nationality|Reviewer_Score|row|MEDIAN_POS|\n",
      "+--------------------+--------------------+--------------+---+----------+\n",
      "|    H tel Diva Opera|Turks Caicos Islands|           4.2|  1|       7.0|\n",
      "|          Hotel 1898|Turks Caicos Islands|           5.0|  2|       7.0|\n",
      "|        Hotel Mozart|Turks Caicos Islands|           5.4|  3|       7.0|\n",
      "|Hyatt Regency Par...|Turks Caicos Islands|           5.5|  4|       7.0|\n",
      "|Au Manoir Saint G...|Turks Caicos Islands|           7.5|  5|       7.0|\n",
      "|Bcn Urban Hotels ...|Turks Caicos Islands|           7.9|  6|       7.0|\n",
      "|St Martins Lane A...|Turks Caicos Islands|           7.9|  7|       7.0|\n",
      "|  Aloft London Excel|Turks Caicos Islands|           8.8|  8|       7.0|\n",
      "|Thistle Kensingto...|Turks Caicos Islands|           9.6|  9|       7.0|\n",
      "|Park Grand Paddin...|Turks Caicos Islands|           9.6| 10|       7.0|\n",
      "|Shangri La Hotel ...|Turks Caicos Islands|          10.0| 11|       7.0|\n",
      "|St Pancras Renais...|Turks Caicos Islands|          10.0| 12|       7.0|\n",
      "| H tel Juliana Paris|Turks Caicos Islands|          10.0| 13|       7.0|\n",
      "|  Acta Atrium Palace|Turks Caicos Islands|          10.0| 14|       7.0|\n",
      "| IntercityHotel Wien|            Anguilla|           7.5|  1|       1.0|\n",
      "|The Abbey Court N...|            Paraguay|           4.2|  1|      14.0|\n",
      "|        H tel Balzac|            Paraguay|           4.2|  2|      14.0|\n",
      "|     Starhotels Echo|            Paraguay|           5.0|  3|      14.0|\n",
      "|Hilton London Met...|            Paraguay|           6.7|  4|      14.0|\n",
      "|Best Western Le J...|            Paraguay|           6.7|  5|      14.0|\n",
      "+--------------------+--------------------+--------------+---+----------+\n",
      "only showing top 20 rows\n",
      "\n"
     ]
    }
   ],
   "source": [
    "# Computing the median position, splitting the case when the partition count is even/odd\n",
    "spark.sql(\n",
    "    'SELECT Hotel_Name, Reviewer_Nationality, Reviewer_Score, row, \\\n",
    "    CASE WHEN(N%2==0) THEN (N/2) \\\n",
    "    ELSE ((N+1)/2) END AS MEDIAN_POS \\\n",
    "    FROM median_temp'\n",
    "         ).show()"
   ]
  },
  {
   "cell_type": "code",
   "execution_count": 47,
   "metadata": {},
   "outputs": [
    {
     "data": {
      "text/plain": [
       "8.8"
      ]
     },
     "execution_count": 47,
     "metadata": {},
     "output_type": "execute_result"
    }
   ],
   "source": [
    "# compute the total median\n",
    "tot_median = df_cleaned.approxQuantile(\"Reviewer_Score\", [0.5], 0.0)[0]\n",
    "tot_median"
   ]
  },
  {
   "cell_type": "code",
   "execution_count": 48,
   "metadata": {},
   "outputs": [
    {
     "name": "stdout",
     "output_type": "stream",
     "text": [
      "+--------------------+------+-----+-----+----------+----------+\n",
      "|Reviewer_Nationality|Median|  row|    N|MEDIAN_POS|Tot_Median|\n",
      "+--------------------+------+-----+-----+----------+----------+\n",
      "|         Puerto Rico|   9.6|   85|  169|      85.0|       8.8|\n",
      "|          Costa Rica|   9.2|   59|  118|      59.0|       8.8|\n",
      "|United States of ...|   9.2|17444|34887|   17444.0|       8.8|\n",
      "|           Australia|   9.2|10706|21412|   10706.0|       8.8|\n",
      "|              Israel|   9.2| 3228| 6456|    3228.0|       8.8|\n",
      "|         South Korea|   9.2|  525| 1049|     525.0|       8.8|\n",
      "|              Canada|   9.2| 3896| 7792|    3896.0|       8.8|\n",
      "|         New Zealand|   9.2| 1598| 3195|    1598.0|       8.8|\n",
      "|              Panama|   9.2|   59|  117|      59.0|       8.8|\n",
      "|              Mexico|   9.2|  288|  576|     288.0|       8.8|\n",
      "+--------------------+------+-----+-----+----------+----------+\n",
      "only showing top 10 rows\n",
      "\n"
     ]
    }
   ],
   "source": [
    "# we then select the median by matching the median_pos and row, \n",
    "# add the global median\n",
    "df_median_temp = (spark.sql(\n",
    "    'SELECT Reviewer_Nationality, Reviewer_Score AS Median, row, N, \\\n",
    "    CASE WHEN(N%2==0) THEN (N/2) \\\n",
    "    ELSE ((N+1)/2) END AS MEDIAN_POS \\\n",
    "    FROM median_temp'\n",
    "         ).filter('row=MEDIAN_POS and N>100')\n",
    " .orderBy('Reviewer_Score', ascending=False)\n",
    " .withColumn('Tot_Median', f.lit(tot_median))\n",
    ")\n",
    "df_median_temp.show(10)"
   ]
  },
  {
   "cell_type": "code",
   "execution_count": 49,
   "metadata": {},
   "outputs": [
    {
     "name": "stdout",
     "output_type": "stream",
     "text": [
      "+--------------------+------+------+------+----------+----------+-------------------+\n",
      "|Reviewer_Nationality|Median|   row|     N|MEDIAN_POS|Tot_Median|        Bias_median|\n",
      "+--------------------+------+------+------+----------+----------+-------------------+\n",
      "|         Puerto Rico|   9.6|    85|   169|      85.0|       8.8| 0.7999999999999989|\n",
      "|              Israel|   9.2|  3228|  6456|    3228.0|       8.8| 0.3999999999999986|\n",
      "|              Mexico|   9.2|   288|   576|     288.0|       8.8| 0.3999999999999986|\n",
      "|         South Korea|   9.2|   525|  1049|     525.0|       8.8| 0.3999999999999986|\n",
      "|United States of ...|   9.2| 17444| 34887|   17444.0|       8.8| 0.3999999999999986|\n",
      "|              Canada|   9.2|  3896|  7792|    3896.0|       8.8| 0.3999999999999986|\n",
      "|         New Zealand|   9.2|  1598|  3195|    1598.0|       8.8| 0.3999999999999986|\n",
      "|          Costa Rica|   9.2|    59|   118|      59.0|       8.8| 0.3999999999999986|\n",
      "|           Australia|   9.2| 10706| 21412|   10706.0|       8.8| 0.3999999999999986|\n",
      "|              Panama|   9.2|    59|   117|      59.0|       8.8| 0.3999999999999986|\n",
      "|      United Kingdom|   9.2|120531|241061|  120531.0|       8.8| 0.3999999999999986|\n",
      "|              Taiwan|   8.8|   451|   902|     451.0|       8.8|                0.0|\n",
      "|              Jersey|   8.8|   426|   852|     426.0|       8.8|                0.0|\n",
      "|               China|   8.8|  1649|  3297|    1649.0|       8.8|                0.0|\n",
      "|               Chile|   8.8|   159|   317|     159.0|       8.8|                0.0|\n",
      "|               Malta|   8.8|   820|  1640|     820.0|       8.8|                0.0|\n",
      "|            Slovakia|   8.8|   445|   889|     445.0|       8.8|                0.0|\n",
      "|           Lithuania|   8.8|   361|   722|     361.0|       8.8|                0.0|\n",
      "|              Sweden|   8.8|  1649|  3297|    1649.0|       8.8|                0.0|\n",
      "|             Albania|   8.8|   136|   272|     136.0|       8.8|                0.0|\n",
      "|             Finland|   8.8|   907|  1813|     907.0|       8.8|                0.0|\n",
      "|             Ireland|   8.8|  7306| 14611|    7306.0|       8.8|                0.0|\n",
      "|                Peru|   8.8|    54|   108|      54.0|       8.8|                0.0|\n",
      "|             Iceland|   8.8|   456|   912|     456.0|       8.8|                0.0|\n",
      "|             Belarus|   8.8|    96|   191|      96.0|       8.8|                0.0|\n",
      "|              Cyprus|   8.8|   672|  1344|     672.0|       8.8|                0.0|\n",
      "|           Gibraltar|   8.8|   184|   368|     184.0|       8.8|                0.0|\n",
      "|             Estonia|   8.8|   369|   737|     369.0|       8.8|                0.0|\n",
      "|             Georgia|   8.8|   138|   275|     138.0|       8.8|                0.0|\n",
      "|          Montenegro|   8.8|    93|   185|      93.0|       8.8|                0.0|\n",
      "|             Armenia|   8.8|    63|   125|      63.0|       8.8|                0.0|\n",
      "| Trinidad and Tobago|   8.8|    77|   154|      77.0|       8.8|                0.0|\n",
      "|         Isle of Man|   8.8|   198|   395|     198.0|       8.8|                0.0|\n",
      "|         Philippines|   8.8|   525|  1050|     525.0|       8.8|                0.0|\n",
      "|              Latvia|   8.8|   354|   707|     354.0|       8.8|                0.0|\n",
      "|             Croatia|   8.8|   649|  1298|     649.0|       8.8|                0.0|\n",
      "|           Macedonia|   8.8|   135|   269|     135.0|       8.8|                0.0|\n",
      "|      Czech Republic|   8.8|  1140|  2279|    1140.0|       8.8|                0.0|\n",
      "|           Argentina|   8.8|   250|   499|     250.0|       8.8|                0.0|\n",
      "|              Brazil|   8.8|   910|  1820|     910.0|       8.8|                0.0|\n",
      "|            Slovenia|   8.8|   387|   773|     387.0|       8.8|                0.0|\n",
      "|              Russia|   8.8|  1915|  3830|    1915.0|       8.8|                0.0|\n",
      "|               Japan|   8.8|   622|  1244|     622.0|       8.8|                0.0|\n",
      "|          Luxembourg|   8.8|   671|  1342|     671.0|       8.8|                0.0|\n",
      "|Bosnia and Herzeg...|   8.8|   118|   235|     118.0|       8.8|                0.0|\n",
      "|              Poland|   8.8|  1418|  2835|    1418.0|       8.8|                0.0|\n",
      "|    Abkhazia Georgia|   8.8|    74|   147|      74.0|       8.8|                0.0|\n",
      "|             Romania|   8.8|  2215|  4430|    2215.0|       8.8|                0.0|\n",
      "|            Bulgaria|   8.8|   640|  1279|     640.0|       8.8|                0.0|\n",
      "|             Austria|   8.8|  1183|  2365|    1183.0|       8.8|                0.0|\n",
      "|            Thailand|   8.8|   902|  1804|     902.0|       8.8|                0.0|\n",
      "|              Serbia|   8.8|   547|  1094|     547.0|       8.8|                0.0|\n",
      "|             Bermuda|   8.8|    51|   101|      51.0|       8.8|                0.0|\n",
      "|        South Africa|   8.8|  1873|  3745|    1873.0|       8.8|                0.0|\n",
      "|            Colombia|   8.8|   132|   263|     132.0|       8.8|                0.0|\n",
      "|             Hungary|   8.8|  1070|  2140|    1070.0|       8.8|                0.0|\n",
      "|              France|   8.8|  3565|  7129|    3565.0|       8.8|                0.0|\n",
      "|            Guernsey|   8.8|   271|   541|     271.0|       8.8|                0.0|\n",
      "|             Ukraine|   8.8|   540|  1079|     540.0|       8.8|                0.0|\n",
      "|               Spain|   8.5|  2306|  4611|    2306.0|       8.8|-0.3000000000000007|\n",
      "|              Greece|   8.5|  1676|  3352|    1676.0|       8.8|-0.3000000000000007|\n",
      "|             Germany|   8.3|  3911|  7822|    3911.0|       8.8|               -0.5|\n",
      "|            Malaysia|   8.3|   909|  1817|     909.0|       8.8|               -0.5|\n",
      "|                null|   8.3|   256|   511|     256.0|       8.8|               -0.5|\n",
      "|             Belgium|   8.3|  2959|  5918|    2959.0|       8.8|               -0.5|\n",
      "|                Iraq|   8.3|   129|   258|     129.0|       8.8|               -0.5|\n",
      "|               Ghana|   8.3|    69|   137|      69.0|       8.8|               -0.5|\n",
      "|           Sri Lanka|   8.3|   139|   277|     139.0|       8.8|               -0.5|\n",
      "|               India|   8.3|  1675|  3349|    1675.0|       8.8|               -0.5|\n",
      "|           Singapore|   8.3|  1524|  3047|    1524.0|       8.8|               -0.5|\n",
      "|        Saudi Arabia|   8.3|  4207|  8413|    4207.0|       8.8|               -0.5|\n",
      "|             Nigeria|   8.3|   467|   934|     467.0|       8.8|               -0.5|\n",
      "|               Italy|   8.3|  2960|  5919|    2960.0|       8.8|               -0.5|\n",
      "|              Norway|   8.3|  1170|  2340|    1170.0|       8.8|               -0.5|\n",
      "|             Denmark|   8.3|   852|  1704|     852.0|       8.8|               -0.5|\n",
      "|              Jordan|   8.3|   358|   716|     358.0|       8.8|               -0.5|\n",
      "|              Monaco|   8.3|   121|   241|     121.0|       8.8|               -0.5|\n",
      "|             Morocco|   8.3|   108|   216|     108.0|       8.8|               -0.5|\n",
      "|           Hong Kong|   8.3|  1484|  2967|    1484.0|       8.8|               -0.5|\n",
      "|             Moldova|   8.3|    53|   105|      53.0|       8.8|               -0.5|\n",
      "|                Oman|   8.3|   648|  1295|     648.0|       8.8|               -0.5|\n",
      "|              Turkey|   8.3|  2630|  5260|    2630.0|       8.8|               -0.5|\n",
      "|              Kuwait|   8.3|  2312|  4623|    2312.0|       8.8|               -0.5|\n",
      "|         Switzerland|   8.3|  4278|  8555|    4278.0|       8.8|               -0.5|\n",
      "|United Arab Emirates|   8.3|  4890|  9779|    4890.0|       8.8|               -0.5|\n",
      "|               Kenya|   8.3|   129|   258|     129.0|       8.8|               -0.5|\n",
      "|             Lebanon|   8.3|  1081|  2161|    1081.0|       8.8|               -0.5|\n",
      "|            Portugal|   8.3|   903|  1806|     903.0|       8.8|               -0.5|\n",
      "|               Qatar|   8.3|  1292|  2583|    1292.0|       8.8|               -0.5|\n",
      "|          Kazakhstan|   8.3|   135|   269|     135.0|       8.8|               -0.5|\n",
      "|             Bahrain|   8.3|   762|  1523|     762.0|       8.8|               -0.5|\n",
      "|           Mauritius|   8.3|   107|   213|     107.0|       8.8|               -0.5|\n",
      "|             Vietnam|   8.3|    92|   183|      92.0|       8.8|               -0.5|\n",
      "|           Indonesia|   8.3|   747|  1493|     747.0|       8.8|               -0.5|\n",
      "|               Egypt|   8.3|  1147|  2293|    1147.0|       8.8|               -0.5|\n",
      "|         Netherlands|   8.3|  4309|  8618|    4309.0|       8.8|               -0.5|\n",
      "|               Macau|   7.9|    53|   105|      53.0|       8.8|-0.9000000000000004|\n",
      "|          Bangladesh|   7.9|    70|   140|      70.0|       8.8|-0.9000000000000004|\n",
      "|          Azerbaijan|   7.9|   131|   262|     131.0|       8.8|-0.9000000000000004|\n",
      "|                Iran|   7.9|   517|  1033|     517.0|       8.8|-0.9000000000000004|\n",
      "|            Pakistan|   7.9|   437|   874|     437.0|       8.8|-0.9000000000000004|\n",
      "+--------------------+------+------+------+----------+----------+-------------------+\n",
      "\n"
     ]
    }
   ],
   "source": [
    "df_bias_median = df_median_temp.withColumn('Bias_median', df_median_temp.Median - df_median_temp.Tot_Median)\n",
    "df_bias_median.show(200)"
   ]
  },
  {
   "cell_type": "code",
   "execution_count": 91,
   "metadata": {},
   "outputs": [],
   "source": [
    "df_bias_median.write.csv(\"hdfs://masterbig-1.itc.unipi.it:54310/user/student18/df_bias_median.csv\", header = True)"
   ]
  },
  {
   "cell_type": "markdown",
   "metadata": {},
   "source": [
    "# Plots"
   ]
  },
  {
   "cell_type": "code",
   "execution_count": 8,
   "metadata": {},
   "outputs": [],
   "source": [
    "import matplotlib.pyplot as plt\n",
    "import pandas as pd"
   ]
  },
  {
   "cell_type": "code",
   "execution_count": 57,
   "metadata": {},
   "outputs": [],
   "source": [
    "###########################################################\n",
    "import matplotlib.pyplot as plt\n",
    "SMALL_SIZE = 15\n",
    "MEDIUM_SIZE = 20\n",
    "BIGGER_SIZE = 20\n",
    "\n",
    "plt.rc('font', size=SMALL_SIZE)          # controls default text sizes\n",
    "plt.rc('axes', titlesize=SMALL_SIZE)     # fontsize of the axes title\n",
    "plt.rc('axes', labelsize=MEDIUM_SIZE)    # fontsize of the x and y label\n",
    "plt.rc('xtick', labelsize=SMALL_SIZE)    # fontsize of the tick labels\n",
    "plt.rc('ytick', labelsize=SMALL_SIZE)    # fontsize of the tick labels\n",
    "plt.rc('legend', fontsize=SMALL_SIZE)    # legend fontsize\n",
    "plt.rc('figure', titlesize=BIGGER_SIZE)  # fontsize of the figure title\n",
    "\n",
    "###########################################################\n"
   ]
  },
  {
   "cell_type": "code",
   "execution_count": 59,
   "metadata": {},
   "outputs": [],
   "source": [
    "# countries  = [\"Puerto Rico\", \"United States of America\", \"United Kingdom\", \"China\", \"Ireland\", \"France\", \"Italy\", \"Netherlands\", \"Iran\"]\n",
    "countries  = [\"United States of America\", \"United Kingdom\", \"China\", \"France\", \"Italy\", \"Netherlands\", \"Iran\"]\n",
    "\n",
    "scores = []\n",
    "for i, country in enumerate(countries):\n",
    "    df_country = (df_cleaned.filter(\"Reviewer_Nationality = '{}' \".format(country))\n",
    "                  .select('Hotel_Name', 'Reviewer_Score').toPandas()\n",
    "                 )\n",
    "    scores.append(df_country.Reviewer_Score)"
   ]
  },
  {
   "cell_type": "code",
   "execution_count": 71,
   "metadata": {},
   "outputs": [
    {
     "name": "stderr",
     "output_type": "stream",
     "text": [
      "/home/student18/env-py3/lib/python3.4/site-packages/numpy/core/fromnumeric.py:51: FutureWarning: reshape is deprecated and will raise in a subsequent release. Please use .values.reshape(...) instead\n",
      "  return getattr(obj, method)(*args, **kwds)\n"
     ]
    },
    {
     "data": {
      "image/png": "[encoded data removed]",
      "text/plain": [
       "<Figure size 720x432 with 1 Axes>"
      ]
     },
     "metadata": {
      "needs_background": "light"
     },
     "output_type": "display_data"
    }
   ],
   "source": [
    "fig, ax = plt.subplots(figsize=(10, 6))\n",
    "bp = plt.boxplot(scores)\n",
    "ax.set_xticklabels(countries, rotation = 30)\n",
    "\n",
    "plt.axhline(tot_median, color = 'red', linestyle = \"--\")\n",
    "plt.axhline(tot_avg, color = 'green', linestyle = \":\")\n",
    "\n",
    "\n",
    "plt.setp(bp['boxes'], color='black')\n",
    "plt.setp(bp['whiskers'], color='black')\n",
    "plt.setp(bp['fliers'], color='red', marker='+')\n",
    "ax.yaxis.grid(True, linestyle='-', which='major', color='lightgrey',\n",
    "               alpha=0.5)\n",
    "plt.tight_layout()\n",
    "plt.savefig('images/nationality_bias.pdf')"
   ]
  },
  {
   "cell_type": "code",
   "execution_count": null,
   "metadata": {},
   "outputs": [],
   "source": []
  }
 ],
 "metadata": {
  "kernelspec": {
   "display_name": "Python 3",
   "language": "python",
   "name": "python3"
  },
  "language_info": {
   "codemirror_mode": {
    "name": "ipython",
    "version": 3
   },
   "file_extension": ".py",
   "mimetype": "text/x-python",
   "name": "python",
   "nbconvert_exporter": "python",
   "pygments_lexer": "ipython3",
   "version": "3.4.3"
  }
 },
 "nbformat": 4,
 "nbformat_minor": 2
}
