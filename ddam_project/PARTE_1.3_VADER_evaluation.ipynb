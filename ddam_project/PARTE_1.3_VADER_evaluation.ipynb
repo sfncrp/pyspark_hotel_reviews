{
 "cells": [
  {
   "cell_type": "code",
   "execution_count": 2,
   "metadata": {},
   "outputs": [],
   "source": [
    "from pyspark.sql import SparkSession\n",
    "spark = (SparkSession.builder\n",
    "         .appName('ddam_project')\n",
    "         .config('spark.some.config.option','some-value')\n",
    "         .getOrCreate()\n",
    "         )"
   ]
  },
  {
   "cell_type": "code",
   "execution_count": 3,
   "metadata": {},
   "outputs": [],
   "source": [
    "# read file from hdfs and infer schema\n",
    "df_raw = spark.read.csv(\"hdfs://masterbig-1.itc.unipi.it:54310/user/student18/Hotel_Reviews.csv\", header = True, inferSchema = True)\n",
    "df_cleaned = spark.read.csv(\"hdfs://masterbig-1.itc.unipi.it:54310/user/student18/df_cleaned.csv\", header = True, inferSchema = True)\n",
    "#df_cleaned.printSchema()"
   ]
  },
  {
   "cell_type": "code",
   "execution_count": 4,
   "metadata": {},
   "outputs": [],
   "source": [
    "raw_count = df_raw.count()"
   ]
  },
  {
   "cell_type": "code",
   "execution_count": 5,
   "metadata": {},
   "outputs": [],
   "source": [
    "cleaned_count = df_cleaned.count()"
   ]
  },
  {
   "cell_type": "code",
   "execution_count": 6,
   "metadata": {},
   "outputs": [
    {
     "data": {
      "text/plain": [
       "515738"
      ]
     },
     "execution_count": 6,
     "metadata": {},
     "output_type": "execute_result"
    }
   ],
   "source": [
    "raw_count"
   ]
  },
  {
   "cell_type": "code",
   "execution_count": 7,
   "metadata": {},
   "outputs": [
    {
     "data": {
      "text/plain": [
       "0.020841977903509168"
      ]
     },
     "execution_count": 7,
     "metadata": {},
     "output_type": "execute_result"
    }
   ],
   "source": [
    "1-cleaned_count/raw_count"
   ]
  },
  {
   "cell_type": "code",
   "execution_count": 8,
   "metadata": {},
   "outputs": [],
   "source": [
    "from nltk.sentiment.vader import SentimentIntensityAnalyzer\n",
    "import numpy as np\n",
    "vader = SentimentIntensityAnalyzer()"
   ]
  },
  {
   "cell_type": "code",
   "execution_count": 9,
   "metadata": {},
   "outputs": [],
   "source": [
    "def errors(rdd, ix, iy):\n",
    "    ''' \n",
    "    rdd= rdd composed by lists/tuples \n",
    "    ix: index of the first variable\n",
    "    iy: index of the second variable\n",
    "    return: dictionary with \n",
    "    {'rmse': root mean squared error\n",
    "     'mae' : mean absolute error\n",
    "    }\n",
    "    \n",
    "    '''\n",
    "    # acc = ('counts', sum of abs errors', 'sum of squared errors')\n",
    "    acc = (0, 0, 0)\n",
    "    def mergeValue(acc, value):\n",
    "        return (acc[0] + 1, acc[1] + value,  acc[2] + value**2)\n",
    "    \n",
    "    def mergeAccum(acc1,acc2):\n",
    "        return (acc1[0] + acc2[0], acc1[1] + acc2[1], acc1[2]+acc2[2])\n",
    "    \n",
    "    acc = (rdd.map(lambda x: ( np.abs(x[ix] - x[iy]) ))\n",
    "       .aggregate(acc, mergeValue, mergeAccum)\n",
    "      )\n",
    "    \n",
    "    return {'rmse':np.sqrt(acc[2]/acc[0]) , 'mae': acc[1]/acc[0] }\n",
    "    \n",
    "    "
   ]
  },
  {
   "cell_type": "code",
   "execution_count": 10,
   "metadata": {},
   "outputs": [],
   "source": [
    "def apply_vader(x):\n",
    "    \n",
    "    # scaling score in range [2,8]\n",
    "    score = (((vader.polarity_scores(x[\"Review\"])['compound']  ) +1)*4+2 )\n",
    "        \n",
    "    return (x['Reviewer_Nationality'], x['Reviewer_Score'], score)"
   ]
  },
  {
   "cell_type": "code",
   "execution_count": 11,
   "metadata": {},
   "outputs": [],
   "source": [
    "def apply_vader_bias(x, bias= 0.0):\n",
    "    \n",
    "    score = ((vader.polarity_scores(x[\"Review\"])['compound']+1 )*5 ) + bias\n",
    "        \n",
    "    # handling scores 'overflow'\n",
    "    if score > 10:\n",
    "        score = 10\n",
    "    elif score < 0:\n",
    "        score = 0\n",
    "        \n",
    "    return (x['Reviewer_Nationality'], x['Reviewer_Score'], score)"
   ]
  },
  {
   "cell_type": "code",
   "execution_count": null,
   "metadata": {},
   "outputs": [],
   "source": []
  },
  {
   "cell_type": "code",
   "execution_count": 14,
   "metadata": {},
   "outputs": [
    {
     "data": {
      "text/plain": [
       "Row(Reviewer_Score=2.5)"
      ]
     },
     "execution_count": 14,
     "metadata": {},
     "output_type": "execute_result"
    }
   ],
   "source": [
    "df_cleaned.select('Reviewer_Score').rdd.min()"
   ]
  },
  {
   "cell_type": "code",
   "execution_count": 15,
   "metadata": {},
   "outputs": [],
   "source": [
    "rdd_scores = df_cleaned.rdd.map(apply_vader)"
   ]
  },
  {
   "cell_type": "code",
   "execution_count": 16,
   "metadata": {},
   "outputs": [
    {
     "data": {
      "text/plain": [
       "{'mae': 1.3675094712954294, 'rmse': 1.8599262218312351}"
      ]
     },
     "execution_count": 16,
     "metadata": {},
     "output_type": "execute_result"
    }
   ],
   "source": [
    "vader_errors = errors(rdd_scores, 1, 2)\n",
    "vader_errors"
   ]
  },
  {
   "cell_type": "code",
   "execution_count": 17,
   "metadata": {},
   "outputs": [],
   "source": [
    "df_scores = rdd_scores.toDF(['Reviewer_Nationality', 'Reviewer_Score','Vader_Score'])"
   ]
  },
  {
   "cell_type": "code",
   "execution_count": 18,
   "metadata": {},
   "outputs": [
    {
     "data": {
      "text/plain": [
       "8.8252"
      ]
     },
     "execution_count": 18,
     "metadata": {},
     "output_type": "execute_result"
    }
   ],
   "source": [
    "df_scores.approxQuantile(\"Vader_Score\", [0.5], 0.0)[0]"
   ]
  },
  {
   "cell_type": "markdown",
   "metadata": {},
   "source": [
    "# Distribution plots"
   ]
  },
  {
   "cell_type": "code",
   "execution_count": 19,
   "metadata": {},
   "outputs": [],
   "source": [
    "###########################################################\n",
    "import matplotlib.pyplot as plt\n",
    "import pandas as pd\n",
    "\n",
    "SMALL_SIZE = 15\n",
    "MEDIUM_SIZE = 20\n",
    "BIGGER_SIZE = 20\n",
    "\n",
    "plt.rc('font', size=SMALL_SIZE)          # controls default text sizes\n",
    "plt.rc('axes', titlesize=SMALL_SIZE)     # fontsize of the axes title\n",
    "plt.rc('axes', labelsize=MEDIUM_SIZE)    # fontsize of the x and y label\n",
    "plt.rc('xtick', labelsize=SMALL_SIZE)    # fontsize of the tick labels\n",
    "plt.rc('ytick', labelsize=SMALL_SIZE)    # fontsize of the tick labels\n",
    "plt.rc('legend', fontsize=SMALL_SIZE)    # legend fontsize\n",
    "plt.rc('figure', titlesize=BIGGER_SIZE)  # fontsize of the figure title\n",
    "\n",
    "###########################################################\n"
   ]
  },
  {
   "cell_type": "code",
   "execution_count": 20,
   "metadata": {},
   "outputs": [],
   "source": [
    "df_sample = df_scores.sample(False, 0.10).toPandas()\n"
   ]
  },
  {
   "cell_type": "code",
   "execution_count": 21,
   "metadata": {},
   "outputs": [
    {
     "data": {
      "text/html": [
       "<div>\n",
       "<style scoped>\n",
       "    .dataframe tbody tr th:only-of-type {\n",
       "        vertical-align: middle;\n",
       "    }\n",
       "\n",
       "    .dataframe tbody tr th {\n",
       "        vertical-align: top;\n",
       "    }\n",
       "\n",
       "    .dataframe thead th {\n",
       "        text-align: right;\n",
       "    }\n",
       "</style>\n",
       "<table border=\"1\" class=\"dataframe\">\n",
       "  <thead>\n",
       "    <tr style=\"text-align: right;\">\n",
       "      <th></th>\n",
       "      <th>Reviewer_Score</th>\n",
       "      <th>Vader_Score</th>\n",
       "    </tr>\n",
       "  </thead>\n",
       "  <tbody>\n",
       "    <tr>\n",
       "      <th>count</th>\n",
       "      <td>50172.000000</td>\n",
       "      <td>50172.000000</td>\n",
       "    </tr>\n",
       "    <tr>\n",
       "      <th>mean</th>\n",
       "      <td>8.406372</td>\n",
       "      <td>8.028945</td>\n",
       "    </tr>\n",
       "    <tr>\n",
       "      <th>std</th>\n",
       "      <td>1.620239</td>\n",
       "      <td>1.952814</td>\n",
       "    </tr>\n",
       "    <tr>\n",
       "      <th>min</th>\n",
       "      <td>2.500000</td>\n",
       "      <td>2.024000</td>\n",
       "    </tr>\n",
       "    <tr>\n",
       "      <th>25%</th>\n",
       "      <td>7.500000</td>\n",
       "      <td>6.711600</td>\n",
       "    </tr>\n",
       "    <tr>\n",
       "      <th>50%</th>\n",
       "      <td>8.800000</td>\n",
       "      <td>8.833200</td>\n",
       "    </tr>\n",
       "    <tr>\n",
       "      <th>75%</th>\n",
       "      <td>9.600000</td>\n",
       "      <td>9.590800</td>\n",
       "    </tr>\n",
       "    <tr>\n",
       "      <th>max</th>\n",
       "      <td>10.000000</td>\n",
       "      <td>9.996800</td>\n",
       "    </tr>\n",
       "  </tbody>\n",
       "</table>\n",
       "</div>"
      ],
      "text/plain": [
       "       Reviewer_Score   Vader_Score\n",
       "count    50172.000000  50172.000000\n",
       "mean         8.406372      8.028945\n",
       "std          1.620239      1.952814\n",
       "min          2.500000      2.024000\n",
       "25%          7.500000      6.711600\n",
       "50%          8.800000      8.833200\n",
       "75%          9.600000      9.590800\n",
       "max         10.000000      9.996800"
      ]
     },
     "execution_count": 21,
     "metadata": {},
     "output_type": "execute_result"
    }
   ],
   "source": [
    "df_sample.describe()"
   ]
  },
  {
   "cell_type": "code",
   "execution_count": 22,
   "metadata": {},
   "outputs": [],
   "source": [
    "df_sample['bias'] = df_sample['Vader_Score'] - df_sample['Reviewer_Score']"
   ]
  },
  {
   "cell_type": "code",
   "execution_count": 23,
   "metadata": {},
   "outputs": [
    {
     "data": {
      "text/html": [
       "<div>\n",
       "<style scoped>\n",
       "    .dataframe tbody tr th:only-of-type {\n",
       "        vertical-align: middle;\n",
       "    }\n",
       "\n",
       "    .dataframe tbody tr th {\n",
       "        vertical-align: top;\n",
       "    }\n",
       "\n",
       "    .dataframe thead th {\n",
       "        text-align: right;\n",
       "    }\n",
       "</style>\n",
       "<table border=\"1\" class=\"dataframe\">\n",
       "  <thead>\n",
       "    <tr style=\"text-align: right;\">\n",
       "      <th></th>\n",
       "      <th>Reviewer_Score</th>\n",
       "      <th>Vader_Score</th>\n",
       "      <th>bias</th>\n",
       "    </tr>\n",
       "  </thead>\n",
       "  <tbody>\n",
       "    <tr>\n",
       "      <th>count</th>\n",
       "      <td>50172.000000</td>\n",
       "      <td>50172.000000</td>\n",
       "      <td>50172.000000</td>\n",
       "    </tr>\n",
       "    <tr>\n",
       "      <th>mean</th>\n",
       "      <td>8.406372</td>\n",
       "      <td>8.028945</td>\n",
       "      <td>-0.377427</td>\n",
       "    </tr>\n",
       "    <tr>\n",
       "      <th>std</th>\n",
       "      <td>1.620239</td>\n",
       "      <td>1.952814</td>\n",
       "      <td>1.812667</td>\n",
       "    </tr>\n",
       "    <tr>\n",
       "      <th>min</th>\n",
       "      <td>2.500000</td>\n",
       "      <td>2.024000</td>\n",
       "      <td>-7.608800</td>\n",
       "    </tr>\n",
       "    <tr>\n",
       "      <th>25%</th>\n",
       "      <td>7.500000</td>\n",
       "      <td>6.711600</td>\n",
       "      <td>-1.312400</td>\n",
       "    </tr>\n",
       "    <tr>\n",
       "      <th>50%</th>\n",
       "      <td>8.800000</td>\n",
       "      <td>8.833200</td>\n",
       "      <td>-0.207600</td>\n",
       "    </tr>\n",
       "    <tr>\n",
       "      <th>75%</th>\n",
       "      <td>9.600000</td>\n",
       "      <td>9.590800</td>\n",
       "      <td>0.663200</td>\n",
       "    </tr>\n",
       "    <tr>\n",
       "      <th>max</th>\n",
       "      <td>10.000000</td>\n",
       "      <td>9.996800</td>\n",
       "      <td>7.356400</td>\n",
       "    </tr>\n",
       "  </tbody>\n",
       "</table>\n",
       "</div>"
      ],
      "text/plain": [
       "       Reviewer_Score   Vader_Score          bias\n",
       "count    50172.000000  50172.000000  50172.000000\n",
       "mean         8.406372      8.028945     -0.377427\n",
       "std          1.620239      1.952814      1.812667\n",
       "min          2.500000      2.024000     -7.608800\n",
       "25%          7.500000      6.711600     -1.312400\n",
       "50%          8.800000      8.833200     -0.207600\n",
       "75%          9.600000      9.590800      0.663200\n",
       "max         10.000000      9.996800      7.356400"
      ]
     },
     "execution_count": 23,
     "metadata": {},
     "output_type": "execute_result"
    }
   ],
   "source": [
    "df_sample.describe()"
   ]
  },
  {
   "cell_type": "code",
   "execution_count": 24,
   "metadata": {},
   "outputs": [
    {
     "data": {
      "text/plain": [
       "Reviewer_Score\n",
       "2.0     1.999645\n",
       "3.0     1.333672\n",
       "4.0     1.139208\n",
       "5.0     0.780139\n",
       "6.0     0.574375\n",
       "7.0     0.209296\n",
       "8.0    -0.032486\n",
       "9.0    -0.540449\n",
       "10.0   -1.054171\n",
       "Name: bias, dtype: float64"
      ]
     },
     "execution_count": 24,
     "metadata": {},
     "output_type": "execute_result"
    }
   ],
   "source": [
    "df_sample.groupby(np.round(df_sample.Reviewer_Score,0)).mean().bias"
   ]
  },
  {
   "cell_type": "code",
   "execution_count": 25,
   "metadata": {},
   "outputs": [
    {
     "data": {
      "text/plain": [
       "<matplotlib.collections.PathCollection at 0x7f185f859b38>"
      ]
     },
     "execution_count": 25,
     "metadata": {},
     "output_type": "execute_result"
    },
    {
     "data": {
      "image/png": "[encoded data removed]",
      "text/plain": [
       "<Figure size 432x288 with 1 Axes>"
      ]
     },
     "metadata": {
      "needs_background": "light"
     },
     "output_type": "display_data"
    }
   ],
   "source": [
    "plt.scatter(df_sample.Reviewer_Score, df_sample.bias)"
   ]
  },
  {
   "cell_type": "code",
   "execution_count": 26,
   "metadata": {},
   "outputs": [
    {
     "data": {
      "text/html": [
       "<div>\n",
       "<style scoped>\n",
       "    .dataframe tbody tr th:only-of-type {\n",
       "        vertical-align: middle;\n",
       "    }\n",
       "\n",
       "    .dataframe tbody tr th {\n",
       "        vertical-align: top;\n",
       "    }\n",
       "\n",
       "    .dataframe thead th {\n",
       "        text-align: right;\n",
       "    }\n",
       "</style>\n",
       "<table border=\"1\" class=\"dataframe\">\n",
       "  <thead>\n",
       "    <tr style=\"text-align: right;\">\n",
       "      <th></th>\n",
       "      <th>Reviewer_Score</th>\n",
       "      <th>Vader_Score</th>\n",
       "      <th>bias</th>\n",
       "    </tr>\n",
       "  </thead>\n",
       "  <tbody>\n",
       "    <tr>\n",
       "      <th>count</th>\n",
       "      <td>50172.000000</td>\n",
       "      <td>50172.000000</td>\n",
       "      <td>50172.000000</td>\n",
       "    </tr>\n",
       "    <tr>\n",
       "      <th>mean</th>\n",
       "      <td>8.406372</td>\n",
       "      <td>8.028945</td>\n",
       "      <td>-0.377427</td>\n",
       "    </tr>\n",
       "    <tr>\n",
       "      <th>std</th>\n",
       "      <td>1.620239</td>\n",
       "      <td>1.952814</td>\n",
       "      <td>1.812667</td>\n",
       "    </tr>\n",
       "    <tr>\n",
       "      <th>min</th>\n",
       "      <td>2.500000</td>\n",
       "      <td>2.024000</td>\n",
       "      <td>-7.608800</td>\n",
       "    </tr>\n",
       "    <tr>\n",
       "      <th>25%</th>\n",
       "      <td>7.500000</td>\n",
       "      <td>6.711600</td>\n",
       "      <td>-1.312400</td>\n",
       "    </tr>\n",
       "    <tr>\n",
       "      <th>50%</th>\n",
       "      <td>8.800000</td>\n",
       "      <td>8.833200</td>\n",
       "      <td>-0.207600</td>\n",
       "    </tr>\n",
       "    <tr>\n",
       "      <th>75%</th>\n",
       "      <td>9.600000</td>\n",
       "      <td>9.590800</td>\n",
       "      <td>0.663200</td>\n",
       "    </tr>\n",
       "    <tr>\n",
       "      <th>max</th>\n",
       "      <td>10.000000</td>\n",
       "      <td>9.996800</td>\n",
       "      <td>7.356400</td>\n",
       "    </tr>\n",
       "  </tbody>\n",
       "</table>\n",
       "</div>"
      ],
      "text/plain": [
       "       Reviewer_Score   Vader_Score          bias\n",
       "count    50172.000000  50172.000000  50172.000000\n",
       "mean         8.406372      8.028945     -0.377427\n",
       "std          1.620239      1.952814      1.812667\n",
       "min          2.500000      2.024000     -7.608800\n",
       "25%          7.500000      6.711600     -1.312400\n",
       "50%          8.800000      8.833200     -0.207600\n",
       "75%          9.600000      9.590800      0.663200\n",
       "max         10.000000      9.996800      7.356400"
      ]
     },
     "execution_count": 26,
     "metadata": {},
     "output_type": "execute_result"
    }
   ],
   "source": [
    "df_sample.describe()"
   ]
  },
  {
   "cell_type": "code",
   "execution_count": 27,
   "metadata": {},
   "outputs": [
    {
     "data": {
      "text/plain": [
       "<matplotlib.axes._subplots.AxesSubplot at 0x7f185f8f2128>"
      ]
     },
     "execution_count": 27,
     "metadata": {},
     "output_type": "execute_result"
    },
    {
     "data": {
      "image/png": "[encoded data removed]",
      "text/plain": [
       "<Figure size 432x288 with 1 Axes>"
      ]
     },
     "metadata": {
      "needs_background": "light"
     },
     "output_type": "display_data"
    }
   ],
   "source": [
    "#fig, ax = plt.subplots(figsize=(10, 6))\n",
    "df_sample[['Reviewer_Score','Vader_Score']].plot.kde()"
   ]
  },
  {
   "cell_type": "code",
   "execution_count": 28,
   "metadata": {},
   "outputs": [],
   "source": [
    "import seaborn as sns"
   ]
  },
  {
   "cell_type": "code",
   "execution_count": 29,
   "metadata": {},
   "outputs": [
    {
     "data": {
      "image/png": "[encoded data removed]",
      "text/plain": [
       "<Figure size 864x360 with 2 Axes>"
      ]
     },
     "metadata": {
      "needs_background": "light"
     },
     "output_type": "display_data"
    }
   ],
   "source": [
    "fig, ax = plt.subplots(1,1, figsize=(12, 5))\n",
    "grid = plt.GridSpec(1, 4, wspace=0.5, hspace=0.7)\n",
    "\n",
    "ax1 = plt.subplot2grid((1, 4), (0, 0), colspan=2)\n",
    "sns.kdeplot( df_sample['Reviewer_Score'].values, bw =0.12, label = 'Reviewer_Score')\n",
    "sns.kdeplot( df_sample['Vader_Score'].values, bw =0.12, label = 'Vader_Score')\n",
    "plt.ylabel('Density')\n",
    "plt.xlabel('Score')\n",
    "plt.xticks(np.arange(2,11,1))\n",
    "\n",
    "ax2 = plt.subplot2grid((1, 4), (0, 2), colspan=2)\n",
    "\n",
    "#sns.boxplot( y=df_sample[\"Reviewer_Score\"], x=df_sample[\"Vader_Score\"] )\n",
    "\n",
    "\n",
    "bp = plt.boxplot(df_sample[['Reviewer_Score','Vader_Score']].values, vert =False, widths = 0.6)\n",
    "ax2.set_yticklabels(['Reviewer_Score', 'Vader_Score'], rotation = 0)\n",
    "ax2.yaxis.tick_right()\n",
    "ax2.set_xticks(np.arange(2,11,1))\n",
    "ax2.set_xlabel('Score')\n",
    "#plt.axhline(tot_median, color = 'red', linestyle = \"--\")\n",
    "#plt.axhline(tot_avg, color = 'green', linestyle = \":\")\n",
    "\n",
    "plt.setp(bp['boxes'], color='black')\n",
    "plt.setp(bp['whiskers'], color='black')\n",
    "plt.setp(bp['fliers'], color='red', marker='+')\n",
    "#ax.yaxis.grid(True, linestyle='-', which='major', color='lightgrey',\n",
    "#               alpha=0.5)\n",
    "plt.tight_layout()\n",
    "plt.savefig('images/vader_evaluation.pdf')"
   ]
  },
  {
   "cell_type": "code",
   "execution_count": null,
   "metadata": {},
   "outputs": [],
   "source": []
  },
  {
   "cell_type": "markdown",
   "metadata": {},
   "source": [
    "# Nationality bias correction"
   ]
  },
  {
   "cell_type": "code",
   "execution_count": 30,
   "metadata": {},
   "outputs": [
    {
     "name": "stdout",
     "output_type": "stream",
     "text": [
      "+--------------------+-------------------+------+\n",
      "|Reviewer_Nationality|        Bias_median|     N|\n",
      "+--------------------+-------------------+------+\n",
      "|               Macau|-0.9000000000000004|   105|\n",
      "|          Azerbaijan|-0.9000000000000004|   262|\n",
      "|          Bangladesh|-0.9000000000000004|   140|\n",
      "|            Pakistan|-0.9000000000000004|   874|\n",
      "|                Iran|-0.9000000000000004|  1033|\n",
      "|               Ghana|               -0.5|   137|\n",
      "|           Hong Kong|               -0.5|  2967|\n",
      "|           Singapore|               -0.5|  3047|\n",
      "|                Oman|               -0.5|  1295|\n",
      "|                null|               -0.5|   511|\n",
      "|           Indonesia|               -0.5|  1493|\n",
      "|        Saudi Arabia|               -0.5|  8413|\n",
      "|         Switzerland|               -0.5|  8555|\n",
      "|             Belgium|               -0.5|  5918|\n",
      "|United Arab Emirates|               -0.5|  9779|\n",
      "|               Qatar|               -0.5|  2583|\n",
      "|               Kenya|               -0.5|   258|\n",
      "|             Lebanon|               -0.5|  2161|\n",
      "|            Portugal|               -0.5|  1806|\n",
      "|                Iraq|               -0.5|   258|\n",
      "|               Egypt|               -0.5|  2293|\n",
      "|               India|               -0.5|  3349|\n",
      "|          Kazakhstan|               -0.5|   269|\n",
      "|             Bahrain|               -0.5|  1523|\n",
      "|           Mauritius|               -0.5|   213|\n",
      "|              Kuwait|               -0.5|  4623|\n",
      "|             Moldova|               -0.5|   105|\n",
      "|             Nigeria|               -0.5|   934|\n",
      "|             Vietnam|               -0.5|   183|\n",
      "|               Italy|               -0.5|  5919|\n",
      "|         Netherlands|               -0.5|  8618|\n",
      "|            Malaysia|               -0.5|  1817|\n",
      "|              Norway|               -0.5|  2340|\n",
      "|              Turkey|               -0.5|  5260|\n",
      "|             Germany|               -0.5|  7822|\n",
      "|             Denmark|               -0.5|  1704|\n",
      "|              Jordan|               -0.5|   716|\n",
      "|              Monaco|               -0.5|   241|\n",
      "|           Sri Lanka|               -0.5|   277|\n",
      "|             Morocco|               -0.5|   216|\n",
      "|               Spain|-0.3000000000000007|  4611|\n",
      "|              Greece|-0.3000000000000007|  3352|\n",
      "|                Peru|                0.0|   108|\n",
      "|               Chile|                0.0|   317|\n",
      "|              Cyprus|                0.0|  1344|\n",
      "|              Latvia|                0.0|   707|\n",
      "|             Iceland|                0.0|   912|\n",
      "|             Croatia|                0.0|  1298|\n",
      "|         Isle of Man|                0.0|   395|\n",
      "|    Abkhazia Georgia|                0.0|   147|\n",
      "|           Gibraltar|                0.0|   368|\n",
      "|             Georgia|                0.0|   275|\n",
      "|           Macedonia|                0.0|   269|\n",
      "|            Slovenia|                0.0|   773|\n",
      "|             Romania|                0.0|  4430|\n",
      "|              Serbia|                0.0|  1094|\n",
      "|              Poland|                0.0|  2835|\n",
      "|           Argentina|                0.0|   499|\n",
      "|            Guernsey|                0.0|   541|\n",
      "|               China|                0.0|  3297|\n",
      "|             Belarus|                0.0|   191|\n",
      "|           Lithuania|                0.0|   722|\n",
      "|             Ireland|                0.0| 14611|\n",
      "|            Thailand|                0.0|  1804|\n",
      "|             Estonia|                0.0|   737|\n",
      "|          Montenegro|                0.0|   185|\n",
      "|             Armenia|                0.0|   125|\n",
      "|              Brazil|                0.0|  1820|\n",
      "|      Czech Republic|                0.0|  2279|\n",
      "|               Japan|                0.0|  1244|\n",
      "|          Luxembourg|                0.0|  1342|\n",
      "|             Austria|                0.0|  2365|\n",
      "|            Bulgaria|                0.0|  1279|\n",
      "|        South Africa|                0.0|  3745|\n",
      "|             Bermuda|                0.0|   101|\n",
      "|              France|                0.0|  7129|\n",
      "|              Taiwan|                0.0|   902|\n",
      "|              Jersey|                0.0|   852|\n",
      "|              Sweden|                0.0|  3297|\n",
      "|             Finland|                0.0|  1813|\n",
      "|             Albania|                0.0|   272|\n",
      "|               Malta|                0.0|  1640|\n",
      "|             Ukraine|                0.0|  1079|\n",
      "| Trinidad and Tobago|                0.0|   154|\n",
      "|Bosnia and Herzeg...|                0.0|   235|\n",
      "|            Colombia|                0.0|   263|\n",
      "|             Hungary|                0.0|  2140|\n",
      "|         Philippines|                0.0|  1050|\n",
      "|            Slovakia|                0.0|   889|\n",
      "|              Russia|                0.0|  3830|\n",
      "|              Panama| 0.3999999999999986|   117|\n",
      "|           Australia| 0.3999999999999986| 21412|\n",
      "|         South Korea| 0.3999999999999986|  1049|\n",
      "|              Israel| 0.3999999999999986|  6456|\n",
      "|              Mexico| 0.3999999999999986|   576|\n",
      "|United States of ...| 0.3999999999999986| 34887|\n",
      "|          Costa Rica| 0.3999999999999986|   118|\n",
      "|              Canada| 0.3999999999999986|  7792|\n",
      "|      United Kingdom| 0.3999999999999986|241061|\n",
      "|         New Zealand| 0.3999999999999986|  3195|\n",
      "+--------------------+-------------------+------+\n",
      "only showing top 100 rows\n",
      "\n"
     ]
    }
   ],
   "source": [
    "df_bias_median = spark.read.csv(\"hdfs://masterbig-1.itc.unipi.it:54310/user/student18/df_bias_median.csv\", header = True, inferSchema = True)\n",
    "df_bias_median = df_bias_median.select(\"Reviewer_Nationality\", \"Bias_median\", \"N\").orderBy('Bias_median')\n",
    "df_bias_median.show(100)"
   ]
  },
  {
   "cell_type": "code",
   "execution_count": 31,
   "metadata": {},
   "outputs": [],
   "source": [
    "df_joined_median = df_cleaned.join(df_bias_median, 'Reviewer_Nationality', 'left')"
   ]
  },
  {
   "cell_type": "code",
   "execution_count": 32,
   "metadata": {},
   "outputs": [],
   "source": [
    "try:\n",
    "    df_joined_median.createTempView('bias_median')\n",
    "except:\n",
    "    spark.catalog.dropTempView('bias_median')\n",
    "    df_joined_median.createTempView('bias_median')"
   ]
  },
  {
   "cell_type": "code",
   "execution_count": 33,
   "metadata": {},
   "outputs": [],
   "source": [
    "def apply_vader_bias_nationality(x):\n",
    "  \n",
    "    if x[\"Bias_median\"] == None:\n",
    "        score = (((vader.polarity_scores(x[\"Review\"])['compound']  ) +1)*4+2 ) + 0\n",
    "    else:\n",
    "        score = (((vader.polarity_scores(x[\"Review\"])['compound']  ) +1)*4+2 ) + x[\"Bias_median\"]\n",
    "        \n",
    "    # handling scores 'overflow'\n",
    "    if score > 10:\n",
    "        score = 10\n",
    "    elif score < 0:\n",
    "        score = 0\n",
    "        \n",
    "    return (x['Reviewer_Nationality'], x['Reviewer_Score'], score)"
   ]
  },
  {
   "cell_type": "code",
   "execution_count": 34,
   "metadata": {},
   "outputs": [
    {
     "data": {
      "text/plain": [
       "[('Canada', 8.8, 9.746799999999999),\n",
       " ('United Kingdom', 9.2, 9.273599999999998),\n",
       " ('United Kingdom', 8.8, 10),\n",
       " ('United Kingdom', 9.6, 6.399999999999999),\n",
       " ('United Kingdom', 9.2, 6.399999999999999),\n",
       " ('Australia', 10.0, 10),\n",
       " ('United Kingdom', 5.0, 5.1747999999999985),\n",
       " ('United Kingdom', 9.2, 10),\n",
       " ('United Kingdom', 9.6, 10),\n",
       " ('Brazil', 9.2, 8.97),\n",
       " ('Netherlands', 8.3, 9.299199999999999),\n",
       " ('United Kingdom', 9.6, 9.870399999999998),\n",
       " ('United Kingdom', 9.2, 8.085999999999999),\n",
       " ('India', 9.6, 5.5),\n",
       " ('United Kingdom', 7.1, 7.012399999999999),\n",
       " ('Italy', 7.1, 4.6772),\n",
       " ('United Kingdom', 9.6, 9.689999999999998),\n",
       " ('Sweden', 8.3, 8.8012),\n",
       " ('Hong Kong', 7.5, 8.581199999999999),\n",
       " ('United Kingdom', 8.3, 4.170399999999999)]"
      ]
     },
     "execution_count": 34,
     "metadata": {},
     "output_type": "execute_result"
    }
   ],
   "source": [
    "rdd_bias_median = (df_joined_median.rdd\n",
    "              #.filter(lambda row: row['Review'] is not None) \n",
    "              .map(apply_vader_bias_nationality)\n",
    "             )\n",
    "rdd_bias_median.take(20)"
   ]
  },
  {
   "cell_type": "code",
   "execution_count": 35,
   "metadata": {},
   "outputs": [],
   "source": [
    "vader_errors_bias_median = errors(rdd_bias_median, 1, 2)"
   ]
  },
  {
   "cell_type": "code",
   "execution_count": 36,
   "metadata": {},
   "outputs": [
    {
     "data": {
      "text/plain": [
       "{'mae': 1.3559467932964713, 'rmse': 1.8537900481717495}"
      ]
     },
     "execution_count": 36,
     "metadata": {},
     "output_type": "execute_result"
    }
   ],
   "source": [
    "vader_errors_bias_median"
   ]
  },
  {
   "cell_type": "code",
   "execution_count": 37,
   "metadata": {},
   "outputs": [
    {
     "data": {
      "text/plain": [
       "{'mae': 1.3675094712954294, 'rmse': 1.8599262218312351}"
      ]
     },
     "execution_count": 37,
     "metadata": {},
     "output_type": "execute_result"
    }
   ],
   "source": [
    "vader_errors"
   ]
  },
  {
   "cell_type": "code",
   "execution_count": 38,
   "metadata": {},
   "outputs": [
    {
     "data": {
      "text/html": [
       "<div>\n",
       "<style scoped>\n",
       "    .dataframe tbody tr th:only-of-type {\n",
       "        vertical-align: middle;\n",
       "    }\n",
       "\n",
       "    .dataframe tbody tr th {\n",
       "        vertical-align: top;\n",
       "    }\n",
       "\n",
       "    .dataframe thead th {\n",
       "        text-align: right;\n",
       "    }\n",
       "</style>\n",
       "<table border=\"1\" class=\"dataframe\">\n",
       "  <thead>\n",
       "    <tr style=\"text-align: right;\">\n",
       "      <th></th>\n",
       "      <th>mae</th>\n",
       "      <th>rmse</th>\n",
       "    </tr>\n",
       "  </thead>\n",
       "  <tbody>\n",
       "    <tr>\n",
       "      <th>vader</th>\n",
       "      <td>1.367509</td>\n",
       "      <td>1.859926</td>\n",
       "    </tr>\n",
       "    <tr>\n",
       "      <th>vader_nationality</th>\n",
       "      <td>1.355947</td>\n",
       "      <td>1.853790</td>\n",
       "    </tr>\n",
       "  </tbody>\n",
       "</table>\n",
       "</div>"
      ],
      "text/plain": [
       "                        mae      rmse\n",
       "vader              1.367509  1.859926\n",
       "vader_nationality  1.355947  1.853790"
      ]
     },
     "execution_count": 38,
     "metadata": {},
     "output_type": "execute_result"
    }
   ],
   "source": [
    "\n",
    "pd.DataFrame([vader_errors,vader_errors_bias_median], index = ['vader', 'vader_nationality'])"
   ]
  },
  {
   "cell_type": "code",
   "execution_count": 39,
   "metadata": {},
   "outputs": [],
   "source": [
    "with open('images/vader_evaluation.tex', 'w') as f:\n",
    "    f.write(\n",
    "        pd.DataFrame([vader_errors,vader_errors_bias_median], index = ['vader', 'vader_nationality']).to_latex()\n",
    "    )"
   ]
  },
  {
   "cell_type": "code",
   "execution_count": null,
   "metadata": {},
   "outputs": [],
   "source": [
    "# errore per country"
   ]
  },
  {
   "cell_type": "code",
   "execution_count": 42,
   "metadata": {},
   "outputs": [
    {
     "data": {
      "text/plain": [
       "{'mae': 1.2512977097486182, 'rmse': 1.779153976198363}"
      ]
     },
     "execution_count": 42,
     "metadata": {},
     "output_type": "execute_result"
    }
   ],
   "source": [
    "errors(rdd_scores.filter(lambda x: x[0]==\"United States of America\"), 1,2 )"
   ]
  },
  {
   "cell_type": "code",
   "execution_count": 41,
   "metadata": {},
   "outputs": [
    {
     "data": {
      "text/plain": [
       "{'mae': 1.168901963482099, 'rmse': 1.697236683916017}"
      ]
     },
     "execution_count": 41,
     "metadata": {},
     "output_type": "execute_result"
    }
   ],
   "source": [
    "errors(rdd_bias_median.filter(lambda x: x[0]==\"United States of America\"), 1,2 )"
   ]
  },
  {
   "cell_type": "code",
   "execution_count": null,
   "metadata": {},
   "outputs": [],
   "source": []
  }
 ],
 "metadata": {
  "kernelspec": {
   "display_name": "Python 3",
   "language": "python",
   "name": "python3"
  },
  "language_info": {
   "codemirror_mode": {
    "name": "ipython",
    "version": 3
   },
   "file_extension": ".py",
   "mimetype": "text/x-python",
   "name": "python",
   "nbconvert_exporter": "python",
   "pygments_lexer": "ipython3",
   "version": "3.4.3"
  }
 },
 "nbformat": 4,
 "nbformat_minor": 2
}
